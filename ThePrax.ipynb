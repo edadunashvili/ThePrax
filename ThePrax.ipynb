{
 "cells": [
  {
   "cell_type": "markdown",
   "metadata": {},
   "source": [
    "## Umgebung vorbereiten"
   ]
  },
  {
   "cell_type": "code",
   "execution_count": null,
   "metadata": {},
   "outputs": [],
   "source": [
    "!pwd"
   ]
  },
  {
   "cell_type": "code",
   "execution_count": null,
   "metadata": {},
   "outputs": [],
   "source": [
    "!git clone https://github.com/edadunashvili/ThePrax.git"
   ]
  },
  {
   "cell_type": "code",
   "execution_count": null,
   "metadata": {},
   "outputs": [],
   "source": [
    "cd ThePrax"
   ]
  },
  {
   "cell_type": "code",
   "execution_count": null,
   "metadata": {},
   "outputs": [],
   "source": [
    "!pwd"
   ]
  },
  {
   "cell_type": "code",
   "execution_count": null,
   "metadata": {},
   "outputs": [],
   "source": [
    "!pip install pyprind"
   ]
  },
  {
   "cell_type": "code",
   "execution_count": null,
   "metadata": {},
   "outputs": [],
   "source": [
    "from IPython.display import HTML, display\n",
    "\n",
    "def set_css():\n",
    "  display(HTML('''\n",
    "  <style>\n",
    "    pre {\n",
    "        white-space: pre-wrap;\n",
    "    }\n",
    "  </style>\n",
    "  '''))\n",
    "get_ipython().events.register('pre_run_cell', set_css)"
   ]
  },
  {
   "cell_type": "markdown",
   "metadata": {},
   "source": [
    "## Korpus von Trainingsdaten erstellen"
   ]
  },
  {
   "cell_type": "markdown",
   "metadata": {},
   "source": [
    " !!! Den gesuchten Typ bestimmen !!!"
   ]
  },
  {
   "cell_type": "code",
   "execution_count": 50,
   "metadata": {},
   "outputs": [],
   "source": [
    "typNum='300'\n",
    "episode_string_train = \"gesamt_string_train.csv\"\n",
    "episode_roh_train = \"gesamt_roh_train.csv\""
   ]
  },
  {
   "cell_type": "markdown",
   "metadata": {},
   "source": [
    "Vorhandener gleichnamiger Korpus wird gelöscht "
   ]
  },
  {
   "cell_type": "code",
   "execution_count": 51,
   "metadata": {},
   "outputs": [],
   "source": [
    "import os\n",
    "if os.path.exists(episode_string_train):\n",
    "    os.remove(episode_string_train)\n",
    "else:\n",
    "    print(\"Diese Datei existiert nicht\")"
   ]
  },
  {
   "cell_type": "markdown",
   "metadata": {},
   "source": [
    "Im Ordner \"Trainingsdaten\" nach den entsprechenden Textdateien suchen und in einer rohe Datei zusammentragen"
   ]
  },
  {
   "cell_type": "code",
   "execution_count": 52,
   "metadata": {},
   "outputs": [],
   "source": [
    "import glob\n",
    "\n",
    "def word_to_lex(word):\n",
    "    ret=(word) \n",
    "    return ret\n",
    "\n",
    "def write_back(words):\n",
    "    with open(episode_roh_train,\"a\", encoding='utf-8') as output:\n",
    "        for word in words:\n",
    "            #print(word)\n",
    "            as_lex = word_to_lex(word[0])\n",
    "            full_word = '\"' + as_lex + '\"'\n",
    "            for sub_word in word[1:]:\n",
    "                full_word += \" , \"  '\"' + sub_word + '\"'\n",
    "            full_word +=\"\\n\"\n",
    "            output.write(full_word)\n",
    "\n",
    "def clean(line):\n",
    "    line = line.replace(\"\\n\",\" \").strip().lower()\n",
    "    line = line.replace(\"ä\",\"ae\").replace(\"ü\",\"ue\").replace(\"ö\",\"oe\").replace(\"ß\",\"ss\").replace(\",\",\"\").replace(\"«\",\"\")\n",
    "    line = line.replace(\"»\",\"\").replace(\".\",\"\").replace(\":\",\"\").replace(\";\",\"\").replace('\"',\"\")\n",
    "    line = line.replace(\"?\",\"\").replace(\"!\",\"\").replace(\"á\",\"a\").replace(\",\",\"\").replace(\"\\t\",\" \").replace(\"'\",\"\")\n",
    "    line = line.replace(\"‹\",\"\").replace(\"›\",\"\").replace(\"-\",\" \").replace(\"'('\",\"\").replace(\"')'\",\"\").replace('>','')\n",
    "    line = line.replace(\"    \",\" \").replace(\"   \",\" \").replace(\"  \",\" \").replace('–','').replace('—','').replace('<','')\n",
    "    line = line.replace(\"Â\", \"A\").replace(\"ø\", \"oe\").replace('“','').replace('„','').replace('(','').replace(')','')\n",
    "    line = line.replace(\"‚\", \"\").replace(']','').replace('[','')\n",
    "    if line == \"\": \n",
    "        return\n",
    "    \n",
    "    line=line.split(\"|\")\n",
    "    line[0]=line[0].split(\"|\")[0]\n",
    "    flex=[]\n",
    "    try:\n",
    "        flex=line[1].split(\"\")\n",
    "    except:\n",
    "        pass\n",
    "    value=str(line)\n",
    "    line=str(line)   \n",
    "    flex.append(line)\n",
    "    ret=[]\n",
    "    for i in flex:\n",
    "        ret.append((i,value[0]))\n",
    "    return ret\n",
    "\n",
    "with open(episode_roh_train, \"w\", encoding='utf-8') as output:\n",
    "    output.write (\"quelle,episode,index_string,index_binar\\n\")\n",
    "pairs = []\n",
    "\n",
    "\n",
    "for file in glob.glob(\"Trainingsdaten/*.txt\"):\n",
    "    #if typNum in file:\n",
    "        with open(file, 'r', encoding='utf-8', errors='ignore') as episode:\n",
    "            for line in episode.readlines():\n",
    "                clean_words = clean(line)\n",
    "                pairs = pairs + clean_words\n",
    "write_back(pairs)"
   ]
  },
  {
   "cell_type": "markdown",
   "metadata": {},
   "source": [
    "Rohdatei endgültig überarbeiten und in eine CSV Datei speichern"
   ]
  },
  {
   "cell_type": "code",
   "execution_count": 53,
   "metadata": {},
   "outputs": [],
   "source": [
    "fin = open(episode_roh_train,'r', encoding ='utf-8')\n",
    "fout = open(episode_string_train, \"wt\", encoding ='utf-8')\n",
    "for kfz in fin:\n",
    "    fout.write(kfz.replace(', \"[\"',\"\").replace('\"[', \"\").replace(']\"',\"\").replace(\"', '\", \"','\").replace(\" '\", \"'\"))                      \n",
    "fin.close()\n",
    "fout.close()"
   ]
  },
  {
   "cell_type": "markdown",
   "metadata": {},
   "source": [
    "Liste von einmaligen Episoden aus der CSV Datei zeigen"
   ]
  },
  {
   "cell_type": "code",
   "execution_count": 55,
   "metadata": {
    "scrolled": true
   },
   "outputs": [
    {
     "name": "stdout",
     "output_type": "stream",
     "text": [
      "Counter({\"'e300_e_vorfeld_des_kampfes_bis_zum_sieg'\": 45, \"'e300_c_anfangssituation_ankunft_und_erkundigung_der_not'\": 40, \"'e300_o_auftritt_des_helden_vor_dem_koenig_bis_zur_erkennung_der_heldentat'\": 37, \"'e300_g_nach_dem_sieg_bis_zur_trennung_des_hd_und_des_ob'\": 32, \"'e300_k_misshandlung_des_falschen_helden_bis_zur_hochzeitstag'\": 30, \"'e554_e_der_held_hilft_den_tieren_und_tiere_sprechen_ihre_dankbarkeit_aus'\": 27, \"'eundf_a_'\": 25, \"'e303_g_erstes_treffen_mit_der_hexen'\": 23, \"'0'\": 23, \"'e303_c_eingangssituation_bis_zur_trennung'\": 21, \"'e300_m_rueckkehr_des_helden_von_der_erkundung_ueber_die_hochzeit_bis_zum_wiedergewinn_der_aufmerksamkeit'\": 20, \"'e303_i_vom_erkundigung_der_not_bis_zum_aufbruch_des_helden_zur_hexe'\": 20, \"'e303_k_vom_aufbruch_zur_hexe_bis_zur_ihren_ueberweltigung'\": 18, \"'e554_k_der_held_geniesst_die_gegenleistung_der_tieren'\": 17, \"'ecom_a_'\": 16, \"'e554_g_man_muss_schwierige_aufgaben_loesen'\": 15, \"'e707_g_abwesenheit_des_koenigs_bis_zur_bestrafung_der_koenigin'\": 14, \"'e707_o_bei_der_erfuellung_der_vorletzten_herausforderung_aufgabe_des_ziels'\": 13, \"'e315_a_'\": 12, \"'e300_l_wiederbelebung_des_helden'\": 11, \"'e301_e_vom_beginn_der_wanderung_bis_zur_begegnung_mit_an_oder_vb'\": 10, \"'e707_k_setzen_der_vorletzten_herausforderung_aufgabe_des_ziels'\": 10, \"'e301_g_von_der_begegnung_mit_dem_an_oder_vb_bis_zum_betreten_des_wohngebiets_des_an'\": 9, \"'e707_w_wiedervereinigung_der_familie_bis_zur_bestraffung_der_antagonisten'\": 9, \"'e300_i_rueckkehr_der_koenigstochter_und_die_suche_nach_dem_held_retter'\": 8, \"'e301_m_rueckkehr_des_helden_in_die_aussenwelt'\": 8, \"'e562_a_'\": 8, \"'e550_a_'\": 8, \"'e301_i_vom_betreten_der_unterwelt_bis_zur_befreiung_des_ob'\": 8, \"'e707_e_anfangssituation_erstes_treffen_bis_zur_schwangerschaft'\": 8, \"'e707_m_begegnung_mit_dem_helfer'\": 8, \"'e300_q_von_der_begegnung_mit_dem_vogel_bis_zum_ende_des_fluges'\": 7, \"'e303_q_rueckkehr_und_finale'\": 7, \"'e301_k_das_befreite_ob_wird_zu_fh_geschickt_und_held_wird_zurueckgelassen'\": 7, \"'e301_o_von_der_rueckkehr_an_die_oberflaeche_bis_zur_hochzeit_mit_dem_ob_und_der_bestrafung_der_fh'\": 7, \"'e707_i_getrenntes_leben_bis_zur_anregung_fuer_die_wunderbare_dinge_oder_aufklaerung'\": 7, \"'e707_u_bei_der_erfuehlung_der_letzten_herausforderung_aufgabe_des_ziels'\": 7, \"'e302_k_erkundigung_ueber_den_aufenthaltsort_des_lebens_des_an'\": 6, \"'e302c*_a_'\": 6, \"'e613_a_'\": 6, \"'e707_q_setzen_der_letzten_herausforderung_aufgabe_des_ziels'\": 6, \"'e707_s_die_letzte_begegnung_mit_dem_helfer'\": 6, \"'e302_m_kampf_bis_zum_sieg'\": 5, \"'e303_m_eifersucht'\": 5, \"'e554_m_nach_der_erfuellung_der_letzten_aufgabe_bis_zum_ende_der_geschichte'\": 5, \"'e303a_a_'\": 5, \"'e673_a_'\": 5, \"'e328_a_'\": 4, \"'e303_e_ankommen_an_den_fremden_ort_und_eheschliessung'\": 4, \"'e301_o_von_der_rueckkehr_an_die_oberflaeche_bis_zur_loesung_der_durch_den_raub_ausgeloesten_krise'\": 3, \"'e301_e_vom_beginn_der_wanderung_bis_zum_finden_der_nachtrast'\": 3, \"'e301_g_von_der_begegnung_mit_dem_an_oder_vb_bis_zum_betreten_der_welt_des_an'\": 3, \"'e301_k_empfang_des_ob_und_verrat_der_fh'\": 3, \"'e316_a_'\": 3, \"'e302_c_verlust_des_ob_wird_artikuliert'\": 3, \"'e567_a_'\": 3, \"'e302_o_befreiung_des_ob_bis_zur_belohnung_des_hd_oder_erneuten_mangelsituation'\": 3, \"'e403_a_'\": 3, \"'e516_a_'\": 2, \"'e513a_a_'\": 2, \"'e301_i_vom_betreten_des_wohnsitzes_des_an_bis_zur_befreiehung_des_ob'\": 2, \"'e303_o_erloesung_der_hexe'\": 2, \"'e650a_a_'\": 2, \"'e301_c_verlust_des_ob'\": 2, \"'e303_k_vom_afbruch_zur_hexe_bis_zur_ihren_ueberweltigung'\": 2, \"'e707_i_getrenntes_leben_bis_zur_anregung_fuer_die_wunderbare_dinge'\": 2, \"'eamom_a_'\": 1, \"'e554_e_leistung_des_helden_gegenueber_den_tieren_und_aussprechen_der_dankbarkeit'\": 1, \"'e314_a_'\": 1, \"'e850_a_'\": 1, \"'e590_a_'\": 1, \"'e302_a_'\": 1, \"'e317_a_'\": 1, \"'e518_a_'\": 1, \"'e302_'\": 1, \"'e302_i_der_hd_gelangt_ans_haus_des_an'\": 1, \"'e555_a_'\": 1, \"'303_i_vom_erkundigung_der_not_bis_zum_aufbruch_des_helden_zur_hexe'\": 1, \"'eende_a_'\": 1, \"'e554_b_eingangsepisode_bis_zum_treffen_mit_der_tiere'\": 1, \"'e554_i_die_falsche_helden_scheitern_bei_der_loesung_der_schwierige_aufgaben'\": 1, nan: 1})\n"
     ]
    }
   ],
   "source": [
    "import pandas as pd\n",
    "df = pd.read_csv(episode_string_train, encoding='utf-8')\n",
    "from collections import Counter\n",
    "indexliste=Counter(df.index_string)\n",
    "print(indexliste, sep='\\n')"
   ]
  },
  {
   "cell_type": "markdown",
   "metadata": {},
   "source": [
    "## Modell erstellen und trainieren"
   ]
  },
  {
   "cell_type": "markdown",
   "metadata": {},
   "source": [
    "Bibliotheken laden"
   ]
  },
  {
   "cell_type": "code",
   "execution_count": 56,
   "metadata": {},
   "outputs": [],
   "source": [
    "import keras\n",
    "import glob\n",
    "import matplotlib.pyplot as plt\n",
    "import nltk\n",
    "import numpy as np\n",
    "import pyprind\n",
    "import pandas as pd\n",
    "import random\n",
    "import re\n",
    "import string\n",
    "from collections import Counter\n",
    "from nltk.corpus import stopwords\n",
    "from keras import backend as K\n",
    "from keras import layers\n",
    "from keras import losses\n",
    "from keras import models\n",
    "from keras import metrics\n",
    "from keras import optimizers\n",
    "from keras.preprocessing import sequence"
   ]
  },
  {
   "cell_type": "markdown",
   "metadata": {},
   "source": [
    "!!! Variable anpassen !!!"
   ]
  },
  {
   "cell_type": "code",
   "execution_count": 57,
   "metadata": {},
   "outputs": [],
   "source": [
    "ziel_episode = 'e300_e_vorfeld_des_kampfes_bis_zum_sieg'\n",
    "mini_frequenz = 2\n",
    "k_fach = 5\n",
    "layD = 96\n",
    "episode_string_train = 'gesamt_string_train.csv' \n",
    "episode_binar_train = 'gesamt_binar_train.csv'"
   ]
  },
  {
   "cell_type": "code",
   "execution_count": null,
   "metadata": {},
   "outputs": [],
   "source": []
  },
  {
   "cell_type": "markdown",
   "metadata": {},
   "source": [
    "Aufbereitung der Trainingsdaten.\n",
    "Rohdaten laden und und den Episodenbestand betrachten"
   ]
  },
  {
   "cell_type": "code",
   "execution_count": 58,
   "metadata": {},
   "outputs": [],
   "source": [
    "fin = open(episode_string_train,'r', encoding='utf-8') \n",
    "fout = open(episode_binar_train, \"wt\", encoding='utf-8')\n",
    "for efz in fin:\n",
    "    fout.write(efz.replace(\"'\",\"\"))  \n",
    "fin.close()\n",
    "fout.close()"
   ]
  },
  {
   "cell_type": "markdown",
   "metadata": {},
   "source": [
    "Die in der CSV Datei etikettierte Episoden auflisten"
   ]
  },
  {
   "cell_type": "code",
   "execution_count": 59,
   "metadata": {},
   "outputs": [],
   "source": [
    "df = pd.read_csv(episode_binar_train, encoding='utf-8')\n",
    "indexliste=Counter(df.index_string)\n",
    "#print(*indexliste, sep='\\n')"
   ]
  },
  {
   "cell_type": "markdown",
   "metadata": {},
   "source": [
    "Die gesuchte Episode etikettieren und den Rohdaten in Trainingsdaten umwandeln"
   ]
  },
  {
   "cell_type": "code",
   "execution_count": 60,
   "metadata": {},
   "outputs": [],
   "source": [
    "for i,e in enumerate(df.index_string):\n",
    "    if e == ziel_episode:\n",
    "        df.index_binar[i]='1'\n",
    "    else: \n",
    "        df.index_binar[i]='0'"
   ]
  },
  {
   "cell_type": "code",
   "execution_count": 61,
   "metadata": {},
   "outputs": [],
   "source": [
    "df.to_csv(episode_binar_train, encoding='utf-8', index=False)"
   ]
  },
  {
   "cell_type": "markdown",
   "metadata": {},
   "source": [
    "Trainngsdaten aufbereiten. Das Vorkommen jedes Wortes zählen"
   ]
  },
  {
   "cell_type": "code",
   "execution_count": 62,
   "metadata": {},
   "outputs": [
    {
     "name": "stderr",
     "output_type": "stream",
     "text": [
      "[nltk_data] Downloading package stopwords to\n",
      "[nltk_data]     C:\\Users\\elguj\\AppData\\Roaming\\nltk_data...\n",
      "[nltk_data]   Unzipping corpora\\stopwords.zip.\n",
      "Vorkommen der Wörter zählen\n",
      "0% [##############################] 100% | ETA: 00:00:00\n",
      "Total time elapsed: 00:00:00\n"
     ]
    }
   ],
   "source": [
    "nltk.download('stopwords')\n",
    "w = stopwords.words('german')\n",
    "counts = Counter()\n",
    "pbar = pyprind.ProgBar(len(df['episode']),\n",
    "                       title='Vorkommen der Wörter zählen')\n",
    "for i, episode in enumerate(df['episode']): \n",
    "        pbar.update()\n",
    "        counts.update(episode.split())\n",
    "new_counts = {}\n",
    "for k, v in counts.items():\n",
    "    if v > mini_frequenz and k not in w:\n",
    "        new_counts[k] = v\n",
    "counts = Counter(new_counts)"
   ]
  },
  {
   "cell_type": "code",
   "execution_count": 63,
   "metadata": {},
   "outputs": [],
   "source": [
    "#print(counts)"
   ]
  },
  {
   "cell_type": "markdown",
   "metadata": {},
   "source": [
    "Zuordnung erzeugen und den verschiedenen Wörtern eindeutige Zahlen zuordnen"
   ]
  },
  {
   "cell_type": "code",
   "execution_count": 64,
   "metadata": {},
   "outputs": [
    {
     "name": "stderr",
     "output_type": "stream",
     "text": [
      "Episoden Zahlen zuordnen\n",
      "0% [##############################] 100% | ETA: 00:00:00\n",
      "Total time elapsed: 00:00:00\n"
     ]
    }
   ],
   "source": [
    "word_counts = sorted(counts, key=counts.get, reverse=True)\n",
    "word_to_int = {word: ii for ii, word in enumerate(word_counts,0)}\n",
    "mapped_episoden = []\n",
    "pbar = pyprind.ProgBar(len(df['episode']),\n",
    "                       title='Episoden Zahlen zuordnen')\n",
    "for episode in df['episode']:\n",
    "    mapped_episoden.append([word_to_int.get(word) for word in episode.split()])\n",
    "    pbar.update()\n",
    "mapped_episoden = [list(filter(None, el)) for el in mapped_episoden]"
   ]
  },
  {
   "cell_type": "code",
   "execution_count": 65,
   "metadata": {},
   "outputs": [],
   "source": [
    "#print(word_to_int)"
   ]
  },
  {
   "cell_type": "code",
   "execution_count": 66,
   "metadata": {},
   "outputs": [],
   "source": [
    "#print(mapped_episoden[0])"
   ]
  },
  {
   "cell_type": "markdown",
   "metadata": {},
   "source": [
    "Traiingsndaten und Trainingslabels bestimmen"
   ]
  },
  {
   "cell_type": "code",
   "execution_count": 67,
   "metadata": {},
   "outputs": [
    {
     "name": "stdout",
     "output_type": "stream",
     "text": [
      "sequences = 3952   train_data = 717\n"
     ]
    }
   ],
   "source": [
    "train_data = mapped_episoden[0:] \n",
    "train_labels = df.loc[0:, 'index_binar'].values\n",
    "print(\"sequences =\",max([max(sequences) for sequences in mapped_episoden if len(sequences)>0]),\" \",\n",
    "      \"train_data =\", len (train_data))"
   ]
  },
  {
   "cell_type": "markdown",
   "metadata": {},
   "source": [
    "Trainingsdaten und -Labels vektorisieren"
   ]
  },
  {
   "cell_type": "code",
   "execution_count": 68,
   "metadata": {},
   "outputs": [],
   "source": [
    "sequences_laenge=max([max(sequences) for sequences in mapped_episoden if len(sequences)>0])\n",
    "def vectorize_sequences(sequences, dimension=sequences_laenge+1): \n",
    "    results = np.zeros((len(sequences), dimension))\n",
    "    for i, sequence in enumerate(sequences):\n",
    "        results[i, sequence] = 1.\n",
    "    return results\n",
    "x_train = vectorize_sequences(train_data) \n",
    "y_train = np.asarray(train_labels).astype('float32')"
   ]
  },
  {
   "cell_type": "code",
   "execution_count": 69,
   "metadata": {},
   "outputs": [],
   "source": [
    "#for i, element in enumerate(x_train[0]):\n",
    "    #print(i,'-', element)"
   ]
  },
  {
   "cell_type": "markdown",
   "metadata": {},
   "source": [
    "Neuronales Netz erzeugen"
   ]
  },
  {
   "cell_type": "code",
   "execution_count": 70,
   "metadata": {},
   "outputs": [],
   "source": [
    "def build_model():\n",
    "    model = models.Sequential()\n",
    "    model.add(layers.Dense(layD, activation='tanh',\n",
    "                           input_shape=(sequences_laenge+1,)))\n",
    "    #model.add(layers.Dense(layD, activation='relu'))\n",
    "    model.add(layers.Dense(layD, activation='tanh')) \n",
    "    model.add(layers.Dense((1), activation='sigmoid'))\n",
    "    model.compile(optimizer='rmsprop', loss='mse', metrics=['binary_accuracy'])\n",
    "    return model"
   ]
  },
  {
   "cell_type": "markdown",
   "metadata": {},
   "source": [
    "Neuronales Netz trainieren"
   ]
  },
  {
   "cell_type": "code",
   "execution_count": 71,
   "metadata": {},
   "outputs": [
    {
     "name": "stdout",
     "output_type": "stream",
     "text": [
      "processing fold # 0\n",
      "processing fold # 1\n",
      "processing fold # 2\n",
      "processing fold # 3\n",
      "processing fold # 4\n"
     ]
    }
   ],
   "source": [
    "k = k_fach\n",
    "num_val_samples = len(x_train) // k \n",
    "num_epochs = 4\n",
    "all_scores = []\n",
    "for i in range(k):\n",
    "    print('processing fold #', i)\n",
    "    # Prepare the validation data: data from partition # k\n",
    "    val_data = x_train[i * num_val_samples: (i + 1) * num_val_samples]\n",
    "    val_targets = y_train[i * num_val_samples: (i + 1) * num_val_samples]\n",
    "\n",
    "    # Prepare the training data: data from all other partitions\n",
    "    partial_x_train = np.concatenate(\n",
    "        [x_train[:i * num_val_samples],\n",
    "         x_train[(i + 1) * num_val_samples:]],\n",
    "        axis=0)\n",
    "    partial_y_train = np.concatenate(\n",
    "        [y_train[:i * num_val_samples],\n",
    "         y_train[(i + 1) * num_val_samples:]],\n",
    "        axis=0)\n",
    "\n",
    "    # Build the Keras model (already compiled)\n",
    "    model = build_model()\n",
    "    # Train the model (in silent mode, verbose=0)\n",
    "    model.fit(partial_x_train, partial_y_train,\n",
    "              epochs=num_epochs, batch_size = 8, verbose=0)\n",
    "    # Evaluate the model on the validation data\n",
    "    val_mse, val_binary_accuracy = model.evaluate(val_data, val_targets, verbose=0)\n",
    "    all_scores.append(val_binary_accuracy)"
   ]
  },
  {
   "cell_type": "code",
   "execution_count": 72,
   "metadata": {},
   "outputs": [
    {
     "data": {
      "text/plain": [
       "[0.9370629191398621,\n",
       " 0.9230769276618958,\n",
       " 0.8951048851013184,\n",
       " 0.9860140085220337,\n",
       " 0.9930070042610168]"
      ]
     },
     "execution_count": 72,
     "metadata": {},
     "output_type": "execute_result"
    }
   ],
   "source": [
    "all_scores"
   ]
  },
  {
   "cell_type": "code",
   "execution_count": 73,
   "metadata": {},
   "outputs": [
    {
     "data": {
      "text/plain": [
       "0.9468531489372254"
      ]
     },
     "execution_count": 73,
     "metadata": {},
     "output_type": "execute_result"
    }
   ],
   "source": [
    "np.mean(all_scores)"
   ]
  },
  {
   "cell_type": "code",
   "execution_count": 74,
   "metadata": {},
   "outputs": [
    {
     "name": "stdout",
     "output_type": "stream",
     "text": [
      "processing fold # 0\n",
      "processing fold # 1\n",
      "processing fold # 2\n",
      "processing fold # 3\n",
      "processing fold # 4\n"
     ]
    }
   ],
   "source": [
    "num_epochs = 8\n",
    "all_binary_accuracy_histories = []\n",
    "for i in range(k):\n",
    "    print('processing fold #', i)\n",
    "    # Prepare the validation data: data from partition # k\n",
    "    val_data = x_train[i * num_val_samples: (i + 1) * num_val_samples]\n",
    "    val_targets = y_train[i * num_val_samples: (i + 1) * num_val_samples]\n",
    "\n",
    "    # Prepare the training data: data from all other partitions\n",
    "    partial_x_train = np.concatenate(\n",
    "        [x_train[:i * num_val_samples],\n",
    "         x_train[(i + 1) * num_val_samples:]],\n",
    "        axis=0)\n",
    "    partial_y_train = np.concatenate(\n",
    "        [y_train[:i * num_val_samples],\n",
    "         y_train[(i + 1) * num_val_samples:]],\n",
    "        axis=0)\n",
    "\n",
    "    # Build the Keras model (already compiled)\n",
    "    model = build_model()\n",
    "    # Train the model (in silent mode, verbose=0)\n",
    "    history = model.fit(partial_x_train, partial_y_train,\n",
    "                        validation_data=(val_data, val_targets),\n",
    "                        epochs=num_epochs, batch_size = 8, verbose=0)\n",
    "    binary_accuracy_history = history.history['val_binary_accuracy']\n",
    "    all_binary_accuracy_histories.append(binary_accuracy_history)"
   ]
  },
  {
   "cell_type": "code",
   "execution_count": 75,
   "metadata": {},
   "outputs": [
    {
     "name": "stdout",
     "output_type": "stream",
     "text": [
      "0 - 0.9426573395729065\n",
      "1 - 0.9426573395729065\n",
      "2 - 0.9524475455284118\n",
      "3 - 0.9496503472328186\n",
      "4 - 0.9510489463806152\n",
      "5 - 0.9524475455284118\n",
      "6 - 0.9524475455284118\n",
      "7 - 0.9510489463806152\n"
     ]
    }
   ],
   "source": [
    "average_binary_accuracy_history = [\n",
    "    np.mean([x[i] for x in all_binary_accuracy_histories]) for i in range(num_epochs)]\n",
    "for i, element in enumerate(average_binary_accuracy_history):\n",
    "    print(i,'-', element)"
   ]
  },
  {
   "cell_type": "markdown",
   "metadata": {},
   "source": [
    "## Messdaten erstellen"
   ]
  },
  {
   "cell_type": "markdown",
   "metadata": {},
   "source": [
    "!!! Den gesuchten Typ bestimmen !!!"
   ]
  },
  {
   "cell_type": "code",
   "execution_count": 76,
   "metadata": {},
   "outputs": [],
   "source": [
    "typNum =''\n",
    "episode_string_mess = \"gesamt_string_mess.csv\"\n",
    "episode_roh_mess = \"gesamt_roh_mess.csv\"\n",
    "episode_binar_mess = \"gesamt_binar_mess.csv\""
   ]
  },
  {
   "cell_type": "markdown",
   "metadata": {},
   "source": [
    "Alte Datei mit gleichem Namen löschen"
   ]
  },
  {
   "cell_type": "code",
   "execution_count": 77,
   "metadata": {},
   "outputs": [],
   "source": [
    "import os\n",
    "if os.path.exists(episode_string_mess):\n",
    "    os.remove(episode_string_mess)\n",
    "else:\n",
    "    print(\"Diese Datei existiert nicht\")"
   ]
  },
  {
   "cell_type": "markdown",
   "metadata": {},
   "source": [
    "Nach den entsprechenden Textdateien im Ordnet suchen und in einer rohe Datei zusammentragen"
   ]
  },
  {
   "cell_type": "code",
   "execution_count": 78,
   "metadata": {},
   "outputs": [],
   "source": [
    "import glob\n",
    "\n",
    "def word_to_lex(word):\n",
    "    ret=(word) \n",
    "    return ret\n",
    "\n",
    "def write_back(words):\n",
    "    with open(episode_roh_mess,\"a\", encoding='utf-8') as output:\n",
    "        for word in words:\n",
    "            #print(word)\n",
    "            as_lex = word_to_lex(word[0])\n",
    "            full_word = '\"' + as_lex + '\"'\n",
    "            for sub_word in word[1:]:\n",
    "                full_word += \" , \"  '\"' + sub_word + '\"'\n",
    "            full_word +=\"\\n\"\n",
    "            output.write(full_word)\n",
    "\n",
    "def clean(line):\n",
    "    line = line.replace(\"\\n\",\" \").strip().lower()\n",
    "    line = line.replace(\"ä\",\"ae\").replace(\"ü\",\"ue\").replace(\"ö\",\"oe\").replace(\"ß\",\"ss\").replace(\",\",\"\").replace(\"«\",\"\")\n",
    "    line = line.replace(\"»\",\"\").replace(\".\",\"\").replace(\":\",\"\").replace(\";\",\"\").replace('\"',\"\")\n",
    "    line = line.replace(\"?\",\"\").replace(\"!\",\"\").replace(\"á\",\"a\").replace(\",\",\"\").replace(\"\\t\",\" \").replace(\"'\",\"\")\n",
    "    line = line.replace(\"‹\",\"\").replace(\"›\",\"\").replace(\"-\",\" \").replace(\"'('\",\"\").replace(\"')'\",\"\").replace('>','')\n",
    "    line = line.replace(\"    \",\" \").replace(\"   \",\" \").replace(\"  \",\" \").replace('–','').replace('—','').replace('<','')\n",
    "    line = line.replace(\"Â\", \"A\").replace(\"ø\", \"oe\").replace('“','').replace('„','').replace('(','').replace(')','')\n",
    "    line = line.replace(\"‚\", \"\").replace(']','').replace('[','')\n",
    "    if line == \"\": \n",
    "        return\n",
    "    \n",
    "    line=line.split(\"|\")\n",
    "    line[0]=line[0].split(\"|\")[0]\n",
    "    flex=[]\n",
    "    try:\n",
    "        flex=line[1].split(\"\")\n",
    "    except:\n",
    "        pass\n",
    "    value=str(line)\n",
    "    line=str(line)   \n",
    "    flex.append(line)\n",
    "    ret=[]\n",
    "    for i in flex:\n",
    "        ret.append((i,value[0]))\n",
    "    return ret\n",
    "\n",
    "with open(episode_roh_mess, \"w\", encoding='utf-8') as output:\n",
    "    output.write (\"quelle,episode,index_string,index_binar\\n\")\n",
    "pairs = []\n",
    "\n",
    "for file in glob.glob(\"Messdaten/*.txt\"):\n",
    "    if typNum in file:\n",
    "        with open(file, 'r', encoding='utf-8') as episode:\n",
    "            for line in episode.readlines():\n",
    "                clean_words = clean(line)\n",
    "                pairs = pairs + clean_words\n",
    "write_back(pairs)"
   ]
  },
  {
   "cell_type": "markdown",
   "metadata": {},
   "source": [
    "Rohdatei endgültig überarbeiten und in eine CSV Datei speichern"
   ]
  },
  {
   "cell_type": "code",
   "execution_count": 79,
   "metadata": {},
   "outputs": [],
   "source": [
    "fin = open(episode_roh_mess,'r', encoding ='utf-8')\n",
    "fout = open(episode_string_mess, \"wt\", encoding ='utf-8')\n",
    "for kfz in fin:\n",
    "    fout.write(kfz.replace(', \"[\"',\"\").replace('\"[', \"\").replace(']\"',\"\").replace(\"', '\", \"','\").replace(\" '\", \"'\"))                      \n",
    "fin.close()\n",
    "fout.close()"
   ]
  },
  {
   "cell_type": "markdown",
   "metadata": {},
   "source": [
    "Die in der CSV Datei etikettierte Episoden auflisten"
   ]
  },
  {
   "cell_type": "code",
   "execution_count": 80,
   "metadata": {},
   "outputs": [
    {
     "name": "stdout",
     "output_type": "stream",
     "text": [
      "'0'\n"
     ]
    }
   ],
   "source": [
    "import pandas as pd\n",
    "df = pd.read_csv(episode_string_mess, encoding='utf-8')\n",
    "from collections import Counter\n",
    "indexliste=Counter(df.index_string)\n",
    "print(*indexliste, sep='\\n')"
   ]
  },
  {
   "cell_type": "markdown",
   "metadata": {},
   "source": [
    "Messdaten laden und aufbereiten"
   ]
  },
  {
   "cell_type": "code",
   "execution_count": 81,
   "metadata": {},
   "outputs": [],
   "source": [
    "fin = open(episode_string_mess,'r', encoding='utf-8') \n",
    "fout = open(episode_binar_mess, \"wt\", encoding='utf-8')\n",
    "for efz in fin:\n",
    "    fout.write(efz.replace(\"'\",\"\"))\n",
    "                                 \n",
    "fin.close()\n",
    "fout.close()"
   ]
  },
  {
   "cell_type": "code",
   "execution_count": 82,
   "metadata": {},
   "outputs": [
    {
     "name": "stdout",
     "output_type": "stream",
     "text": [
      "Counter({0: 283})\n"
     ]
    }
   ],
   "source": [
    "df = pd.read_csv(episode_binar_mess, encoding='utf-8')\n",
    "indexliste=Counter(df.index_string)\n",
    "print(indexliste, sep='\\n')"
   ]
  },
  {
   "cell_type": "code",
   "execution_count": 83,
   "metadata": {},
   "outputs": [
    {
     "name": "stderr",
     "output_type": "stream",
     "text": [
      "<ipython-input-83-1213ee4dca3b>:5: SettingWithCopyWarning: \n",
      "A value is trying to be set on a copy of a slice from a DataFrame\n",
      "\n",
      "See the caveats in the documentation: https://pandas.pydata.org/pandas-docs/stable/user_guide/indexing.html#returning-a-view-versus-a-copy\n",
      "  df.index_binar[i]='0'\n"
     ]
    }
   ],
   "source": [
    "for i,e in enumerate(df.index_string):\n",
    "    if e:\n",
    "        df.index_binar[i]='0'\n",
    "    else: \n",
    "        df.index_binar[i]='0'"
   ]
  },
  {
   "cell_type": "code",
   "execution_count": 84,
   "metadata": {},
   "outputs": [],
   "source": [
    "df.to_csv(episode_binar_mess, encoding='utf-8', index=False)"
   ]
  },
  {
   "cell_type": "markdown",
   "metadata": {},
   "source": [
    "Vorhandene Zuordnung laden und den verschiedenen Wörtern eindeutige Zahlen zuordnen"
   ]
  },
  {
   "cell_type": "code",
   "execution_count": 85,
   "metadata": {},
   "outputs": [
    {
     "name": "stderr",
     "output_type": "stream",
     "text": [
      "Episoden Zahlen zuordnen\n",
      "0% [##############################] 100% | ETA: 00:00:00\n",
      "Total time elapsed: 00:00:00\n"
     ]
    }
   ],
   "source": [
    "mapped_episoden_2 = []\n",
    "pbar = pyprind.ProgBar(len(df['episode']),\n",
    "                       title='Episoden Zahlen zuordnen')\n",
    "for episode in df['episode']:\n",
    "    mapped_episoden_2.append([word_to_int.get(word) for word in episode.split()])\n",
    "    pbar.update()\n",
    "\n",
    "mapped_episoden_2 = [list(filter(None, el)) for el in mapped_episoden_2]\n"
   ]
  },
  {
   "cell_type": "code",
   "execution_count": 86,
   "metadata": {},
   "outputs": [],
   "source": [
    "#mapped_episoden_2 = []\n",
    "#pbar = pyprind.ProgBar(len(df['episode']),\n",
    "                       #title='Episoden Zahlen zuordnen')\n",
    "#for  episode in df['episode']:\n",
    "    #if type(episode) == str:\n",
    "        #mapped_episoden_2.append([word_to_int.get(word) for word in episode.split()])\n",
    "        #pbar.update()\n",
    "#mapped_episoden_2 = [list(filter(None, el)) for el in mapped_episoden_2]"
   ]
  },
  {
   "cell_type": "markdown",
   "metadata": {},
   "source": [
    "raiingsndaten und Trainingslabels bestimmen"
   ]
  },
  {
   "cell_type": "code",
   "execution_count": 87,
   "metadata": {},
   "outputs": [
    {
     "name": "stdout",
     "output_type": "stream",
     "text": [
      "sequences = 3952   mess_data = 283\n"
     ]
    }
   ],
   "source": [
    "mess_data = mapped_episoden_2[0:] \n",
    "mess_labels = df.loc[0:, 'index_binar'].values\n",
    "print(\"sequences =\",max([max(sequences) for sequences in mapped_episoden if len(sequences)>0]),\" \", \n",
    "      \"mess_data =\", len (mess_data))"
   ]
  },
  {
   "cell_type": "markdown",
   "metadata": {},
   "source": [
    "Messdaten vektorisieren"
   ]
  },
  {
   "cell_type": "code",
   "execution_count": 88,
   "metadata": {},
   "outputs": [],
   "source": [
    "def vectorize_sequences(sequences, dimension=sequences_laenge+1): \n",
    "    results = np.zeros((len(sequences), dimension))\n",
    "    for i, sequence in enumerate(sequences):\n",
    "        results[i, sequence] = 1.\n",
    "    return results\n",
    "x_mess = vectorize_sequences(mess_data)\n",
    "y_mess = np.asarray(mess_labels).astype('float32')"
   ]
  },
  {
   "cell_type": "markdown",
   "metadata": {},
   "source": [
    "## Messdaten analysieren"
   ]
  },
  {
   "cell_type": "code",
   "execution_count": 89,
   "metadata": {},
   "outputs": [
    {
     "data": {
      "image/png": "[encoded data removed]",
      "text/plain": [
       "<Figure size 432x288 with 1 Axes>"
      ]
     },
     "metadata": {
      "needs_background": "light"
     },
     "output_type": "display_data"
    }
   ],
   "source": [
    "plt.plot(range(1, len(average_binary_accuracy_history) + 1), average_binary_accuracy_history)\n",
    "plt.xlabel('Epochs')\n",
    "plt.ylabel('Validation acc')\n",
    "plt.show()"
   ]
  },
  {
   "cell_type": "markdown",
   "metadata": {},
   "source": [
    "!!!! Zahl epochs, wenn nötig, in dem 11. Satz anpassen !!!! "
   ]
  },
  {
   "cell_type": "code",
   "execution_count": 90,
   "metadata": {},
   "outputs": [
    {
     "data": {
      "image/png": "[encoded data removed]",
      "text/plain": [
       "<Figure size 432x288 with 1 Axes>"
      ]
     },
     "metadata": {
      "needs_background": "light"
     },
     "output_type": "display_data"
    }
   ],
   "source": [
    "def smooth_curve(points, factor=0.9):\n",
    "  smoothed_points = []\n",
    "  for point in points:\n",
    "    if smoothed_points:\n",
    "      previous = smoothed_points[-1]\n",
    "      smoothed_points.append(previous * factor + point * (1 - factor))\n",
    "    else:\n",
    "      smoothed_points.append(point)\n",
    "  return smoothed_points\n",
    "\n",
    "smooth_binary_accuracy_history = smooth_curve(average_binary_accuracy_history[2:])\n",
    "\n",
    "plt.plot(range(1, len(smooth_binary_accuracy_history) + 1), smooth_binary_accuracy_history)\n",
    "plt.xlabel('Epochs')\n",
    "plt.ylabel('Validation acc')\n",
    "plt.show()"
   ]
  },
  {
   "cell_type": "markdown",
   "metadata": {},
   "source": [
    "Modell ausführen. !!!!!! wenn nötig, Zahl der epochs im fünften Satz korrigieren !!!!!"
   ]
  },
  {
   "cell_type": "code",
   "execution_count": 91,
   "metadata": {},
   "outputs": [
    {
     "name": "stdout",
     "output_type": "stream",
     "text": [
      "Epoch 1/2\n",
      "717/717 [==============================] - 4s 6ms/step - loss: 0.0557 - binary_accuracy: 0.9442\n",
      "Epoch 2/2\n",
      "717/717 [==============================] - 5s 7ms/step - loss: 0.0135 - binary_accuracy: 0.9847\n",
      "9/9 [==============================] - 0s 3ms/step - loss: 0.0038 - binary_accuracy: 0.9965\n"
     ]
    }
   ],
   "source": [
    "# Get a fresh, compiled model.\n",
    "model = build_model()\n",
    "# Train it on the entirety of the data.\n",
    "model.fit(x_train, y_train,\n",
    "          epochs = 2, batch_size = 1)\n",
    "mess_mse_score, mess_binary_accuracy_score = model.evaluate(x_mess, y_mess)"
   ]
  },
  {
   "cell_type": "code",
   "execution_count": 92,
   "metadata": {},
   "outputs": [
    {
     "data": {
      "text/plain": [
       "(0.9964664578437805, 0.0037821270525455475)"
      ]
     },
     "execution_count": 92,
     "metadata": {},
     "output_type": "execute_result"
    }
   ],
   "source": [
    "mess_binary_accuracy_score, mess_mse_score"
   ]
  },
  {
   "cell_type": "markdown",
   "metadata": {},
   "source": [
    "Voraussagen"
   ]
  },
  {
   "cell_type": "code",
   "execution_count": 93,
   "metadata": {},
   "outputs": [],
   "source": [
    "predictions=model.predict(x_mess)\n",
    "#for i in range(len(predictions)):\n",
    "    #print(model.predict(x_mess))"
   ]
  },
  {
   "cell_type": "code",
   "execution_count": 94,
   "metadata": {},
   "outputs": [
    {
     "name": "stdout",
     "output_type": "stream",
     "text": [
      "Maximaler Wert: 0.8894931\n"
     ]
    }
   ],
   "source": [
    "print('Maximaler Wert:', max(max(model.predict(x_mess))))"
   ]
  },
  {
   "cell_type": "markdown",
   "metadata": {},
   "source": [
    "Voraussgen in den aussortierten Datensätzen"
   ]
  },
  {
   "cell_type": "code",
   "execution_count": 100,
   "metadata": {},
   "outputs": [
    {
     "name": "stdout",
     "output_type": "stream",
     "text": [
      "3 - [0.8894931] - al bm_73ff - die zarentochter ging zu der quelle setzte sich unter einen baum weinte und wartete dass die lamia komme und sie fresse der heilige georg war aber in der naehe sah das maedchen einsam unter dem baume sitzen und weinen trat zu ihr und fragte sie warum sie weine das maedchen erzaehlte ihm alles der heilige georg hatte mitleid mit ihr und sagte ihr sie moege keine angst haben er wolle ihr beistehen und sie erretten da bat ihn das maedchen weinend er moege nicht fortgehen sondern bei ihr bleiben das tat er da er aber schlaefrig wurde legte er seinen kopf in ihren schoss um ein wenig zu schlafen und sagte sie solle ihn wecken sobald die lamia erscheine - 0 \n",
      "\n",
      "90 - [0.39989597] - lappland mus_81ff - alsbald zuendete er auf dem ufer ein grosses feuer an legte als es gehoerig in brand gekommen war das ei mitten hinein und ruderte unverzueglich wieder ueber das meer zurueck sobald er ans land kam eilte er geraden weges zu dem gehoefte des riesen und sah nun dass dieser eben jetzt gerade so verbrannte wie das ei auf der insel - 0 \n",
      "\n",
      "128 - [0.24704462] - mess_46 - kurz darauf hoerte er ein droehnen und sah die lamia kommen - 0 \n",
      "\n",
      "280 - [0.12568265] - ru vm_160ff - ueber den schnurrbart floss es kam nicht in den mund hinein - 0 \n",
      "\n"
     ]
    }
   ],
   "source": [
    "mod_pred = model.predict(x_mess)\n",
    "cutoff_value = 0.1\n",
    "for i in range(len(y_mess)):\n",
    "    if mod_pred[i,0]>cutoff_value:\n",
    "        if ((i==0)|(mod_pred[i-1,0]>cutoff_value))|(mod_pred[i+0]>cutoff_value):\n",
    "            #if df.index_string ==0:\n",
    "                print (i+0,\"-\",\n",
    "                  #i+2,\"-\", \n",
    "                  #y_test[i],\"-\", \n",
    "                  mod_pred[i],\"-\",\n",
    "                  df.quelle[i+0],\"-\", \n",
    "                  df.episode[i+0],\"-\",\n",
    "                  df.index_string[i+0],'\\n')"
   ]
  },
  {
   "cell_type": "markdown",
   "metadata": {},
   "source": [
    "Voraussage: gewünschte Datensetze abrufen"
   ]
  },
  {
   "cell_type": "code",
   "execution_count": null,
   "metadata": {},
   "outputs": [],
   "source": [
    "#for i in range(len(x_mess)):\n",
    "    #if i>30:\n",
    "        #print(i+0,\"-\",\n",
    "              #model.predict(x_mess)[i],\"-\",\n",
    "              #df.quelle[i+0],\"-\",\n",
    "              #df.episode[i+0],\"-\",\n",
    "              #df.index_string[i+0],'\\n')"
   ]
  }
 ],
 "metadata": {
  "kernelspec": {
   "display_name": "Python 3",
   "language": "python",
   "name": "python3"
  },
  "language_info": {
   "codemirror_mode": {
    "name": "ipython",
    "version": 3
   },
   "file_extension": ".py",
   "mimetype": "text/x-python",
   "name": "python",
   "nbconvert_exporter": "python",
   "pygments_lexer": "ipython3",
   "version": "3.8.3"
  }
 },
 "nbformat": 4,
 "nbformat_minor": 2
}
