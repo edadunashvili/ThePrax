{
 "cells": [
  {
   "cell_type": "markdown",
   "metadata": {},
   "source": [
    "## Testdatencorpushersteller"
   ]
  },
  {
   "cell_type": "markdown",
   "metadata": {},
   "source": [
    "GitHub Repository clonen und in GoogleColab anlegen"
   ]
  },
  {
   "cell_type": "code",
   "execution_count": null,
   "metadata": {},
   "outputs": [],
   "source": [
    "!pwd"
   ]
  },
  {
   "cell_type": "code",
   "execution_count": null,
   "metadata": {},
   "outputs": [],
   "source": [
    "!git clone https://github.com/edadunashvili/ThePrax.git"
   ]
  },
  {
   "cell_type": "code",
   "execution_count": null,
   "metadata": {},
   "outputs": [],
   "source": [
    "cd ThePrax"
   ]
  },
  {
   "cell_type": "code",
   "execution_count": null,
   "metadata": {},
   "outputs": [],
   "source": [
    "!pwd"
   ]
  },
  {
   "cell_type": "markdown",
   "metadata": {},
   "source": [
    "#### !!! Ein Typ bestimmen !!!"
   ]
  },
  {
   "cell_type": "code",
   "execution_count": 63,
   "metadata": {},
   "outputs": [],
   "source": [
    "typNum='300'\n",
    "episode_string_train = \"a300_string_train.csv\"\n",
    "episode_roh_train = \"a300_roh_train.csv\""
   ]
  },
  {
   "cell_type": "markdown",
   "metadata": {},
   "source": [
    "Vorhandener gleichnamiger Korpus wird gelöscht"
   ]
  },
  {
   "cell_type": "code",
   "execution_count": 64,
   "metadata": {},
   "outputs": [],
   "source": [
    "import os\n",
    "if os.path.exists(episode_string_train):\n",
    "    os.remove(episode_string_train)\n",
    "else:\n",
    "    print(\"Diese Datei existiert nicht\")"
   ]
  },
  {
   "cell_type": "markdown",
   "metadata": {},
   "source": [
    "Im Ordner \"Trainingsdaten\" nach den entsprechenden Textdateien suchen und in einer rohe Datei zusammentragen"
   ]
  },
  {
   "cell_type": "code",
   "execution_count": 65,
   "metadata": {},
   "outputs": [],
   "source": [
    "import glob\n",
    "\n",
    "def word_to_lex(word):\n",
    "    ret=(word) \n",
    "    return ret\n",
    "\n",
    "def write_back(words):\n",
    "    with open(episode_roh_train,\"a\", encoding='utf-8') as output:\n",
    "        for word in words:\n",
    "            #print(word)\n",
    "            as_lex = word_to_lex(word[0])\n",
    "            full_word = '\"' + as_lex + '\"'\n",
    "            for sub_word in word[1:]:\n",
    "                full_word += \" , \"  '\"' + sub_word + '\"'\n",
    "            full_word +=\"\\n\"\n",
    "            output.write(full_word)\n",
    "\n",
    "def clean(line):\n",
    "    line = line.replace(\"\\n\",\" \").strip().lower()\n",
    "    line = line.replace(\"ä\",\"ae\").replace(\"ü\",\"ue\").replace(\"ö\",\"oe\").replace(\"ß\",\"ss\").replace(\",\",\"\").replace(\"«\",\"\")\n",
    "    line = line.replace(\"»\",\"\").replace(\".\",\"\").replace(\":\",\"\").replace(\";\",\"\").replace('\"',\"\")\n",
    "    line = line.replace(\"?\",\"\").replace(\"!\",\"\").replace(\"á\",\"a\").replace(\",\",\"\").replace(\"\\t\",\" \").replace(\"'\",\"\")\n",
    "    line = line.replace(\"‹\",\"\").replace(\"›\",\"\").replace(\"-\",\" \").replace(\"'('\",\"\").replace(\"')'\",\"\").replace('>','')\n",
    "    line = line.replace(\"    \",\" \").replace(\"   \",\" \").replace(\"  \",\" \").replace('–','').replace('—','').replace('<','')\n",
    "    line = line.replace(\"Â\", \"A\").replace(\"ø\", \"oe\").replace('“','').replace('„','').replace('(','').replace(')','')\n",
    "    line = line.replace(\"‚\", \"\").replace(']','').replace('[','')\n",
    "    if line == \"\": \n",
    "        return\n",
    "    \n",
    "    line=line.split(\"|\")\n",
    "    line[0]=line[0].split(\"|\")[0]\n",
    "    flex=[]\n",
    "    try:\n",
    "        flex=line[1].split(\"\")\n",
    "    except:\n",
    "        pass\n",
    "    value=str(line)\n",
    "    line=str(line)   \n",
    "    flex.append(line)\n",
    "    ret=[]\n",
    "    for i in flex:\n",
    "        ret.append((i,value[0]))\n",
    "    return ret\n",
    "\n",
    "with open(episode_roh_train, \"w\", encoding='utf-8') as output:\n",
    "    output.write (\"quelle,episode,index_string,index_binar\\n\")\n",
    "pairs = []\n",
    "\n",
    "for file in glob.glob(\"Trainingsdaten/*.txt\"):\n",
    "    if typNum in file:\n",
    "        with open(file, 'r', encoding='utf-8') as episode:\n",
    "            for line in episode.readlines():\n",
    "                clean_words = clean(line)\n",
    "                pairs = pairs + clean_words\n",
    "write_back(pairs)"
   ]
  },
  {
   "cell_type": "markdown",
   "metadata": {},
   "source": [
    "Rohdatei endgültig überarbeiten und in eine CSV Datei speichern"
   ]
  },
  {
   "cell_type": "code",
   "execution_count": 66,
   "metadata": {},
   "outputs": [],
   "source": [
    "fin = open(episode_roh_train,'r', encoding ='utf-8')\n",
    "fout = open(episode_string_train, \"wt\", encoding ='utf-8')\n",
    "for kfz in fin:\n",
    "    fout.write(kfz.replace(', \"[\"',\"\").replace('\"[', \"\").replace(']\"',\"\").replace(\"', '\", \"','\").replace(\" '\", \"'\"))                      \n",
    "fin.close()\n",
    "fout.close()"
   ]
  },
  {
   "cell_type": "markdown",
   "metadata": {},
   "source": [
    "Liste von einmaligen Episoden aus der CSV Datei zeigen"
   ]
  },
  {
   "cell_type": "code",
   "execution_count": 67,
   "metadata": {
    "scrolled": true
   },
   "outputs": [
    {
     "name": "stdout",
     "output_type": "stream",
     "text": [
      "'e301_a_'\n",
      "'e300_c_anfangssituation_ankunft_und_erkundigung_der_not'\n",
      "'e300_e_vorfeld_des_kampfes_bis_zum_sieg'\n",
      "'e300_i_rueckkehr_der_koenigstochter_und_die_suche_nach_dem_held retter'\n",
      "'e300_o_auftritt_des_helden_vor_dem_koenig_bis_zum_ende_der_geschichte'\n",
      "'e554_a_'\n",
      "'eamom_a_'\n",
      "'e516_a_'\n",
      "'e513a_a_'\n",
      "'e302_a_'\n",
      "'e300_g_nach_dem_sieg_bis_zur_trennung_des_befreiers_und_der_befreiten'\n",
      "'e300_k_misshandlung_des_falschen_helden_bis_zur_hochzeitstag'\n",
      "'e328_a_'\n",
      "'ecom_a_'\n",
      "'eundf_a_'\n",
      "'e300_m_rueckkehr_des_helden_ _von_der_erkundung_ueber_die_hochzeit_bis_zum_wiedergewinn_der_aufmerksamkeit'\n",
      "'e303_g_erstes_treffen_mit_der_hexen'\n",
      "'e303_i_vom_erkundigung_der_not_bis_zum_aufbruch_des_helden_zur_hexe'\n",
      "'e303_k_vom_afbruch_zur_hexe_bis_zur_ihren_ueberweltigung'\n",
      "'e303_c_eingangssituation_bis_zur_trennung'\n",
      "'e314_a_'\n",
      "'e850_a_'\n",
      "'e303_m_eifersucht'\n",
      "'e315_a_'\n",
      "'e303_q_rueckkehr_und_finale'\n",
      "'e303_o_erloesung_der_hexe'\n",
      "'e567_a_'\n",
      "'e562_a_'\n",
      "'e550_a_'\n",
      "'e590_a_'\n"
     ]
    }
   ],
   "source": [
    "import pandas as pd\n",
    "df = pd.read_csv(episode_string_train, encoding='utf-8')\n",
    "from collections import Counter\n",
    "indexliste=Counter(df.index_string)\n",
    "print(*indexliste, sep='\\n')"
   ]
  },
  {
   "cell_type": "markdown",
   "metadata": {},
   "source": [
    "Liste von allen Episoden aus der CSV Datei zeigen"
   ]
  },
  {
   "cell_type": "code",
   "execution_count": 18,
   "metadata": {},
   "outputs": [],
   "source": [
    "#import pandas as pd\n",
    "#df = pd.read_csv(episode_string_train, encoding='utf-8')\n",
    "#x='_'\n",
    "#for gesep in (df.index_string):\n",
    "    #if x in gesep:\n",
    "        #print(gesep) "
   ]
  },
  {
   "cell_type": "markdown",
   "metadata": {},
   "source": [
    "## Auswerter"
   ]
  },
  {
   "cell_type": "markdown",
   "metadata": {},
   "source": [
    "#### !!! Elementenstruktur definieren: vorherige Episode - gesuchte Episode - folgende Episode !!!"
   ]
  },
  {
   "cell_type": "code",
   "execution_count": 68,
   "metadata": {},
   "outputs": [],
   "source": [
    "import pandas as pd\n",
    "df = pd.read_csv('a300_string_train.csv', encoding='utf-8')\n",
    "from collections import Counter\n",
    "\n",
    "def ep_format(ep_full):\n",
    "    return (ep_full.split('_'))[0]\n",
    "\n",
    "def quellenvergleich (df, i1, i2):\n",
    "#     print(df.quelle[i1],df.quelle[i2])\n",
    "    return df.quelle[i1]==df.quelle[i2]\n",
    "\n",
    "def ast(gesep, df):\n",
    "    ep_tree = {}\n",
    "    a_liste = []\n",
    "    z_liste = []  \n",
    "    df_len = len(df.index_string)\n",
    "    for i, ep in enumerate(df.index_string):\n",
    "        if gesep == ep:\n",
    "             #print(i, ep_full)\n",
    "            if (i > 0)&(quellenvergleich(df, i, i-1)):\n",
    "                a = df.index_string[i-1]\n",
    "            else:\n",
    "                a = 'eAnfang_a_'\n",
    "            if (i < df_len - 1):\n",
    "                if not (quellenvergleich(df, i, i+1)):\n",
    "                    z = 'eEnde_a_'\n",
    "                else:        \n",
    "                    z = df.index_string[i+1]\n",
    "            else:\n",
    "                z = 'eEnde_a_'\n",
    "            a_liste.append(a)\n",
    "            z_liste.append(z)\n",
    "    return {gesep: [Counter(a_liste), Counter(z_liste)]}"
   ]
  },
  {
   "cell_type": "markdown",
   "metadata": {},
   "source": [
    "Alle im Korpus vorhandene Episoden extrahieren"
   ]
  },
  {
   "cell_type": "code",
   "execution_count": 69,
   "metadata": {},
   "outputs": [],
   "source": [
    "def alle_aeste(gesep, df):\n",
    "    episoden_baeume = {}\n",
    "    \n",
    "    ep_list = []\n",
    "    for ep_full in df.index_string:  \n",
    "        \n",
    "        ep = ep_format(ep_full)      \n",
    "        if gesep == ep:          \n",
    "            \n",
    "            ep_list.append(ep_full)\n",
    "    for ep in set(ep_list):\n",
    "        episoden_baeume.update(ast(ep,df))\n",
    "    return episoden_baeume"
   ]
  },
  {
   "cell_type": "markdown",
   "metadata": {},
   "source": [
    "Episoden die gesuchte Episode umlegen und in die Liste in die richrige Reihenfolge darstellen"
   ]
  },
  {
   "cell_type": "code",
   "execution_count": 70,
   "metadata": {},
   "outputs": [],
   "source": [
    "def key_val_printer(d):\n",
    "    for k, v in d.items():\n",
    "        print(v, k, sep=':')\n",
    "    #print()\n",
    "        \n",
    "def baum_printer(baeume: dict, baum: str):\n",
    "    key_val_printer (baeume[baum][0])\n",
    "    \n",
    "    \n",
    "    print(80*'-')\n",
    "    print(sum(baeume[baum][0].values()), baum)\n",
    "    print(80*'-')\n",
    "    key_val_printer(baeume[baum][1]) \n",
    "    \n",
    "            \n",
    "def wald_printer(wald: dict):\n",
    "    for baum in sorted(wald.keys()):\n",
    "        baum_printer (wald, baum)\n",
    "        print('\\n',80*'=','\\n')"
   ]
  },
  {
   "cell_type": "markdown",
   "metadata": {},
   "source": [
    "#### !!! Die gesuchte Episode bestimmen !!!"
   ]
  },
  {
   "cell_type": "code",
   "execution_count": 72,
   "metadata": {},
   "outputs": [
    {
     "name": "stdout",
     "output_type": "stream",
     "text": [
      "2:'e301_a_'\n",
      "1:'e302_a_'\n",
      "8:'e554_a_'\n",
      "1:eAnfang_a_\n",
      "1:'e314_a_'\n",
      "4:'e315_a_'\n",
      "7:'e303_c_eingangssituation_bis_zur_trennung'\n",
      "4:'eundf_a_'\n",
      "1:'e300_o_auftritt_des_helden_vor_dem_koenig_bis_zum_ende_der_geschichte'\n",
      "1:'e300_c_anfangssituation_ankunft_und_erkundigung_der_not'\n",
      "1:'e303_i_vom_erkundigung_der_not_bis_zum_aufbruch_des_helden_zur_hexe'\n",
      "1:'e550_a_'\n",
      "2:'e562_a_'\n",
      "1:'e590_a_'\n",
      "1:'e300_e_vorfeld_des_kampfes_bis_zum_sieg'\n",
      "--------------------------------------------------------------------------------\n",
      "36 'e300_c_anfangssituation_ankunft_und_erkundigung_der_not'\n",
      "--------------------------------------------------------------------------------\n",
      "34:'e300_e_vorfeld_des_kampfes_bis_zum_sieg'\n",
      "1:eEnde_a_\n",
      "1:'e300_c_anfangssituation_ankunft_und_erkundigung_der_not'\n",
      "\n",
      " ================================================================================ \n",
      "\n",
      "34:'e300_c_anfangssituation_ankunft_und_erkundigung_der_not'\n",
      "2:'e300_k_misshandlung_des_falschen_helden_bis_zur_hochzeitstag'\n",
      "1:'e315_a_'\n",
      "1:'e550_a_'\n",
      "2:'eundf_a_'\n",
      "1:'e562_a_'\n",
      "--------------------------------------------------------------------------------\n",
      "41 'e300_e_vorfeld_des_kampfes_bis_zum_sieg'\n",
      "--------------------------------------------------------------------------------\n",
      "3:'e300_i_rueckkehr_der_koenigstochter_und_die_suche_nach_dem_held retter'\n",
      "29:'e300_g_nach_dem_sieg_bis_zur_trennung_des_befreiers_und_der_befreiten'\n",
      "4:'e300_o_auftritt_des_helden_vor_dem_koenig_bis_zum_ende_der_geschichte'\n",
      "1:'e554_a_'\n",
      "3:'eundf_a_'\n",
      "1:'e300_c_anfangssituation_ankunft_und_erkundigung_der_not'\n",
      "\n",
      " ================================================================================ \n",
      "\n",
      "29:'e300_e_vorfeld_des_kampfes_bis_zum_sieg'\n",
      "1:'e554_a_'\n",
      "--------------------------------------------------------------------------------\n",
      "30 'e300_g_nach_dem_sieg_bis_zur_trennung_des_befreiers_und_der_befreiten'\n",
      "--------------------------------------------------------------------------------\n",
      "26:'e300_k_misshandlung_des_falschen_helden_bis_zur_hochzeitstag'\n",
      "1:eEnde_a_\n",
      "1:'e554_a_'\n",
      "1:'e300_o_auftritt_des_helden_vor_dem_koenig_bis_zum_ende_der_geschichte'\n",
      "1:'e300_i_rueckkehr_der_koenigstochter_und_die_suche_nach_dem_held retter'\n",
      "\n",
      " ================================================================================ \n",
      "\n",
      "3:'e300_e_vorfeld_des_kampfes_bis_zum_sieg'\n",
      "2:'e300_k_misshandlung_des_falschen_helden_bis_zur_hochzeitstag'\n",
      "1:'e554_a_'\n",
      "1:'e300_g_nach_dem_sieg_bis_zur_trennung_des_befreiers_und_der_befreiten'\n",
      "--------------------------------------------------------------------------------\n",
      "7 'e300_i_rueckkehr_der_koenigstochter_und_die_suche_nach_dem_held retter'\n",
      "--------------------------------------------------------------------------------\n",
      "6:'e300_o_auftritt_des_helden_vor_dem_koenig_bis_zum_ende_der_geschichte'\n",
      "1:'e300_k_misshandlung_des_falschen_helden_bis_zur_hochzeitstag'\n",
      "\n",
      " ================================================================================ \n",
      "\n",
      "26:'e300_g_nach_dem_sieg_bis_zur_trennung_des_befreiers_und_der_befreiten'\n",
      "1:'e300_i_rueckkehr_der_koenigstochter_und_die_suche_nach_dem_held retter'\n",
      "1:eAnfang_a_\n",
      "--------------------------------------------------------------------------------\n",
      "28 'e300_k_misshandlung_des_falschen_helden_bis_zur_hochzeitstag'\n",
      "--------------------------------------------------------------------------------\n",
      "2:'e300_i_rueckkehr_der_koenigstochter_und_die_suche_nach_dem_held retter'\n",
      "7:'e554_a_'\n",
      "11:'e300_m_rueckkehr_des_helden_ _von_der_erkundung_ueber_die_hochzeit_bis_zum_wiedergewinn_der_aufmerksamkeit'\n",
      "2:'e300_e_vorfeld_des_kampfes_bis_zum_sieg'\n",
      "1:'e850_a_'\n",
      "1:'e303_c_eingangssituation_bis_zur_trennung'\n",
      "3:'e300_o_auftritt_des_helden_vor_dem_koenig_bis_zum_ende_der_geschichte'\n",
      "1:eEnde_a_\n",
      "\n",
      " ================================================================================ \n",
      "\n",
      "7:'e554_a_'\n",
      "11:'e300_k_misshandlung_des_falschen_helden_bis_zur_hochzeitstag'\n",
      "1:'e303_c_eingangssituation_bis_zur_trennung'\n",
      "--------------------------------------------------------------------------------\n",
      "19 'e300_m_rueckkehr_des_helden_ _von_der_erkundung_ueber_die_hochzeit_bis_zum_wiedergewinn_der_aufmerksamkeit'\n",
      "--------------------------------------------------------------------------------\n",
      "19:'e300_o_auftritt_des_helden_vor_dem_koenig_bis_zum_ende_der_geschichte'\n",
      "\n",
      " ================================================================================ \n",
      "\n",
      "6:'e300_i_rueckkehr_der_koenigstochter_und_die_suche_nach_dem_held retter'\n",
      "19:'e300_m_rueckkehr_des_helden_ _von_der_erkundung_ueber_die_hochzeit_bis_zum_wiedergewinn_der_aufmerksamkeit'\n",
      "4:'e300_e_vorfeld_des_kampfes_bis_zum_sieg'\n",
      "3:'e300_k_misshandlung_des_falschen_helden_bis_zur_hochzeitstag'\n",
      "1:'e554_a_'\n",
      "1:'e300_g_nach_dem_sieg_bis_zur_trennung_des_befreiers_und_der_befreiten'\n",
      "--------------------------------------------------------------------------------\n",
      "34 'e300_o_auftritt_des_helden_vor_dem_koenig_bis_zum_ende_der_geschichte'\n",
      "--------------------------------------------------------------------------------\n",
      "4:'e554_a_'\n",
      "10:eEnde_a_\n",
      "13:'e303_g_erstes_treffen_mit_der_hexen'\n",
      "1:'e303_i_vom_erkundigung_der_not_bis_zum_aufbruch_des_helden_zur_hexe'\n",
      "1:'e300_c_anfangssituation_ankunft_und_erkundigung_der_not'\n",
      "2:'e315_a_'\n",
      "2:'eundf_a_'\n",
      "1:'e562_a_'\n",
      "\n",
      " ================================================================================ \n",
      "\n"
     ]
    }
   ],
   "source": [
    "synop = alle_aeste(\"'e300\", df)\n",
    "wald_printer(synop)"
   ]
  },
  {
   "cell_type": "markdown",
   "metadata": {},
   "source": [
    "## Automatische Analyse"
   ]
  },
  {
   "cell_type": "code",
   "execution_count": 1,
   "metadata": {},
   "outputs": [
    {
     "name": "stderr",
     "output_type": "stream",
     "text": [
      "Using TensorFlow backend.\n"
     ]
    }
   ],
   "source": [
    "import keras\n",
    "import glob\n",
    "import matplotlib.pyplot as plt\n",
    "import nltk\n",
    "import numpy as np\n",
    "import pyprind\n",
    "import pandas as pd\n",
    "import random\n",
    "import re\n",
    "import string\n",
    "from collections import Counter\n",
    "from nltk.corpus import stopwords\n",
    "from keras import backend as K\n",
    "from keras import layers\n",
    "from keras import losses\n",
    "from keras import models\n",
    "from keras import metrics\n",
    "from keras import optimizers\n",
    "from keras.preprocessing import sequence"
   ]
  },
  {
   "cell_type": "markdown",
   "metadata": {},
   "source": [
    "#### !!! Variable anpassen !!!"
   ]
  },
  {
   "cell_type": "code",
   "execution_count": 74,
   "metadata": {},
   "outputs": [],
   "source": [
    "ziel_episode = 'e300_c_anfangssituation_ankunft_und_erkundigung_der_not'\n",
    "mini_frequenz = 2\n",
    "k_fach = 5\n",
    "layD = 96\n",
    "episode_string_train = 'a300_string_train.csv' \n",
    "episode_binar_train = 'a300_binar_train.csv'\n",
    "episode_string_mess = 'gesamt_string_mess.csv'\n",
    "episode_binar_mess = 'gesamt_binar_mess.csv'"
   ]
  },
  {
   "cell_type": "markdown",
   "metadata": {},
   "source": [
    "Aufbereitung der Trainingsdaten\n",
    "Rohdaten laden und und den Episodenbestand betrachten"
   ]
  },
  {
   "cell_type": "code",
   "execution_count": 75,
   "metadata": {},
   "outputs": [],
   "source": [
    "fin = open(episode_string_train,'r', encoding='utf-8') \n",
    "fout = open(episode_binar_train, \"wt\", encoding='utf-8')\n",
    "for efz in fin:\n",
    "    fout.write(efz.replace(\"'\",\"\"))  \n",
    "fin.close()\n",
    "fout.close()"
   ]
  },
  {
   "cell_type": "code",
   "execution_count": 76,
   "metadata": {},
   "outputs": [
    {
     "name": "stdout",
     "output_type": "stream",
     "text": [
      "Counter({'e300_e_vorfeld_des_kampfes_bis_zum_sieg': 41, 'e300_c_anfangssituation_ankunft_und_erkundigung_der_not': 36, 'e300_o_auftritt_des_helden_vor_dem_koenig_bis_zum_ende_der_geschichte': 34, 'e300_g_nach_dem_sieg_bis_zur_trennung_des_befreiers_und_der_befreiten': 30, 'e554_a_': 28, 'e300_k_misshandlung_des_falschen_helden_bis_zur_hochzeitstag': 28, 'e300_m_rueckkehr_des_helden_ _von_der_erkundung_ueber_die_hochzeit_bis_zum_wiedergewinn_der_aufmerksamkeit': 19, 'e303_g_erstes_treffen_mit_der_hexen': 16, 'e303_c_eingangssituation_bis_zur_trennung': 16, 'e303_i_vom_erkundigung_der_not_bis_zum_aufbruch_des_helden_zur_hexe': 15, 'e303_k_vom_afbruch_zur_hexe_bis_zur_ihren_ueberweltigung': 15, 'eundf_a_': 13, 'e315_a_': 12, 'ecom_a_': 11, 'e301_a_': 7, 'e300_i_rueckkehr_der_koenigstochter_und_die_suche_nach_dem_held retter': 7, 'e550_a_': 7, 'e562_a_': 6, 'e303_m_eifersucht': 5, 'e328_a_': 4, 'e303_q_rueckkehr_und_finale': 4, 'e567_a_': 3, 'e516_a_': 2, 'e513a_a_': 2, 'e302_a_': 2, 'eamom_a_': 1, 'e314_a_': 1, 'e850_a_': 1, 'e303_o_erloesung_der_hexe': 1, 'e590_a_': 1})\n"
     ]
    }
   ],
   "source": [
    "df = pd.read_csv(episode_binar_train, encoding='utf-8')\n",
    "indexliste=Counter(df.index_string)\n",
    "print(indexliste, sep='\\n')"
   ]
  },
  {
   "cell_type": "markdown",
   "metadata": {},
   "source": [
    "Die gesuchte Episode etikettieren und den Rohdaten in Trainingsdaten umwandeln"
   ]
  },
  {
   "cell_type": "code",
   "execution_count": 77,
   "metadata": {},
   "outputs": [],
   "source": [
    "for i,e in enumerate(df.index_string):\n",
    "    if e == ziel_episode:\n",
    "        df.index_binar[i]='1'\n",
    "    else: \n",
    "        df.index_binar[i]='0'"
   ]
  },
  {
   "cell_type": "code",
   "execution_count": 78,
   "metadata": {},
   "outputs": [],
   "source": [
    "df.to_csv(episode_binar_train, encoding='utf-8', index=False)"
   ]
  },
  {
   "cell_type": "markdown",
   "metadata": {},
   "source": [
    "Trainngsdaten aufbereiten\n",
    "4.1. Das Vorkommen jedes Wortes zählen"
   ]
  },
  {
   "cell_type": "code",
   "execution_count": 79,
   "metadata": {},
   "outputs": [
    {
     "name": "stderr",
     "output_type": "stream",
     "text": [
      "[nltk_data] Downloading package stopwords to\n",
      "[nltk_data]     C:\\Users\\elguj\\AppData\\Roaming\\nltk_data...\n",
      "[nltk_data]   Unzipping corpora\\stopwords.zip.\n",
      "Vorkommen der Wörter zählen\n",
      "0% [##############################] 100% | ETA: 00:00:00\n",
      "Total time elapsed: 00:00:00\n"
     ]
    }
   ],
   "source": [
    "nltk.download('stopwords')\n",
    "w = stopwords.words('german')\n",
    "counts = Counter()\n",
    "pbar = pyprind.ProgBar(len(df['episode']),\n",
    "                       title='Vorkommen der Wörter zählen')\n",
    "for i, episode in enumerate(df['episode']): \n",
    "        pbar.update()\n",
    "        counts.update(episode.split())\n",
    "new_counts = {}\n",
    "for k, v in counts.items():\n",
    "    if v > mini_frequenz and k not in w:\n",
    "        new_counts[k] = v\n",
    "counts = Counter(new_counts)"
   ]
  },
  {
   "cell_type": "markdown",
   "metadata": {},
   "source": [
    "Zuordnung erzeugen und den verschiedenen Wörtern eindeutige Zahlen zuordnen"
   ]
  },
  {
   "cell_type": "code",
   "execution_count": 80,
   "metadata": {},
   "outputs": [
    {
     "name": "stderr",
     "output_type": "stream",
     "text": [
      "Episoden Zahlen zuordnen\n",
      "0% [##############################] 100% | ETA: 00:00:00\n",
      "Total time elapsed: 00:00:00\n"
     ]
    }
   ],
   "source": [
    "word_counts = sorted(counts, key=counts.get, reverse=True)\n",
    "word_to_int = {word: ii for ii, word in enumerate(word_counts,0)}\n",
    "mapped_episoden = []\n",
    "pbar = pyprind.ProgBar(len(df['episode']),\n",
    "                       title='Episoden Zahlen zuordnen')\n",
    "for episode in df['episode']:\n",
    "    mapped_episoden.append([word_to_int.get(word) for word in episode.split()])\n",
    "    pbar.update()\n",
    "mapped_episoden = [list(filter(None, el)) for el in mapped_episoden]"
   ]
  },
  {
   "cell_type": "markdown",
   "metadata": {},
   "source": [
    "Traiingsndaten und Trainingslabels bestimmen"
   ]
  },
  {
   "cell_type": "code",
   "execution_count": 81,
   "metadata": {},
   "outputs": [
    {
     "name": "stdout",
     "output_type": "stream",
     "text": [
      "sequences = 2593   train_data = 368\n"
     ]
    }
   ],
   "source": [
    "train_data = mapped_episoden[0:] \n",
    "train_labels = df.loc[0:, 'index_binar'].values\n",
    "print(\"sequences =\",max([max(sequences) for sequences in mapped_episoden if len(sequences)>0]),\" \",\n",
    "      \"train_data =\", len (train_data))"
   ]
  },
  {
   "cell_type": "markdown",
   "metadata": {},
   "source": [
    "Trainingsdaten und -Labels vektorisieren"
   ]
  },
  {
   "cell_type": "code",
   "execution_count": 82,
   "metadata": {},
   "outputs": [],
   "source": [
    "sequences_laenge=max([max(sequences) for sequences in mapped_episoden if len(sequences)>0])\n",
    "def vectorize_sequences(sequences, dimension=sequences_laenge+1): \n",
    "    results = np.zeros((len(sequences), dimension))\n",
    "    for i, sequence in enumerate(sequences):\n",
    "        results[i, sequence] = 1.\n",
    "    return results\n",
    "x_train = vectorize_sequences(train_data) \n",
    "y_train = np.asarray(train_labels).astype('float32')"
   ]
  },
  {
   "cell_type": "code",
   "execution_count": 83,
   "metadata": {},
   "outputs": [],
   "source": [
    "#for i, element in enumerate(x_train[63]):\n",
    "    #print(i,'-', element)"
   ]
  },
  {
   "cell_type": "markdown",
   "metadata": {},
   "source": [
    "Neuronales Netz erzeugen"
   ]
  },
  {
   "cell_type": "code",
   "execution_count": 84,
   "metadata": {},
   "outputs": [],
   "source": [
    "def build_model():\n",
    "    model = models.Sequential()\n",
    "    model.add(layers.Dense(layD, activation='tanh',\n",
    "                           input_shape=(sequences_laenge+1,)))\n",
    "    #model.add(layers.Dense(layD, activation='relu'))\n",
    "    model.add(layers.Dense(layD, activation='tanh')) \n",
    "    model.add(layers.Dense((1), activation='sigmoid'))\n",
    "    model.compile(optimizer='rmsprop', loss='mse', metrics=['binary_accuracy'])\n",
    "    return model"
   ]
  },
  {
   "cell_type": "markdown",
   "metadata": {},
   "source": [
    "Neuronales Netz trainieren"
   ]
  },
  {
   "cell_type": "code",
   "execution_count": 85,
   "metadata": {},
   "outputs": [
    {
     "name": "stdout",
     "output_type": "stream",
     "text": [
      "processing fold # 0\n",
      "processing fold # 1\n",
      "processing fold # 2\n",
      "processing fold # 3\n",
      "processing fold # 4\n"
     ]
    }
   ],
   "source": [
    "k = k_fach\n",
    "num_val_samples = len(x_train) // k \n",
    "num_epochs = 4\n",
    "all_scores = []\n",
    "for i in range(k):\n",
    "    print('processing fold #', i)\n",
    "    # Prepare the validation data: data from partition # k\n",
    "    val_data = x_train[i * num_val_samples: (i + 1) * num_val_samples]\n",
    "    val_targets = y_train[i * num_val_samples: (i + 1) * num_val_samples]\n",
    "\n",
    "    # Prepare the training data: data from all other partitions\n",
    "    partial_x_train = np.concatenate(\n",
    "        [x_train[:i * num_val_samples],\n",
    "         x_train[(i + 1) * num_val_samples:]],\n",
    "        axis=0)\n",
    "    partial_y_train = np.concatenate(\n",
    "        [y_train[:i * num_val_samples],\n",
    "         y_train[(i + 1) * num_val_samples:]],\n",
    "        axis=0)\n",
    "\n",
    "    # Build the Keras model (already compiled)\n",
    "    model = build_model()\n",
    "    # Train the model (in silent mode, verbose=0)\n",
    "    model.fit(partial_x_train, partial_y_train,\n",
    "              epochs=num_epochs, batch_size = 8, verbose=0)\n",
    "    # Evaluate the model on the validation data\n",
    "    val_mse, val_binary_accuracy = model.evaluate(val_data, val_targets, verbose=0)\n",
    "    all_scores.append(val_binary_accuracy)"
   ]
  },
  {
   "cell_type": "code",
   "execution_count": 86,
   "metadata": {},
   "outputs": [
    {
     "data": {
      "text/plain": [
       "[0.958904109589041,\n",
       " 0.958904109589041,\n",
       " 0.9726027397260274,\n",
       " 0.9863013698630136,\n",
       " 0.9041095890410958]"
      ]
     },
     "execution_count": 86,
     "metadata": {},
     "output_type": "execute_result"
    }
   ],
   "source": [
    "all_scores"
   ]
  },
  {
   "cell_type": "code",
   "execution_count": 87,
   "metadata": {},
   "outputs": [
    {
     "data": {
      "text/plain": [
       "0.9561643835616438"
      ]
     },
     "execution_count": 87,
     "metadata": {},
     "output_type": "execute_result"
    }
   ],
   "source": [
    "np.mean(all_scores)"
   ]
  },
  {
   "cell_type": "code",
   "execution_count": 88,
   "metadata": {},
   "outputs": [
    {
     "name": "stdout",
     "output_type": "stream",
     "text": [
      "processing fold # 0\n",
      "processing fold # 1\n",
      "processing fold # 2\n",
      "processing fold # 3\n",
      "processing fold # 4\n"
     ]
    }
   ],
   "source": [
    "num_epochs = 8\n",
    "all_binary_accuracy_histories = []\n",
    "for i in range(k):\n",
    "    print('processing fold #', i)\n",
    "    # Prepare the validation data: data from partition # k\n",
    "    val_data = x_train[i * num_val_samples: (i + 1) * num_val_samples]\n",
    "    val_targets = y_train[i * num_val_samples: (i + 1) * num_val_samples]\n",
    "\n",
    "    # Prepare the training data: data from all other partitions\n",
    "    partial_x_train = np.concatenate(\n",
    "        [x_train[:i * num_val_samples],\n",
    "         x_train[(i + 1) * num_val_samples:]],\n",
    "        axis=0)\n",
    "    partial_y_train = np.concatenate(\n",
    "        [y_train[:i * num_val_samples],\n",
    "         y_train[(i + 1) * num_val_samples:]],\n",
    "        axis=0)\n",
    "\n",
    "    # Build the Keras model (already compiled)\n",
    "    model = build_model()\n",
    "    # Train the model (in silent mode, verbose=0)\n",
    "    history = model.fit(partial_x_train, partial_y_train,\n",
    "                        validation_data=(val_data, val_targets),\n",
    "                        epochs=num_epochs, batch_size = 8, verbose=0)\n",
    "    binary_accuracy_history = history.history['val_binary_accuracy']\n",
    "    all_binary_accuracy_histories.append(binary_accuracy_history)"
   ]
  },
  {
   "cell_type": "code",
   "execution_count": 89,
   "metadata": {},
   "outputs": [
    {
     "name": "stdout",
     "output_type": "stream",
     "text": [
      "0 - 0.9342465753424657\n",
      "1 - 0.9616438356164384\n",
      "2 - 0.958904109589041\n",
      "3 - 0.9561643835616438\n",
      "4 - 0.9506849315068493\n",
      "5 - 0.9479452054794519\n",
      "6 - 0.9506849315068493\n",
      "7 - 0.9506849315068493\n"
     ]
    }
   ],
   "source": [
    "average_binary_accuracy_history = [\n",
    "    np.mean([x[i] for x in all_binary_accuracy_histories]) for i in range(num_epochs)]\n",
    "for i, element in enumerate(average_binary_accuracy_history):\n",
    "    print(i,'-', element)"
   ]
  },
  {
   "cell_type": "code",
   "execution_count": 90,
   "metadata": {},
   "outputs": [
    {
     "data": {
      "image/png": "[encoded data removed]",
      "text/plain": [
       "<Figure size 432x288 with 1 Axes>"
      ]
     },
     "metadata": {
      "needs_background": "light"
     },
     "output_type": "display_data"
    }
   ],
   "source": [
    "plt.plot(range(1, len(average_binary_accuracy_history) + 1), average_binary_accuracy_history)\n",
    "plt.xlabel('Epochs')\n",
    "plt.ylabel('Validation acc')\n",
    "plt.show()"
   ]
  },
  {
   "cell_type": "code",
   "execution_count": 91,
   "metadata": {},
   "outputs": [
    {
     "data": {
      "image/png": "[encoded data removed]",
      "text/plain": [
       "<Figure size 432x288 with 1 Axes>"
      ]
     },
     "metadata": {
      "needs_background": "light"
     },
     "output_type": "display_data"
    }
   ],
   "source": [
    "def smooth_curve(points, factor=0.9):\n",
    "  smoothed_points = []\n",
    "  for point in points:\n",
    "    if smoothed_points:\n",
    "      previous = smoothed_points[-1]\n",
    "      smoothed_points.append(previous * factor + point * (1 - factor))\n",
    "    else:\n",
    "      smoothed_points.append(point)\n",
    "  return smoothed_points\n",
    "\n",
    "smooth_binary_accuracy_history = smooth_curve(average_binary_accuracy_history[2:])\n",
    "\n",
    "plt.plot(range(1, len(smooth_binary_accuracy_history) + 1), smooth_binary_accuracy_history)\n",
    "plt.xlabel('Epochs')\n",
    "plt.ylabel('Validation acc')\n",
    "plt.show()"
   ]
  },
  {
   "cell_type": "markdown",
   "metadata": {},
   "source": [
    "### Messdaten erstellen"
   ]
  },
  {
   "cell_type": "markdown",
   "metadata": {},
   "source": [
    "#### !!! Ein Typ bestimmen !!!"
   ]
  },
  {
   "cell_type": "code",
   "execution_count": 92,
   "metadata": {},
   "outputs": [],
   "source": [
    "typNum =''\n",
    "episode_string_train = \"gesamt_string_mess.csv\"\n",
    "episode_roh_train = \"gesamt_roh_mess.csv\""
   ]
  },
  {
   "cell_type": "markdown",
   "metadata": {},
   "source": [
    "Alte Datei mit gleichem Namen löschen"
   ]
  },
  {
   "cell_type": "code",
   "execution_count": 93,
   "metadata": {},
   "outputs": [],
   "source": [
    "import os\n",
    "if os.path.exists(episode_string_train):\n",
    "    os.remove(episode_string_train)\n",
    "else:\n",
    "    print(\"Diese Datei existiert nicht\")"
   ]
  },
  {
   "cell_type": "markdown",
   "metadata": {},
   "source": [
    "Nach den entsprechenden Textdateien im Ordnet suchen und in einer rohe Datei zusammentragen"
   ]
  },
  {
   "cell_type": "code",
   "execution_count": 94,
   "metadata": {},
   "outputs": [],
   "source": [
    "import glob\n",
    "\n",
    "def word_to_lex(word):\n",
    "    ret=(word) \n",
    "    return ret\n",
    "\n",
    "def write_back(words):\n",
    "    with open(episode_roh_train,\"a\", encoding='utf-8') as output:\n",
    "        for word in words:\n",
    "            #print(word)\n",
    "            as_lex = word_to_lex(word[0])\n",
    "            full_word = '\"' + as_lex + '\"'\n",
    "            for sub_word in word[1:]:\n",
    "                full_word += \" , \"  '\"' + sub_word + '\"'\n",
    "            full_word +=\"\\n\"\n",
    "            output.write(full_word)\n",
    "\n",
    "def clean(line):\n",
    "    line = line.replace(\"\\n\",\" \").strip().lower()\n",
    "    line = line.replace(\"ä\",\"ae\").replace(\"ü\",\"ue\").replace(\"ö\",\"oe\").replace(\"ß\",\"ss\").replace(\",\",\"\").replace(\"«\",\"\")\n",
    "    line = line.replace(\"»\",\"\").replace(\".\",\"\").replace(\":\",\"\").replace(\";\",\"\").replace('\"',\"\")\n",
    "    line = line.replace(\"?\",\"\").replace(\"!\",\"\").replace(\"á\",\"a\").replace(\",\",\"\").replace(\"\\t\",\" \").replace(\"'\",\"\")\n",
    "    line = line.replace(\"‹\",\"\").replace(\"›\",\"\").replace(\"-\",\" \").replace(\"'('\",\"\").replace(\"')'\",\"\").replace('>','')\n",
    "    line = line.replace(\"    \",\" \").replace(\"   \",\" \").replace(\"  \",\" \").replace('–','').replace('—','').replace('<','')\n",
    "    line = line.replace(\"Â\", \"A\").replace(\"ø\", \"oe\").replace('“','').replace('„','').replace('(','').replace(')','')\n",
    "    line = line.replace(\"‚\", \"\").replace(']','').replace('[','')\n",
    "    if line == \"\": \n",
    "        return\n",
    "    \n",
    "    line=line.split(\"|\")\n",
    "    line[0]=line[0].split(\"|\")[0]\n",
    "    flex=[]\n",
    "    try:\n",
    "        flex=line[1].split(\"\")\n",
    "    except:\n",
    "        pass\n",
    "    value=str(line)\n",
    "    line=str(line)   \n",
    "    flex.append(line)\n",
    "    ret=[]\n",
    "    for i in flex:\n",
    "        ret.append((i,value[0]))\n",
    "    return ret\n",
    "\n",
    "with open(episode_roh_train, \"w\", encoding='utf-8') as output:\n",
    "    output.write (\"quelle,episode,index_string,index_binar\\n\")\n",
    "pairs = []\n",
    "\n",
    "for file in glob.glob(\"Messdaten/*.txt\"):\n",
    "    if typNum in file:\n",
    "        with open(file, 'r', encoding='utf-8') as episode:\n",
    "            for line in episode.readlines():\n",
    "                clean_words = clean(line)\n",
    "                pairs = pairs + clean_words\n",
    "write_back(pairs)"
   ]
  },
  {
   "cell_type": "markdown",
   "metadata": {},
   "source": [
    "Rohdatei endgültig überarbeiten und in eine CSV Datei speichern"
   ]
  },
  {
   "cell_type": "code",
   "execution_count": 95,
   "metadata": {},
   "outputs": [],
   "source": [
    "fin = open(episode_roh_train,'r', encoding ='utf-8')\n",
    "fout = open(episode_string_train, \"wt\", encoding ='utf-8')\n",
    "for kfz in fin:\n",
    "    fout.write(kfz.replace(', \"[\"',\"\").replace('\"[', \"\").replace(']\"',\"\").replace(\"', '\", \"','\").replace(\" '\", \"'\"))                      \n",
    "fin.close()\n",
    "fout.close()"
   ]
  },
  {
   "cell_type": "markdown",
   "metadata": {},
   "source": [
    "Liste von einmaligen Episoden erstellen in der CSV Datei"
   ]
  },
  {
   "cell_type": "code",
   "execution_count": 96,
   "metadata": {},
   "outputs": [
    {
     "name": "stdout",
     "output_type": "stream",
     "text": [
      "'0'\n"
     ]
    }
   ],
   "source": [
    "import pandas as pd\n",
    "df = pd.read_csv(episode_string_train, encoding='utf-8')\n",
    "from collections import Counter\n",
    "indexliste=Counter(df.index_string)\n",
    "print(*indexliste, sep='\\n')"
   ]
  },
  {
   "cell_type": "markdown",
   "metadata": {},
   "source": [
    "Messdaten laden und aufbereiten"
   ]
  },
  {
   "cell_type": "code",
   "execution_count": 97,
   "metadata": {},
   "outputs": [],
   "source": [
    "fin = open(episode_string_mess,'r', encoding='utf-8') \n",
    "fout = open(episode_binar_mess, \"wt\", encoding='utf-8')\n",
    "for efz in fin:\n",
    "    fout.write(efz.replace(\"'\",\"\"))\n",
    "                                 \n",
    "fin.close()\n",
    "fout.close()"
   ]
  },
  {
   "cell_type": "code",
   "execution_count": 98,
   "metadata": {},
   "outputs": [
    {
     "name": "stdout",
     "output_type": "stream",
     "text": [
      "Counter({0: 147})\n"
     ]
    }
   ],
   "source": [
    "df = pd.read_csv(episode_binar_mess, encoding='utf-8')\n",
    "indexliste=Counter(df.index_string)\n",
    "print(indexliste, sep='\\n')"
   ]
  },
  {
   "cell_type": "code",
   "execution_count": 99,
   "metadata": {},
   "outputs": [
    {
     "name": "stderr",
     "output_type": "stream",
     "text": [
      "C:\\Users\\elguj\\Anaconda3\\lib\\site-packages\\ipykernel_launcher.py:5: SettingWithCopyWarning: \n",
      "A value is trying to be set on a copy of a slice from a DataFrame\n",
      "\n",
      "See the caveats in the documentation: http://pandas.pydata.org/pandas-docs/stable/user_guide/indexing.html#returning-a-view-versus-a-copy\n",
      "  \"\"\"\n"
     ]
    }
   ],
   "source": [
    "for i,e in enumerate(df.index_string):\n",
    "    if e:\n",
    "        df.index_binar[i]='0'\n",
    "    else: \n",
    "        df.index_binar[i]='0'"
   ]
  },
  {
   "cell_type": "code",
   "execution_count": 100,
   "metadata": {},
   "outputs": [],
   "source": [
    "df.to_csv(episode_binar_mess, encoding='utf-8', index=False)"
   ]
  },
  {
   "cell_type": "markdown",
   "metadata": {},
   "source": [
    "Vorhandene Zuordnung laden und den verschiedenen Wörtern eindeutige Zahlen zuordnen"
   ]
  },
  {
   "cell_type": "code",
   "execution_count": 101,
   "metadata": {},
   "outputs": [
    {
     "name": "stderr",
     "output_type": "stream",
     "text": [
      "Episoden Zahlen zuordnen\n",
      "0% [##############################] 100% | ETA: 00:00:00\n",
      "Total time elapsed: 00:00:00\n"
     ]
    }
   ],
   "source": [
    "mapped_episoden_2 = []\n",
    "pbar = pyprind.ProgBar(len(df['episode']),\n",
    "                       title='Episoden Zahlen zuordnen')\n",
    "for episode in df['episode']:\n",
    "    mapped_episoden_2.append([word_to_int.get(word) for word in episode.split()])\n",
    "    pbar.update()\n",
    "\n",
    "mapped_episoden_2 = [list(filter(None, el)) for el in mapped_episoden_2]\n"
   ]
  },
  {
   "cell_type": "markdown",
   "metadata": {},
   "source": [
    "raiingsndaten und Trainingslabels bestimmen"
   ]
  },
  {
   "cell_type": "code",
   "execution_count": 102,
   "metadata": {},
   "outputs": [
    {
     "name": "stdout",
     "output_type": "stream",
     "text": [
      "sequences = 2593   mess_data = 147\n"
     ]
    }
   ],
   "source": [
    "mess_data = mapped_episoden_2[0:] \n",
    "mess_labels = df.loc[0:, 'index_binar'].values\n",
    "print(\"sequences =\",max([max(sequences) for sequences in mapped_episoden if len(sequences)>0]),\" \", \n",
    "      \"mess_data =\", len (mess_data))"
   ]
  },
  {
   "cell_type": "markdown",
   "metadata": {},
   "source": [
    "Messdaten vektorisieren"
   ]
  },
  {
   "cell_type": "code",
   "execution_count": 103,
   "metadata": {},
   "outputs": [],
   "source": [
    "def vectorize_sequences(sequences, dimension=sequences_laenge+1): \n",
    "    results = np.zeros((len(sequences), dimension))\n",
    "    for i, sequence in enumerate(sequences):\n",
    "        results[i, sequence] = 1.\n",
    "    return results\n",
    "x_mess = vectorize_sequences(mess_data)\n",
    "y_mess = np.asarray(mess_labels).astype('float32')"
   ]
  },
  {
   "cell_type": "markdown",
   "metadata": {},
   "source": [
    "Messdaten Analysieren"
   ]
  },
  {
   "cell_type": "code",
   "execution_count": 104,
   "metadata": {},
   "outputs": [
    {
     "name": "stdout",
     "output_type": "stream",
     "text": [
      "Epoch 1/2\n",
      "368/368 [==============================] - 3s 7ms/step - loss: 0.0801 - binary_accuracy: 0.9158\n",
      "Epoch 2/2\n",
      "368/368 [==============================] - 2s 5ms/step - loss: 0.0210 - binary_accuracy: 0.9755\n",
      "147/147 [==============================] - 0s 2ms/step\n"
     ]
    }
   ],
   "source": [
    "# Get a fresh, compiled model.\n",
    "model = build_model()\n",
    "# Train it on the entirety of the data.\n",
    "model.fit(x_train, y_train,\n",
    "          epochs = 2, batch_size = 1)\n",
    "mess_mse_score, mess_binary_accuracy_score = model.evaluate(x_mess, y_mess)"
   ]
  },
  {
   "cell_type": "code",
   "execution_count": 105,
   "metadata": {},
   "outputs": [
    {
     "data": {
      "text/plain": [
       "(0.9659863945578231, 0.037964944155578606)"
      ]
     },
     "execution_count": 105,
     "metadata": {},
     "output_type": "execute_result"
    }
   ],
   "source": [
    "mess_binary_accuracy_score, mess_mse_score"
   ]
  },
  {
   "cell_type": "markdown",
   "metadata": {},
   "source": [
    "Voraussagen"
   ]
  },
  {
   "cell_type": "code",
   "execution_count": 106,
   "metadata": {},
   "outputs": [],
   "source": [
    "predictions=model.predict(x_mess)\n",
    "#for i in range(len(predictions)):\n",
    "    #print(model.predict(x_mess))"
   ]
  },
  {
   "cell_type": "code",
   "execution_count": 107,
   "metadata": {},
   "outputs": [
    {
     "name": "stdout",
     "output_type": "stream",
     "text": [
      "Maximaler Wert: 0.999997\n"
     ]
    }
   ],
   "source": [
    "print('Maximaler Wert:', max(max(model.predict(x_mess))))"
   ]
  },
  {
   "cell_type": "markdown",
   "metadata": {},
   "source": [
    "Voraussgen in den aussortierten Datensätzen"
   ]
  },
  {
   "cell_type": "code",
   "execution_count": 109,
   "metadata": {},
   "outputs": [
    {
     "name": "stdout",
     "output_type": "stream",
     "text": [
      "0 - [0.999997] - 0_e300c - kneten frass wasser gruetze dannen kurz frug abendessen demjenigen naehe retten darum dunkelwelt geselle toeten wirtshaus halten versuchen rede ass gefallen betruebt mensch seid einzige seien maedchen hurtigundgeschwind jedesmal gesellen verhaengt boeser krone brief drach geraubt nacheinander ueberzogen uhr fragt finde kind erste witwe fahnen geben bedeuten wirth meermanne geopfert fresse ausgeliefert muessen gleichen herberge gast uebrigen dach frassen muessten antwortete behangen bedingung haeuser toechtern unsres grossmutters jungfrau schoene geb reich damals drache alljaehrlich loos tochter wirt verschlang haeuschen schwarz koenigreichs grade flor naechste erloesen ach sei uebergeben schuster menschen befreien trauer fragte versprochen schwarzem traurig stadt warum reihe - 0 \n",
      "\n",
      "34 - [0.98617995] - mess_46 -  ach mein kind wir haben hier kein wasser in dieser gegend hier lebt eine lamia die das wasser unter verschluss haelt wir bekommen nichts wenn sie nicht jeden tag ein maedchen zu fressen bekommt und morgen wird sie die koenigstochter rodanthi fressen - 0 \n",
      "\n",
      "37 - [0.81863654] - mess_46 - da brach er auf und ging an den ort an dem man die koenigstochter behuetete und wo die lamia sie fressen wuerde - 0 \n",
      "\n",
      "39 - [0.6128968] - mess_46 - kurz darauf hoerte er ein droehnen und sah die lamia kommen - 0 \n",
      "\n",
      "66 - [0.69648236] - mess_47 - nun sey das loos auf die koenigstochter gefallen283 dass sie des uebermorgigen tages den drachen geopfert werden solle der koenig habe zwar verkuenden lassen dass wer diese ungeheuer erlegen wuerde die koenigstochter zur ehe und spaeter das koenigreich als erbe haben sollte aber niemand finde sich der ein so gefaehrliches unternehmen wagen wollte - 0 \n",
      "\n"
     ]
    }
   ],
   "source": [
    "mod_pred = model.predict(x_mess)\n",
    "cutoff_value = 0.6\n",
    "for i in range(len(y_mess)):\n",
    "    if mod_pred[i,0]>cutoff_value:\n",
    "        if ((i==0)|(mod_pred[i-1,0]>cutoff_value))|(mod_pred[i+0]>cutoff_value):\n",
    "            #if df.index_string ==0:\n",
    "                print (i+0,\"-\",\n",
    "                  #i+2,\"-\", \n",
    "                  #y_test[i],\"-\", \n",
    "                  mod_pred[i],\"-\",\n",
    "                  df.quelle[i+0],\"-\", \n",
    "                  df.episode[i+0],\"-\",\n",
    "                  df.index_string[i+0],'\\n')"
   ]
  },
  {
   "cell_type": "code",
   "execution_count": 110,
   "metadata": {},
   "outputs": [
    {
     "name": "stdout",
     "output_type": "stream",
     "text": [
      "mess_47|Es war einmal ein Schneider, klein von Gestalt, der auf der Welt in der Fremde herumwanderte. Wie er eines Tages so dahin ging, kam er in einen Wald und in diesem zu einer Quelle, neben welcher er ein rothseidenes Band fand, auf dem die Worte standen: »Sieben auf einen Schlag, wer macht es mir nach.« Der Schneider hob es auf und band es sich um den Leib.|0|0\n",
      "mess_47|[280] Da er schon lange weiter gewandert war, kam ihm plötzlich ein Riese entgegen, der ihn hart anfuhr und ihm fürchterlich drohte. Der Schneider aber gedachte seines Bandes und der Worte, die darauf standen, und machte sich nicht viel aus den Drohungen des Riesen. So zankend und streitend kamen sie zu einem Kirschenbaum, der voll reifer Kirschen hing. Da sagte der Riese höhnisch: »Halt, ich will dir die Aeste des Baumes herabbiegen, damit du von den Kirschen essen kannst. Laß es dir noch schmecken, denn wenn du gegessen hast, will ich dich umbringen.«|0|0\n",
      "mess_47|Der Riese bog also den Baum hernieder, und der Schneider hielt sich fest an dem Gipfel desselben, um bequem die üppigen Kirschen verspeisen zu können. Aber zu gleicher Zeit ließ der Riese den Baum wieder los und der gute Schneider ward hoch in die Luft hinaufgeschleudert. Er hatte es dem Bande zu danken, daß er unversehrt auf der anderen Seite wieder zur Erde kam. Da bekam der Schneider Muth, der Riese aber gerieth in Erstaunen und ließ den kleinen Mann von nun an neben sich herziehen.|0|0\n",
      "mess_47|Wie der Schneider nun so hinter dem Riesen einherging, lief ihm ein Spatz unter den Füssen herum; er bückte sich, ergriff den Vogel und trug ihn, ohne daß der Riese es sah, fortan in der Hand.|0|0\n",
      "mess_47|Auf diese Weise waren sie eine bedeutende Strecke gegangen, da hob der Riese einen Stein auf und sagte zu seinem Gefährten: »Nun wollen wir in die Wette werfen, und sehen, wer weiter wirft.« Und er warf [281] und der Stein flog so weit, daß ihn die Augen des Schneiders gerade noch ersehen konnten.|0|0\n",
      "mess_47|Da bückte sich auch der Schneider, als wolle er einen Stein aufheben, ließ aber den Vogel fliegen: dieser flog so weit, daß der Riese gar nicht bemerken konnte, wo der Stein zur Erde fiel.|0|0\n",
      "mess_47|Nun bekam der Riese schon eine bessere Meynung von seinem kleinen Reisegefährten, und bot ihm an, ihn in seine Höhle zu nehmen, wo ihrer zwölf beysammen wären: er selber aber sey König.|0|0\n",
      "mess_47|Wieder gingen sie einige Zeit des Weges, da lag ein Käslaibchen auf der Strasse, welches der Schneider gleichfalls aufhob und in der Hand behielt. Bald darauf hob der Riese einen Stein auf und drückte ihn in seiner gewaltigen Faust so fest, daß Wasser heraus trat. Der Schneider bückte sich nun auch, that, als nähme er einen Stein von der Erde auf und drückte dann das Käselaibchen, das er in der Hand trug, so fest, daß Milch herausdrang. Neckisch frug er den Riesen, ob er es auch so könne. Dieser war nun voll Erstaunen über die Kraft des Zwerges, wie er meynte.|0|0\n",
      "mess_47|So kamen sie in die Höhle, und der Riese erzählte seinen Genossen, was der Erdwurm bisher alles gethan habe. Sie hiessen ihn daher willkommen und behielten ihn bey sich, ohne ihm etwas Leides zu thun. Sie gingen oft auf Raub aus; manchmal nahmen sie ihn auf ihre Streifereyen mit, meistens aber mußte er zurückbleiben, wo sie ihn dann einsperrten. Alle Abende aber mit dem Schlage sechs Uhr verfielen sie in Schlaf, aus [282] welchem sie nicht zu wecken waren, bis sie nicht volle zwölf Stunden geschlafen hatten. So hatte er zwar zu leben, aber auch viele Langweile. Als daher einmal die Riesen wieder ausgezogen waren, besah er sich die Höhle recht genau, ob denn kein Entkommen möglich wäre. Da entdeckte er eine Thüre, welche in einen langen dunklen Gang führte. Er ging hinein und mehrere Stunden in grosser Finsterniß fort, bis endlich Helle ihn umfloß und er sich wieder oben auf freyer Erde sah.|0|0\n",
      "mess_47|Vor seinen Augen lag eine Stadt; er ging also auf sie zu. Unterdessen waren die Riesen nach Hause gekommen; sie fanden den kleinen Mann zwar nicht, bekümmerten sich aber auch nicht viel um sein Verschwinden: denn sie dachten, der Erdwurm werde sich irgendwo verkrochen haben, und schon wieder zum Vorschein kommen, wenn ihn hungere.|0|0\n",
      "mess_47|Dieser aber war in die Stadt getreten, wo er Alles in Bestürzung und Trauer fand. Alle Fenster waren mit schwarzen Tüchern verhangen. Er erkundigte sich daher, was die Ursache solcher Trauer wäre, und erfuhr, daß Riesen in der Nähe wohnten, welche die Stadt immer in Angst und Schrecken hielten; und daß sieben Drachen in einer nahen Höhle hausten, welchen sie jeden Tag einen Menschen opfern müßten, – und endlich sey eine Schlange nicht weit auf einem Baume, welche alle Menschen verzehre, die unglücklicher Weise in ihr Bereich kämen. Niemand aber wäre zu finden, welcher die Stadt von diesen Ungeheuern befreyen wollte.|0|0\n",
      "mess_47|Nun sey das Loos auf die Königstochter gefallen,[283] daß sie des übermorgigen Tages den Drachen geopfert werden solle. Der König habe zwar verkünden lassen, daß, wer diese Ungeheuer erlegen würde, die Königstochter zur Ehe und später das Königreich als Erbe haben sollte; aber Niemand finde sich, der ein so gefährliches Unternehmen wagen wollte.|0|0\n",
      "mess_47|Da meynte der Schneider, er wäre nicht abgeneigt, das Wagestück zu unternehmen: man möge ihn nur zum Könige führen. So wurde er denn zum Könige geführt und dieser versprach ihm auf's neue seine Tochter und sein Reich als Lohn, wenn ihm die That gelingen würde.|0|0\n",
      "mess_47|Der Schneider ließ sich nun ein Schwert geben, welches er leicht handhaben konnte, und legte den Harnisch zur Seite, womit man ihn bekleiden wollte. Denn das Zeug war sehr schwer und hinderte ihn am Gehen. Darauf ging er der Riesenhöhle zu, welche er eben verlassen hatte. Da er auch die Zeit wußte, wann die Riesen in ihren festen Schlaf versenkt wären, so betrat er nach sechs Uhr die Höhle und schlug ihnen Allen den Kopf ab: die Augen und die Zungen schnitt er ihnen heraus und brachte sie als Wahrzeichen dem Könige, welcher grosse Freude darüber hatte.|0|0\n",
      "mess_47|Des anderen Tages ließ der Schneider ein grosses Faß machen, aussen voll eiserner Spitzen, nahm sein Schwert, und kroch in das Faß. Dieses Faß ließ er dann unter den Baum bringen, welcher der Schlange als Wohnung diente. Wie die Schlange den Geruch von Menschenfleisch in die Nase bekam, stürzte sie vom [284] Baume herab, und zu dem Fasse hin, in welchem der Schneider ein Loch gelassen hatte. Die Schlange bog eben ihren Rachen über diese Oeffnung. Da nahm der Schneider die Gelegenheit wahr und stieß ihr das Schwert bis in den Hals hinein, daß sie sich in Schmerz und Wuth um das Faß in vielen Ringen herumwand, sich aber an jedem eisernen Zacken spießte und bald tod war. Da stieg der Held aus dem Fasse, schlug der Schlange den Kopf ab und brachte ihn dem Könige als Siegeszeichen, welcher heute eine viel grössere Freude hatte als gestern.|0|0\n",
      "mess_47|Nun waren die Drachen noch übrig zu erlegen – wohl die schwerste und gefährlichste Arbeit. Der Schneider ließ sich nun einen eisernen Wagen machen, der bis auf eine kleine Oeffnung ganz verschlossen war. In diesen stieg er am dritten Tage, und ließ sich zur Höhle der Drachen fahren. Kaum war er dort angekommen, so fuhr einer der Drachen heraus, zerfleischte die beyden Rosse vor dem Wagen und stürzte den Wagen um. Da indessen der Kopf des Drachen in die Nähe der Oeffnung gekommen war, so stieß ihm der Schneider sein Schwert bis an das Heft hinein und tödtete so das Unthier. Da sah er auf sein rothes Band, welches er um den Leib hatte, und siehe, die Worte waren verschwunden, statt deren aber stand geschrieben: »Gehe nur in die Höhle hinein, die übrigen sechs Drachen können dir nichts mehr anhaben, weil du den ersten davon erschlagen hast.« Er stieg daher aus dem Wagen und trat in die Höhle und tödtete die sechs Drachen, welche [285] sich wirklich nicht bewegen konnten. Die Köpfe aber brachte er dem Könige, welcher ihm nicht Dank genug zu beweisen wußte und ihm noch an selbigem Abende die Königstochter zur Ehe gab, wobey es gar herrlich und fröhlich herging, weil jeder Einwohner an der Freude über die Rettung aus Noth und Gefahr den innigsten Antheil nahm.|0|0\n",
      "mess_47|Da nun der Schneider Beylager mit der Königstochter hielt und eingeschlafen war, träumte ihm von seinem Handwerk, von Nadel, Scheere, Bügeleisen, und da er laut träumte, hörte die Prinzessin, welche wach war, Alles, und gerieth in grosse Besorgniß, es möge ihr Gatte doch wohl nicht mehr als ein Schneider seyn. Kaum war es Morgen, so ging sie zu dem Könige und klagte diesem ihren Argwohn, und erklärte ihm, nie und nimmer die Schande ertragen zu können, als Königstochter die Frau eines Schneiders zu seyn.|0|0\n",
      "mess_47|Der König aber tröstete sie und sagte, er wolle ihn zum Feldherrn machen und gegen die Feinde schicken und ihn an die äusserste Spitze stellen, damit er gleich im Anfange zu Grunde gehe. Sein Wort aber, das er ihm gegeben, und wodurch er sein Eidam geworden, könne er nicht zurücknehmen, mithin auch die Ehe nicht lösen.|0|0\n",
      "mess_47|Der Schneider wurde inne, daß ihn die Königstochter hasse und den Grund warum. Wie er daher wieder zu Bette ging, stellte er sich, als träume er wieder, und diesesmal von lauter Schlachten und Siegen.|0|0\n",
      "mess_47|Da wurde die Königstochter noch trauriger und ging [286] am Morgen wieder zum Könige und meldete ihm, was ihr Gatte heute Nacht geträumt habe. Worüber aber ihr das Herz brechen wollte, das erfüllte das Herz des Königs mit Freude.|0|0\n",
      "mess_47|Er ertheilte noch am nämlichen Tage dem Eidam den Befehl, das Heer gegen den Feind zu führen, ließ ihm aber doch, seiner Tochter zu Gefallen, die schlechteste Rüstung und das schlechteste Pferd geben; zugleich befahl er ihm, stets an der Spitze des Heeres zu bleiben.|0|0\n",
      "mess_47|Der Schneider aber machte sich nicht viel daraus, sondern band sein rothes Band um den Leib, und wie er es betrachtete, las er die Worte: »Du wirst Sieger seyn!«|0|0\n",
      "mess_47|Er zog also getrost aus. Da sein Pferd aber sehr matt ging, so blieb er häufig zurück, und so auch in dem Augenblicke, wo die Feinde, lauter Heiden, an der Seite herankamen. Eben strauchelte das Pferd und riß im Fallen ein Kreuz um, welches an dem Wege stand. Das Kreuz aber fiel auf den Schneider, welcher es faßte, und weil es nicht schwer war, in der Hand behielt. So ging es gegen den Feind. Dieser aber wurde kaum des Kreuzes ansichtig, welches der Schneider an der Spitze des Heeres trug, als sie in wilder Flucht umkehrten und dem Schneider den vollständigsten Sieg überliessen. Sie hatten nämlich vermeynt, daß der Gott der Christen mit diesen streite, und gegen einen Gott könnten Menschen nicht kämpfen.|0|0\n",
      "mess_47|So wurden die Feinde geschlagen und ihnen ein grosser Theil ihres Landes abgenommen. Der Schneider [287] aber kehrte wohlbehalten, an Ehren reich, zurück, und wurde auch von dem Könige mit allen Ehren, von der Königstochter aber mit Liebe empfangen; denn diese hatte nun ihren Gatten achten gelernt.|0|0\n",
      "mess_47|Von da an lebten sie noch lange und glücklich. Tiefenbach.|0|0\n"
     ]
    }
   ],
   "source": [
    "fobj = open ('Messdaten/mess_47.txt', 'r', encoding='utf-8')\n",
    "for line in fobj:\n",
    "    print (line.rstrip())"
   ]
  },
  {
   "cell_type": "code",
   "execution_count": null,
   "metadata": {},
   "outputs": [],
   "source": []
  }
 ],
 "metadata": {
  "kernelspec": {
   "display_name": "Python 3",
   "language": "python",
   "name": "python3"
  },
  "language_info": {
   "codemirror_mode": {
    "name": "ipython",
    "version": 3
   },
   "file_extension": ".py",
   "mimetype": "text/x-python",
   "name": "python",
   "nbconvert_exporter": "python",
   "pygments_lexer": "ipython3",
   "version": "3.7.4"
  }
 },
 "nbformat": 4,
 "nbformat_minor": 2
}
