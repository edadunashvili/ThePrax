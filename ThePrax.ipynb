{
 "cells": [
  {
   "cell_type": "markdown",
   "metadata": {},
   "source": [
    "## Umgebung vorbereiten"
   ]
  },
  {
   "cell_type": "code",
   "execution_count": null,
   "metadata": {},
   "outputs": [],
   "source": [
    "!pwd"
   ]
  },
  {
   "cell_type": "code",
   "execution_count": null,
   "metadata": {},
   "outputs": [],
   "source": [
    "!git clone https://github.com/edadunashvili/ThePrax.git"
   ]
  },
  {
   "cell_type": "code",
   "execution_count": null,
   "metadata": {},
   "outputs": [],
   "source": [
    "cd ThePrax"
   ]
  },
  {
   "cell_type": "code",
   "execution_count": null,
   "metadata": {},
   "outputs": [],
   "source": [
    "!pwd"
   ]
  },
  {
   "cell_type": "code",
   "execution_count": null,
   "metadata": {},
   "outputs": [],
   "source": [
    "!pip install pyprind"
   ]
  },
  {
   "cell_type": "code",
   "execution_count": null,
   "metadata": {},
   "outputs": [],
   "source": [
    "from IPython.display import HTML, display\n",
    "\n",
    "def set_css():\n",
    "  display(HTML('''\n",
    "  <style>\n",
    "    pre {\n",
    "        white-space: pre-wrap;\n",
    "    }\n",
    "  </style>\n",
    "  '''))\n",
    "get_ipython().events.register('pre_run_cell', set_css)"
   ]
  },
  {
   "cell_type": "markdown",
   "metadata": {},
   "source": [
    "## Korpus von Trainingsdaten erstellen"
   ]
  },
  {
   "cell_type": "markdown",
   "metadata": {},
   "source": [
    " !!! Den gesuchten Typ bestimmen !!!"
   ]
  },
  {
   "cell_type": "code",
   "execution_count": 1,
   "metadata": {},
   "outputs": [],
   "source": [
    "typNum='301'\n",
    "episode_string_train = \"a301_string_train.csv\"\n",
    "episode_roh_train = \"a301_roh_train.csv\""
   ]
  },
  {
   "cell_type": "markdown",
   "metadata": {},
   "source": [
    "Vorhandener gleichnamiger Korpus wird gelöscht "
   ]
  },
  {
   "cell_type": "code",
   "execution_count": 2,
   "metadata": {},
   "outputs": [
    {
     "name": "stdout",
     "output_type": "stream",
     "text": [
      "Diese Datei existiert nicht\n"
     ]
    }
   ],
   "source": [
    "import os\n",
    "if os.path.exists(episode_string_train):\n",
    "    os.remove(episode_string_train)\n",
    "else:\n",
    "    print(\"Diese Datei existiert nicht\")"
   ]
  },
  {
   "cell_type": "markdown",
   "metadata": {},
   "source": [
    "Im Ordner \"Trainingsdaten\" nach den entsprechenden Textdateien suchen und in einer rohe Datei zusammentragen"
   ]
  },
  {
   "cell_type": "code",
   "execution_count": 3,
   "metadata": {},
   "outputs": [],
   "source": [
    "import glob\n",
    "\n",
    "def word_to_lex(word):\n",
    "    ret=(word) \n",
    "    return ret\n",
    "\n",
    "def write_back(words):\n",
    "    with open(episode_roh_train,\"a\", encoding='utf-8') as output:\n",
    "        for word in words:\n",
    "            #print(word)\n",
    "            as_lex = word_to_lex(word[0])\n",
    "            full_word = '\"' + as_lex + '\"'\n",
    "            for sub_word in word[1:]:\n",
    "                full_word += \" , \"  '\"' + sub_word + '\"'\n",
    "            full_word +=\"\\n\"\n",
    "            output.write(full_word)\n",
    "\n",
    "def clean(line):\n",
    "    line = line.replace(\"\\n\",\" \").strip().lower()\n",
    "    line = line.replace(\"ä\",\"ae\").replace(\"ü\",\"ue\").replace(\"ö\",\"oe\").replace(\"ß\",\"ss\").replace(\",\",\"\").replace(\"«\",\"\")\n",
    "    line = line.replace(\"»\",\"\").replace(\".\",\"\").replace(\":\",\"\").replace(\";\",\"\").replace('\"',\"\")\n",
    "    line = line.replace(\"?\",\"\").replace(\"!\",\"\").replace(\"á\",\"a\").replace(\",\",\"\").replace(\"\\t\",\" \").replace(\"'\",\"\")\n",
    "    line = line.replace(\"‹\",\"\").replace(\"›\",\"\").replace(\"-\",\" \").replace(\"'('\",\"\").replace(\"')'\",\"\").replace('>','')\n",
    "    line = line.replace(\"    \",\" \").replace(\"   \",\" \").replace(\"  \",\" \").replace('–','').replace('—','').replace('<','')\n",
    "    line = line.replace(\"Â\", \"A\").replace(\"ø\", \"oe\").replace('“','').replace('„','').replace('(','').replace(')','')\n",
    "    line = line.replace(\"‚\", \"\").replace(']','').replace('[','')\n",
    "    if line == \"\": \n",
    "        return\n",
    "    \n",
    "    line=line.split(\"|\")\n",
    "    line[0]=line[0].split(\"|\")[0]\n",
    "    flex=[]\n",
    "    try:\n",
    "        flex=line[1].split(\"\")\n",
    "    except:\n",
    "        pass\n",
    "    value=str(line)\n",
    "    line=str(line)   \n",
    "    flex.append(line)\n",
    "    ret=[]\n",
    "    for i in flex:\n",
    "        ret.append((i,value[0]))\n",
    "    return ret\n",
    "\n",
    "with open(episode_roh_train, \"w\", encoding='utf-8') as output:\n",
    "    output.write (\"quelle,episode,index_string,index_binar\\n\")\n",
    "pairs = []\n",
    "\n",
    "\n",
    "for file in glob.glob(\"Trainingsdaten/*.txt\"):\n",
    "    \n",
    "    if typNum in file:\n",
    "        with open(file, 'r', encoding='utf-8') as episode:\n",
    "            for line in episode.readlines():\n",
    "                clean_words = clean(line)\n",
    "                pairs = pairs + clean_words\n",
    "write_back(pairs)"
   ]
  },
  {
   "cell_type": "markdown",
   "metadata": {},
   "source": [
    "Rohdatei endgültig überarbeiten und in eine CSV Datei speichern"
   ]
  },
  {
   "cell_type": "code",
   "execution_count": 4,
   "metadata": {},
   "outputs": [],
   "source": [
    "fin = open(episode_roh_train,'r', encoding ='utf-8')\n",
    "fout = open(episode_string_train, \"wt\", encoding ='utf-8')\n",
    "for kfz in fin:\n",
    "    fout.write(kfz.replace(', \"[\"',\"\").replace('\"[', \"\").replace(']\"',\"\").replace(\"', '\", \"','\").replace(\" '\", \"'\"))                      \n",
    "fin.close()\n",
    "fout.close()"
   ]
  },
  {
   "cell_type": "markdown",
   "metadata": {},
   "source": [
    "Liste von einmaligen Episoden aus der CSV Datei zeigen"
   ]
  },
  {
   "cell_type": "code",
   "execution_count": 5,
   "metadata": {
    "scrolled": true
   },
   "outputs": [
    {
     "name": "stdout",
     "output_type": "stream",
     "text": [
      "Counter({\"'0'\": 23, \"'e301_g_von_der_begegnung_mit_dem_an_oder_vb_bis_zum_betreten_des_wohngebiets_des_an'\": 12, \"'e301_e_vom_beginn_der_wanderung_bis_zur_begegnung_mit_an_oder_vb'\": 12, \"'e301_o_von_der_rueckkehr_an_die_oberflaeche_bis_zur_hochzeit_mit_dem_ob_und_der_bestrafung_der_fh'\": 10, \"'e301_k_das_befreite_ob_wird_zu_fh_geschickt_und_held_wird_zurueckgelassen'\": 10, \"'e301_i_vom_betreten_der_unterwelt_bis_zur_befreiung_des_ob'\": 10, \"'e301_m_rueckkehr_des_helden_in_die_aussenwelt'\": 8, \"'e554_a_'\": 5, \"'e300_c_anfangssituation_ankunft_und_erkundigung_der_not'\": 4, \"'e300_e_vorfeld_des_kampfes_bis_zum_sieg'\": 4, \"'e300_o_auftritt_des_helden_vor_dem_koenig_bis_zum_ende_der_geschichte'\": 4, \"'e328_a_'\": 4, \"'e302_a_'\": 3, \"'e300_i_rueckkehr_der_koenigstochter_und_die_suche_nach_dem_held retter'\": 3, \"'e516_a_'\": 2, \"'e513a_a_'\": 2, \"'e300_g_nach_dem_sieg_bis_zur_trennung_des_befreiers_und_der_befreiten'\": 2, \"'e300_k_misshandlung_des_falschen_helden_bis_zur_hochzeitstag'\": 2, \"'e537_e_gegenleistung_des_dankbaren_vogels'\": 2, \"'eundf_a_'\": 2, \"'e650a_a_'\": 2, \"'e301_c_verlust_des_ob'\": 2, \"'eamom_a_'\": 1, \"'ecom_a_'\": 1, \"'e301_e_vom_beginn_der_wanderung_bis_zur_begegnung_mit_an_oder_vb' \": 1, \"'e300_l_wiederbelebung_des_helden'\": 1, \"'e300_m_rueckkehr_des_helden_ _von_der_erkundung_ueber_die_hochzeit_bis_zum_wiedergewinn_der_aufmerksamkeit'\": 1})\n"
     ]
    }
   ],
   "source": [
    "import pandas as pd\n",
    "df = pd.read_csv(episode_string_train, encoding='utf-8')\n",
    "from collections import Counter\n",
    "indexliste=Counter(df.index_string)\n",
    "print(indexliste, sep='\\n')"
   ]
  },
  {
   "cell_type": "markdown",
   "metadata": {},
   "source": [
    "## Modell erstellen und trainieren"
   ]
  },
  {
   "cell_type": "markdown",
   "metadata": {},
   "source": [
    "Bibliotheken laden"
   ]
  },
  {
   "cell_type": "code",
   "execution_count": 6,
   "metadata": {},
   "outputs": [
    {
     "name": "stderr",
     "output_type": "stream",
     "text": [
      "Using TensorFlow backend.\n"
     ]
    }
   ],
   "source": [
    "import keras\n",
    "import glob\n",
    "import matplotlib.pyplot as plt\n",
    "import nltk\n",
    "import numpy as np\n",
    "import pyprind\n",
    "import pandas as pd\n",
    "import random\n",
    "import re\n",
    "import string\n",
    "from collections import Counter\n",
    "from nltk.corpus import stopwords\n",
    "from keras import backend as K\n",
    "from keras import layers\n",
    "from keras import losses\n",
    "from keras import models\n",
    "from keras import metrics\n",
    "from keras import optimizers\n",
    "from keras.preprocessing import sequence"
   ]
  },
  {
   "cell_type": "markdown",
   "metadata": {},
   "source": [
    "!!! Variable anpassen !!!"
   ]
  },
  {
   "cell_type": "code",
   "execution_count": 7,
   "metadata": {},
   "outputs": [],
   "source": [
    "ziel_episode = 'e301_g_von_der_begegnung_mit_dem_an_oder_vb_bis_zum_betreten_des_wohngebiets_des_an'\n",
    "mini_frequenz = 2\n",
    "k_fach = 5\n",
    "layD = 96\n",
    "episode_string_train = 'a301_string_train.csv' \n",
    "episode_binar_train = 'a301_binar_train.csv'"
   ]
  },
  {
   "cell_type": "code",
   "execution_count": null,
   "metadata": {},
   "outputs": [],
   "source": []
  },
  {
   "cell_type": "markdown",
   "metadata": {},
   "source": [
    "Aufbereitung der Trainingsdaten.\n",
    "Rohdaten laden und und den Episodenbestand betrachten"
   ]
  },
  {
   "cell_type": "code",
   "execution_count": 8,
   "metadata": {},
   "outputs": [],
   "source": [
    "fin = open(episode_string_train,'r', encoding='utf-8') \n",
    "fout = open(episode_binar_train, \"wt\", encoding='utf-8')\n",
    "for efz in fin:\n",
    "    fout.write(efz.replace(\"'\",\"\"))  \n",
    "fin.close()\n",
    "fout.close()"
   ]
  },
  {
   "cell_type": "markdown",
   "metadata": {},
   "source": [
    "Die in der CSV Datei etikettierte Episoden auflisten"
   ]
  },
  {
   "cell_type": "code",
   "execution_count": 9,
   "metadata": {},
   "outputs": [],
   "source": [
    "df = pd.read_csv(episode_binar_train, encoding='utf-8')\n",
    "indexliste=Counter(df.index_string)\n",
    "#print(*indexliste, sep='\\n')"
   ]
  },
  {
   "cell_type": "markdown",
   "metadata": {},
   "source": [
    "Die gesuchte Episode etikettieren und den Rohdaten in Trainingsdaten umwandeln"
   ]
  },
  {
   "cell_type": "code",
   "execution_count": 10,
   "metadata": {},
   "outputs": [],
   "source": [
    "for i,e in enumerate(df.index_string):\n",
    "    if e == ziel_episode:\n",
    "        df.index_binar[i]='1'\n",
    "    else: \n",
    "        df.index_binar[i]='0'"
   ]
  },
  {
   "cell_type": "code",
   "execution_count": 11,
   "metadata": {},
   "outputs": [],
   "source": [
    "df.to_csv(episode_binar_train, encoding='utf-8', index=False)"
   ]
  },
  {
   "cell_type": "markdown",
   "metadata": {},
   "source": [
    "Trainngsdaten aufbereiten. Das Vorkommen jedes Wortes zählen"
   ]
  },
  {
   "cell_type": "code",
   "execution_count": 12,
   "metadata": {},
   "outputs": [
    {
     "name": "stderr",
     "output_type": "stream",
     "text": [
      "[nltk_data] Downloading package stopwords to\n",
      "[nltk_data]     C:\\Users\\elguj\\AppData\\Roaming\\nltk_data...\n",
      "[nltk_data]   Unzipping corpora\\stopwords.zip.\n",
      "Vorkommen der Wörter zählen\n",
      "0% [##############################] 100% | ETA: 00:00:00\n",
      "Total time elapsed: 00:00:00\n"
     ]
    }
   ],
   "source": [
    "nltk.download('stopwords')\n",
    "w = stopwords.words('german')\n",
    "counts = Counter()\n",
    "pbar = pyprind.ProgBar(len(df['episode']),\n",
    "                       title='Vorkommen der Wörter zählen')\n",
    "for i, episode in enumerate(df['episode']): \n",
    "        pbar.update()\n",
    "        counts.update(episode.split())\n",
    "new_counts = {}\n",
    "for k, v in counts.items():\n",
    "    if v > mini_frequenz and k not in w:\n",
    "        new_counts[k] = v\n",
    "counts = Counter(new_counts)"
   ]
  },
  {
   "cell_type": "code",
   "execution_count": 13,
   "metadata": {},
   "outputs": [],
   "source": [
    "#print(counts)"
   ]
  },
  {
   "cell_type": "markdown",
   "metadata": {},
   "source": [
    "Zuordnung erzeugen und den verschiedenen Wörtern eindeutige Zahlen zuordnen"
   ]
  },
  {
   "cell_type": "code",
   "execution_count": 14,
   "metadata": {},
   "outputs": [
    {
     "name": "stderr",
     "output_type": "stream",
     "text": [
      "Episoden Zahlen zuordnen\n",
      "0% [##############################] 100% | ETA: 00:00:00\n",
      "Total time elapsed: 00:00:00\n"
     ]
    }
   ],
   "source": [
    "word_counts = sorted(counts, key=counts.get, reverse=True)\n",
    "word_to_int = {word: ii for ii, word in enumerate(word_counts,0)}\n",
    "mapped_episoden = []\n",
    "pbar = pyprind.ProgBar(len(df['episode']),\n",
    "                       title='Episoden Zahlen zuordnen')\n",
    "for episode in df['episode']:\n",
    "    mapped_episoden.append([word_to_int.get(word) for word in episode.split()])\n",
    "    pbar.update()\n",
    "mapped_episoden = [list(filter(None, el)) for el in mapped_episoden]"
   ]
  },
  {
   "cell_type": "code",
   "execution_count": 15,
   "metadata": {},
   "outputs": [],
   "source": [
    "#print(word_to_int)"
   ]
  },
  {
   "cell_type": "code",
   "execution_count": 16,
   "metadata": {},
   "outputs": [],
   "source": [
    "#print(mapped_episoden[0])"
   ]
  },
  {
   "cell_type": "markdown",
   "metadata": {},
   "source": [
    "Traiingsndaten und Trainingslabels bestimmen"
   ]
  },
  {
   "cell_type": "code",
   "execution_count": 17,
   "metadata": {},
   "outputs": [
    {
     "name": "stdout",
     "output_type": "stream",
     "text": [
      "sequences = 1425   train_data = 133\n"
     ]
    }
   ],
   "source": [
    "train_data = mapped_episoden[0:] \n",
    "train_labels = df.loc[0:, 'index_binar'].values\n",
    "print(\"sequences =\",max([max(sequences) for sequences in mapped_episoden if len(sequences)>0]),\" \",\n",
    "      \"train_data =\", len (train_data))"
   ]
  },
  {
   "cell_type": "markdown",
   "metadata": {},
   "source": [
    "Trainingsdaten und -Labels vektorisieren"
   ]
  },
  {
   "cell_type": "code",
   "execution_count": 18,
   "metadata": {},
   "outputs": [],
   "source": [
    "sequences_laenge=max([max(sequences) for sequences in mapped_episoden if len(sequences)>0])\n",
    "def vectorize_sequences(sequences, dimension=sequences_laenge+1): \n",
    "    results = np.zeros((len(sequences), dimension))\n",
    "    for i, sequence in enumerate(sequences):\n",
    "        results[i, sequence] = 1.\n",
    "    return results\n",
    "x_train = vectorize_sequences(train_data) \n",
    "y_train = np.asarray(train_labels).astype('float32')"
   ]
  },
  {
   "cell_type": "code",
   "execution_count": 19,
   "metadata": {},
   "outputs": [],
   "source": [
    "#for i, element in enumerate(x_train[0]):\n",
    "    #print(i,'-', element)"
   ]
  },
  {
   "cell_type": "markdown",
   "metadata": {},
   "source": [
    "Neuronales Netz erzeugen"
   ]
  },
  {
   "cell_type": "code",
   "execution_count": 20,
   "metadata": {},
   "outputs": [],
   "source": [
    "def build_model():\n",
    "    model = models.Sequential()\n",
    "    model.add(layers.Dense(layD, activation='tanh',\n",
    "                           input_shape=(sequences_laenge+1,)))\n",
    "    #model.add(layers.Dense(layD, activation='relu'))\n",
    "    model.add(layers.Dense(layD, activation='tanh')) \n",
    "    model.add(layers.Dense((1), activation='sigmoid'))\n",
    "    model.compile(optimizer='rmsprop', loss='mse', metrics=['binary_accuracy'])\n",
    "    return model"
   ]
  },
  {
   "cell_type": "markdown",
   "metadata": {},
   "source": [
    "Neuronales Netz trainieren"
   ]
  },
  {
   "cell_type": "code",
   "execution_count": 21,
   "metadata": {},
   "outputs": [
    {
     "name": "stdout",
     "output_type": "stream",
     "text": [
      "processing fold # 0\n",
      "WARNING:tensorflow:From C:\\Users\\elguj\\AppData\\Roaming\\Python\\Python37\\site-packages\\tensorflow\\python\\framework\\op_def_library.py:263: colocate_with (from tensorflow.python.framework.ops) is deprecated and will be removed in a future version.\n",
      "Instructions for updating:\n",
      "Colocations handled automatically by placer.\n",
      "WARNING:tensorflow:From C:\\Users\\elguj\\AppData\\Roaming\\Python\\Python37\\site-packages\\tensorflow\\python\\ops\\math_ops.py:3066: to_int32 (from tensorflow.python.ops.math_ops) is deprecated and will be removed in a future version.\n",
      "Instructions for updating:\n",
      "Use tf.cast instead.\n",
      "processing fold # 1\n",
      "processing fold # 2\n",
      "processing fold # 3\n",
      "processing fold # 4\n"
     ]
    }
   ],
   "source": [
    "k = k_fach\n",
    "num_val_samples = len(x_train) // k \n",
    "num_epochs = 4\n",
    "all_scores = []\n",
    "for i in range(k):\n",
    "    print('processing fold #', i)\n",
    "    # Prepare the validation data: data from partition # k\n",
    "    val_data = x_train[i * num_val_samples: (i + 1) * num_val_samples]\n",
    "    val_targets = y_train[i * num_val_samples: (i + 1) * num_val_samples]\n",
    "\n",
    "    # Prepare the training data: data from all other partitions\n",
    "    partial_x_train = np.concatenate(\n",
    "        [x_train[:i * num_val_samples],\n",
    "         x_train[(i + 1) * num_val_samples:]],\n",
    "        axis=0)\n",
    "    partial_y_train = np.concatenate(\n",
    "        [y_train[:i * num_val_samples],\n",
    "         y_train[(i + 1) * num_val_samples:]],\n",
    "        axis=0)\n",
    "\n",
    "    # Build the Keras model (already compiled)\n",
    "    model = build_model()\n",
    "    # Train the model (in silent mode, verbose=0)\n",
    "    model.fit(partial_x_train, partial_y_train,\n",
    "              epochs=num_epochs, batch_size = 8, verbose=0)\n",
    "    # Evaluate the model on the validation data\n",
    "    val_mse, val_binary_accuracy = model.evaluate(val_data, val_targets, verbose=0)\n",
    "    all_scores.append(val_binary_accuracy)"
   ]
  },
  {
   "cell_type": "code",
   "execution_count": 22,
   "metadata": {},
   "outputs": [
    {
     "data": {
      "text/plain": [
       "[0.9615384340286255,\n",
       " 0.9230769276618958,\n",
       " 0.9230769276618958,\n",
       " 0.8846153616905212,\n",
       " 0.8846153616905212]"
      ]
     },
     "execution_count": 22,
     "metadata": {},
     "output_type": "execute_result"
    }
   ],
   "source": [
    "all_scores"
   ]
  },
  {
   "cell_type": "code",
   "execution_count": 23,
   "metadata": {},
   "outputs": [
    {
     "data": {
      "text/plain": [
       "0.9153846025466919"
      ]
     },
     "execution_count": 23,
     "metadata": {},
     "output_type": "execute_result"
    }
   ],
   "source": [
    "np.mean(all_scores)"
   ]
  },
  {
   "cell_type": "code",
   "execution_count": 24,
   "metadata": {},
   "outputs": [
    {
     "name": "stdout",
     "output_type": "stream",
     "text": [
      "processing fold # 0\n",
      "processing fold # 1\n",
      "processing fold # 2\n",
      "processing fold # 3\n",
      "processing fold # 4\n"
     ]
    }
   ],
   "source": [
    "num_epochs = 8\n",
    "all_binary_accuracy_histories = []\n",
    "for i in range(k):\n",
    "    print('processing fold #', i)\n",
    "    # Prepare the validation data: data from partition # k\n",
    "    val_data = x_train[i * num_val_samples: (i + 1) * num_val_samples]\n",
    "    val_targets = y_train[i * num_val_samples: (i + 1) * num_val_samples]\n",
    "\n",
    "    # Prepare the training data: data from all other partitions\n",
    "    partial_x_train = np.concatenate(\n",
    "        [x_train[:i * num_val_samples],\n",
    "         x_train[(i + 1) * num_val_samples:]],\n",
    "        axis=0)\n",
    "    partial_y_train = np.concatenate(\n",
    "        [y_train[:i * num_val_samples],\n",
    "         y_train[(i + 1) * num_val_samples:]],\n",
    "        axis=0)\n",
    "\n",
    "    # Build the Keras model (already compiled)\n",
    "    model = build_model()\n",
    "    # Train the model (in silent mode, verbose=0)\n",
    "    history = model.fit(partial_x_train, partial_y_train,\n",
    "                        validation_data=(val_data, val_targets),\n",
    "                        epochs=num_epochs, batch_size = 8, verbose=0)\n",
    "    binary_accuracy_history = history.history['val_binary_accuracy']\n",
    "    all_binary_accuracy_histories.append(binary_accuracy_history)"
   ]
  },
  {
   "cell_type": "code",
   "execution_count": 25,
   "metadata": {},
   "outputs": [
    {
     "name": "stdout",
     "output_type": "stream",
     "text": [
      "0 - 0.9076923076923077\n",
      "1 - 0.9153846153846154\n",
      "2 - 0.923076923076923\n",
      "3 - 0.9153846153846154\n",
      "4 - 0.9153846153846154\n",
      "5 - 0.9153846153846154\n",
      "6 - 0.9153846153846154\n",
      "7 - 0.9076923076923077\n"
     ]
    }
   ],
   "source": [
    "average_binary_accuracy_history = [\n",
    "    np.mean([x[i] for x in all_binary_accuracy_histories]) for i in range(num_epochs)]\n",
    "for i, element in enumerate(average_binary_accuracy_history):\n",
    "    print(i,'-', element)"
   ]
  },
  {
   "cell_type": "markdown",
   "metadata": {},
   "source": [
    "## Messdaten erstellen"
   ]
  },
  {
   "cell_type": "markdown",
   "metadata": {},
   "source": [
    "!!! Den gesuchten Typ bestimmen !!!"
   ]
  },
  {
   "cell_type": "code",
   "execution_count": 58,
   "metadata": {},
   "outputs": [],
   "source": [
    "typNum =''\n",
    "episode_string_mess = \"gesamt_string_mess.csv\"\n",
    "episode_roh_mess = \"gesamt_roh_mess.csv\"\n",
    "episode_binar_mess = \"gesamt_binar_mess.csv\""
   ]
  },
  {
   "cell_type": "markdown",
   "metadata": {},
   "source": [
    "Alte Datei mit gleichem Namen löschen"
   ]
  },
  {
   "cell_type": "code",
   "execution_count": 59,
   "metadata": {},
   "outputs": [],
   "source": [
    "import os\n",
    "if os.path.exists(episode_string_mess):\n",
    "    os.remove(episode_string_mess)\n",
    "else:\n",
    "    print(\"Diese Datei existiert nicht\")"
   ]
  },
  {
   "cell_type": "markdown",
   "metadata": {},
   "source": [
    "Nach den entsprechenden Textdateien im Ordnet suchen und in einer rohe Datei zusammentragen"
   ]
  },
  {
   "cell_type": "code",
   "execution_count": 60,
   "metadata": {},
   "outputs": [],
   "source": [
    "import glob\n",
    "\n",
    "def word_to_lex(word):\n",
    "    ret=(word) \n",
    "    return ret\n",
    "\n",
    "def write_back(words):\n",
    "    with open(episode_roh_mess,\"a\", encoding='utf-8') as output:\n",
    "        for word in words:\n",
    "            #print(word)\n",
    "            as_lex = word_to_lex(word[0])\n",
    "            full_word = '\"' + as_lex + '\"'\n",
    "            for sub_word in word[1:]:\n",
    "                full_word += \" , \"  '\"' + sub_word + '\"'\n",
    "            full_word +=\"\\n\"\n",
    "            output.write(full_word)\n",
    "\n",
    "def clean(line):\n",
    "    line = line.replace(\"\\n\",\" \").strip().lower()\n",
    "    line = line.replace(\"ä\",\"ae\").replace(\"ü\",\"ue\").replace(\"ö\",\"oe\").replace(\"ß\",\"ss\").replace(\",\",\"\").replace(\"«\",\"\")\n",
    "    line = line.replace(\"»\",\"\").replace(\".\",\"\").replace(\":\",\"\").replace(\";\",\"\").replace('\"',\"\")\n",
    "    line = line.replace(\"?\",\"\").replace(\"!\",\"\").replace(\"á\",\"a\").replace(\",\",\"\").replace(\"\\t\",\" \").replace(\"'\",\"\")\n",
    "    line = line.replace(\"‹\",\"\").replace(\"›\",\"\").replace(\"-\",\" \").replace(\"'('\",\"\").replace(\"')'\",\"\").replace('>','')\n",
    "    line = line.replace(\"    \",\" \").replace(\"   \",\" \").replace(\"  \",\" \").replace('–','').replace('—','').replace('<','')\n",
    "    line = line.replace(\"Â\", \"A\").replace(\"ø\", \"oe\").replace('“','').replace('„','').replace('(','').replace(')','')\n",
    "    line = line.replace(\"‚\", \"\").replace(']','').replace('[','')\n",
    "    if line == \"\": \n",
    "        return\n",
    "    \n",
    "    line=line.split(\"|\")\n",
    "    line[0]=line[0].split(\"|\")[0]\n",
    "    flex=[]\n",
    "    try:\n",
    "        flex=line[1].split(\"\")\n",
    "    except:\n",
    "        pass\n",
    "    value=str(line)\n",
    "    line=str(line)   \n",
    "    flex.append(line)\n",
    "    ret=[]\n",
    "    for i in flex:\n",
    "        ret.append((i,value[0]))\n",
    "    return ret\n",
    "\n",
    "with open(episode_roh_mess, \"w\", encoding='utf-8') as output:\n",
    "    output.write (\"quelle,episode,index_string,index_binar\\n\")\n",
    "pairs = []\n",
    "\n",
    "for file in glob.glob(\"Messdaten/*.txt\"):\n",
    "    if typNum in file:\n",
    "        with open(file, 'r', encoding='utf-8') as episode:\n",
    "            for line in episode.readlines():\n",
    "                clean_words = clean(line)\n",
    "                pairs = pairs + clean_words\n",
    "write_back(pairs)"
   ]
  },
  {
   "cell_type": "markdown",
   "metadata": {},
   "source": [
    "Rohdatei endgültig überarbeiten und in eine CSV Datei speichern"
   ]
  },
  {
   "cell_type": "code",
   "execution_count": 61,
   "metadata": {},
   "outputs": [],
   "source": [
    "fin = open(episode_roh_mess,'r', encoding ='utf-8')\n",
    "fout = open(episode_string_mess, \"wt\", encoding ='utf-8')\n",
    "for kfz in fin:\n",
    "    fout.write(kfz.replace(', \"[\"',\"\").replace('\"[', \"\").replace(']\"',\"\").replace(\"', '\", \"','\").replace(\" '\", \"'\"))                      \n",
    "fin.close()\n",
    "fout.close()"
   ]
  },
  {
   "cell_type": "markdown",
   "metadata": {},
   "source": [
    "Die in der CSV Datei etikettierte Episoden auflisten"
   ]
  },
  {
   "cell_type": "code",
   "execution_count": 62,
   "metadata": {},
   "outputs": [
    {
     "name": "stdout",
     "output_type": "stream",
     "text": [
      "'0'\n"
     ]
    }
   ],
   "source": [
    "import pandas as pd\n",
    "df = pd.read_csv(episode_string_mess, encoding='utf-8')\n",
    "from collections import Counter\n",
    "indexliste=Counter(df.index_string)\n",
    "print(*indexliste, sep='\\n')"
   ]
  },
  {
   "cell_type": "markdown",
   "metadata": {},
   "source": [
    "Messdaten laden und aufbereiten"
   ]
  },
  {
   "cell_type": "code",
   "execution_count": 63,
   "metadata": {},
   "outputs": [],
   "source": [
    "fin = open(episode_string_mess,'r', encoding='utf-8') \n",
    "fout = open(episode_binar_mess, \"wt\", encoding='utf-8')\n",
    "for efz in fin:\n",
    "    fout.write(efz.replace(\"'\",\"\"))\n",
    "                                 \n",
    "fin.close()\n",
    "fout.close()"
   ]
  },
  {
   "cell_type": "code",
   "execution_count": 64,
   "metadata": {},
   "outputs": [
    {
     "name": "stdout",
     "output_type": "stream",
     "text": [
      "Counter({0: 234})\n"
     ]
    }
   ],
   "source": [
    "df = pd.read_csv(episode_binar_mess, encoding='utf-8')\n",
    "indexliste=Counter(df.index_string)\n",
    "print(indexliste, sep='\\n')"
   ]
  },
  {
   "cell_type": "code",
   "execution_count": 65,
   "metadata": {},
   "outputs": [
    {
     "name": "stderr",
     "output_type": "stream",
     "text": [
      "C:\\Users\\elguj\\Anaconda3\\lib\\site-packages\\ipykernel_launcher.py:5: SettingWithCopyWarning: \n",
      "A value is trying to be set on a copy of a slice from a DataFrame\n",
      "\n",
      "See the caveats in the documentation: http://pandas.pydata.org/pandas-docs/stable/user_guide/indexing.html#returning-a-view-versus-a-copy\n",
      "  \"\"\"\n"
     ]
    }
   ],
   "source": [
    "for i,e in enumerate(df.index_string):\n",
    "    if e:\n",
    "        df.index_binar[i]='0'\n",
    "    else: \n",
    "        df.index_binar[i]='0'"
   ]
  },
  {
   "cell_type": "code",
   "execution_count": 66,
   "metadata": {},
   "outputs": [],
   "source": [
    "df.to_csv(episode_binar_mess, encoding='utf-8', index=False)"
   ]
  },
  {
   "cell_type": "markdown",
   "metadata": {},
   "source": [
    "Vorhandene Zuordnung laden und den verschiedenen Wörtern eindeutige Zahlen zuordnen"
   ]
  },
  {
   "cell_type": "code",
   "execution_count": 67,
   "metadata": {},
   "outputs": [
    {
     "name": "stderr",
     "output_type": "stream",
     "text": [
      "Episoden Zahlen zuordnen\n",
      "0% [##############################] 100% | ETA: 00:00:00\n",
      "Total time elapsed: 00:00:00\n"
     ]
    }
   ],
   "source": [
    "mapped_episoden_2 = []\n",
    "pbar = pyprind.ProgBar(len(df['episode']),\n",
    "                       title='Episoden Zahlen zuordnen')\n",
    "for episode in df['episode']:\n",
    "    mapped_episoden_2.append([word_to_int.get(word) for word in episode.split()])\n",
    "    pbar.update()\n",
    "\n",
    "mapped_episoden_2 = [list(filter(None, el)) for el in mapped_episoden_2]\n"
   ]
  },
  {
   "cell_type": "code",
   "execution_count": 68,
   "metadata": {},
   "outputs": [],
   "source": [
    "#mapped_episoden_2 = []\n",
    "#pbar = pyprind.ProgBar(len(df['episode']),\n",
    "                       #title='Episoden Zahlen zuordnen')\n",
    "#for  episode in df['episode']:\n",
    "    #if type(episode) == str:\n",
    "        #mapped_episoden_2.append([word_to_int.get(word) for word in episode.split()])\n",
    "        #pbar.update()\n",
    "#mapped_episoden_2 = [list(filter(None, el)) for el in mapped_episoden_2]"
   ]
  },
  {
   "cell_type": "markdown",
   "metadata": {},
   "source": [
    "raiingsndaten und Trainingslabels bestimmen"
   ]
  },
  {
   "cell_type": "code",
   "execution_count": 69,
   "metadata": {},
   "outputs": [
    {
     "name": "stdout",
     "output_type": "stream",
     "text": [
      "sequences = 1425   mess_data = 234\n"
     ]
    }
   ],
   "source": [
    "mess_data = mapped_episoden_2[0:] \n",
    "mess_labels = df.loc[0:, 'index_binar'].values\n",
    "print(\"sequences =\",max([max(sequences) for sequences in mapped_episoden if len(sequences)>0]),\" \", \n",
    "      \"mess_data =\", len (mess_data))"
   ]
  },
  {
   "cell_type": "markdown",
   "metadata": {},
   "source": [
    "Messdaten vektorisieren"
   ]
  },
  {
   "cell_type": "code",
   "execution_count": 70,
   "metadata": {},
   "outputs": [],
   "source": [
    "def vectorize_sequences(sequences, dimension=sequences_laenge+1): \n",
    "    results = np.zeros((len(sequences), dimension))\n",
    "    for i, sequence in enumerate(sequences):\n",
    "        results[i, sequence] = 1.\n",
    "    return results\n",
    "x_mess = vectorize_sequences(mess_data)\n",
    "y_mess = np.asarray(mess_labels).astype('float32')"
   ]
  },
  {
   "cell_type": "markdown",
   "metadata": {},
   "source": [
    "## Messdaten analysieren"
   ]
  },
  {
   "cell_type": "code",
   "execution_count": 71,
   "metadata": {},
   "outputs": [
    {
     "data": {
      "image/png": "[encoded data removed]",
      "text/plain": [
       "<Figure size 432x288 with 1 Axes>"
      ]
     },
     "metadata": {
      "needs_background": "light"
     },
     "output_type": "display_data"
    }
   ],
   "source": [
    "plt.plot(range(1, len(average_binary_accuracy_history) + 1), average_binary_accuracy_history)\n",
    "plt.xlabel('Epochs')\n",
    "plt.ylabel('Validation acc')\n",
    "plt.show()"
   ]
  },
  {
   "cell_type": "markdown",
   "metadata": {},
   "source": [
    "!!!! Zahl epochs, wenn nötig, in dem 11. Satz anpassen !!!! "
   ]
  },
  {
   "cell_type": "code",
   "execution_count": 72,
   "metadata": {},
   "outputs": [
    {
     "data": {
      "image/png": "[encoded data removed]",
      "text/plain": [
       "<Figure size 432x288 with 1 Axes>"
      ]
     },
     "metadata": {
      "needs_background": "light"
     },
     "output_type": "display_data"
    }
   ],
   "source": [
    "def smooth_curve(points, factor=0.9):\n",
    "  smoothed_points = []\n",
    "  for point in points:\n",
    "    if smoothed_points:\n",
    "      previous = smoothed_points[-1]\n",
    "      smoothed_points.append(previous * factor + point * (1 - factor))\n",
    "    else:\n",
    "      smoothed_points.append(point)\n",
    "  return smoothed_points\n",
    "\n",
    "smooth_binary_accuracy_history = smooth_curve(average_binary_accuracy_history[1:])\n",
    "\n",
    "plt.plot(range(1, len(smooth_binary_accuracy_history) + 1), smooth_binary_accuracy_history)\n",
    "plt.xlabel('Epochs')\n",
    "plt.ylabel('Validation acc')\n",
    "plt.show()"
   ]
  },
  {
   "cell_type": "markdown",
   "metadata": {},
   "source": [
    "Modell ausführen. !!!!!! wenn nötig, Zahl der epochs im fünften Satz korrigieren !!!!!"
   ]
  },
  {
   "cell_type": "code",
   "execution_count": 73,
   "metadata": {},
   "outputs": [
    {
     "name": "stdout",
     "output_type": "stream",
     "text": [
      "Epoch 1/2\n",
      "133/133 [==============================] - 1s 7ms/step - loss: 0.0991 - binary_accuracy: 0.9023\n",
      "Epoch 2/2\n",
      "133/133 [==============================] - 1s 4ms/step - loss: 0.0454 - binary_accuracy: 0.9474\n",
      "234/234 [==============================] - 0s 888us/step\n"
     ]
    }
   ],
   "source": [
    "# Get a fresh, compiled model.\n",
    "model = build_model()\n",
    "# Train it on the entirety of the data.\n",
    "model.fit(x_train, y_train,\n",
    "          epochs = 2, batch_size = 1)\n",
    "mess_mse_score, mess_binary_accuracy_score = model.evaluate(x_mess, y_mess)"
   ]
  },
  {
   "cell_type": "code",
   "execution_count": 74,
   "metadata": {},
   "outputs": [
    {
     "data": {
      "text/plain": [
       "(0.9615384615384616, 0.04370034008752555)"
      ]
     },
     "execution_count": 74,
     "metadata": {},
     "output_type": "execute_result"
    }
   ],
   "source": [
    "mess_binary_accuracy_score, mess_mse_score"
   ]
  },
  {
   "cell_type": "markdown",
   "metadata": {},
   "source": [
    "Voraussagen"
   ]
  },
  {
   "cell_type": "code",
   "execution_count": 75,
   "metadata": {},
   "outputs": [],
   "source": [
    "predictions=model.predict(x_mess)\n",
    "#for i in range(len(predictions)):\n",
    "    #print(model.predict(x_mess))"
   ]
  },
  {
   "cell_type": "code",
   "execution_count": 76,
   "metadata": {},
   "outputs": [
    {
     "name": "stdout",
     "output_type": "stream",
     "text": [
      "Maximaler Wert: 0.9043566\n"
     ]
    }
   ],
   "source": [
    "print('Maximaler Wert:', max(max(model.predict(x_mess))))"
   ]
  },
  {
   "cell_type": "markdown",
   "metadata": {},
   "source": [
    "Voraussgen in den aussortierten Datensätzen"
   ]
  },
  {
   "cell_type": "code",
   "execution_count": 77,
   "metadata": {},
   "outputs": [
    {
     "name": "stdout",
     "output_type": "stream",
     "text": [
      "24 - [0.31165603] - at tirol_48ff - verfluchter kerl schrie der baerenhansel was hast du gemacht wir haben hunger dass wir die sterne am hellichten tage sehen und freuten uns auf deine mahlzeit  und nun hast du uns so arg betrogen - 0 \n",
      "\n",
      "25 - [0.43446517] - at tirol_48ff - der mueller schaemte sich die wahrheit zu sagen und sprach als ihr fort waret befiel mich ein solches grimmen dass ich mich wie ein wurm wand und nicht arbeiten konnte - 0 \n",
      "\n",
      "26 - [0.6889901] - at tirol_48ff - sie stillten nun ihren hunger mit kalten speisen legten sich dann zur ruhe und schliefen die ganze nacht tief und fest wie murmeltiere am folgenden morgen zog der mueller mit dem baerenhansel auf die jagd und der kohlenbrenner musste im schlosse bleiben um das essen zu bereiten ihm ging es aber nicht besser als dem mueller denn es kamen wieder die geister aus dem kamin herab und pruegelten den koch derartig durch dass er wie tot niederfiel als die zwei jaeger nach hause kamen fanden sie kein mahl bestellt und der kohlenbrenner beteuerte hoch und fest dass er vor grimmen nicht imstande gewesen etwas zu kochen dies kam dem baerenhansel gar seltsam vor und er dachte sich morgen werde ich hier bleiben und dann werde ich der sache auf den grund kommen am dritten morgen zogen der mueller und der kohlenbrenner hinaus in den forst und der baerenhansel ging in die kueche um seine arbeit zu verrichten er begann knoedel zu kochen und als er dieselben in die pfanne hineinmachte fuhr ploetzlich ein geist aus dem kamin herunter hansel kehrte sich aber nicht daran und sprach auch fuer diesen einen knoedel gleich darauf kam ein zweiter geist heruntergefahren und hansel sagte wieder gleichgueltig auch fuer diesen einen knoedel - 0 \n",
      "\n",
      "31 - [0.7661153] - busch_1910_30ff - da traten dreie aus des koenigs heer die nannten sich muschetier grenadier und pumpedier und wollten hals und leben wagen dass sie die koenigstoechter befreien und den lohn erlangen moechten sie schnuerten ihre buendel und zogen in den wald hinein acht tage waren sie schon herumgewandert das reisebrod ging zu ende und grenadier und pumpedier meinten es sei besser umzukehren als in dem walde zu verhungern oder gar den schrecklichen riesen in die haende zu fallen aber muschetier sprach ihnen muth ein dass es schimpflich sei auf halbem wege umzukehren dass sie doch nur wenig zu verlieren aber recht viel zu gewinnen haetten und dass wenn sie umkehren wollten er allein sein glueck versuchen wolle da gingen sie mit es waehrte nicht lange so kamen sie vor ein schloss das war ganz todt und menschenleer die kueche jedoch mit allen vorraethen wohl versehen das freute die drei gesellen die nun schon so lange nur trockenes gegessen dass sie endlich einmal wieder warme loeffelkost kriegen sollten sie kamen ueberein dass zwei von ihnen auf die jagd gehen sollten waehrend der dritte das essen koche darum zogen sie die loose und kam die reihe zuerst an pumpedier der zuendete bald ein feuer an haengte einen topf darueber und that erbsen und speck hinein denn das war der drei gesellen leibgericht muschetier und grenadier gingen derweilen auf die jagd als nun pumpedier das erbsengericht bereitet hatte die beiden gesellen aber immer noch nicht zurueck waren setzte er sich allein zu tische weil er grossen hunger hatte da trat zur thuer herein ein greises maennchen das trug in der hand einen eisernen stock und sprach den gesellen an guten tag mein herr schoen dank mein herr - 0 \n",
      "\n",
      "32 - [0.9043566] - busch_1910_30ff - 31 danach bat das maennchen den gesellen um etwas essen als er ihm ein brod gab liess es wie aus versehen ein stueck davon auf die erde fallen der gesell bueckte sich es wieder aufzunehmen aber in demselben augenblicke sass auch das maennchen ihm auf dem ruecken und schlug ihn so heftig mit seinem eisernen stabe in den nacken dass er die besinnung verlor danach verschwand das maennchen pumpedier war noch nicht lange wieder zu sich selbst gekommen als muschetier und grenadier von der jagd zurueckkehrten er erzaehlte ihnen aber nicht wie es ihm ergangen war - 0 \n",
      "\n",
      "33 - [0.44242388] - busch_1910_30ff - den zweiten tag kam an grenadier die reihe das haus zu huethen er kochte auch erbsen und speck als er sich aber eben zu tisch gesetzt hatte trat wieder das maennchen herein sprach seinen gruss bat um ein wenig essen liess das brod auf den boden fallen und als der geselle sich eilig danach bueckte sprang es ihm auf den ruecken und schlug ihn mit seinem eisenstab so lange bis ihm die besinnung ausging als er wieder zu sich selbst kam kehrten die beiden anderen gerade von der jagd zurueck und fragten wies ihm gegangen sei o ganz gut sagte er denn von den schlaegen wollte er nicht gerne erzaehlen - 0 \n",
      "\n",
      "34 - [0.85567665] - busch_1910_30ff - den dritten tag musste muschetier den haushalt versehen auch er kriegte erbsen und speck zu feuer denn das mochten die drei am liebsten essen als das gericht nun fertig war gedachte er dass die andern zwei noch lange aussen bleiben koennten nahm sein theil vorweg und stellte das uebrige in die kohlen dass es warm bliebe da trat ploetzlich durch die thuer herein das graue maennchen mit dem eisernen stabe guten tag mein herr  schoen dank mein herr - 0 \n",
      "\n",
      "35 - [0.57773757] - busch_1910_30ff - darauf bat es um eine kleine gabe da hast du brod sprach muschetier und gab ihm ein gutes stueck aber das maennchen versahs mit absicht so dass das brod auf die erde fiel wie was sagte muschetier wirfst du gottes gabe auf die erde sprang eilig herzu riss dem maennchen den eisenstab aus der hand und pruegelte es damit so tuechtig durch dass es erbaermlich quickend durch die thuere entsprang nun setzte er sich mit ruhe zum essen nieder bald kamen auch die beiden andern von der jagd zurueck da wies ihnen muschetier den eisernen stock und sagte kennt ihr den mich duenkt dass es euch hier nicht zum besten ergangen ist da mussten die zwei alles bekennen wir haben uns hier nun lange genug verweilt sprach muschetier darauf es wird zeit weiter zu ziehen dass wir womoeglich die riesen bekaempfen und des koenigs dank und lohn empfangen moegen ob nun gleich grenadier und pumpedier gern noch laenger in dem schlosse verblieben waeren so mochten sie doch allein das wagstueck nicht 32 bestehen entsagten darum der warmen loeffelkost fuellten die ranzen wieder mit trockener ware und zogen weiter in den dichten wald hinein - 0 \n",
      "\n",
      "55 - [0.34445816] - busch_1910_59ff - die sind es die euch noch fehlen dass ihr ganz gluecklich seid und zu finden sind sie auf einem hohen berge wenn da einer hinaufkommt so faengt es an zu donnern und zu blitzen und die erde bebt und wenn der welcher die drei dinge holen will sich umsieht so wird er in einen stein verwandelt - 0 \n",
      "\n",
      "59 - [0.37232894] - busch_1910_59ff - sie musste erst viele meilen gehn bis sie endlich an den berg kam wo der vogel der wahrheit das wasser des lebens und der apfel sina zu finden waren da faltete sie ihre haende und betete erst und da sie nun den berg hinanstieg fing es ploetzlich an zu donnern und zu wetterleuchten und die erde bebte doch stieg sie getrost ohne hinter sich zu schauen bis zum gipfel wo der baum stand mit dem apfel sina und ein brunnen floss daraus das wasser des lebens quoll nachdem sie den apfel gepflueckt und von dem wasser geschoepft hatte wollte sie wieder fortgehen da rief der vogel der wahrheit vergiss meiner nicht vergiss meiner nicht da nahm sie den vogel auch mit sich den sie beinahe ganz vergessen haette - 0 \n",
      "\n",
      "65 - [0.35473514] - kuhn_1859_270ff - textgrid repository 2012 kuhn adalbert maerchen und sagen maerkische sagen und maerchen maerchen 5 der dumme michel 5 der dumme michel digitale bibliothek textgrid https//hdlhandlenet/11858/00 1734 0000 0003 cb7e 8 - 0 \n",
      "\n",
      "67 - [0.31655562] - meier 1txt - eins - 0 \n",
      "\n",
      "70 - [0.33072543] - meier 1txt - 1 - 0 \n",
      "\n",
      "76 - [0.33072543] - mess_44 - hinter mir dunkel und vorne mir klar - 0 \n",
      "\n",
      "78 - [0.60812694] - mess_44 - am andern morgen war der prinz sehr uebler laune er hatte die ganze nacht gewacht und immer an seine schoene taenzerin gedacht aschenpuester musste ihm die stiefel putzen das that sie auch aber ein kleiner flecken an den zehen blieb ungeputzt das bemerkte der prinz kam zornig in die kueche hinein und warf ihr den stiefel an den kopf - 0 \n",
      "\n",
      "79 - [0.7393435] - mess_44 - am naechsten abend wurde wieder getanzt und aschenpuester bat den koch wieder um erlaubniss diesmal zog sie das goldene kleid an und fuhr im wagen dahin der prinz hatte schon nach ihr ausgeschaut und wurde sehr vergnuegt als sie kam beim tanze fragte er sie wo sie zu hause sei in stiefelschmeiss antwortete sie sie blieb eine stunde da dann verschwand sie umsonst fragte der prinz wo stiefelschmeiss laege niemand konnte es ihm sagen - 0 \n",
      "\n",
      "80 - [0.3259824] - mess_44 - der prinz that die nacht wieder kein auge zu und war noch verdriesslicher als am tage vorher aschenpuester musste ihm den rock buersten sie konnte es ihm aber nicht recht machen und zuletzt warf er ihr die buerste an den kopf - 0 \n",
      "\n",
      "91 - [0.30265337] - mess_46 -  na gut sagte sich der fischer da ich lass ihn wieder frei - 0 \n",
      "\n",
      "92 - [0.43221414] - mess_46 - er nahm ihn also vom haken und warf ihn wieder ins meer - 0 \n",
      "\n",
      "93 - [0.5335488] - mess_46 - als er am abend nach hause kam und seiner frau erzaehlte was er gesehen und gehoert hatte wurde sie boese weil sie nichts zu essen hatten - 0 \n",
      "\n",
      "94 - [0.4965499] - mess_46 - am naechsten morgen ging der fischer wieder zum fischen und fing das goldene fischchen noch einmal da sagte es ihm - 0 \n",
      "\n",
      "102 - [0.33072543] - mess_46 -  dort drueben sagte sie - 0 \n",
      "\n",
      "112 - [0.3430611] - mess_46 - er schlug an die pforte und hoerte eine kraeftige stimme von innen - 0 \n",
      "\n",
      "116 - [0.4185882] - mess_46 - von dort begab sich der zwillingsbruder zum palast des koenigs als ihn die frau seines bruders sah hielt sie ihn fuer ihren mann am morgen ging er hinaus und tat so als wuerde er auf jagd gehen zufaellig schlug er denselben weg ein der zur burg fuehrte als er nach seinem bruder suchte stand er mit einem mal vor der grossen burg in der die lamia wohnte - 0 \n",
      "\n",
      "117 - [0.4093026] - mess_46 - er klopfte an die pforte und auch er hoerte eine kraeftige stimme - 0 \n",
      "\n",
      "124 - [0.3834648] - mess_47 - wie der schneider nun so hinter dem riesen einherging lief ihm ein spatz unter den fuessen herum er bueckte sich ergriff den vogel und trug ihn ohne dass der riese es sah fortan in der hand - 0 \n",
      "\n",
      "126 - [0.58705103] - mess_47 - da bueckte sich auch der schneider als wolle er einen stein aufheben liess aber den vogel fliegen dieser flog so weit dass der riese gar nicht bemerken konnte wo der stein zur erde fiel - 0 \n",
      "\n",
      "142 - [0.39954096] - mess_47 - der schneider aber machte sich nicht viel daraus sondern band sein rothes band um den leib und wie er es betrachtete las er die worte du wirst sieger seyn - 0 \n",
      "\n",
      "143 - [0.3643124] - mess_47 - er zog also getrost aus da sein pferd aber sehr matt ging so blieb er haeufig zurueck und so auch in dem augenblicke wo die feinde lauter heiden an der seite herankamen eben strauchelte das pferd und riss im fallen ein kreuz um welches an dem wege stand das kreuz aber fiel auf den schneider welcher es fasste und weil es nicht schwer war in der hand behielt so ging es gegen den feind dieser aber wurde kaum des kreuzes ansichtig welches der schneider an der spitze des heeres trug als sie in wilder flucht umkehrten und dem schneider den vollstaendigsten sieg ueberliessen sie hatten naemlich vermeynt dass der gott der christen mit diesen streite und gegen einen gott koennten menschen nicht kaempfen - 0 \n",
      "\n",
      "145 - [0.40077662] - mess_47 - von da an lebten sie noch lange und gluecklich tiefenbach - 0 \n",
      "\n",
      "174 - [0.4941861] - mess_51 - nun blieb sie bei benjamin zu haus und half ihm in der arbeit die elfe zogen in den wald fingen gewild rehe voegel und taeuberchen damit sie zu essen hatten und die schwester und benjamin sorgten dass es zubereitet wurde sie suchte das holz zum kochen und die kraeuter zum gemues und stellte 82 die toepfe ans feuer also dass die mahlzeit immer fertig war wenn die elfe kamen sie hielt auch sonst ordnung im haeuschen und deckte die bettlein huebsch weiss und rein und die brueder waren immer zufrieden und lebten in grosser einigkeit mit ihr - 0 \n",
      "\n",
      "181 - [0.4930232] - mess_52 - am andern tage ging er mit seinen hunden wieder in den wald da trat der zwerg wieder zu ihm und fuehrte ihn in eine hoehle wo tsackos flinten und allerlei jaegerkram darin war von diesen dingen soll er sich etwas waehlen und er nimmt eine buechse und einen tsako woran geschrieben steht ich bin jaeger ueber alle jaeger und wie er den tsacko aufsetzte da war er auch ein jaeger ueber alle jaeger und die drei hunde heulten so freudig nun ging er fort und kam in ein foersterhaus da nahm ihn der foerster in dienst und er schoss mehr wild als alle andern jaeger zusammengenommen - 0 \n",
      "\n",
      "191 - [0.3349762] - mess_53 - nun betheuerte aber die koenigin ihrem gemahl ihre und seines bruders unschuld niemals habe dieser ungebuehrliches 23 von ihr verlangt nur einmal wie er sie auch wieder so angeschaut habe er sie um einen kuss gebeten und den habe sie ihm nicht gegeben - 0 \n",
      "\n"
     ]
    }
   ],
   "source": [
    "mod_pred = model.predict(x_mess)\n",
    "cutoff_value = 0.3\n",
    "for i in range(len(y_mess)):\n",
    "    if mod_pred[i,0]>cutoff_value:\n",
    "        if ((i==0)|(mod_pred[i-1,0]>cutoff_value))|(mod_pred[i+0]>cutoff_value):\n",
    "            #if df.index_string ==0:\n",
    "                print (i+0,\"-\",\n",
    "                  #i+2,\"-\", \n",
    "                  #y_test[i],\"-\", \n",
    "                  mod_pred[i],\"-\",\n",
    "                  df.quelle[i+0],\"-\", \n",
    "                  df.episode[i+0],\"-\",\n",
    "                  df.index_string[i+0],'\\n')"
   ]
  },
  {
   "cell_type": "markdown",
   "metadata": {},
   "source": [
    "Voraussage: gewünschte Datensetze abrufen"
   ]
  },
  {
   "cell_type": "code",
   "execution_count": 78,
   "metadata": {},
   "outputs": [],
   "source": [
    "#for i in range(len(x_mess)):\n",
    "    #if i>30:\n",
    "        #print(i+0,\"-\",\n",
    "              #model.predict(x_mess)[i],\"-\",\n",
    "              #df.quelle[i+0],\"-\",\n",
    "              #df.episode[i+0],\"-\",\n",
    "              #df.index_string[i+0],'\\n')"
   ]
  }
 ],
 "metadata": {
  "kernelspec": {
   "display_name": "Python 3",
   "language": "python",
   "name": "python3"
  },
  "language_info": {
   "codemirror_mode": {
    "name": "ipython",
    "version": 3
   },
   "file_extension": ".py",
   "mimetype": "text/x-python",
   "name": "python",
   "nbconvert_exporter": "python",
   "pygments_lexer": "ipython3",
   "version": "3.7.4"
  }
 },
 "nbformat": 4,
 "nbformat_minor": 2
}
