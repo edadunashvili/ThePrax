{
 "cells": [
  {
   "cell_type": "markdown",
   "metadata": {},
   "source": [
    "## Umgebung vorbereiten"
   ]
  },
  {
   "cell_type": "code",
   "execution_count": null,
   "metadata": {},
   "outputs": [],
   "source": [
    "!pwd"
   ]
  },
  {
   "cell_type": "code",
   "execution_count": null,
   "metadata": {},
   "outputs": [],
   "source": [
    "!git clone https://github.com/edadunashvili/ThePrax.git"
   ]
  },
  {
   "cell_type": "code",
   "execution_count": null,
   "metadata": {},
   "outputs": [],
   "source": [
    "cd ThePrax"
   ]
  },
  {
   "cell_type": "code",
   "execution_count": null,
   "metadata": {},
   "outputs": [],
   "source": [
    "!pwd"
   ]
  },
  {
   "cell_type": "code",
   "execution_count": null,
   "metadata": {},
   "outputs": [],
   "source": [
    "!pip install pyprind"
   ]
  },
  {
   "cell_type": "code",
   "execution_count": null,
   "metadata": {},
   "outputs": [],
   "source": [
    "from IPython.display import HTML, display\n",
    "\n",
    "def set_css():\n",
    "  display(HTML('''\n",
    "  <style>\n",
    "    pre {\n",
    "        white-space: pre-wrap;\n",
    "    }\n",
    "  </style>\n",
    "  '''))\n",
    "get_ipython().events.register('pre_run_cell', set_css)"
   ]
  },
  {
   "cell_type": "markdown",
   "metadata": {},
   "source": [
    "## Korpus von Trainingsdaten erstellen"
   ]
  },
  {
   "cell_type": "markdown",
   "metadata": {},
   "source": [
    " !!! Den gesuchten Typ bestimmen !!!"
   ]
  },
  {
   "cell_type": "code",
   "execution_count": 1,
   "metadata": {},
   "outputs": [],
   "source": [
    "typNum='300'\n",
    "episode_string_train = \"a300_string_train.csv\"\n",
    "episode_roh_train = \"a300_roh_train.csv\""
   ]
  },
  {
   "cell_type": "markdown",
   "metadata": {},
   "source": [
    "Vorhandener gleichnamiger Korpus wird gelöscht "
   ]
  },
  {
   "cell_type": "code",
   "execution_count": 2,
   "metadata": {},
   "outputs": [
    {
     "name": "stdout",
     "output_type": "stream",
     "text": [
      "Diese Datei existiert nicht\n"
     ]
    }
   ],
   "source": [
    "import os\n",
    "if os.path.exists(episode_string_train):\n",
    "    os.remove(episode_string_train)\n",
    "else:\n",
    "    print(\"Diese Datei existiert nicht\")"
   ]
  },
  {
   "cell_type": "markdown",
   "metadata": {},
   "source": [
    "Im Ordner \"Trainingsdaten\" nach den entsprechenden Textdateien suchen und in einer rohe Datei zusammentragen"
   ]
  },
  {
   "cell_type": "code",
   "execution_count": 3,
   "metadata": {},
   "outputs": [],
   "source": [
    "import glob\n",
    "\n",
    "def word_to_lex(word):\n",
    "    ret=(word) \n",
    "    return ret\n",
    "\n",
    "def write_back(words):\n",
    "    with open(episode_roh_train,\"a\", encoding='utf-8') as output:\n",
    "        for word in words:\n",
    "            #print(word)\n",
    "            as_lex = word_to_lex(word[0])\n",
    "            full_word = '\"' + as_lex + '\"'\n",
    "            for sub_word in word[1:]:\n",
    "                full_word += \" , \"  '\"' + sub_word + '\"'\n",
    "            full_word +=\"\\n\"\n",
    "            output.write(full_word)\n",
    "\n",
    "def clean(line):\n",
    "    line = line.replace(\"\\n\",\" \").strip().lower()\n",
    "    line = line.replace(\"ä\",\"ae\").replace(\"ü\",\"ue\").replace(\"ö\",\"oe\").replace(\"ß\",\"ss\").replace(\",\",\"\").replace(\"«\",\"\")\n",
    "    line = line.replace(\"»\",\"\").replace(\".\",\"\").replace(\":\",\"\").replace(\";\",\"\").replace('\"',\"\")\n",
    "    line = line.replace(\"?\",\"\").replace(\"!\",\"\").replace(\"á\",\"a\").replace(\",\",\"\").replace(\"\\t\",\" \").replace(\"'\",\"\")\n",
    "    line = line.replace(\"‹\",\"\").replace(\"›\",\"\").replace(\"-\",\" \").replace(\"'('\",\"\").replace(\"')'\",\"\").replace('>','')\n",
    "    line = line.replace(\"    \",\" \").replace(\"   \",\" \").replace(\"  \",\" \").replace('–','').replace('—','').replace('<','')\n",
    "    line = line.replace(\"Â\", \"A\").replace(\"ø\", \"oe\").replace('“','').replace('„','').replace('(','').replace(')','')\n",
    "    line = line.replace(\"‚\", \"\").replace(']','').replace('[','')\n",
    "    if line == \"\": \n",
    "        return\n",
    "    \n",
    "    line=line.split(\"|\")\n",
    "    line[0]=line[0].split(\"|\")[0]\n",
    "    flex=[]\n",
    "    try:\n",
    "        flex=line[1].split(\"\")\n",
    "    except:\n",
    "        pass\n",
    "    value=str(line)\n",
    "    line=str(line)   \n",
    "    flex.append(line)\n",
    "    ret=[]\n",
    "    for i in flex:\n",
    "        ret.append((i,value[0]))\n",
    "    return ret\n",
    "\n",
    "with open(episode_roh_train, \"w\", encoding='utf-8') as output:\n",
    "    output.write (\"quelle,episode,index_string,index_binar\\n\")\n",
    "pairs = []\n",
    "\n",
    "\n",
    "for file in glob.glob(\"Trainingsdaten/*.txt\"):\n",
    "    \n",
    "    if typNum in file:\n",
    "        with open(file, 'r', encoding='utf-8') as episode:\n",
    "            for line in episode.readlines():\n",
    "                clean_words = clean(line)\n",
    "                pairs = pairs + clean_words\n",
    "write_back(pairs)"
   ]
  },
  {
   "cell_type": "markdown",
   "metadata": {},
   "source": [
    "Rohdatei endgültig überarbeiten und in eine CSV Datei speichern"
   ]
  },
  {
   "cell_type": "code",
   "execution_count": 4,
   "metadata": {},
   "outputs": [],
   "source": [
    "fin = open(episode_roh_train,'r', encoding ='utf-8')\n",
    "fout = open(episode_string_train, \"wt\", encoding ='utf-8')\n",
    "for kfz in fin:\n",
    "    fout.write(kfz.replace(', \"[\"',\"\").replace('\"[', \"\").replace(']\"',\"\").replace(\"', '\", \"','\").replace(\" '\", \"'\"))                      \n",
    "fin.close()\n",
    "fout.close()"
   ]
  },
  {
   "cell_type": "markdown",
   "metadata": {},
   "source": [
    "Liste von einmaligen Episoden aus der CSV Datei zeigen"
   ]
  },
  {
   "cell_type": "code",
   "execution_count": 5,
   "metadata": {
    "scrolled": true
   },
   "outputs": [
    {
     "name": "stdout",
     "output_type": "stream",
     "text": [
      "Counter({\"'e300_e_vorfeld_des_kampfes_bis_zum_sieg'\": 41, \"'e300_c_anfangssituation_ankunft_und_erkundigung_der_not'\": 36, \"'e300_o_auftritt_des_helden_vor_dem_koenig_bis_zum_ende_der_geschichte'\": 34, \"'e300_g_nach_dem_sieg_bis_zur_trennung_des_befreiers_und_der_befreiten'\": 30, \"'e300_k_misshandlung_des_falschen_helden_bis_zur_hochzeitstag'\": 28, \"'e554_a_'\": 20, \"'e300_m_rueckkehr_des_helden_ _von_der_erkundung_ueber_die_hochzeit_bis_zum_wiedergewinn_der_aufmerksamkeit'\": 19, \"'e303_c_eingangssituation_bis_zur_trennung'\": 16, \"'e303_g_erstes_treffen_mit_der_hexen'\": 16, \"'e303_i_vom_erkundigung_der_not_bis_zum_aufbruch_des_helden_zur_hexe'\": 15, \"'e303_k_vom_afbruch_zur_hexe_bis_zur_ihren_ueberweltigung'\": 15, \"'eundf_a_'\": 13, \"'e315_a_'\": 12, \"'ecom_a_'\": 11, \"'e300_l_wiederbelebung_des_helden'\": 8, \"'e300_i_rueckkehr_der_koenigstochter_und_die_suche_nach_dem_held retter'\": 7, \"'e301_a_'\": 7, \"'e550_a_'\": 7, \"'e562_a_'\": 6, \"'e303_m_eifersucht'\": 5, \"'e328_a_'\": 4, \"'e303_q_rueckkehr_und_finale'\": 4, \"'e567_a_'\": 3, \"'e516_a_'\": 2, \"'e513a_a_'\": 2, \"'e302_a_'\": 2, \"'eamom_a_'\": 1, \"'e314_a_'\": 1, \"'e850_a_'\": 1, \"'e303_o_erloesung_der_hexe'\": 1, \"'e590_a_'\": 1})\n"
     ]
    }
   ],
   "source": [
    "import pandas as pd\n",
    "df = pd.read_csv(episode_string_train, encoding='utf-8')\n",
    "from collections import Counter\n",
    "indexliste=Counter(df.index_string)\n",
    "print(indexliste, sep='\\n')"
   ]
  },
  {
   "cell_type": "markdown",
   "metadata": {},
   "source": [
    "## Modell erstellen und trainieren"
   ]
  },
  {
   "cell_type": "markdown",
   "metadata": {},
   "source": [
    "Bibliotheken laden"
   ]
  },
  {
   "cell_type": "code",
   "execution_count": 6,
   "metadata": {},
   "outputs": [
    {
     "name": "stderr",
     "output_type": "stream",
     "text": [
      "Using TensorFlow backend.\n"
     ]
    }
   ],
   "source": [
    "import keras\n",
    "import glob\n",
    "import matplotlib.pyplot as plt\n",
    "import nltk\n",
    "import numpy as np\n",
    "import pyprind\n",
    "import pandas as pd\n",
    "import random\n",
    "import re\n",
    "import string\n",
    "from collections import Counter\n",
    "from nltk.corpus import stopwords\n",
    "from keras import backend as K\n",
    "from keras import layers\n",
    "from keras import losses\n",
    "from keras import models\n",
    "from keras import metrics\n",
    "from keras import optimizers\n",
    "from keras.preprocessing import sequence"
   ]
  },
  {
   "cell_type": "markdown",
   "metadata": {},
   "source": [
    "!!! Variable anpassen !!!"
   ]
  },
  {
   "cell_type": "code",
   "execution_count": 7,
   "metadata": {},
   "outputs": [],
   "source": [
    "ziel_episode = 'e300_c_anfangssituation_ankunft_und_erkundigung_der_not'\n",
    "mini_frequenz = 2\n",
    "k_fach = 5\n",
    "layD = 96\n",
    "episode_string_train = 'a300_string_train.csv' \n",
    "episode_binar_train = 'a300_binar_train.csv'"
   ]
  },
  {
   "cell_type": "code",
   "execution_count": null,
   "metadata": {},
   "outputs": [],
   "source": []
  },
  {
   "cell_type": "markdown",
   "metadata": {},
   "source": [
    "Aufbereitung der Trainingsdaten.\n",
    "Rohdaten laden und und den Episodenbestand betrachten"
   ]
  },
  {
   "cell_type": "code",
   "execution_count": 8,
   "metadata": {},
   "outputs": [],
   "source": [
    "fin = open(episode_string_train,'r', encoding='utf-8') \n",
    "fout = open(episode_binar_train, \"wt\", encoding='utf-8')\n",
    "for efz in fin:\n",
    "    fout.write(efz.replace(\"'\",\"\"))  \n",
    "fin.close()\n",
    "fout.close()"
   ]
  },
  {
   "cell_type": "markdown",
   "metadata": {},
   "source": [
    "Die in der CSV Datei etikettierte Episoden auflisten"
   ]
  },
  {
   "cell_type": "code",
   "execution_count": 9,
   "metadata": {},
   "outputs": [
    {
     "name": "stdout",
     "output_type": "stream",
     "text": [
      "eamom_a_\n",
      "e516_a_\n",
      "e513a_a_\n",
      "e302_a_\n",
      "e300_c_anfangssituation_ankunft_und_erkundigung_der_not\n",
      "e300_e_vorfeld_des_kampfes_bis_zum_sieg\n",
      "e300_g_nach_dem_sieg_bis_zur_trennung_des_befreiers_und_der_befreiten\n",
      "e300_k_misshandlung_des_falschen_helden_bis_zur_hochzeitstag\n",
      "e300_i_rueckkehr_der_koenigstochter_und_die_suche_nach_dem_held retter\n",
      "e300_o_auftritt_des_helden_vor_dem_koenig_bis_zum_ende_der_geschichte\n",
      "e554_a_\n",
      "e301_a_\n",
      "e328_a_\n",
      "ecom_a_\n",
      "eundf_a_\n",
      "e300_l_wiederbelebung_des_helden\n",
      "e300_m_rueckkehr_des_helden_ _von_der_erkundung_ueber_die_hochzeit_bis_zum_wiedergewinn_der_aufmerksamkeit\n",
      "e303_c_eingangssituation_bis_zur_trennung\n",
      "e314_a_\n",
      "e850_a_\n",
      "e303_g_erstes_treffen_mit_der_hexen\n",
      "e303_i_vom_erkundigung_der_not_bis_zum_aufbruch_des_helden_zur_hexe\n",
      "e303_k_vom_afbruch_zur_hexe_bis_zur_ihren_ueberweltigung\n",
      "e303_m_eifersucht\n",
      "e315_a_\n",
      "e303_q_rueckkehr_und_finale\n",
      "e567_a_\n",
      "e303_o_erloesung_der_hexe\n",
      "e562_a_\n",
      "e550_a_\n",
      "e590_a_\n"
     ]
    }
   ],
   "source": [
    "df = pd.read_csv(episode_binar_train, encoding='utf-8')\n",
    "indexliste=Counter(df.index_string)\n",
    "print(*indexliste, sep='\\n')"
   ]
  },
  {
   "cell_type": "markdown",
   "metadata": {},
   "source": [
    "Die gesuchte Episode etikettieren und den Rohdaten in Trainingsdaten umwandeln"
   ]
  },
  {
   "cell_type": "code",
   "execution_count": 10,
   "metadata": {},
   "outputs": [],
   "source": [
    "for i,e in enumerate(df.index_string):\n",
    "    if e == ziel_episode:\n",
    "        df.index_binar[i]='1'\n",
    "    else: \n",
    "        df.index_binar[i]='0'"
   ]
  },
  {
   "cell_type": "code",
   "execution_count": 11,
   "metadata": {},
   "outputs": [],
   "source": [
    "df.to_csv(episode_binar_train, encoding='utf-8', index=False)"
   ]
  },
  {
   "cell_type": "markdown",
   "metadata": {},
   "source": [
    "Trainngsdaten aufbereiten. Das Vorkommen jedes Wortes zählen"
   ]
  },
  {
   "cell_type": "code",
   "execution_count": 12,
   "metadata": {},
   "outputs": [
    {
     "name": "stderr",
     "output_type": "stream",
     "text": [
      "[nltk_data] Downloading package stopwords to\n",
      "[nltk_data]     C:\\Users\\elguj\\AppData\\Roaming\\nltk_data...\n",
      "[nltk_data]   Unzipping corpora\\stopwords.zip.\n",
      "Vorkommen der Wörter zählen\n",
      "0% [##############################] 100% | ETA: 00:00:00\n",
      "Total time elapsed: 00:00:00\n"
     ]
    }
   ],
   "source": [
    "nltk.download('stopwords')\n",
    "w = stopwords.words('german')\n",
    "counts = Counter()\n",
    "pbar = pyprind.ProgBar(len(df['episode']),\n",
    "                       title='Vorkommen der Wörter zählen')\n",
    "for i, episode in enumerate(df['episode']): \n",
    "        pbar.update()\n",
    "        counts.update(episode.split())\n",
    "new_counts = {}\n",
    "for k, v in counts.items():\n",
    "    if v > mini_frequenz and k not in w:\n",
    "        new_counts[k] = v\n",
    "counts = Counter(new_counts)"
   ]
  },
  {
   "cell_type": "code",
   "execution_count": 13,
   "metadata": {},
   "outputs": [],
   "source": [
    "#print(counts)"
   ]
  },
  {
   "cell_type": "markdown",
   "metadata": {},
   "source": [
    "Zuordnung erzeugen und den verschiedenen Wörtern eindeutige Zahlen zuordnen"
   ]
  },
  {
   "cell_type": "code",
   "execution_count": 14,
   "metadata": {},
   "outputs": [
    {
     "name": "stderr",
     "output_type": "stream",
     "text": [
      "Episoden Zahlen zuordnen\n",
      "0% [##############################] 100% | ETA: 00:00:00\n",
      "Total time elapsed: 00:00:00\n"
     ]
    }
   ],
   "source": [
    "word_counts = sorted(counts, key=counts.get, reverse=True)\n",
    "word_to_int = {word: ii for ii, word in enumerate(word_counts,0)}\n",
    "mapped_episoden = []\n",
    "pbar = pyprind.ProgBar(len(df['episode']),\n",
    "                       title='Episoden Zahlen zuordnen')\n",
    "for episode in df['episode']:\n",
    "    mapped_episoden.append([word_to_int.get(word) for word in episode.split()])\n",
    "    pbar.update()\n",
    "mapped_episoden = [list(filter(None, el)) for el in mapped_episoden]"
   ]
  },
  {
   "cell_type": "code",
   "execution_count": 15,
   "metadata": {},
   "outputs": [],
   "source": [
    "#print(word_to_int)"
   ]
  },
  {
   "cell_type": "code",
   "execution_count": 16,
   "metadata": {},
   "outputs": [],
   "source": [
    "#print(mapped_episoden[0])"
   ]
  },
  {
   "cell_type": "markdown",
   "metadata": {},
   "source": [
    "Traiingsndaten und Trainingslabels bestimmen"
   ]
  },
  {
   "cell_type": "code",
   "execution_count": 17,
   "metadata": {},
   "outputs": [
    {
     "name": "stdout",
     "output_type": "stream",
     "text": [
      "sequences = 2593   train_data = 368\n"
     ]
    }
   ],
   "source": [
    "train_data = mapped_episoden[0:] \n",
    "train_labels = df.loc[0:, 'index_binar'].values\n",
    "print(\"sequences =\",max([max(sequences) for sequences in mapped_episoden if len(sequences)>0]),\" \",\n",
    "      \"train_data =\", len (train_data))"
   ]
  },
  {
   "cell_type": "markdown",
   "metadata": {},
   "source": [
    "Trainingsdaten und -Labels vektorisieren"
   ]
  },
  {
   "cell_type": "code",
   "execution_count": 18,
   "metadata": {},
   "outputs": [],
   "source": [
    "sequences_laenge=max([max(sequences) for sequences in mapped_episoden if len(sequences)>0])\n",
    "def vectorize_sequences(sequences, dimension=sequences_laenge+1): \n",
    "    results = np.zeros((len(sequences), dimension))\n",
    "    for i, sequence in enumerate(sequences):\n",
    "        results[i, sequence] = 1.\n",
    "    return results\n",
    "x_train = vectorize_sequences(train_data) \n",
    "y_train = np.asarray(train_labels).astype('float32')"
   ]
  },
  {
   "cell_type": "code",
   "execution_count": 19,
   "metadata": {},
   "outputs": [],
   "source": [
    "#for i, element in enumerate(x_train[0]):\n",
    "    #print(i,'-', element)"
   ]
  },
  {
   "cell_type": "markdown",
   "metadata": {},
   "source": [
    "Neuronales Netz erzeugen"
   ]
  },
  {
   "cell_type": "code",
   "execution_count": 21,
   "metadata": {},
   "outputs": [],
   "source": [
    "def build_model():\n",
    "    model = models.Sequential()\n",
    "    model.add(layers.Dense(layD, activation='tanh',\n",
    "                           input_shape=(sequences_laenge+1,)))\n",
    "    #model.add(layers.Dense(layD, activation='relu'))\n",
    "    model.add(layers.Dense(layD, activation='tanh')) \n",
    "    model.add(layers.Dense((1), activation='sigmoid'))\n",
    "    model.compile(optimizer='rmsprop', loss='mse', metrics=['binary_accuracy'])\n",
    "    return model"
   ]
  },
  {
   "cell_type": "markdown",
   "metadata": {},
   "source": [
    "Neuronales Netz trainieren"
   ]
  },
  {
   "cell_type": "code",
   "execution_count": 22,
   "metadata": {},
   "outputs": [
    {
     "name": "stdout",
     "output_type": "stream",
     "text": [
      "processing fold # 0\n",
      "WARNING:tensorflow:From C:\\Users\\elguj\\AppData\\Roaming\\Python\\Python37\\site-packages\\tensorflow\\python\\framework\\op_def_library.py:263: colocate_with (from tensorflow.python.framework.ops) is deprecated and will be removed in a future version.\n",
      "Instructions for updating:\n",
      "Colocations handled automatically by placer.\n",
      "WARNING:tensorflow:From C:\\Users\\elguj\\AppData\\Roaming\\Python\\Python37\\site-packages\\tensorflow\\python\\ops\\math_ops.py:3066: to_int32 (from tensorflow.python.ops.math_ops) is deprecated and will be removed in a future version.\n",
      "Instructions for updating:\n",
      "Use tf.cast instead.\n",
      "processing fold # 1\n",
      "processing fold # 2\n",
      "processing fold # 3\n",
      "processing fold # 4\n"
     ]
    }
   ],
   "source": [
    "k = k_fach\n",
    "num_val_samples = len(x_train) // k \n",
    "num_epochs = 4\n",
    "all_scores = []\n",
    "for i in range(k):\n",
    "    print('processing fold #', i)\n",
    "    # Prepare the validation data: data from partition # k\n",
    "    val_data = x_train[i * num_val_samples: (i + 1) * num_val_samples]\n",
    "    val_targets = y_train[i * num_val_samples: (i + 1) * num_val_samples]\n",
    "\n",
    "    # Prepare the training data: data from all other partitions\n",
    "    partial_x_train = np.concatenate(\n",
    "        [x_train[:i * num_val_samples],\n",
    "         x_train[(i + 1) * num_val_samples:]],\n",
    "        axis=0)\n",
    "    partial_y_train = np.concatenate(\n",
    "        [y_train[:i * num_val_samples],\n",
    "         y_train[(i + 1) * num_val_samples:]],\n",
    "        axis=0)\n",
    "\n",
    "    # Build the Keras model (already compiled)\n",
    "    model = build_model()\n",
    "    # Train the model (in silent mode, verbose=0)\n",
    "    model.fit(partial_x_train, partial_y_train,\n",
    "              epochs=num_epochs, batch_size = 8, verbose=0)\n",
    "    # Evaluate the model on the validation data\n",
    "    val_mse, val_binary_accuracy = model.evaluate(val_data, val_targets, verbose=0)\n",
    "    all_scores.append(val_binary_accuracy)"
   ]
  },
  {
   "cell_type": "code",
   "execution_count": 23,
   "metadata": {},
   "outputs": [
    {
     "data": {
      "text/plain": [
       "[0.958904109589041,\n",
       " 0.9726027397260274,\n",
       " 0.9726027397260274,\n",
       " 0.9726027397260274,\n",
       " 0.9041095890410958]"
      ]
     },
     "execution_count": 23,
     "metadata": {},
     "output_type": "execute_result"
    }
   ],
   "source": [
    "all_scores"
   ]
  },
  {
   "cell_type": "code",
   "execution_count": 24,
   "metadata": {},
   "outputs": [
    {
     "data": {
      "text/plain": [
       "0.9561643835616438"
      ]
     },
     "execution_count": 24,
     "metadata": {},
     "output_type": "execute_result"
    }
   ],
   "source": [
    "np.mean(all_scores)"
   ]
  },
  {
   "cell_type": "code",
   "execution_count": 25,
   "metadata": {},
   "outputs": [
    {
     "name": "stdout",
     "output_type": "stream",
     "text": [
      "processing fold # 0\n",
      "processing fold # 1\n",
      "processing fold # 2\n",
      "processing fold # 3\n",
      "processing fold # 4\n"
     ]
    }
   ],
   "source": [
    "num_epochs = 8\n",
    "all_binary_accuracy_histories = []\n",
    "for i in range(k):\n",
    "    print('processing fold #', i)\n",
    "    # Prepare the validation data: data from partition # k\n",
    "    val_data = x_train[i * num_val_samples: (i + 1) * num_val_samples]\n",
    "    val_targets = y_train[i * num_val_samples: (i + 1) * num_val_samples]\n",
    "\n",
    "    # Prepare the training data: data from all other partitions\n",
    "    partial_x_train = np.concatenate(\n",
    "        [x_train[:i * num_val_samples],\n",
    "         x_train[(i + 1) * num_val_samples:]],\n",
    "        axis=0)\n",
    "    partial_y_train = np.concatenate(\n",
    "        [y_train[:i * num_val_samples],\n",
    "         y_train[(i + 1) * num_val_samples:]],\n",
    "        axis=0)\n",
    "\n",
    "    # Build the Keras model (already compiled)\n",
    "    model = build_model()\n",
    "    # Train the model (in silent mode, verbose=0)\n",
    "    history = model.fit(partial_x_train, partial_y_train,\n",
    "                        validation_data=(val_data, val_targets),\n",
    "                        epochs=num_epochs, batch_size = 8, verbose=0)\n",
    "    binary_accuracy_history = history.history['val_binary_accuracy']\n",
    "    all_binary_accuracy_histories.append(binary_accuracy_history)"
   ]
  },
  {
   "cell_type": "code",
   "execution_count": 26,
   "metadata": {},
   "outputs": [
    {
     "name": "stdout",
     "output_type": "stream",
     "text": [
      "0 - 0.9452054794520548\n",
      "1 - 0.9616438356164382\n",
      "2 - 0.958904109589041\n",
      "3 - 0.9561643835616438\n",
      "4 - 0.958904109589041\n",
      "5 - 0.9561643835616438\n",
      "6 - 0.9561643835616438\n",
      "7 - 0.9561643835616438\n"
     ]
    }
   ],
   "source": [
    "average_binary_accuracy_history = [\n",
    "    np.mean([x[i] for x in all_binary_accuracy_histories]) for i in range(num_epochs)]\n",
    "for i, element in enumerate(average_binary_accuracy_history):\n",
    "    print(i,'-', element)"
   ]
  },
  {
   "cell_type": "markdown",
   "metadata": {},
   "source": [
    "## Messdaten erstellen"
   ]
  },
  {
   "cell_type": "markdown",
   "metadata": {},
   "source": [
    "!!! Den gesuchten Typ bestimmen !!!"
   ]
  },
  {
   "cell_type": "code",
   "execution_count": 149,
   "metadata": {},
   "outputs": [],
   "source": [
    "typNum =''\n",
    "episode_string_mess = \"gesamt_string_mess.csv\"\n",
    "episode_roh_mess = \"gesamt_roh_mess.csv\"\n",
    "episode_binar_mess = \"gesamt_binar_mess.csv\""
   ]
  },
  {
   "cell_type": "markdown",
   "metadata": {},
   "source": [
    "Alte Datei mit gleichem Namen löschen"
   ]
  },
  {
   "cell_type": "code",
   "execution_count": 150,
   "metadata": {},
   "outputs": [],
   "source": [
    "import os\n",
    "if os.path.exists(episode_string_mess):\n",
    "    os.remove(episode_string_mess)\n",
    "else:\n",
    "    print(\"Diese Datei existiert nicht\")"
   ]
  },
  {
   "cell_type": "markdown",
   "metadata": {},
   "source": [
    "Nach den entsprechenden Textdateien im Ordnet suchen und in einer rohe Datei zusammentragen"
   ]
  },
  {
   "cell_type": "code",
   "execution_count": 151,
   "metadata": {},
   "outputs": [],
   "source": [
    "import glob\n",
    "\n",
    "def word_to_lex(word):\n",
    "    ret=(word) \n",
    "    return ret\n",
    "\n",
    "def write_back(words):\n",
    "    with open(episode_roh_mess,\"a\", encoding='utf-8') as output:\n",
    "        for word in words:\n",
    "            #print(word)\n",
    "            as_lex = word_to_lex(word[0])\n",
    "            full_word = '\"' + as_lex + '\"'\n",
    "            for sub_word in word[1:]:\n",
    "                full_word += \" , \"  '\"' + sub_word + '\"'\n",
    "            full_word +=\"\\n\"\n",
    "            output.write(full_word)\n",
    "\n",
    "def clean(line):\n",
    "    line = line.replace(\"\\n\",\" \").strip().lower()\n",
    "    line = line.replace(\"ä\",\"ae\").replace(\"ü\",\"ue\").replace(\"ö\",\"oe\").replace(\"ß\",\"ss\").replace(\",\",\"\").replace(\"«\",\"\")\n",
    "    line = line.replace(\"»\",\"\").replace(\".\",\"\").replace(\":\",\"\").replace(\";\",\"\").replace('\"',\"\")\n",
    "    line = line.replace(\"?\",\"\").replace(\"!\",\"\").replace(\"á\",\"a\").replace(\",\",\"\").replace(\"\\t\",\" \").replace(\"'\",\"\")\n",
    "    line = line.replace(\"‹\",\"\").replace(\"›\",\"\").replace(\"-\",\" \").replace(\"'('\",\"\").replace(\"')'\",\"\").replace('>','')\n",
    "    line = line.replace(\"    \",\" \").replace(\"   \",\" \").replace(\"  \",\" \").replace('–','').replace('—','').replace('<','')\n",
    "    line = line.replace(\"Â\", \"A\").replace(\"ø\", \"oe\").replace('“','').replace('„','').replace('(','').replace(')','')\n",
    "    line = line.replace(\"‚\", \"\").replace(']','').replace('[','')\n",
    "    if line == \"\": \n",
    "        return\n",
    "    \n",
    "    line=line.split(\"|\")\n",
    "    line[0]=line[0].split(\"|\")[0]\n",
    "    flex=[]\n",
    "    try:\n",
    "        flex=line[1].split(\"\")\n",
    "    except:\n",
    "        pass\n",
    "    value=str(line)\n",
    "    line=str(line)   \n",
    "    flex.append(line)\n",
    "    ret=[]\n",
    "    for i in flex:\n",
    "        ret.append((i,value[0]))\n",
    "    return ret\n",
    "\n",
    "with open(episode_roh_mess, \"w\", encoding='utf-8') as output:\n",
    "    output.write (\"quelle,episode,index_string,index_binar\\n\")\n",
    "pairs = []\n",
    "\n",
    "for file in glob.glob(\"Messdaten/*.txt\"):\n",
    "    if typNum in file:\n",
    "        with open(file, 'r', encoding='utf-8') as episode:\n",
    "            for line in episode.readlines():\n",
    "                clean_words = clean(line)\n",
    "                pairs = pairs + clean_words\n",
    "write_back(pairs)"
   ]
  },
  {
   "cell_type": "markdown",
   "metadata": {},
   "source": [
    "Rohdatei endgültig überarbeiten und in eine CSV Datei speichern"
   ]
  },
  {
   "cell_type": "code",
   "execution_count": 152,
   "metadata": {},
   "outputs": [],
   "source": [
    "fin = open(episode_roh_mess,'r', encoding ='utf-8')\n",
    "fout = open(episode_string_mess, \"wt\", encoding ='utf-8')\n",
    "for kfz in fin:\n",
    "    fout.write(kfz.replace(', \"[\"',\"\").replace('\"[', \"\").replace(']\"',\"\").replace(\"', '\", \"','\").replace(\" '\", \"'\"))                      \n",
    "fin.close()\n",
    "fout.close()"
   ]
  },
  {
   "cell_type": "markdown",
   "metadata": {},
   "source": [
    "Die in der CSV Datei etikettierte Episoden auflisten"
   ]
  },
  {
   "cell_type": "code",
   "execution_count": 153,
   "metadata": {},
   "outputs": [
    {
     "name": "stdout",
     "output_type": "stream",
     "text": [
      "'0'\n"
     ]
    }
   ],
   "source": [
    "import pandas as pd\n",
    "df = pd.read_csv(episode_string_mess, encoding='utf-8')\n",
    "from collections import Counter\n",
    "indexliste=Counter(df.index_string)\n",
    "print(*indexliste, sep='\\n')"
   ]
  },
  {
   "cell_type": "markdown",
   "metadata": {},
   "source": [
    "Messdaten laden und aufbereiten"
   ]
  },
  {
   "cell_type": "code",
   "execution_count": 154,
   "metadata": {},
   "outputs": [],
   "source": [
    "fin = open(episode_string_mess,'r', encoding='utf-8') \n",
    "fout = open(episode_binar_mess, \"wt\", encoding='utf-8')\n",
    "for efz in fin:\n",
    "    fout.write(efz.replace(\"'\",\"\"))\n",
    "                                 \n",
    "fin.close()\n",
    "fout.close()"
   ]
  },
  {
   "cell_type": "code",
   "execution_count": 155,
   "metadata": {},
   "outputs": [
    {
     "name": "stdout",
     "output_type": "stream",
     "text": [
      "Counter({0: 1735})\n"
     ]
    }
   ],
   "source": [
    "df = pd.read_csv(episode_binar_mess, encoding='utf-8')\n",
    "indexliste=Counter(df.index_string)\n",
    "print(indexliste, sep='\\n')"
   ]
  },
  {
   "cell_type": "code",
   "execution_count": 156,
   "metadata": {},
   "outputs": [
    {
     "name": "stderr",
     "output_type": "stream",
     "text": [
      "C:\\Users\\elguj\\Anaconda3\\lib\\site-packages\\ipykernel_launcher.py:5: SettingWithCopyWarning: \n",
      "A value is trying to be set on a copy of a slice from a DataFrame\n",
      "\n",
      "See the caveats in the documentation: http://pandas.pydata.org/pandas-docs/stable/user_guide/indexing.html#returning-a-view-versus-a-copy\n",
      "  \"\"\"\n"
     ]
    }
   ],
   "source": [
    "for i,e in enumerate(df.index_string):\n",
    "    if e:\n",
    "        df.index_binar[i]='0'\n",
    "    else: \n",
    "        df.index_binar[i]='0'"
   ]
  },
  {
   "cell_type": "code",
   "execution_count": 157,
   "metadata": {},
   "outputs": [],
   "source": [
    "df.to_csv(episode_binar_mess, encoding='utf-8', index=False)"
   ]
  },
  {
   "cell_type": "markdown",
   "metadata": {},
   "source": [
    "Vorhandene Zuordnung laden und den verschiedenen Wörtern eindeutige Zahlen zuordnen"
   ]
  },
  {
   "cell_type": "code",
   "execution_count": 179,
   "metadata": {},
   "outputs": [
    {
     "name": "stderr",
     "output_type": "stream",
     "text": [
      "Episoden Zahlen zuordnen\n",
      "0% [##############################] 100% | ETA: 00:00:00\n",
      "Total time elapsed: 00:00:00\n"
     ]
    }
   ],
   "source": [
    "mapped_episoden_2 = []\n",
    "pbar = pyprind.ProgBar(len(df['episode']),\n",
    "                       title='Episoden Zahlen zuordnen')\n",
    "for episode in df['episode']:\n",
    "    mapped_episoden_2.append([word_to_int.get(word) for word in episode.split()])\n",
    "    pbar.update()\n",
    "\n",
    "mapped_episoden_2 = [list(filter(None, el)) for el in mapped_episoden_2]\n"
   ]
  },
  {
   "cell_type": "code",
   "execution_count": 159,
   "metadata": {},
   "outputs": [
    {
     "name": "stderr",
     "output_type": "stream",
     "text": [
      "Episoden Zahlen zuordnen\n",
      "0% [##############################] 100% | ETA: 00:00:00\n",
      "Total time elapsed: 00:00:00\n"
     ]
    }
   ],
   "source": [
    "#mapped_episoden_2 = []\n",
    "#pbar = pyprind.ProgBar(len(df['episode']),\n",
    "                       #title='Episoden Zahlen zuordnen')\n",
    "#for  episode in df['episode']:\n",
    "    #if type(episode) == str:\n",
    "        #mapped_episoden_2.append([word_to_int.get(word) for word in episode.split()])\n",
    "        #pbar.update()\n",
    "#mapped_episoden_2 = [list(filter(None, el)) for el in mapped_episoden_2]"
   ]
  },
  {
   "cell_type": "markdown",
   "metadata": {},
   "source": [
    "raiingsndaten und Trainingslabels bestimmen"
   ]
  },
  {
   "cell_type": "code",
   "execution_count": 180,
   "metadata": {},
   "outputs": [
    {
     "name": "stdout",
     "output_type": "stream",
     "text": [
      "sequences = 2593   mess_data = 1735\n"
     ]
    }
   ],
   "source": [
    "mess_data = mapped_episoden_2[0:] \n",
    "mess_labels = df.loc[0:, 'index_binar'].values\n",
    "print(\"sequences =\",max([max(sequences) for sequences in mapped_episoden if len(sequences)>0]),\" \", \n",
    "      \"mess_data =\", len (mess_data))"
   ]
  },
  {
   "cell_type": "markdown",
   "metadata": {},
   "source": [
    "Messdaten vektorisieren"
   ]
  },
  {
   "cell_type": "code",
   "execution_count": 161,
   "metadata": {},
   "outputs": [],
   "source": [
    "def vectorize_sequences(sequences, dimension=sequences_laenge+1): \n",
    "    results = np.zeros((len(sequences), dimension))\n",
    "    for i, sequence in enumerate(sequences):\n",
    "        results[i, sequence] = 1.\n",
    "    return results\n",
    "x_mess = vectorize_sequences(mess_data)\n",
    "y_mess = np.asarray(mess_labels).astype('float32')"
   ]
  },
  {
   "cell_type": "markdown",
   "metadata": {},
   "source": [
    "## Messdaten analysieren"
   ]
  },
  {
   "cell_type": "code",
   "execution_count": 162,
   "metadata": {},
   "outputs": [
    {
     "data": {
      "image/png": "[encoded data removed]",
      "text/plain": [
       "<Figure size 432x288 with 1 Axes>"
      ]
     },
     "metadata": {
      "needs_background": "light"
     },
     "output_type": "display_data"
    }
   ],
   "source": [
    "plt.plot(range(1, len(average_binary_accuracy_history) + 1), average_binary_accuracy_history)\n",
    "plt.xlabel('Epochs')\n",
    "plt.ylabel('Validation acc')\n",
    "plt.show()"
   ]
  },
  {
   "cell_type": "markdown",
   "metadata": {},
   "source": [
    "!!!! Zahl epochs, wenn nötig, in dem 11. Satz anpassen !!!! "
   ]
  },
  {
   "cell_type": "code",
   "execution_count": 163,
   "metadata": {},
   "outputs": [
    {
     "data": {
      "image/png": "[encoded data removed]",
      "text/plain": [
       "<Figure size 432x288 with 1 Axes>"
      ]
     },
     "metadata": {
      "needs_background": "light"
     },
     "output_type": "display_data"
    }
   ],
   "source": [
    "def smooth_curve(points, factor=0.9):\n",
    "  smoothed_points = []\n",
    "  for point in points:\n",
    "    if smoothed_points:\n",
    "      previous = smoothed_points[-1]\n",
    "      smoothed_points.append(previous * factor + point * (1 - factor))\n",
    "    else:\n",
    "      smoothed_points.append(point)\n",
    "  return smoothed_points\n",
    "\n",
    "smooth_binary_accuracy_history = smooth_curve(average_binary_accuracy_history[2:])\n",
    "\n",
    "plt.plot(range(1, len(smooth_binary_accuracy_history) + 1), smooth_binary_accuracy_history)\n",
    "plt.xlabel('Epochs')\n",
    "plt.ylabel('Validation acc')\n",
    "plt.show()"
   ]
  },
  {
   "cell_type": "markdown",
   "metadata": {},
   "source": [
    "Modell ausführen. !!!!!! wenn nötig, Zahl der epochs im fünften Satz korrigieren !!!!!"
   ]
  },
  {
   "cell_type": "code",
   "execution_count": 172,
   "metadata": {},
   "outputs": [
    {
     "name": "stdout",
     "output_type": "stream",
     "text": [
      "Epoch 1/2\n",
      "368/368 [==============================] - 2s 6ms/step - loss: 0.0745 - binary_accuracy: 0.9185\n",
      "Epoch 2/2\n",
      "368/368 [==============================] - 2s 5ms/step - loss: 0.0234 - binary_accuracy: 0.9755\n",
      "1735/1735 [==============================] - 0s 162us/step\n"
     ]
    }
   ],
   "source": [
    "# Get a fresh, compiled model.\n",
    "model = build_model()\n",
    "# Train it on the entirety of the data.\n",
    "model.fit(x_train, y_train,\n",
    "          epochs = 2, batch_size = 1)\n",
    "mess_mse_score, mess_binary_accuracy_score = model.evaluate(x_mess, y_mess)"
   ]
  },
  {
   "cell_type": "code",
   "execution_count": 173,
   "metadata": {},
   "outputs": [
    {
     "data": {
      "text/plain": [
       "(0.7025936599423631, 0.13225068502359277)"
      ]
     },
     "execution_count": 173,
     "metadata": {},
     "output_type": "execute_result"
    }
   ],
   "source": [
    "mess_binary_accuracy_score, mess_mse_score"
   ]
  },
  {
   "cell_type": "markdown",
   "metadata": {},
   "source": [
    "Voraussagen"
   ]
  },
  {
   "cell_type": "code",
   "execution_count": 174,
   "metadata": {},
   "outputs": [],
   "source": [
    "predictions=model.predict(x_mess)\n",
    "#for i in range(len(predictions)):\n",
    "    #print(model.predict(x_mess))"
   ]
  },
  {
   "cell_type": "code",
   "execution_count": 175,
   "metadata": {},
   "outputs": [
    {
     "name": "stdout",
     "output_type": "stream",
     "text": [
      "Maximaler Wert: 0.9999966\n"
     ]
    }
   ],
   "source": [
    "print('Maximaler Wert:', max(max(model.predict(x_mess))))"
   ]
  },
  {
   "cell_type": "markdown",
   "metadata": {},
   "source": [
    "Voraussgen in den aussortierten Datensätzen"
   ]
  },
  {
   "cell_type": "code",
   "execution_count": 178,
   "metadata": {},
   "outputs": [
    {
     "name": "stdout",
     "output_type": "stream",
     "text": [
      "0 - [0.9999966] - 0_e300c - kneten frass wasser gruetze dannen kurz frug abendessen demjenigen naehe retten darum dunkelwelt geselle toeten wirtshaus halten versuchen rede ass gefallen betruebt mensch seid einzige seien maedchen hurtigundgeschwind jedesmal gesellen verhaengt boeser krone brief drach geraubt nacheinander ueberzogen uhr fragt finde kind erste witwe fahnen geben bedeuten wirth meermanne geopfert fresse ausgeliefert muessen gleichen herberge gast uebrigen dach frassen muessten antwortete behangen bedingung haeuser toechtern unsres grossmutters jungfrau schoene geb reich damals drache alljaehrlich loos tochter wirt verschlang haeuschen schwarz koenigreichs grade flor naechste erloesen ach sei uebergeben schuster menschen befreien trauer fragte versprochen schwarzem traurig stadt warum reihe - 0 \n",
      "\n",
      "28 - [0.63368183] - bechstein - der alte zauberer sprach wenn die menschen wuenschelgerten mit - 0 \n",
      "\n",
      "65 - [0.83705664] - bechstein - euer durchlaucht niemand als ich und der aschenpuester  antwortete der koch - 0 \n",
      "\n",
      "81 - [0.75281346] - bechstein - der geistliche sagte nun zur anna als diese ihn fragte - 0 \n",
      "\n",
      "151 - [0.6538163] - bechstein - und wenn ich nicht mit dem leben davon komme was dann fragte haenschen  und der wirt lachte ihm ins gesicht und sprach ich merke schon ihr seid ein schlaukopf ihr haettet sicher das pulver erfunden wenns noch nicht erfunden waer - 0 \n",
      "\n",
      "159 - [0.7091044] - bechstein - ganze - 0 \n",
      "\n",
      "170 - [0.92410636] - bechstein - am andern morgen kam der koenig und fragte nun - 0 \n",
      "\n",
      "173 - [0.60733265] - bechstein - wie so denn herr koenig fragte haenschen ich habe eine kiste voll gold geschenkt bekommen auch eine fuer euch und eine fuer die armen muss es einem gruselig werden wenn man gold geschenkt bekommt - 0 \n",
      "\n",
      "195 - [0.7619839] - bechstein - da stiegen in des prinzen seele schwarze gedanken auf und schreckliches kam ihm in den sinn - 0 \n",
      "\n",
      "211 - [0.6445912] - bechstein - die blum die ich fand - 0 \n",
      "\n",
      "212 - [0.6886794] - bechstein - und sagte sie sei die seine - 0 \n",
      "\n",
      "223 - [0.8590535] - bechstein - die alte koenigin aber die stets traurig war sprach was koennte es in der welt geben das trauriger waere als - 0 \n",
      "\n",
      "225 - [0.6425181] - bechstein - trauer ich wuesste nichts mich wird das klagende lied des spielmannes nicht trauriger machen als ich ohnehin bin lasset ihn immerhin kommen - 0 \n",
      "\n",
      "226 - [0.7395764] - bechstein - der ritterliche spielmann kam und blies - 0 \n",
      "\n",
      "232 - [0.6445912] - bechstein - die blum die ich fand - 0 \n",
      "\n",
      "236 - [0.60316163] - bechstein - die floete um alle meine schaetze - 0 \n",
      "\n",
      "243 - [0.9503551] - bechstein - was aber tut die alte koenigin sie setzt sich nicht sie steht starr wie ein marmorbild was haelt sie denn fuer ein seltsames kleines szepter in der hand das ist ja kein szepter das ist ein totenbein und warum hebt sie denn dies totenbein zum munde warum haelt sie es so wie spielleute ihre floeten halten - 0 \n",
      "\n",
      "253 - [0.6445912] - bechstein - die blum die ich fand - 0 \n",
      "\n",
      "254 - [0.6886794] - bechstein - und sagte sie sei die seine - 0 \n",
      "\n",
      "266 - [0.67189014] - bechstein - die alte koenigin aber weinte und betete noch bis mitternacht  dann verloeschte sie selbst die letzte kerze und zerbrach die floete auf dass niemand mehr das klagende lied vernehme - 0 \n",
      "\n",
      "271 - [0.61037445] - bechstein - das maerchen vom ritter blaubart - 0 \n",
      "\n",
      "286 - [0.6394176] - bechstein - dieses edle land hat auch zwei grosse messen und maerkte mit schoenen freiheiten wer eine alte frau hat und mag sie nicht mehr weil sie ihm nicht mehr jung genug und huebsch ist der kann sie dort gegen eine junge und schoene vertauschen und bekommt noch ein draufgeld die alten und garstigen denn ein spruechwort sagt wenn man alt wird wird man garstig kommen in ein jungbad damit das land begnadigt ist das ist von grossen kraeften darin baden die alten weiber etwa drei tage oder hoechstens vier da werden schmucke dirnlein daraus von siebzehn oder achtzehn jahren - 0 \n",
      "\n",
      "303 - [0.6196029] - bechstein - hotz blitz rief der blitzschwab was ischt doh z tuan ueber des wild wasser muesset mer nueber - 0 \n",
      "\n",
      "335 - [0.7058686] - bechstein - blitz ischt ers net so ischts sei mueder - 0 \n",
      "\n",
      "336 - [0.7864219] - bechstein - oders teufels sei stiefbrueder - 0 \n",
      "\n",
      "344 - [0.61184007] - bechstein - aber jockele fand seinen trost darinnen dass der allgaeuer an der spitze des spiesses der sieben schwaben und des zu bestehenden abenteuers stand und sagte - 0 \n",
      "\n",
      "345 - [0.74839616] - bechstein - der schulz der muess der erschte sei - 0 \n",
      "\n",
      "365 - [0.7783328] - bechstein - der rabe fragte wie geschah dem und da erzaehlte ihm die maus folgendes maerchen - 0 \n",
      "\n",
      "375 - [0.6160462] - bechstein - kuh - 0 \n",
      "\n",
      "376 - [0.7287027] - bechstein - und da stand nun die dirn im stalle und weinte sich aus und streichelte noch einmal jede kuh und ihr liebling leckte ihr noch einmal die hand  und da kam die schlange mit dem kroenlein auch gekrochen - 0 \n",
      "\n",
      "402 - [0.62790495] - bechstein - nicht rechts nicht links - 0 \n",
      "\n",
      "406 - [0.62790495] - bechstein - nicht rechts nicht links - 0 \n",
      "\n",
      "429 - [0.7773636] - bechstein - kraeuter nach dem wolf fragte rotkaeppchen - 0 \n",
      "\n",
      "437 - [0.8717669] - bechstein - als der wolf an das haeuschen der grossmutter des rotkaeppchens kam fand er es verschlossen und klopfte an die alte konnte nicht vom bette aufstehen und nachsehen wer da sei und rief wer ist draussen - 0 \n",
      "\n",
      "467 - [0.7699928] - bechstein - das gebrumme des baeren sei - 0 \n",
      "\n",
      "501 - [0.612926] - bechstein - die juengste tochter brachte auf einem - 0 \n",
      "\n",
      "507 - [0.61881983] - bechstein - darum haben schon alte voelker den baeumen goettliche ehre erwiesen und das salz heilig gehalten - 0 \n",
      "\n",
      "550 - [0.60036767] - bechstein - jetzt sprach der menschenfresser hup hup es riecht nach menschenfleisch hup hup  menschenfleisch und schnappte behaglich - 0 \n",
      "\n",
      "551 - [0.8027655] - bechstein - ach  antwortete die frau wer weiss was du riechst - 0 \n",
      "\n",
      "562 - [0.6160462] - busch - un raeipen die bunte kuh die bunte kuh die bunte kuh un mênen de haeister schoelle - 0 \n",
      "\n",
      "588 - [0.67537564] - busch - es haett eine witwe drei toechterlein - 0 \n",
      "\n",
      "597 - [0.60630155] - busch - es stehn drei arme seelen hier - 0 \n",
      "\n",
      "598 - [0.72417223] - busch - ach mach uns auf die himmelsthuer - 0 \n",
      "\n",
      "601 - [0.8533529] - busch - darauf ging er hin und fragte nach - 0 \n",
      "\n",
      "608 - [0.62741816] - busch - gotts wort deine seele nicht bedacht - 0 \n",
      "\n",
      "617 - [0.7427848] - busch - als sie nun vor die hoelle kam - 0 \n",
      "\n",
      "618 - [0.61513436] - busch - da klopfte sie gar grausam an - 0 \n",
      "\n",
      "638 - [0.6692418] - busch - ach haett ich nie daran gedacht - 0 \n",
      "\n",
      "646 - [0.6609783] - busch - weint mein liebes kind auch noch - 0 \n",
      "\n",
      "650 - [0.63302344] - busch - da antwortete die magd - 0 \n",
      "\n",
      "655 - [0.6609783] - busch - weint mein liebes kind auch noch - 0 \n",
      "\n",
      "659 - [0.63302344] - busch - und die magd antwortete - 0 \n",
      "\n",
      "674 - [0.6856924] - busch - sanft die hand gedrueckt - 0 \n",
      "\n",
      "675 - [0.6856924] - busch - sanft die hand gedrueckt - 0 \n",
      "\n",
      "702 - [0.6323917] - busch - da du meiner nicht kannst werden - 0 \n",
      "\n",
      "719 - [0.85883325] - busch - ich bin so traurig und so still - 0 \n",
      "\n",
      "727 - [0.69102955] - busch - ein maedchen ist ein niedlich ding - 0 \n",
      "\n",
      "751 - [0.64463615] - busch - frau wirthin ihnen entgegen kam - 0 \n",
      "\n",
      "753 - [0.6159645] - busch - guten tag guten tag frau wirthin mein - 0 \n",
      "\n",
      "765 - [0.71680844] - busch - und als es um die mitternacht kam - 0 \n",
      "\n",
      "768 - [0.7764789] - busch - ach nein herzliebste fraue mein - 0 \n",
      "\n",
      "773 - [0.60030323] - busch - und stach den reiter durchs herze - 0 \n",
      "\n",
      "778 - [0.6460602] - busch - bis dass der andere reiter kam - 0 \n",
      "\n",
      "780 - [0.62122166] - busch - dein kamrad und der ist nicht mehr hier - 0 \n",
      "\n",
      "783 - [0.63497126] - busch - das roesslein steht im stall und schreit - 0 \n",
      "\n",
      "784 - [0.6027385] - busch - es will ja gar nicht schweigen - 0 \n",
      "\n",
      "806 - [0.83504903] - busch - amtmanns tochter will ich nicht - 0 \n",
      "\n",
      "807 - [0.83504903] - busch - amtmanns tochter will ich nicht - 0 \n",
      "\n",
      "817 - [0.6641877] - busch - da sah ich drei junge gesellen - 0 \n",
      "\n",
      "824 - [0.6856924] - busch - fasst das maedlein bei der hand - 0 \n",
      "\n",
      "826 - [0.6445912] - busch - bis er ein wirthshaus fand - 0 \n",
      "\n",
      "846 - [0.68286705] - busch - es freut mich dass hier auch leute sein - 0 \n",
      "\n",
      "852 - [0.68286705] - busch - es freut mich dass hier auch leute sein - 0 \n",
      "\n",
      "878 - [0.64590245] - busch - es hat sich schon sein theil erwaehlt - 0 \n",
      "\n",
      "885 - [0.6076032] - busch - pflegt schon am mittag weinen - 0 \n",
      "\n",
      "889 - [0.7010716] - busch - und sei dein eigner meister - 0 \n",
      "\n",
      "893 - [0.73673177] - busch - drum sei vergnuegt und sorge nicht - 0 \n",
      "\n",
      "897 - [0.64269924] - busch - dass ich den hafen finde - 0 \n",
      "\n",
      "1132 - [0.7083622] - jahn - da ward dem unterirdischen himmelangst zu mute er versprach alles und schon nach wenig augenblicken konnte johann mit freuden das liebe sonnenlicht wieder begruessen er wanderte darauf immer gradaus bis er an eine stadt kam wo alle haeuser mit rotem flor bedeckt waren - 0 \n",
      "\n",
      "1141 - [0.63951695] - jahn - die bauern versetzen oft aus sparsamkeit den brotteig mit kartoffeln letztere duerfen aber nicht lange stehen sonst werden sie schwarz und das ganze backwerk ist verdorben - 0 \n",
      "\n",
      "1248 - [0.74318874] - jahn - schneiderlein ach schneiderlein - 0 \n",
      "\n",
      "1252 - [0.74318874] - jahn - jaegerlein ach jaegerlein - 0 \n",
      "\n",
      "1256 - [0.74318874] - jahn - schmiederlein ach schmiederlein - 0 \n",
      "\n",
      "1375 - [0.6609729] - khm - als ihr in dem brunnen sasst - 0 \n",
      "\n",
      "1396 - [0.6609729] - khm - als ihr in dem brunnen sasst - 0 \n",
      "\n",
      "1418 - [0.6453644] - khm - was macht sie jungfer katze - 0 \n",
      "\n",
      "1420 - [0.69958675] - khm - sie antwortete - 0 \n",
      "\n",
      "1425 - [0.60195094] - khm - ich bedanke mich jungfer sagte der fuchs was macht die frau fuechsin die magd antwortete - 0 \n",
      "\n",
      "1427 - [0.6334163] - khm - sie beklagt ihren jammer - 0 \n",
      "\n",
      "1431 - [0.7339947] - khm - da ging die katz die tripp die trapp - 0 \n",
      "\n",
      "1433 - [0.62183046] - khm - frau fuechsin sind sie da - 0 \n",
      "\n",
      "1434 - [0.70006055] - khm - ach ja mein kaetzchen ja - 0 \n",
      "\n",
      "1436 - [0.6394047] - khm - mein kind wie sieht er aus - 0 \n",
      "\n",
      "1437 - [0.8331406] - khm - hat er denn auch neun so schoene zeiselschwaenze wie der selige herr fuchs ach nein antwortete die katze er hat nur einen so will ich ihn nicht haben - 0 \n",
      "\n",
      "1439 - [0.70238715] - khm - nun macht mir tor und tuere auf - 0 \n",
      "\n",
      "1449 - [0.6258577] - khm - de drei vuegelkens - 0 \n",
      "\n",
      "1452 - [0.6053981] - khm - tom daude bereit - 0 \n",
      "\n",
      "1458 - [0.6053981] - khm - tom daude bereit - 0 \n",
      "\n",
      "1464 - [0.6053981] - khm - tom daude bereit - 0 \n",
      "\n",
      "1501 - [0.68286705] - khm - 104 die klugen leute - 0 \n",
      "\n",
      "1521 - [0.6254307] - khm - naehe mir die naht - 0 \n",
      "\n",
      "1523 - [0.62790495] - khm - streich ihn rechts und links mit pech - 0 \n",
      "\n",
      "1563 - [0.7379588] - khm - was macht mein kind was macht mein reh - 0 \n",
      "\n",
      "1566 - [0.7379588] - khm - was macht mein kind was macht mein reh - 0 \n",
      "\n",
      "1569 - [0.7379588] - khm - was macht mein kind was macht mein reh - 0 \n",
      "\n",
      "1601 - [0.98530126] - mess_46 -  ach mein kind wir haben hier kein wasser in dieser gegend hier lebt eine lamia die das wasser unter verschluss haelt wir bekommen nichts wenn sie nicht jeden tag ein maedchen zu fressen bekommt und morgen wird sie die koenigstochter rodanthi fressen - 0 \n",
      "\n",
      "1604 - [0.7869436] - mess_46 - da brach er auf und ging an den ort an dem man die koenigstochter behuetete und wo die lamia sie fressen wuerde - 0 \n",
      "\n",
      "1633 - [0.72741073] - mess_47 - nun sey das loos auf die koenigstochter gefallen283 dass sie des uebermorgigen tages den drachen geopfert werden solle der koenig habe zwar verkuenden lassen dass wer diese ungeheuer erlegen wuerde die koenigstochter zur ehe und spaeter das koenigreich als erbe haben sollte aber niemand finde sich der ein so gefaehrliches unternehmen wagen wollte - 0 \n",
      "\n"
     ]
    }
   ],
   "source": [
    "mod_pred = model.predict(x_mess)\n",
    "cutoff_value = 0.6\n",
    "for i in range(len(y_mess)):\n",
    "    if mod_pred[i,0]>cutoff_value:\n",
    "        if ((i==0)|(mod_pred[i-1,0]>cutoff_value))|(mod_pred[i+0]>cutoff_value):\n",
    "            #if df.index_string ==0:\n",
    "                print (i+0,\"-\",\n",
    "                  #i+2,\"-\", \n",
    "                  #y_test[i],\"-\", \n",
    "                  mod_pred[i],\"-\",\n",
    "                  df.quelle[i+0],\"-\", \n",
    "                  df.episode[i+0],\"-\",\n",
    "                  df.index_string[i+0],'\\n')"
   ]
  },
  {
   "cell_type": "markdown",
   "metadata": {},
   "source": [
    "Voraussage: gewünschte Datensetze abrufen"
   ]
  },
  {
   "cell_type": "code",
   "execution_count": null,
   "metadata": {},
   "outputs": [],
   "source": [
    "for i in range(len(x_mess)):\n",
    "    if i>30:\n",
    "        print(i+0,\"-\",\n",
    "              model.predict(x_mess)[i],\"-\",\n",
    "              df.quelle[i+0],\"-\",\n",
    "              df.episode[i+0],\"-\",\n",
    "              df.index_string[i+0],'\\n')"
   ]
  },
  {
   "cell_type": "code",
   "execution_count": null,
   "metadata": {},
   "outputs": [],
   "source": []
  }
 ],
 "metadata": {
  "kernelspec": {
   "display_name": "Python 3",
   "language": "python",
   "name": "python3"
  },
  "language_info": {
   "codemirror_mode": {
    "name": "ipython",
    "version": 3
   },
   "file_extension": ".py",
   "mimetype": "text/x-python",
   "name": "python",
   "nbconvert_exporter": "python",
   "pygments_lexer": "ipython3",
   "version": "3.7.4"
  }
 },
 "nbformat": 4,
 "nbformat_minor": 2
}
