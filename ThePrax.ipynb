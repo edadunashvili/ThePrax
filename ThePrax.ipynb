{
 "cells": [
  {
   "cell_type": "markdown",
   "metadata": {},
   "source": [
    "## GitHub Repository clonen und in GoogleColab anlegen, CSS anpassen, pyprind instalieren"
   ]
  },
  {
   "cell_type": "code",
   "execution_count": null,
   "metadata": {},
   "outputs": [],
   "source": [
    "!pwd"
   ]
  },
  {
   "cell_type": "code",
   "execution_count": null,
   "metadata": {},
   "outputs": [],
   "source": [
    "!git clone https://github.com/edadunashvili/ThePrax.git"
   ]
  },
  {
   "cell_type": "code",
   "execution_count": null,
   "metadata": {},
   "outputs": [],
   "source": [
    "cd ThePrax"
   ]
  },
  {
   "cell_type": "code",
   "execution_count": null,
   "metadata": {},
   "outputs": [],
   "source": [
    "!pwd"
   ]
  },
  {
   "cell_type": "code",
   "execution_count": null,
   "metadata": {},
   "outputs": [],
   "source": [
    "!pip install pyprind"
   ]
  },
  {
   "cell_type": "code",
   "execution_count": null,
   "metadata": {},
   "outputs": [],
   "source": [
    "from IPython.display import HTML, display\n",
    "\n",
    "def set_css():\n",
    "  display(HTML('''\n",
    "  <style>\n",
    "    pre {\n",
    "        white-space: pre-wrap;\n",
    "    }\n",
    "  </style>\n",
    "  '''))\n",
    "get_ipython().events.register('pre_run_cell', set_css)"
   ]
  },
  {
   "cell_type": "markdown",
   "metadata": {},
   "source": [
    "## Testdatencorpushersteller"
   ]
  },
  {
   "cell_type": "markdown",
   "metadata": {},
   "source": [
    " !!! Ein Typ bestimmen !!!"
   ]
  },
  {
   "cell_type": "code",
   "execution_count": 2,
   "metadata": {},
   "outputs": [],
   "source": [
    "typNum='300'\n",
    "episode_string_train = \"a300_string_train.csv\"\n",
    "episode_roh_train = \"a300_roh_train.csv\""
   ]
  },
  {
   "cell_type": "markdown",
   "metadata": {},
   "source": [
    "Vorhandener gleichnamiger Korpus wird gelöscht "
   ]
  },
  {
   "cell_type": "code",
   "execution_count": 3,
   "metadata": {},
   "outputs": [
    {
     "name": "stdout",
     "output_type": "stream",
     "text": [
      "Diese Datei existiert nicht\n"
     ]
    }
   ],
   "source": [
    "import os\n",
    "if os.path.exists(episode_string_train):\n",
    "    os.remove(episode_string_train)\n",
    "else:\n",
    "    print(\"Diese Datei existiert nicht\")"
   ]
  },
  {
   "cell_type": "markdown",
   "metadata": {},
   "source": [
    "Im Ordner \"Trainingsdaten\" nach den entsprechenden Textdateien suchen und in einer rohe Datei zusammentragen"
   ]
  },
  {
   "cell_type": "code",
   "execution_count": 12,
   "metadata": {},
   "outputs": [],
   "source": [
    "import glob\n",
    "\n",
    "def word_to_lex(word):\n",
    "    ret=(word) \n",
    "    return ret\n",
    "\n",
    "def write_back(words):\n",
    "    with open(episode_roh_train,\"a\", encoding='utf-8') as output:\n",
    "        for word in words:\n",
    "            #print(word)\n",
    "            as_lex = word_to_lex(word[0])\n",
    "            full_word = '\"' + as_lex + '\"'\n",
    "            for sub_word in word[1:]:\n",
    "                full_word += \" , \"  '\"' + sub_word + '\"'\n",
    "            full_word +=\"\\n\"\n",
    "            output.write(full_word)\n",
    "\n",
    "def clean(line):\n",
    "    line = line.replace(\"\\n\",\" \").strip().lower()\n",
    "    line = line.replace(\"ä\",\"ae\").replace(\"ü\",\"ue\").replace(\"ö\",\"oe\").replace(\"ß\",\"ss\").replace(\",\",\"\").replace(\"«\",\"\")\n",
    "    line = line.replace(\"»\",\"\").replace(\".\",\"\").replace(\":\",\"\").replace(\";\",\"\").replace('\"',\"\")\n",
    "    line = line.replace(\"?\",\"\").replace(\"!\",\"\").replace(\"á\",\"a\").replace(\",\",\"\").replace(\"\\t\",\" \").replace(\"'\",\"\")\n",
    "    line = line.replace(\"‹\",\"\").replace(\"›\",\"\").replace(\"-\",\" \").replace(\"'('\",\"\").replace(\"')'\",\"\").replace('>','')\n",
    "    line = line.replace(\"    \",\" \").replace(\"   \",\" \").replace(\"  \",\" \").replace('–','').replace('—','').replace('<','')\n",
    "    line = line.replace(\"Â\", \"A\").replace(\"ø\", \"oe\").replace('“','').replace('„','').replace('(','').replace(')','')\n",
    "    line = line.replace(\"‚\", \"\").replace(']','').replace('[','')\n",
    "    if line == \"\": \n",
    "        return\n",
    "    \n",
    "    line=line.split(\"|\")\n",
    "    line[0]=line[0].split(\"|\")[0]\n",
    "    flex=[]\n",
    "    try:\n",
    "        flex=line[1].split(\"\")\n",
    "    except:\n",
    "        pass\n",
    "    value=str(line)\n",
    "    line=str(line)   \n",
    "    flex.append(line)\n",
    "    ret=[]\n",
    "    for i in flex:\n",
    "        ret.append((i,value[0]))\n",
    "    return ret\n",
    "\n",
    "with open(episode_roh_train, \"w\", encoding='utf-8') as output:\n",
    "    output.write (\"quelle,episode,index_string,index_binar\\n\")\n",
    "pairs = []\n",
    "\n",
    "\n",
    "for file in glob.glob(\"Trainingsdaten/*.txt\"):\n",
    "    \n",
    "    if typNum in file:\n",
    "        with open(file, 'r', encoding='utf-8') as episode:\n",
    "            for line in episode.readlines():\n",
    "                clean_words = clean(line)\n",
    "                pairs = pairs + clean_words\n",
    "write_back(pairs)"
   ]
  },
  {
   "cell_type": "markdown",
   "metadata": {},
   "source": [
    "Rohdatei endgültig überarbeiten und in eine CSV Datei speichern"
   ]
  },
  {
   "cell_type": "code",
   "execution_count": 15,
   "metadata": {},
   "outputs": [],
   "source": [
    "fin = open(episode_roh_train,'r', encoding ='utf-8')\n",
    "fout = open(episode_string_train, \"wt\", encoding ='utf-8')\n",
    "for kfz in fin:\n",
    "    fout.write(kfz.replace(', \"[\"',\"\").replace('\"[', \"\").replace(']\"',\"\").replace(\"', '\", \"','\").replace(\" '\", \"'\"))                      \n",
    "fin.close()\n",
    "fout.close()"
   ]
  },
  {
   "cell_type": "markdown",
   "metadata": {},
   "source": [
    "Liste von einmaligen Episoden aus der CSV Datei zeigen"
   ]
  },
  {
   "cell_type": "code",
   "execution_count": 16,
   "metadata": {
    "scrolled": true
   },
   "outputs": [
    {
     "name": "stdout",
     "output_type": "stream",
     "text": [
      "'e301_a_'\n",
      "'e300_c_anfangssituation_ankunft_und_erkundigung_der_not'\n",
      "'e300_e_vorfeld_des_kampfes_bis_zum_sieg'\n",
      "'e300_i_rueckkehr_der_koenigstochter_und_die_suche_nach_dem_held retter'\n",
      "'e300_o_auftritt_des_helden_vor_dem_koenig_bis_zum_ende_der_geschichte'\n",
      "'e554_a_'\n",
      "'eamom_a_'\n",
      "'e516_a_'\n",
      "'e513a_a_'\n",
      "'e302_a_'\n",
      "'e300_g_nach_dem_sieg_bis_zur_trennung_des_befreiers_und_der_befreiten'\n",
      "'e300_k_misshandlung_des_falschen_helden_bis_zur_hochzeitstag'\n",
      "'e328_a_'\n",
      "'ecom_a_'\n",
      "'eundf_a_'\n",
      "'e300_m_rueckkehr_des_helden_ _von_der_erkundung_ueber_die_hochzeit_bis_zum_wiedergewinn_der_aufmerksamkeit'\n",
      "'e303_g_erstes_treffen_mit_der_hexen'\n",
      "'e303_i_vom_erkundigung_der_not_bis_zum_aufbruch_des_helden_zur_hexe'\n",
      "'e303_k_vom_afbruch_zur_hexe_bis_zur_ihren_ueberweltigung'\n",
      "'e303_c_eingangssituation_bis_zur_trennung'\n",
      "'e314_a_'\n",
      "'e850_a_'\n",
      "'e303_m_eifersucht'\n",
      "'e315_a_'\n",
      "'e303_q_rueckkehr_und_finale'\n",
      "'e303_o_erloesung_der_hexe'\n",
      "'e567_a_'\n",
      "'e562_a_'\n",
      "'e550_a_'\n",
      "'e590_a_'\n"
     ]
    }
   ],
   "source": [
    "import pandas as pd\n",
    "df = pd.read_csv(episode_string_train, encoding='utf-8')\n",
    "from collections import Counter\n",
    "indexliste=Counter(df.index_string)\n",
    "print(*indexliste, sep='\\n')"
   ]
  },
  {
   "cell_type": "markdown",
   "metadata": {},
   "source": [
    "## Auswerter"
   ]
  },
  {
   "cell_type": "markdown",
   "metadata": {},
   "source": [
    "Elementenstruktur definieren: vorherige Episode - gesuchte Episode - folgende Episode\n",
    "\n",
    "!!! Datei definieren !!!"
   ]
  },
  {
   "cell_type": "code",
   "execution_count": 18,
   "metadata": {},
   "outputs": [],
   "source": [
    "import pandas as pd\n",
    "df = pd.read_csv('a300_string_train.csv', encoding='utf-8')\n",
    "from collections import Counter\n",
    "\n",
    "def ep_format(ep_full):\n",
    "    return (ep_full.split('_'))[0]\n",
    "\n",
    "def quellenvergleich (df, i1, i2):\n",
    "#     print(df.quelle[i1],df.quelle[i2])\n",
    "    return df.quelle[i1]==df.quelle[i2]\n",
    "\n",
    "def ast(gesep, df):\n",
    "    ep_tree = {}\n",
    "    a_liste = []\n",
    "    z_liste = []  \n",
    "    df_len = len(df.index_string)\n",
    "    for i, ep in enumerate(df.index_string):\n",
    "        if gesep == ep:\n",
    "             #print(i, ep_full)\n",
    "            if (i > 0)&(quellenvergleich(df, i, i-1)):\n",
    "                a = df.index_string[i-1]\n",
    "            else:\n",
    "                a = 'eAnfang_a_'\n",
    "            if (i < df_len - 1):\n",
    "                if not (quellenvergleich(df, i, i+1)):\n",
    "                    z = 'eEnde_a_'\n",
    "                else:        \n",
    "                    z = df.index_string[i+1]\n",
    "            else:\n",
    "                z = 'eEnde_a_'\n",
    "            a_liste.append(a)\n",
    "            z_liste.append(z)\n",
    "    return {gesep: [Counter(a_liste), Counter(z_liste)]}"
   ]
  },
  {
   "cell_type": "markdown",
   "metadata": {},
   "source": [
    "Alle im Korpus vorhandene Episoden extrahieren"
   ]
  },
  {
   "cell_type": "code",
   "execution_count": 19,
   "metadata": {},
   "outputs": [],
   "source": [
    "def alle_aeste(gesep, df):\n",
    "    episoden_baeume = {}\n",
    "    \n",
    "    ep_list = []\n",
    "    for ep_full in df.index_string:  \n",
    "        \n",
    "        ep = ep_format(ep_full)      \n",
    "        if gesep == ep:          \n",
    "            \n",
    "            ep_list.append(ep_full)\n",
    "    for ep in set(ep_list):\n",
    "        episoden_baeume.update(ast(ep,df))\n",
    "    return episoden_baeume"
   ]
  },
  {
   "cell_type": "markdown",
   "metadata": {},
   "source": [
    "Episoden die gesuchte Episode umlegen und in die Liste in die richrige Reihenfolge darstellen"
   ]
  },
  {
   "cell_type": "code",
   "execution_count": 20,
   "metadata": {},
   "outputs": [],
   "source": [
    "def key_val_printer(d):\n",
    "    for k, v in d.items():\n",
    "        print(v, k, sep=':')\n",
    "    #print()\n",
    "        \n",
    "def baum_printer(baeume: dict, baum: str):\n",
    "    key_val_printer (baeume[baum][0])\n",
    "    \n",
    "    \n",
    "    print(80*'-')\n",
    "    print(sum(baeume[baum][0].values()), baum)\n",
    "    print(80*'-')\n",
    "    key_val_printer(baeume[baum][1]) \n",
    "    \n",
    "            \n",
    "def wald_printer(wald: dict):\n",
    "    for baum in sorted(wald.keys()):\n",
    "        baum_printer (wald, baum)\n",
    "        print(80*'=')"
   ]
  },
  {
   "cell_type": "markdown",
   "metadata": {},
   "source": [
    "!!! Die gesuchte Episode bestimmen !!!"
   ]
  },
  {
   "cell_type": "code",
   "execution_count": 21,
   "metadata": {},
   "outputs": [
    {
     "name": "stdout",
     "output_type": "stream",
     "text": [
      "2:'e301_a_'\n",
      "1:'e302_a_'\n",
      "8:'e554_a_'\n",
      "1:eAnfang_a_\n",
      "1:'e314_a_'\n",
      "4:'e315_a_'\n",
      "7:'e303_c_eingangssituation_bis_zur_trennung'\n",
      "4:'eundf_a_'\n",
      "1:'e300_o_auftritt_des_helden_vor_dem_koenig_bis_zum_ende_der_geschichte'\n",
      "1:'e300_c_anfangssituation_ankunft_und_erkundigung_der_not'\n",
      "1:'e303_i_vom_erkundigung_der_not_bis_zum_aufbruch_des_helden_zur_hexe'\n",
      "1:'e550_a_'\n",
      "2:'e562_a_'\n",
      "1:'e590_a_'\n",
      "1:'e300_e_vorfeld_des_kampfes_bis_zum_sieg'\n",
      "--------------------------------------------------------------------------------\n",
      "36 'e300_c_anfangssituation_ankunft_und_erkundigung_der_not'\n",
      "--------------------------------------------------------------------------------\n",
      "34:'e300_e_vorfeld_des_kampfes_bis_zum_sieg'\n",
      "1:eEnde_a_\n",
      "1:'e300_c_anfangssituation_ankunft_und_erkundigung_der_not'\n",
      "================================================================================\n",
      "34:'e300_c_anfangssituation_ankunft_und_erkundigung_der_not'\n",
      "2:'e300_k_misshandlung_des_falschen_helden_bis_zur_hochzeitstag'\n",
      "1:'e315_a_'\n",
      "1:'e550_a_'\n",
      "2:'eundf_a_'\n",
      "1:'e562_a_'\n",
      "--------------------------------------------------------------------------------\n",
      "41 'e300_e_vorfeld_des_kampfes_bis_zum_sieg'\n",
      "--------------------------------------------------------------------------------\n",
      "3:'e300_i_rueckkehr_der_koenigstochter_und_die_suche_nach_dem_held retter'\n",
      "29:'e300_g_nach_dem_sieg_bis_zur_trennung_des_befreiers_und_der_befreiten'\n",
      "4:'e300_o_auftritt_des_helden_vor_dem_koenig_bis_zum_ende_der_geschichte'\n",
      "1:'e554_a_'\n",
      "3:'eundf_a_'\n",
      "1:'e300_c_anfangssituation_ankunft_und_erkundigung_der_not'\n",
      "================================================================================\n",
      "29:'e300_e_vorfeld_des_kampfes_bis_zum_sieg'\n",
      "1:'e554_a_'\n",
      "--------------------------------------------------------------------------------\n",
      "30 'e300_g_nach_dem_sieg_bis_zur_trennung_des_befreiers_und_der_befreiten'\n",
      "--------------------------------------------------------------------------------\n",
      "26:'e300_k_misshandlung_des_falschen_helden_bis_zur_hochzeitstag'\n",
      "1:eEnde_a_\n",
      "1:'e554_a_'\n",
      "1:'e300_o_auftritt_des_helden_vor_dem_koenig_bis_zum_ende_der_geschichte'\n",
      "1:'e300_i_rueckkehr_der_koenigstochter_und_die_suche_nach_dem_held retter'\n",
      "================================================================================\n",
      "3:'e300_e_vorfeld_des_kampfes_bis_zum_sieg'\n",
      "2:'e300_k_misshandlung_des_falschen_helden_bis_zur_hochzeitstag'\n",
      "1:'e554_a_'\n",
      "1:'e300_g_nach_dem_sieg_bis_zur_trennung_des_befreiers_und_der_befreiten'\n",
      "--------------------------------------------------------------------------------\n",
      "7 'e300_i_rueckkehr_der_koenigstochter_und_die_suche_nach_dem_held retter'\n",
      "--------------------------------------------------------------------------------\n",
      "6:'e300_o_auftritt_des_helden_vor_dem_koenig_bis_zum_ende_der_geschichte'\n",
      "1:'e300_k_misshandlung_des_falschen_helden_bis_zur_hochzeitstag'\n",
      "================================================================================\n",
      "26:'e300_g_nach_dem_sieg_bis_zur_trennung_des_befreiers_und_der_befreiten'\n",
      "1:'e300_i_rueckkehr_der_koenigstochter_und_die_suche_nach_dem_held retter'\n",
      "1:eAnfang_a_\n",
      "--------------------------------------------------------------------------------\n",
      "28 'e300_k_misshandlung_des_falschen_helden_bis_zur_hochzeitstag'\n",
      "--------------------------------------------------------------------------------\n",
      "2:'e300_i_rueckkehr_der_koenigstochter_und_die_suche_nach_dem_held retter'\n",
      "7:'e554_a_'\n",
      "11:'e300_m_rueckkehr_des_helden_ _von_der_erkundung_ueber_die_hochzeit_bis_zum_wiedergewinn_der_aufmerksamkeit'\n",
      "2:'e300_e_vorfeld_des_kampfes_bis_zum_sieg'\n",
      "1:'e850_a_'\n",
      "1:'e303_c_eingangssituation_bis_zur_trennung'\n",
      "3:'e300_o_auftritt_des_helden_vor_dem_koenig_bis_zum_ende_der_geschichte'\n",
      "1:eEnde_a_\n",
      "================================================================================\n",
      "7:'e554_a_'\n",
      "11:'e300_k_misshandlung_des_falschen_helden_bis_zur_hochzeitstag'\n",
      "1:'e303_c_eingangssituation_bis_zur_trennung'\n",
      "--------------------------------------------------------------------------------\n",
      "19 'e300_m_rueckkehr_des_helden_ _von_der_erkundung_ueber_die_hochzeit_bis_zum_wiedergewinn_der_aufmerksamkeit'\n",
      "--------------------------------------------------------------------------------\n",
      "19:'e300_o_auftritt_des_helden_vor_dem_koenig_bis_zum_ende_der_geschichte'\n",
      "================================================================================\n",
      "6:'e300_i_rueckkehr_der_koenigstochter_und_die_suche_nach_dem_held retter'\n",
      "19:'e300_m_rueckkehr_des_helden_ _von_der_erkundung_ueber_die_hochzeit_bis_zum_wiedergewinn_der_aufmerksamkeit'\n",
      "4:'e300_e_vorfeld_des_kampfes_bis_zum_sieg'\n",
      "3:'e300_k_misshandlung_des_falschen_helden_bis_zur_hochzeitstag'\n",
      "1:'e554_a_'\n",
      "1:'e300_g_nach_dem_sieg_bis_zur_trennung_des_befreiers_und_der_befreiten'\n",
      "--------------------------------------------------------------------------------\n",
      "34 'e300_o_auftritt_des_helden_vor_dem_koenig_bis_zum_ende_der_geschichte'\n",
      "--------------------------------------------------------------------------------\n",
      "4:'e554_a_'\n",
      "10:eEnde_a_\n",
      "13:'e303_g_erstes_treffen_mit_der_hexen'\n",
      "1:'e303_i_vom_erkundigung_der_not_bis_zum_aufbruch_des_helden_zur_hexe'\n",
      "1:'e300_c_anfangssituation_ankunft_und_erkundigung_der_not'\n",
      "2:'e315_a_'\n",
      "2:'eundf_a_'\n",
      "1:'e562_a_'\n",
      "================================================================================\n"
     ]
    }
   ],
   "source": [
    "synop = alle_aeste(\"'e300\", df)\n",
    "wald_printer(synop)"
   ]
  },
  {
   "cell_type": "markdown",
   "metadata": {},
   "source": [
    "## Modell erstellen und trainieren"
   ]
  },
  {
   "cell_type": "code",
   "execution_count": 162,
   "metadata": {},
   "outputs": [],
   "source": [
    "import keras\n",
    "import glob\n",
    "import matplotlib.pyplot as plt\n",
    "import nltk\n",
    "import numpy as np\n",
    "import pyprind\n",
    "import pandas as pd\n",
    "import random\n",
    "import re\n",
    "import string\n",
    "from collections import Counter\n",
    "from nltk.corpus import stopwords\n",
    "from keras import backend as K\n",
    "from keras import layers\n",
    "from keras import losses\n",
    "from keras import models\n",
    "from keras import metrics\n",
    "from keras import optimizers\n",
    "from keras.preprocessing import sequence"
   ]
  },
  {
   "cell_type": "markdown",
   "metadata": {},
   "source": [
    "!!! Variable anpassen !!!"
   ]
  },
  {
   "cell_type": "code",
   "execution_count": 26,
   "metadata": {},
   "outputs": [],
   "source": [
    "ziel_episode = 'e300_e_vorfeld_des_kampfes_bis_zum_sieg'\n",
    "mini_frequenz = 2\n",
    "k_fach = 5\n",
    "layD = 96\n",
    "episode_string_train = 'a300_string_train.csv' \n",
    "episode_binar_train = 'a300_binar_train.csv'\n",
    "episode_string_mess = 'gesamt_string_mess.csv'\n",
    "episode_binar_mess = 'gesamt_binar_mess.csv'"
   ]
  },
  {
   "cell_type": "markdown",
   "metadata": {},
   "source": [
    "Aufbereitung der Trainingsdaten\n",
    "Rohdaten laden und und den Episodenbestand betrachten"
   ]
  },
  {
   "cell_type": "code",
   "execution_count": 27,
   "metadata": {},
   "outputs": [],
   "source": [
    "fin = open(episode_string_train,'r', encoding='utf-8') \n",
    "fout = open(episode_binar_train, \"wt\", encoding='utf-8')\n",
    "for efz in fin:\n",
    "    fout.write(efz.replace(\"'\",\"\"))  \n",
    "fin.close()\n",
    "fout.close()"
   ]
  },
  {
   "cell_type": "code",
   "execution_count": 28,
   "metadata": {},
   "outputs": [
    {
     "name": "stdout",
     "output_type": "stream",
     "text": [
      "Counter({'e300_e_vorfeld_des_kampfes_bis_zum_sieg': 41, 'e300_c_anfangssituation_ankunft_und_erkundigung_der_not': 36, 'e300_o_auftritt_des_helden_vor_dem_koenig_bis_zum_ende_der_geschichte': 34, 'e300_g_nach_dem_sieg_bis_zur_trennung_des_befreiers_und_der_befreiten': 30, 'e554_a_': 28, 'e300_k_misshandlung_des_falschen_helden_bis_zur_hochzeitstag': 28, 'e300_m_rueckkehr_des_helden_ _von_der_erkundung_ueber_die_hochzeit_bis_zum_wiedergewinn_der_aufmerksamkeit': 19, 'e303_g_erstes_treffen_mit_der_hexen': 16, 'e303_c_eingangssituation_bis_zur_trennung': 16, 'e303_i_vom_erkundigung_der_not_bis_zum_aufbruch_des_helden_zur_hexe': 15, 'e303_k_vom_afbruch_zur_hexe_bis_zur_ihren_ueberweltigung': 15, 'eundf_a_': 13, 'e315_a_': 12, 'ecom_a_': 11, 'e301_a_': 7, 'e300_i_rueckkehr_der_koenigstochter_und_die_suche_nach_dem_held retter': 7, 'e550_a_': 7, 'e562_a_': 6, 'e303_m_eifersucht': 5, 'e328_a_': 4, 'e303_q_rueckkehr_und_finale': 4, 'e567_a_': 3, 'e516_a_': 2, 'e513a_a_': 2, 'e302_a_': 2, 'eamom_a_': 1, 'e314_a_': 1, 'e850_a_': 1, 'e303_o_erloesung_der_hexe': 1, 'e590_a_': 1})\n"
     ]
    }
   ],
   "source": [
    "df = pd.read_csv(episode_binar_train, encoding='utf-8')\n",
    "indexliste=Counter(*df.index_string)\n",
    "print(indexliste, sep='\\n')"
   ]
  },
  {
   "cell_type": "markdown",
   "metadata": {},
   "source": [
    "Die gesuchte Episode etikettieren und den Rohdaten in Trainingsdaten umwandeln"
   ]
  },
  {
   "cell_type": "code",
   "execution_count": 29,
   "metadata": {},
   "outputs": [],
   "source": [
    "for i,e in enumerate(df.index_string):\n",
    "    if e == ziel_episode:\n",
    "        df.index_binar[i]='1'\n",
    "    else: \n",
    "        df.index_binar[i]='0'"
   ]
  },
  {
   "cell_type": "code",
   "execution_count": 30,
   "metadata": {},
   "outputs": [],
   "source": [
    "df.to_csv(episode_binar_train, encoding='utf-8', index=False)"
   ]
  },
  {
   "cell_type": "markdown",
   "metadata": {},
   "source": [
    "Trainngsdaten aufbereiten\n",
    "4.1. Das Vorkommen jedes Wortes zählen"
   ]
  },
  {
   "cell_type": "code",
   "execution_count": 31,
   "metadata": {},
   "outputs": [
    {
     "name": "stderr",
     "output_type": "stream",
     "text": [
      "[nltk_data] Downloading package stopwords to\n",
      "[nltk_data]     C:\\Users\\elguj\\AppData\\Roaming\\nltk_data...\n",
      "[nltk_data]   Unzipping corpora\\stopwords.zip.\n",
      "Vorkommen der Wörter zählen\n",
      "0% [##############################] 100% | ETA: 00:00:00\n",
      "Total time elapsed: 00:00:00\n"
     ]
    }
   ],
   "source": [
    "nltk.download('stopwords')\n",
    "w = stopwords.words('german')\n",
    "counts = Counter()\n",
    "pbar = pyprind.ProgBar(len(df['episode']),\n",
    "                       title='Vorkommen der Wörter zählen')\n",
    "for i, episode in enumerate(df['episode']): \n",
    "        pbar.update()\n",
    "        counts.update(episode.split())\n",
    "new_counts = {}\n",
    "for k, v in counts.items():\n",
    "    if v > mini_frequenz and k not in w:\n",
    "        new_counts[k] = v\n",
    "counts = Counter(new_counts)"
   ]
  },
  {
   "cell_type": "markdown",
   "metadata": {},
   "source": [
    "Zuordnung erzeugen und den verschiedenen Wörtern eindeutige Zahlen zuordnen"
   ]
  },
  {
   "cell_type": "code",
   "execution_count": 32,
   "metadata": {},
   "outputs": [
    {
     "name": "stderr",
     "output_type": "stream",
     "text": [
      "Episoden Zahlen zuordnen\n",
      "0% [##############################] 100% | ETA: 00:00:00\n",
      "Total time elapsed: 00:00:00\n"
     ]
    }
   ],
   "source": [
    "word_counts = sorted(counts, key=counts.get, reverse=True)\n",
    "word_to_int = {word: ii for ii, word in enumerate(word_counts,0)}\n",
    "mapped_episoden = []\n",
    "pbar = pyprind.ProgBar(len(df['episode']),\n",
    "                       title='Episoden Zahlen zuordnen')\n",
    "for episode in df['episode']:\n",
    "    mapped_episoden.append([word_to_int.get(word) for word in episode.split()])\n",
    "    pbar.update()\n",
    "mapped_episoden = [list(filter(None, el)) for el in mapped_episoden]"
   ]
  },
  {
   "cell_type": "markdown",
   "metadata": {},
   "source": [
    "Traiingsndaten und Trainingslabels bestimmen"
   ]
  },
  {
   "cell_type": "code",
   "execution_count": 33,
   "metadata": {},
   "outputs": [
    {
     "name": "stdout",
     "output_type": "stream",
     "text": [
      "sequences = 2593   train_data = 368\n"
     ]
    }
   ],
   "source": [
    "train_data = mapped_episoden[0:] \n",
    "train_labels = df.loc[0:, 'index_binar'].values\n",
    "print(\"sequences =\",max([max(sequences) for sequences in mapped_episoden if len(sequences)>0]),\" \",\n",
    "      \"train_data =\", len (train_data))"
   ]
  },
  {
   "cell_type": "markdown",
   "metadata": {},
   "source": [
    "Trainingsdaten und -Labels vektorisieren"
   ]
  },
  {
   "cell_type": "code",
   "execution_count": 34,
   "metadata": {},
   "outputs": [],
   "source": [
    "sequences_laenge=max([max(sequences) for sequences in mapped_episoden if len(sequences)>0])\n",
    "def vectorize_sequences(sequences, dimension=sequences_laenge+1): \n",
    "    results = np.zeros((len(sequences), dimension))\n",
    "    for i, sequence in enumerate(sequences):\n",
    "        results[i, sequence] = 1.\n",
    "    return results\n",
    "x_train = vectorize_sequences(train_data) \n",
    "y_train = np.asarray(train_labels).astype('float32')"
   ]
  },
  {
   "cell_type": "code",
   "execution_count": 35,
   "metadata": {},
   "outputs": [],
   "source": [
    "#for i, element in enumerate(x_train[63]):\n",
    "    #print(i,'-', element)"
   ]
  },
  {
   "cell_type": "markdown",
   "metadata": {},
   "source": [
    "Neuronales Netz erzeugen"
   ]
  },
  {
   "cell_type": "code",
   "execution_count": 36,
   "metadata": {},
   "outputs": [],
   "source": [
    "def build_model():\n",
    "    model = models.Sequential()\n",
    "    model.add(layers.Dense(layD, activation='tanh',\n",
    "                           input_shape=(sequences_laenge+1,)))\n",
    "    #model.add(layers.Dense(layD, activation='relu'))\n",
    "    model.add(layers.Dense(layD, activation='tanh')) \n",
    "    model.add(layers.Dense((1), activation='sigmoid'))\n",
    "    model.compile(optimizer='rmsprop', loss='mse', metrics=['binary_accuracy'])\n",
    "    return model"
   ]
  },
  {
   "cell_type": "markdown",
   "metadata": {},
   "source": [
    "Neuronales Netz trainieren"
   ]
  },
  {
   "cell_type": "code",
   "execution_count": 37,
   "metadata": {},
   "outputs": [
    {
     "name": "stdout",
     "output_type": "stream",
     "text": [
      "processing fold # 0\n",
      "WARNING:tensorflow:From C:\\Users\\elguj\\AppData\\Roaming\\Python\\Python37\\site-packages\\tensorflow\\python\\framework\\op_def_library.py:263: colocate_with (from tensorflow.python.framework.ops) is deprecated and will be removed in a future version.\n",
      "Instructions for updating:\n",
      "Colocations handled automatically by placer.\n",
      "WARNING:tensorflow:From C:\\Users\\elguj\\AppData\\Roaming\\Python\\Python37\\site-packages\\tensorflow\\python\\ops\\math_ops.py:3066: to_int32 (from tensorflow.python.ops.math_ops) is deprecated and will be removed in a future version.\n",
      "Instructions for updating:\n",
      "Use tf.cast instead.\n",
      "processing fold # 1\n",
      "processing fold # 2\n",
      "processing fold # 3\n",
      "processing fold # 4\n"
     ]
    }
   ],
   "source": [
    "k = k_fach\n",
    "num_val_samples = len(x_train) // k \n",
    "num_epochs = 4\n",
    "all_scores = []\n",
    "for i in range(k):\n",
    "    print('processing fold #', i)\n",
    "    # Prepare the validation data: data from partition # k\n",
    "    val_data = x_train[i * num_val_samples: (i + 1) * num_val_samples]\n",
    "    val_targets = y_train[i * num_val_samples: (i + 1) * num_val_samples]\n",
    "\n",
    "    # Prepare the training data: data from all other partitions\n",
    "    partial_x_train = np.concatenate(\n",
    "        [x_train[:i * num_val_samples],\n",
    "         x_train[(i + 1) * num_val_samples:]],\n",
    "        axis=0)\n",
    "    partial_y_train = np.concatenate(\n",
    "        [y_train[:i * num_val_samples],\n",
    "         y_train[(i + 1) * num_val_samples:]],\n",
    "        axis=0)\n",
    "\n",
    "    # Build the Keras model (already compiled)\n",
    "    model = build_model()\n",
    "    # Train the model (in silent mode, verbose=0)\n",
    "    model.fit(partial_x_train, partial_y_train,\n",
    "              epochs=num_epochs, batch_size = 8, verbose=0)\n",
    "    # Evaluate the model on the validation data\n",
    "    val_mse, val_binary_accuracy = model.evaluate(val_data, val_targets, verbose=0)\n",
    "    all_scores.append(val_binary_accuracy)"
   ]
  },
  {
   "cell_type": "code",
   "execution_count": 38,
   "metadata": {},
   "outputs": [
    {
     "data": {
      "text/plain": [
       "[0.9041095890410958,\n",
       " 0.9726027397260274,\n",
       " 0.9589041104055431,\n",
       " 0.9589041104055431,\n",
       " 0.9178082199945842]"
      ]
     },
     "execution_count": 38,
     "metadata": {},
     "output_type": "execute_result"
    }
   ],
   "source": [
    "all_scores"
   ]
  },
  {
   "cell_type": "code",
   "execution_count": 39,
   "metadata": {},
   "outputs": [
    {
     "data": {
      "text/plain": [
       "0.9424657539145587"
      ]
     },
     "execution_count": 39,
     "metadata": {},
     "output_type": "execute_result"
    }
   ],
   "source": [
    "np.mean(all_scores)"
   ]
  },
  {
   "cell_type": "code",
   "execution_count": 46,
   "metadata": {},
   "outputs": [
    {
     "name": "stdout",
     "output_type": "stream",
     "text": [
      "processing fold # 0\n",
      "processing fold # 1\n",
      "processing fold # 2\n",
      "processing fold # 3\n",
      "processing fold # 4\n"
     ]
    }
   ],
   "source": [
    "num_epochs = 8\n",
    "all_binary_accuracy_histories = []\n",
    "for i in range(k):\n",
    "    print('processing fold #', i)\n",
    "    # Prepare the validation data: data from partition # k\n",
    "    val_data = x_train[i * num_val_samples: (i + 1) * num_val_samples]\n",
    "    val_targets = y_train[i * num_val_samples: (i + 1) * num_val_samples]\n",
    "\n",
    "    # Prepare the training data: data from all other partitions\n",
    "    partial_x_train = np.concatenate(\n",
    "        [x_train[:i * num_val_samples],\n",
    "         x_train[(i + 1) * num_val_samples:]],\n",
    "        axis=0)\n",
    "    partial_y_train = np.concatenate(\n",
    "        [y_train[:i * num_val_samples],\n",
    "         y_train[(i + 1) * num_val_samples:]],\n",
    "        axis=0)\n",
    "\n",
    "    # Build the Keras model (already compiled)\n",
    "    model = build_model()\n",
    "    # Train the model (in silent mode, verbose=0)\n",
    "    history = model.fit(partial_x_train, partial_y_train,\n",
    "                        validation_data=(val_data, val_targets),\n",
    "                        epochs=num_epochs, batch_size = 8, verbose=0)\n",
    "    binary_accuracy_history = history.history['val_binary_accuracy']\n",
    "    all_binary_accuracy_histories.append(binary_accuracy_history)"
   ]
  },
  {
   "cell_type": "code",
   "execution_count": 47,
   "metadata": {},
   "outputs": [
    {
     "name": "stdout",
     "output_type": "stream",
     "text": [
      "0 - 0.9205479452054794\n",
      "1 - 0.9452054794520548\n",
      "2 - 0.9342465753424657\n",
      "3 - 0.936986301369863\n",
      "4 - 0.9342465753424657\n",
      "5 - 0.9287671232876713\n",
      "6 - 0.9315068493150684\n",
      "7 - 0.9287671232876713\n"
     ]
    }
   ],
   "source": [
    "average_binary_accuracy_history = [\n",
    "    np.mean([x[i] for x in all_binary_accuracy_histories]) for i in range(num_epochs)]\n",
    "for i, element in enumerate(average_binary_accuracy_history):\n",
    "    print(i,'-', element)"
   ]
  },
  {
   "cell_type": "markdown",
   "metadata": {},
   "source": [
    "## Messdaten erstellen"
   ]
  },
  {
   "cell_type": "markdown",
   "metadata": {},
   "source": [
    "!!! Ein Typ bestimmen !!!"
   ]
  },
  {
   "cell_type": "code",
   "execution_count": 51,
   "metadata": {},
   "outputs": [],
   "source": [
    "typNum =''\n",
    "episode_string_train = \"gesamt_string_mess.csv\"\n",
    "episode_roh_train = \"gesamt_roh_mess.csv\""
   ]
  },
  {
   "cell_type": "markdown",
   "metadata": {},
   "source": [
    "Alte Datei mit gleichem Namen löschen"
   ]
  },
  {
   "cell_type": "code",
   "execution_count": 52,
   "metadata": {},
   "outputs": [
    {
     "name": "stdout",
     "output_type": "stream",
     "text": [
      "Diese Datei existiert nicht\n"
     ]
    }
   ],
   "source": [
    "import os\n",
    "if os.path.exists(episode_string_train):\n",
    "    os.remove(episode_string_train)\n",
    "else:\n",
    "    print(\"Diese Datei existiert nicht\")"
   ]
  },
  {
   "cell_type": "markdown",
   "metadata": {},
   "source": [
    "Nach den entsprechenden Textdateien im Ordnet suchen und in einer rohe Datei zusammentragen"
   ]
  },
  {
   "cell_type": "code",
   "execution_count": 53,
   "metadata": {},
   "outputs": [],
   "source": [
    "import glob\n",
    "\n",
    "def word_to_lex(word):\n",
    "    ret=(word) \n",
    "    return ret\n",
    "\n",
    "def write_back(words):\n",
    "    with open(episode_roh_train,\"a\", encoding='utf-8') as output:\n",
    "        for word in words:\n",
    "            #print(word)\n",
    "            as_lex = word_to_lex(word[0])\n",
    "            full_word = '\"' + as_lex + '\"'\n",
    "            for sub_word in word[1:]:\n",
    "                full_word += \" , \"  '\"' + sub_word + '\"'\n",
    "            full_word +=\"\\n\"\n",
    "            output.write(full_word)\n",
    "\n",
    "def clean(line):\n",
    "    line = line.replace(\"\\n\",\" \").strip().lower()\n",
    "    line = line.replace(\"ä\",\"ae\").replace(\"ü\",\"ue\").replace(\"ö\",\"oe\").replace(\"ß\",\"ss\").replace(\",\",\"\").replace(\"«\",\"\")\n",
    "    line = line.replace(\"»\",\"\").replace(\".\",\"\").replace(\":\",\"\").replace(\";\",\"\").replace('\"',\"\")\n",
    "    line = line.replace(\"?\",\"\").replace(\"!\",\"\").replace(\"á\",\"a\").replace(\",\",\"\").replace(\"\\t\",\" \").replace(\"'\",\"\")\n",
    "    line = line.replace(\"‹\",\"\").replace(\"›\",\"\").replace(\"-\",\" \").replace(\"'('\",\"\").replace(\"')'\",\"\").replace('>','')\n",
    "    line = line.replace(\"    \",\" \").replace(\"   \",\" \").replace(\"  \",\" \").replace('–','').replace('—','').replace('<','')\n",
    "    line = line.replace(\"Â\", \"A\").replace(\"ø\", \"oe\").replace('“','').replace('„','').replace('(','').replace(')','')\n",
    "    line = line.replace(\"‚\", \"\").replace(']','').replace('[','')\n",
    "    if line == \"\": \n",
    "        return\n",
    "    \n",
    "    line=line.split(\"|\")\n",
    "    line[0]=line[0].split(\"|\")[0]\n",
    "    flex=[]\n",
    "    try:\n",
    "        flex=line[1].split(\"\")\n",
    "    except:\n",
    "        pass\n",
    "    value=str(line)\n",
    "    line=str(line)   \n",
    "    flex.append(line)\n",
    "    ret=[]\n",
    "    for i in flex:\n",
    "        ret.append((i,value[0]))\n",
    "    return ret\n",
    "\n",
    "with open(episode_roh_train, \"w\", encoding='utf-8') as output:\n",
    "    output.write (\"quelle,episode,index_string,index_binar\\n\")\n",
    "pairs = []\n",
    "\n",
    "for file in glob.glob(\"Messdaten/*.txt\"):\n",
    "    if typNum in file:\n",
    "        with open(file, 'r', encoding='utf-8') as episode:\n",
    "            for line in episode.readlines():\n",
    "                clean_words = clean(line)\n",
    "                pairs = pairs + clean_words\n",
    "write_back(pairs)"
   ]
  },
  {
   "cell_type": "markdown",
   "metadata": {},
   "source": [
    "Rohdatei endgültig überarbeiten und in eine CSV Datei speichern"
   ]
  },
  {
   "cell_type": "code",
   "execution_count": 54,
   "metadata": {},
   "outputs": [],
   "source": [
    "fin = open(episode_roh_train,'r', encoding ='utf-8')\n",
    "fout = open(episode_string_train, \"wt\", encoding ='utf-8')\n",
    "for kfz in fin:\n",
    "    fout.write(kfz.replace(', \"[\"',\"\").replace('\"[', \"\").replace(']\"',\"\").replace(\"', '\", \"','\").replace(\" '\", \"'\"))                      \n",
    "fin.close()\n",
    "fout.close()"
   ]
  },
  {
   "cell_type": "markdown",
   "metadata": {},
   "source": [
    "Liste von einmaligen Episoden erstellen in der CSV Datei"
   ]
  },
  {
   "cell_type": "code",
   "execution_count": 55,
   "metadata": {},
   "outputs": [
    {
     "name": "stdout",
     "output_type": "stream",
     "text": [
      "'0'\n"
     ]
    }
   ],
   "source": [
    "import pandas as pd\n",
    "df = pd.read_csv(episode_string_train, encoding='utf-8')\n",
    "from collections import Counter\n",
    "indexliste=Counter(df.index_string)\n",
    "print(*indexliste, sep='\\n')"
   ]
  },
  {
   "cell_type": "markdown",
   "metadata": {},
   "source": [
    "Messdaten laden und aufbereiten"
   ]
  },
  {
   "cell_type": "code",
   "execution_count": 56,
   "metadata": {},
   "outputs": [],
   "source": [
    "fin = open(episode_string_mess,'r', encoding='utf-8') \n",
    "fout = open(episode_binar_mess, \"wt\", encoding='utf-8')\n",
    "for efz in fin:\n",
    "    fout.write(efz.replace(\"'\",\"\"))\n",
    "                                 \n",
    "fin.close()\n",
    "fout.close()"
   ]
  },
  {
   "cell_type": "code",
   "execution_count": 57,
   "metadata": {},
   "outputs": [
    {
     "name": "stdout",
     "output_type": "stream",
     "text": [
      "Counter({0: 147})\n"
     ]
    }
   ],
   "source": [
    "df = pd.read_csv(episode_binar_mess, encoding='utf-8')\n",
    "indexliste=Counter(df.index_string)\n",
    "print(indexliste, sep='\\n')"
   ]
  },
  {
   "cell_type": "code",
   "execution_count": 58,
   "metadata": {},
   "outputs": [
    {
     "name": "stderr",
     "output_type": "stream",
     "text": [
      "C:\\Users\\elguj\\Anaconda3\\lib\\site-packages\\ipykernel_launcher.py:5: SettingWithCopyWarning: \n",
      "A value is trying to be set on a copy of a slice from a DataFrame\n",
      "\n",
      "See the caveats in the documentation: http://pandas.pydata.org/pandas-docs/stable/user_guide/indexing.html#returning-a-view-versus-a-copy\n",
      "  \"\"\"\n"
     ]
    }
   ],
   "source": [
    "for i,e in enumerate(df.index_string):\n",
    "    if e:\n",
    "        df.index_binar[i]='0'\n",
    "    else: \n",
    "        df.index_binar[i]='0'"
   ]
  },
  {
   "cell_type": "code",
   "execution_count": 59,
   "metadata": {},
   "outputs": [],
   "source": [
    "df.to_csv(episode_binar_mess, encoding='utf-8', index=False)"
   ]
  },
  {
   "cell_type": "markdown",
   "metadata": {},
   "source": [
    "Vorhandene Zuordnung laden und den verschiedenen Wörtern eindeutige Zahlen zuordnen"
   ]
  },
  {
   "cell_type": "code",
   "execution_count": 60,
   "metadata": {},
   "outputs": [
    {
     "name": "stderr",
     "output_type": "stream",
     "text": [
      "Episoden Zahlen zuordnen\n",
      "0% [##############################] 100% | ETA: 00:00:00\n",
      "Total time elapsed: 00:00:00\n"
     ]
    }
   ],
   "source": [
    "mapped_episoden_2 = []\n",
    "pbar = pyprind.ProgBar(len(df['episode']),\n",
    "                       title='Episoden Zahlen zuordnen')\n",
    "for episode in df['episode']:\n",
    "    mapped_episoden_2.append([word_to_int.get(word) for word in episode.split()])\n",
    "    pbar.update()\n",
    "\n",
    "mapped_episoden_2 = [list(filter(None, el)) for el in mapped_episoden_2]\n"
   ]
  },
  {
   "cell_type": "markdown",
   "metadata": {},
   "source": [
    "raiingsndaten und Trainingslabels bestimmen"
   ]
  },
  {
   "cell_type": "code",
   "execution_count": 61,
   "metadata": {},
   "outputs": [
    {
     "name": "stdout",
     "output_type": "stream",
     "text": [
      "sequences = 2593   mess_data = 147\n"
     ]
    }
   ],
   "source": [
    "mess_data = mapped_episoden_2[0:] \n",
    "mess_labels = df.loc[0:, 'index_binar'].values\n",
    "print(\"sequences =\",max([max(sequences) for sequences in mapped_episoden if len(sequences)>0]),\" \", \n",
    "      \"mess_data =\", len (mess_data))"
   ]
  },
  {
   "cell_type": "markdown",
   "metadata": {},
   "source": [
    "Messdaten vektorisieren"
   ]
  },
  {
   "cell_type": "code",
   "execution_count": 62,
   "metadata": {},
   "outputs": [],
   "source": [
    "def vectorize_sequences(sequences, dimension=sequences_laenge+1): \n",
    "    results = np.zeros((len(sequences), dimension))\n",
    "    for i, sequence in enumerate(sequences):\n",
    "        results[i, sequence] = 1.\n",
    "    return results\n",
    "x_mess = vectorize_sequences(mess_data)\n",
    "y_mess = np.asarray(mess_labels).astype('float32')"
   ]
  },
  {
   "cell_type": "markdown",
   "metadata": {},
   "source": [
    "## Messdaten analysieen"
   ]
  },
  {
   "cell_type": "code",
   "execution_count": 103,
   "metadata": {},
   "outputs": [
    {
     "data": {
      "image/png": "[encoded data removed]",
      "text/plain": [
       "<Figure size 432x288 with 1 Axes>"
      ]
     },
     "metadata": {
      "needs_background": "light"
     },
     "output_type": "display_data"
    }
   ],
   "source": [
    "plt.plot(range(1, len(average_binary_accuracy_history) + 1), average_binary_accuracy_history)\n",
    "plt.xlabel('Epochs')\n",
    "plt.ylabel('Validation acc')\n",
    "plt.show()"
   ]
  },
  {
   "cell_type": "code",
   "execution_count": 104,
   "metadata": {},
   "outputs": [
    {
     "data": {
      "image/png": "[encoded data removed]",
      "text/plain": [
       "<Figure size 432x288 with 1 Axes>"
      ]
     },
     "metadata": {
      "needs_background": "light"
     },
     "output_type": "display_data"
    }
   ],
   "source": [
    "def smooth_curve(points, factor=0.9):\n",
    "  smoothed_points = []\n",
    "  for point in points:\n",
    "    if smoothed_points:\n",
    "      previous = smoothed_points[-1]\n",
    "      smoothed_points.append(previous * factor + point * (1 - factor))\n",
    "    else:\n",
    "      smoothed_points.append(point)\n",
    "  return smoothed_points\n",
    "\n",
    "smooth_binary_accuracy_history = smooth_curve(average_binary_accuracy_history[2:])\n",
    "\n",
    "plt.plot(range(1, len(smooth_binary_accuracy_history) + 1), smooth_binary_accuracy_history)\n",
    "plt.xlabel('Epochs')\n",
    "plt.ylabel('Validation acc')\n",
    "plt.show()"
   ]
  },
  {
   "cell_type": "markdown",
   "metadata": {},
   "source": [
    "Modell ausführen"
   ]
  },
  {
   "cell_type": "code",
   "execution_count": 92,
   "metadata": {},
   "outputs": [
    {
     "name": "stdout",
     "output_type": "stream",
     "text": [
      "Epoch 1/2\n",
      "368/368 [==============================] - 3s 7ms/step - loss: 0.0860 - binary_accuracy: 0.8995\n",
      "Epoch 2/2\n",
      "368/368 [==============================] - 2s 5ms/step - loss: 0.0186 - binary_accuracy: 0.9755\n",
      "147/147 [==============================] - 0s 2ms/step\n"
     ]
    }
   ],
   "source": [
    "# Get a fresh, compiled model.\n",
    "model = build_model()\n",
    "# Train it on the entirety of the data.\n",
    "model.fit(x_train, y_train,\n",
    "          epochs = 2, batch_size = 1)\n",
    "mess_mse_score, mess_binary_accuracy_score = model.evaluate(x_mess, y_mess)"
   ]
  },
  {
   "cell_type": "code",
   "execution_count": 93,
   "metadata": {},
   "outputs": [
    {
     "data": {
      "text/plain": [
       "(0.9455782312925171, 0.04536581272576131)"
      ]
     },
     "execution_count": 93,
     "metadata": {},
     "output_type": "execute_result"
    }
   ],
   "source": [
    "mess_binary_accuracy_score, mess_mse_score"
   ]
  },
  {
   "cell_type": "markdown",
   "metadata": {},
   "source": [
    "Voraussagen"
   ]
  },
  {
   "cell_type": "code",
   "execution_count": 94,
   "metadata": {},
   "outputs": [],
   "source": [
    "predictions=model.predict(x_mess)\n",
    "#for i in range(len(predictions)):\n",
    "    #print(model.predict(x_mess))"
   ]
  },
  {
   "cell_type": "code",
   "execution_count": 95,
   "metadata": {},
   "outputs": [
    {
     "name": "stdout",
     "output_type": "stream",
     "text": [
      "Maximaler Wert: 0.9999985\n"
     ]
    }
   ],
   "source": [
    "print('Maximaler Wert:', max(max(model.predict(x_mess))))"
   ]
  },
  {
   "cell_type": "markdown",
   "metadata": {},
   "source": [
    "Voraussgen in den aussortierten Datensätzen"
   ]
  },
  {
   "cell_type": "code",
   "execution_count": 158,
   "metadata": {},
   "outputs": [
    {
     "name": "stdout",
     "output_type": "stream",
     "text": [
      "1 - [0.9999985] - 0_e300e - drach ohnehin getroffen koenne busch hing geriet fuerchterlichen kraft konnte trug abseits thiere schnaubte wohin morgen hoerte unglueck genommen stuerzen toeteten dritten uebte strand fortzugehen stellt sass weinend rissen hauste ungeheuer spie fuerchte kaempfen stieg lamia drachenberg kruege schon zukommen meermann hinzu gesicht beten sobald sank traene fass bruecke herauskam stellte feuer schlug sechs fuehren kuechenjunge wecken wenig hieb schweif angefahren pfeil entgegen weit knie ans sah luft meer feld staeblein wartete teufel bube zweiten kapelle ungetuem los bursch haeupter verschlungen befreite bestie sprang schaden adler wagen kam dukaten lindwurm tot saebel grossem gewartet drachen hoehle schoss koepfe drache - 0 \n",
      "\n",
      "10 - [0.1835601] - mess_44 - hinter mir dunkel und vorne mir klar - 0 \n",
      "\n",
      "11 - [0.33127546] - mess_44 - dass niemand sehe wohin ich fahr - 0 \n",
      "\n",
      "12 - [0.53417265] - mess_44 - am andern morgen war der prinz sehr uebler laune er hatte die ganze nacht gewacht und immer an seine schoene taenzerin gedacht aschenpuester musste ihm die stiefel putzen das that sie auch aber ein kleiner flecken an den zehen blieb ungeputzt das bemerkte der prinz kam zornig in die kueche hinein und warf ihr den stiefel an den kopf - 0 \n",
      "\n",
      "13 - [0.28971058] - mess_44 - am naechsten abend wurde wieder getanzt und aschenpuester bat den koch wieder um erlaubniss diesmal zog sie das goldene kleid an und fuhr im wagen dahin der prinz hatte schon nach ihr ausgeschaut und wurde sehr vergnuegt als sie kam beim tanze fragte er sie wo sie zu hause sei in stiefelschmeiss antwortete sie sie blieb eine stunde da dann verschwand sie umsonst fragte der prinz wo stiefelschmeiss laege niemand konnte es ihm sagen - 0 \n",
      "\n",
      "14 - [0.11931202] - mess_44 - der prinz that die nacht wieder kein auge zu und war noch verdriesslicher als am tage vorher aschenpuester musste ihm den rock buersten sie konnte es ihm aber nicht recht machen und zuletzt warf er ihr die buerste an den kopf - 0 \n",
      "\n",
      "23 - [0.9303011] - mess_46 - eines tages versuchte er fische zu fangen aber es biss einfach keiner an doch so gegen abend schliesslich als er schon seine siebensachen packen und fortgehen wollte ging ihm ein fisch an die angel er zog ihn hinaus und was sah er da ein ganz und gar goldenes fischlein da hoerte er wie der fisch zu ihm sprach - 0 \n",
      "\n",
      "25 - [0.17083836] - mess_46 -  na gut sagte sich der fischer da ich lass ihn wieder frei - 0 \n",
      "\n",
      "26 - [0.4562227] - mess_46 - er nahm ihn also vom haken und warf ihn wieder ins meer - 0 \n",
      "\n",
      "28 - [0.31952846] - mess_46 - am naechsten morgen ging der fischer wieder zum fischen und fing das goldene fischchen noch einmal da sagte es ihm - 0 \n",
      "\n",
      "35 - [0.17104337] - mess_46 - als der junge mann das hoerte fragte er wo denn die lamia waere - 0 \n",
      "\n",
      "36 - [0.31168017] - mess_46 -  dort drueben sagte sie - 0 \n",
      "\n",
      "37 - [0.7356782] - mess_46 - da brach er auf und ging an den ort an dem man die koenigstochter behuetete und wo die lamia sie fressen wuerde - 0 \n",
      "\n",
      "38 - [0.27573273] - mess_46 -  ich werde dich retten sagte er ihr du musst nicht weinen - 0 \n",
      "\n",
      "39 - [0.77947783] - mess_46 - kurz darauf hoerte er ein droehnen und sah die lamia kommen - 0 \n",
      "\n",
      "40 - [0.3675517] - mess_46 -  oha sagte sie da heute werde ich gleich zwei zu fressen haben - 0 \n",
      "\n",
      "41 - [0.40709448] - mess_46 - sobald sie sich ihnen naeherte nahm der junge mann das schwert das er hinter einigen steinen versteckt hatte warf die lamia zu boden und toetete sie daraufhin ging er und oeffnete die quellen seitdem hatten sie in der gegend wieder wasser - 0 \n",
      "\n",
      "44 - [0.32184702] - mess_46 -  geh niemals in diese burg hinein denn dort versteckt sich eine lamia die alle gefangen nimmt die hineinkommen sagte der koenig zu seinem schwiegersohn - 0 \n",
      "\n",
      "46 - [0.504233] - mess_46 - er schlug an die pforte und hoerte eine kraeftige stimme von innen - 0 \n",
      "\n",
      "51 - [0.23031077] - mess_46 - er klopfte an die pforte und auch er hoerte eine kraeftige stimme - 0 \n",
      "\n",
      "52 - [0.19398683] - mess_46 -  wenn du waffen hast leg sie ab und komm herein - 0 \n",
      "\n",
      "58 - [0.4706141] - mess_47 - wie der schneider nun so hinter dem riesen einherging lief ihm ein spatz unter den fuessen herum er bueckte sich ergriff den vogel und trug ihn ohne dass der riese es sah fortan in der hand - 0 \n",
      "\n",
      "60 - [0.19980025] - mess_47 - da bueckte sich auch der schneider als wolle er einen stein aufheben liess aber den vogel fliegen dieser flog so weit dass der riese gar nicht bemerken konnte wo der stein zur erde fiel - 0 \n",
      "\n",
      "61 - [0.39871094] - mess_47 - nun bekam der riese schon eine bessere meynung von seinem kleinen reisegefaehrten und bot ihm an ihn in seine hoehle zu nehmen wo ihrer zwoelf beysammen waeren er selber aber sey koenig - 0 \n",
      "\n",
      "66 - [0.2582329] - mess_47 - nun sey das loos auf die koenigstochter gefallen283 dass sie des uebermorgigen tages den drachen geopfert werden solle der koenig habe zwar verkuenden lassen dass wer diese ungeheuer erlegen wuerde die koenigstochter zur ehe und spaeter das koenigreich als erbe haben sollte aber niemand finde sich der ein so gefaehrliches unternehmen wagen wollte - 0 \n",
      "\n",
      "70 - [0.2066457] - mess_47 - nun waren die drachen noch uebrig zu erlegen  wohl die schwerste und gefaehrlichste arbeit der schneider liess sich nun einen eisernen wagen machen der bis auf eine kleine oeffnung ganz verschlossen war in diesen stieg er am dritten tage und liess sich zur hoehle der drachen fahren kaum war er dort angekommen so fuhr einer der drachen heraus zerfleischte die beyden rosse vor dem wagen und stuerzte den wagen um da indessen der kopf des drachen in die naehe der oeffnung gekommen war so stiess ihm der schneider sein schwert bis an das heft hinein und toedtete so das unthier da sah er auf sein rothes band welches er um den leib hatte und siehe die worte waren verschwunden statt deren aber stand geschrieben gehe nur in die hoehle hinein die uebrigen sechs drachen koennen dir nichts mehr anhaben weil du den ersten davon erschlagen hast er stieg daher aus dem wagen und trat in die hoehle und toedtete die sechs drachen welche 285 sich wirklich nicht bewegen konnten die koepfe aber brachte er dem koenige welcher ihm nicht dank genug zu beweisen wusste und ihm noch an selbigem abende die koenigstochter zur ehe gab wobey es gar herrlich und froehlich herging weil jeder einwohner an der freude ueber die rettung aus noth und gefahr den innigsten antheil nahm - 0 \n",
      "\n",
      "73 - [0.43460083] - mess_47 - der schneider wurde inne dass ihn die koenigstochter hasse und den grund warum wie er daher wieder zu bette ging stellte er sich als traeume er wieder und diesesmal von lauter schlachten und siegen - 0 \n",
      "\n",
      "77 - [0.11078215] - mess_47 - er zog also getrost aus da sein pferd aber sehr matt ging so blieb er haeufig zurueck und so auch in dem augenblicke wo die feinde lauter heiden an der seite herankamen eben strauchelte das pferd und riss im fallen ein kreuz um welches an dem wege stand das kreuz aber fiel auf den schneider welcher es fasste und weil es nicht schwer war in der hand behielt so ging es gegen den feind dieser aber wurde kaum des kreuzes ansichtig welches der schneider an der spitze des heeres trug als sie in wilder flucht umkehrten und dem schneider den vollstaendigsten sieg ueberliessen sie hatten naemlich vermeynt dass der gott der christen mit diesen streite und gegen einen gott koennten menschen nicht kaempfen - 0 \n",
      "\n",
      "79 - [0.12524098] - mess_47 - von da an lebten sie noch lange und gluecklich tiefenbach - 0 \n",
      "\n",
      "83 - [0.25987098] - mess_48 - auf dem wege zu dieser kirche stand ein wirtshaus da hinein ging der soldat und logierte sich ein auf die nacht verlangte er zu trinken da sagte die wirtin das wasser in dem brunnen sei nicht gesund sie wolle ihm zitronenwasser geben sie aber gab ihm einen schlaftrunk er ging zwar hinaus setzte sich an den weg schlief aber ein um 11 uhr kam die koenigstochter gefahren mit vier rappen und die chaise war schwarz behangen - 0 \n",
      "\n",
      "84 - [0.34865135] - mess_48 - am zweiten tag ging der soldat wieder in das wirtshaus die wirtin machte es ihm gerade so wie das erstemal und gab ihm schlaftrunk er setzte sich darauf an die strasse und schlief wieder ein um 11 uhr kam die koenigstochter gefahren die chaise war mit vier fuchsen bespannt und rot behangen der soldat sah und hoerte aber nichts am dritten abend dachte er heute nacht komme ich doch mit er nahm den knecht mit hinaus dass dieser ihn wecke wenn er wieder schlafe die wirtin hatte ihn nocheinmal betrogen als die prinzessin angefahren kam hingen vier schimmeln an der chaise und diese war weiss behangen er aber sass dort und schlief sie stieg aus wollte ihn wach bringen ebenso der knecht doch sie konnten ihn nicht aufwecken als die prinzessin von der kirche zurueckkam stieg sie wieder aus und gab sich nocheinmal die muehe ihn aufzuwecken doch alles war vergeblich sie zog nun seinen saebel aus der scheide und schrieb mit goldenen buchstaben darauf hier hast du meinen goldenen ring zum andenken dann fuhr sie fort frueh morgens rief der soldat den knecht und fragte wo sein goldener ring sei der knecht musste den goldenen 9 ring hergeben worauf der soldat ihm den kopf abhieb dann rief er der wirtin sagte zu ihr sie sei eine hexe und habe gemacht dass er nicht mit der koenigstochter in die kirche gekommen sei der soldat nahm jetzt seinen saebel wieder und hieb der wirtin auch den kopf ab dann rief er die magd zu dieser sagte er sie solle das anwesen haben darauf machte er sich auf und ging fort - 0 \n",
      "\n",
      "90 - [0.18340877] - mess_49 - seine hexenkunst hat hans nie mehr ausgeuebt da er bei seinem ersten versuch so viel angst hat ausstehen muessen und wenn einmal die rede aufs hexen kam soll hans immer gesagt haben das ist nichts fuer rechtschaffene leute - 0 \n",
      "\n",
      "114 - [0.507098] - mess_52 - als der waisenknabe nach haus kam hatten ihm seine pflegeaeltern vergiftetes essen hingestellt um ihn damit zu toedten wie er aber den ersten loeffel voll zum munde fuehrte sprang der hund stahl auf und schlug mit der pfote unter den loeffel sodass die speise die darin war verschuettet wurde dasselbe that der hund eisen als er den zweiten loeffel zum munde fuehrte als er den dritten loeffel fuellen wollte stiess der hund hille den ganzen napf um und der waisenknabe musste sich hungrig zu bett legen - 0 \n",
      "\n",
      "117 - [0.36668253] - mess_52 - der jaeger ueber alle jaeger aber wollte sich weiter in der welt versuchen und verliess das forsthaus er vermiethete sich als schweinehirt bei einem mueller zu dessen heerde taeglich drei riesen kamen und schweine stahlen diesen riesen rief er drei tage hintereinander zu was ihr an den mueller zu fordern habt koennt ihr auch an mich fordern an dem ersten tage wo die drei riesen kamen um schweine zu stehlen sprang jeder der drei treuen hunde auf einen riesen los und der hund stahl toedtete einen davon die andern riesen aber ergriffen die flucht am zweiten tage kamen die beiden riesen welche entflohen waren abermals um schweine zu stehlen da toedtete der hund eisen einen von ihnen und der andere riese ergriff von neuem die flucht am dritten tage kam dieser riese allein 18 um schweine zu stehlen rasch aber toedtete ihn der hund hille - 0 \n",
      "\n",
      "118 - [0.6025312] - mess_52 - damit war die muehle und die heerde von den riesen erloest und der jaeger ueber alle jaeger setzte seine reise fort er kam in eine stadt die ganz mit flor ueberzogen war weil ein drache die koenigstochter vom markte abholen wollte da stellte der jaeger ueber alle jaeger sich mit seinen treuen hunden neben die prinzessin und als der drache kam rief er ihm zu was du an den koenig zu fordern hast kannst du auch an mich fordern in demselben augenblicke sprangen die drei hunde stahl eisen und hille gegen den drachen an und zerrissen ihn - 0 \n",
      "\n",
      "142 - [0.2052052] - mess_55 - der kutscher aber war auf boese gedanken gekommen als sie ueber eine bruecke fuhren unter der ein grosser strom floss hielt er still wandte sich zur koenigstochter und sprach - 0 \n",
      "\n"
     ]
    }
   ],
   "source": [
    "mod_pred = model.predict(x_mess)\n",
    "cutoff_value = 0.1\n",
    "for i in range(len(y_mess)):\n",
    "    if mod_pred[i,0]>cutoff_value:\n",
    "        if ((i==0)|(mod_pred[i-1,0]>cutoff_value))|(mod_pred[i+0]>cutoff_value):\n",
    "            #if df.index_string ==0:\n",
    "                print (i+0,\"-\",\n",
    "                  #i+2,\"-\", \n",
    "                  #y_test[i],\"-\", \n",
    "                  mod_pred[i],\"-\",\n",
    "                  df.quelle[i+0],\"-\", \n",
    "                  df.episode[i+0],\"-\",\n",
    "                  df.index_string[i+0],'\\n')"
   ]
  },
  {
   "cell_type": "markdown",
   "metadata": {},
   "source": [
    "Voraussage: alle Datensätze"
   ]
  },
  {
   "cell_type": "code",
   "execution_count": 159,
   "metadata": {},
   "outputs": [
    {
     "name": "stdout",
     "output_type": "stream",
     "text": [
      "0 - [2.9802322e-06] - 0_e300c - kneten frass wasser gruetze dannen kurz frug abendessen demjenigen naehe retten darum dunkelwelt geselle toeten wirtshaus halten versuchen rede ass gefallen betruebt mensch seid einzige seien maedchen hurtigundgeschwind jedesmal gesellen verhaengt boeser krone brief drach geraubt nacheinander ueberzogen uhr fragt finde kind erste witwe fahnen geben bedeuten wirth meermanne geopfert fresse ausgeliefert muessen gleichen herberge gast uebrigen dach frassen muessten antwortete behangen bedingung haeuser toechtern unsres grossmutters jungfrau schoene geb reich damals drache alljaehrlich loos tochter wirt verschlang haeuschen schwarz koenigreichs grade flor naechste erloesen ach sei uebergeben schuster menschen befreien trauer fragte versprochen schwarzem traurig stadt warum reihe - 0 \n",
      "\n",
      "1 - [0.9999985] - 0_e300e - drach ohnehin getroffen koenne busch hing geriet fuerchterlichen kraft konnte trug abseits thiere schnaubte wohin morgen hoerte unglueck genommen stuerzen toeteten dritten uebte strand fortzugehen stellt sass weinend rissen hauste ungeheuer spie fuerchte kaempfen stieg lamia drachenberg kruege schon zukommen meermann hinzu gesicht beten sobald sank traene fass bruecke herauskam stellte feuer schlug sechs fuehren kuechenjunge wecken wenig hieb schweif angefahren pfeil entgegen weit knie ans sah luft meer feld staeblein wartete teufel bube zweiten kapelle ungetuem los bursch haeupter verschlungen befreite bestie sprang schaden adler wagen kam dukaten lindwurm tot saebel grossem gewartet drachen hoehle schoss koepfe drache - 0 \n",
      "\n",
      "2 - [3.8444996e-06] - 0_e300g - versah zahl zusammen schafen aufdruecken handflaeche zusammenrufen eraber ueberlegen angeboten joerg hause jung wirthshaus ring gelangen schlief jahr danken buendel namen kueche worte retter dannen komme seidenes versprich prinzessinnen erst zuerst fahren schlaf botschaft betruebt darauf traurigen vorhin andenken nieder wandt festbinden kopfe minute kommen drachenkoepfen weiterzuschlafen kampfe strande niedersank flocht wurme mitnehmen halt verkuendete umkehren wickelt daliegenden klaftern gekaempft errettet hingefallen letzte legte tuechlein erloest wickelte eilte khantochter geschuettet heruntergeschoren ohnmachtdann boden tuch kaeme eingesteckt herausgeschnitten zungenspitzen fraeulein taschentuchs erkenne golden schneidet sieben fort muede steckte koepfen setz schnitt heraus tasche kutsche todtmuede ruhte zunge gefaess eilig zungen - 0 \n",
      "\n",
      "3 - [8.34465e-06] - 0_e300o - tun lehrt froehlichkeit beweis gerollt werth raethen herumgeschleppt eingefallen bestraft wirklichen laemmerzungen frug kleider wahrheit dachten womit verneigte aufgestellt gethan wahr auseinander lebte hinaufsteigen falschen zar geschaut geschenke kaiser zeigte verdient taschentuch freudig bleibe fischersohn begruesste haetten getreulich hoerte feierten wenigen knechte betrueger moecht erzaehlte koenige getoetet sanae±n nachzusehen haengten zungenbuendel dazwischen linsen drachenhaus fuellte gestohlen weggelegt ueberaus tuecher tapfern festlichkeit tisch nein fuer beweisen drachenkoepfe naegeln gluecklich wurden geworfen laesst zurueck geschorene habensie schenkte solange geheiratet liess dorthin hofmeister sahen wirklicher hans erkannte umarmt gezogen fuenf zaehne soldaten erloeser einzigen unaussprechlicher ausgerufen pomp braeutigam drauf wahrzeichen fuhr koenig - 0 \n",
      "\n",
      "4 - [2.95043e-06] - 0_e303c - jahre acht bruedern koennen schnallten stech ewig klinge petja gingen scheideweg spaeter nimmt legten schwimmen gruenes aeltere einzeln verrostet kamen aehnlich hund westen osten weiss vierzehn seite dolche todt persoenlichkeit doppelritter zaertlich durchziehen gehen zogen fischersohn wald bekommen monat probeschuss zwillingsbrueder andre dicht hinaus wollten soehne stand einander zieht rot fliesst linde beschlossen pflegevater trennten gegenseitig pferde hirschfaenger beide muetter fischmeister beiden rechts pistole zeichen messer drum versucht sehn geworden herkommt links pferd heimgekehrt weite einschnitt gen aeltern knaben abreisen wurfspeer nahmen baum umherwandern nachsehen rostflecke buechse graete umarmten abschied kinder klingen blanken trennen dienen tanne ritten welt erwachsen - 0 \n",
      "\n",
      "5 - [3.7550926e-06] - mess_43 - es war einmal ein koenigssohn der ritt mit seinen dienern auf die jagd er hatte schon den ganzen tag gejagt ohne etwas zu treffen er war im begriffe heimzukehren als eine ricke ihm aufstiess um doch wenigstens etwas nach hause zu bringen setzte er ihr nach aber immer wenn er sie nahe genug glaubte um seinen speer werfen zu koennen war sie ihm wieder entschwunden dabei verlor er seine gefaehrten ganz die denn ohne ihn heimkehrten die ricke lief endlich ueber eine bruecke der koenigssohn hinter ihr her kaum war er hinueber als die bruecke hinter ihm abbrach und vor ihm stand statt der ricke ein altes haessliches weib das ihn aufforderte zu folgen er musste ihr gehorchen er mochte wollen oder nicht sie fuehrte ihn in ein schloss mitten im walde das sie mit ihren drei toechtern bewohnte die beiden aeltesten waren so haesslich wie ihre mutter und ebenso unfreundlich gegen ihn die juengste aber huebsch und freundlich nach einiger zeit forderte die alte ihn auf 477 ihre aelteste tochter zu heiraten dagegen weigerte er sich aber und erbot sich die juengste zu nehmen das wollte jedoch die alte nicht und er wurde von ihr und den beiden aelteren schwestern scharf bewacht damit er nicht entrinne er fand aber doch gelegenheit der juengsten seine liebe zu gestehen die sie ihrerseits herzlich erwiderte beide beschlossen zu entfliehen im herbste liefen sie eines nachts davon aber am morgen setzte ihnen die mittlere schwester nach wie die juengste bemerkte dass sie verfolgt wurden verwandelte sie sich in einen rosenstock und ihren geliebten in eine rose da kehrte die schwester um und erzaehlte sie habe die fluechtlinge nicht finden koennen und zugleich dass sie mitten im walde einen rosenstock gesehen haette da wurde sie von ihrer mutter und schwester gescholten dass sie den rosenstock nicht mitgebracht hatte nun wurde die aelteste tochter nachgeschickt als sie den verfolgten auf die spur kam verwandelte ihre schwester sich in ein caroussel und ihren geliebten in den besitzer desselben der in der mitte sitzend in einem buche las da kehrte die aelteste um und berichtete dass sie nichts gefunden und was sie im walde gesehen nun eilte die alte ihnen selbst nach diesmal verwandelte sich die juengste tochter in einen see und den koenigssohn in eine ente die auf dem see schwamm vorher aber hatte sie ihn gewarnt dem ufer nicht zu nahe zu kommen die alte lockte die ente mit brot und einmal glaubte sie sie so nahe dass sie mit der hand darnach griff da verlor sie aber das gleichgewicht und fiel ins wasser und ertrank - 0 \n",
      "\n",
      "6 - [6.4969063e-06] - mess_43 - die beiden liebenden setzten nun ihren weg fort und kamen auch gluecklich in die heimat des koenigssohns vor dem thore verabredeten sie die braut solle noch draussen bleiben waehrend er hineingehe er traf nur seine mutter noch am leben sein vater war gestorben grosser jubel empfing ihn bei seiner rueckkehr und grosse feste wurden veranstaltet so dass er seine braut ganz vergass und ihm zuletzt sein ganzes erlebniss im walde wie ein traum erschien die braut wartete draussen bis an den verabredeten tag als er da nicht kam verkleidete sie sich und ging ins schloss wo sie sich als kammerzofe verdingte und durch ihre geschicklichkeit und bescheidenheit sich bald die gunst der koenigin erwarb es gelang ihr aber nicht ihren geliebten zu gesicht zu bekommen da wuenschte 478 sie sich eines tages ein prachtvolles kleid auf dem der ganze sternenhimmel zu sehen war und weil sie eine zauberin war bekam sie es auch das zeigte sie der koenigin und diese ganz entzueckt darueber wollte es ihr abkaufen das maedchen aber wollte es fuer geld nicht hergeben sondern es ihr schenken unter der bedingung dass sie eine nacht im schlafgemache des koenigs zubringen duerfe das gewaehrte die koenigin sie gab aber ihrem sohne vorher einen schlaftrunk damit er von der gegenwart der zofe nichts bemerke das maedchen suchte ihn durch weinen und wimmern zuletzt durch schuetteln und ruetteln zu erwecken es gelang ihr aber nicht sondern er schlief bis zum vollen tage wo sie das zimmer wieder verlassen musste da wuenschte sie sich ein prachtvolles tuch mit gold und perlen besetzt dass es wie die sonne leuchtete das zeigte sie wieder der koenigin und schenkte es ihr unter der gleichen bedingung diesmal aber nahm der koenig den schlaftrunk nicht weil ihm einer seiner diener verrathen was die koenigin das vorige mal gethan hatte wie nun das maedchen wieder in seinem zimmer weinte und wimmerte erwachte er und erkannte sie wieder und nun erkannte er auch dass was er im walde erlebt kein traum gewesen war erinnerte sich seines versprechens und nahm am andern tage das maedchen zu seiner frau und beide lebten gluecklich mit einander - 0 \n",
      "\n",
      "7 - [0.00057939] - mess_44 - ein reicher mann der witwer geworden hatte eine einzige tochter die schoen und lieblich heranwuchs da wurde des vaters herz von unreiner liebe zu ihr entzuendet sie aber widerstand seinem begehren da drohte er ihr mit gewalt und nun sann sie auf list sie versprach ihm zu willen zu sein wenn er ihr ein kleid gebe das von silber stehen koenne als sie das bekommen verlangte sie eins das von golde steif sei und zum drittenmale eins das von gesteinen stehen koenne wie sie auch das erlangt sagte sie nun fehlt mir noch ein kraehenpelz und endlich hatte sie noch einen wunsch eine gluecksruthe auch die bekam sie - 0 \n",
      "\n",
      "8 - [0.00393727] - mess_44 - 479 nun wohnte in einem lande ein schoener prinz der hatte von der schoenheit des maedchens vernommen sie nahm die ruthe in die hand die kleider auf die schulter und wuenschte sich in die naehe von dem schloss des prinzen alsbald war sie in dem schlossgarten da wuenschte sie sich einen schrank in einer eiche des gartens that ihre kleider hinein zog den kraehenpelz an und ging in die schlosskueche wo sie sich fuer einen armen knaben ausgab der dienst suche dich kann ich gebrauchen sagte der koch du sollst aschenpuester werden nach ein paar tagen kam der prinz in die kueche und brachte ein erlegtes wild hin sie sah ihn und er gefiel ihr ueber die massen - 0 \n",
      "\n",
      "9 - [0.02068403] - mess_44 - bald darauf war eine hochzeit auf einem schlosse in der naehe der prinz fuhr auch hin viele leute liefen um dem tanze zuzusehen aschenpuester bat den koch auch um die erlaubniss zusehen zu duerfen da lief sie zu der eiche zog das silberne kleid an und wuenschte sich einen wagen in dem sie nach dem schlosse fuhr der prinz sah sie und tanzte mit ihr aber nach ein paar taenzen war sie verschwunden setzte sich auf ihren wagen und sprach - 0 \n",
      "\n",
      "10 - [0.1835601] - mess_44 - hinter mir dunkel und vorne mir klar - 0 \n",
      "\n",
      "11 - [0.33127546] - mess_44 - dass niemand sehe wohin ich fahr - 0 \n",
      "\n",
      "12 - [0.53417265] - mess_44 - am andern morgen war der prinz sehr uebler laune er hatte die ganze nacht gewacht und immer an seine schoene taenzerin gedacht aschenpuester musste ihm die stiefel putzen das that sie auch aber ein kleiner flecken an den zehen blieb ungeputzt das bemerkte der prinz kam zornig in die kueche hinein und warf ihr den stiefel an den kopf - 0 \n",
      "\n",
      "13 - [0.28971058] - mess_44 - am naechsten abend wurde wieder getanzt und aschenpuester bat den koch wieder um erlaubniss diesmal zog sie das goldene kleid an und fuhr im wagen dahin der prinz hatte schon nach ihr ausgeschaut und wurde sehr vergnuegt als sie kam beim tanze fragte er sie wo sie zu hause sei in stiefelschmeiss antwortete sie sie blieb eine stunde da dann verschwand sie umsonst fragte der prinz wo stiefelschmeiss laege niemand konnte es ihm sagen - 0 \n",
      "\n",
      "14 - [0.11931202] - mess_44 - der prinz that die nacht wieder kein auge zu und war noch verdriesslicher als am tage vorher aschenpuester musste ihm den rock buersten sie konnte es ihm aber nicht recht machen und zuletzt warf er ihr die buerste an den kopf - 0 \n",
      "\n"
     ]
    },
    {
     "name": "stdout",
     "output_type": "stream",
     "text": [
      "15 - [0.01387632] - mess_44 - 480 am dritten abend als aschenpuester sich wieder erlaubniss zum zusehen erbeten hatte zog sie ihr kleid mit den edelsteinen an der prinz fragte sie beim tanze wo sie wohne in buerstenschmeiss gab sie zur antwort wer du auch seist sprach er nimm diesen ring von mir sie liess sich den ring an die hand stecken dann wollte sie entschluepfen aber der prinz passte ihr auf und fuhr dicht hinter ihr her sie stieg bei der eiche aus hatte aber nicht zeit das kleid abzulegen sondern zog nur in eile den kraehenpelz drueber - 0 \n",
      "\n",
      "16 - [0.00343728] - mess_44 - als am andern morgen der koch die suppe bereitete liess aschenpuester den ring hineinfallen der prinz fand ihn und fragte wer in der kueche gewesen niemand als ich und aschenpuester erwiderte er er liess aschenpuester kommen mich juckts auf dem kopfe sprach er zu ihr sieh nach ob ungeziefer drauf ist aschenpuester gehorchte wie sie aber vor ihm stand da sah er unter dem abgenutzten kraehenpelz das demantkleid hervorschimmern da erkannte er sie nun bist du mein sprach er und er machte sie zu seiner frau und sie lebten gluecklich zusammen bis an ihr ende - 0 \n",
      "\n",
      "17 - [0.00581065] - mess_45 - es war einmal ein armer handwerksmann der hatte zwei soehne einen guten der hiess hans und einen boesen der hiess helmerich wie das aber wohl geht in der welt der vater haette den boesen mehr lieb als den guten - 0 \n",
      "\n",
      "18 - [4.61936e-06] - mess_45 - nun begab es sich dass das jahr einmal ein mehr als gewoehnlich teures war und dem meister der beutel leer ward ei dachte er man muss zu leben wissen sind die kunden 44 doch so oft zu dir gekommen nun ist es an dir hoeflich zu sein und dich zu ihnen zu bemuehen gesagt getan frueh morgens zog er aus und klopfte an mancher stattlichen tuer aber wie es sich denn so trifft dass die stattlichsten herren nicht die besten zahler sind die rechnung zu bezahlen hatte niemand lust so kam der handwerksmann muede und matt des abends in seine heimat und truebselig setzte er sich vor die tuere der schenke ganz allein denn er hatte weder das herz mit den zechgaesten zu plaudern noch freute er sich sehr auf das lange gesicht seines weibes aber wie er da sass in gedanken versunken konnte er doch nicht lassen hinzuhoeren auf das gespraech das drinnen gefuehrt ward ein fremder der eben aus der hauptstadt angelangt war erzaehlte dass die schoene koenigstochter von einem boesen zauberer gefangen gesetzt sei und muesse im kerker bleiben ihr lebelang wenn nicht jemand sich faende der die drei proben loeste welche der zauberer gesetzt hatte faende sich aber einer so waere die prinzess sein und ihr ganzes herrliches schloss mit all seinen schaetzen das hoerte der meister an zuerst mit halbem ohr dann mit dem ganzen und zuletzt mit allen beiden denn er dachte mein sohn helmerich ist ein aufgeweckter kopf der wohl den ziegenbock barbieren moechte so das einer von ihm heischte was gilts er loest die proben und wird der gemahl der schoenen prinzess und herr ueber land und leute denn also hatte der koenig ihr vater verkuendigen lassen  schleunig kehrte er nach haus und vergass seine schulden und kunden ueber der neuen maer die er eilig seiner frau hinterbrachte des andern 45 morgens schon sprach er zum helmerich dass er ihn mit ross und wehr ausruesten wolle zu der fahrt und wie schnell machte der sich auf die reise als er abschied nahm versprach er seinen eltern er wolle sie samt dem dummen bruder hans gleich holen lassen in einem sechsspaennigen wagen denn er meinte schon er waere koenig uebermuetig wie er dahinzog liess er seinen mutwillen aus an allem was ihm in den weg kam die voegel die auf den zweigen sassen und den herrgott lobten mit gesang wie sie es verstanden scheuchte er mit der gerte von den aesten und kein getier kam ihm in den weg daran er nicht seinen schabernack ausgelassen haetteund zum ersten begegnete er einem ameisenhaufen den liess er sein ross zertreten und die ameisen die erzuernt an sein ross und an ihn selbst krochen und pferd und mann bissen erschlug und erdrueckte er alle weiter kam er an einen klaren teich in dem schwammen zwoelf enten helmerich lockte sie ans ufer und toetete deren elf nur die zwoelfte entkam endlich traf er auch einen schoenen bienenstock da machte er es den bienen wie er es den ameisen gemacht und so war seine freude die unschuldige kreatur nicht sich zum nutzen sondern aus blosser tuecke zu plagen und zu zerstoeren - 0 \n",
      "\n",
      "19 - [0.00191277] - mess_45 - als helmerich nun bei sinkender sonne das praechtige schloss erreicht hatte darin die prinzessin verzaubert war klopfte er gewaltig an die geschlossene pforte alles war still immer heftiger pochte der reiter endlich tat sich ein schiebefenster auf und hervor sah ein altes muetterlein mit spinnewebfarbigem gesichte die fragte verdriesslich was er begehre die prinzess will ich erloesen rief helmerich geschwind macht mir auf eile mit weile mein sohn sprach die alte morgen ist auch ein tag um neun uhr werde ich dich hier erwarten damit schloss sie den schalter - 0 \n",
      "\n",
      "20 - [0.00869155] - mess_45 - am andern morgen um neun uhr als helmerich wieder 46 erschien stand das muetterchen schon seiner gewaertig mit einem faesschen voll leinsamen den sie ausstreute auf eine schoene wiese lies die koerner zusammen sprach sie zu dem reiter in einer stunde komme ich wieder da muss die arbeit getan sein  helmerich aber dachte das sei ein alberner spass und lohne es nicht sich darum zu buecken er ging derweil spazieren und als die alte wiederkam war das faesschen so leer wie vorher das ist nicht gut sagte sie darauf nahm sie zwoelf goldene schluesselchen aus der tasche und warf sie einzeln in den tiefen dunklen schlossteich hole die schluessel herauf sprach sie in einer stunde komme ich wieder da muss die arbeit getan sein helmerich lachte und tat wie vorher  als die alte wiederkam und auch diese aufgabe nicht geloest war da rief sie zweimal nicht gut nicht gut doch nahm sie ihn bei der hand und fuehrte ihn die treppe hinauf in den grossen saal des schlosses da sassen drei frauenbilder alle drei in dichte schleier verhuellt waehle mein sohn sprach die alte aber sieh dich vor dass du recht waehlst in einer stunde komme ich wieder helmerich war nicht klueger da sie wiederkam als da sie wegging uebermuetig aber rief er aufs geratewohle die zur rechten waehl ich  da warfen alle drei die schleier zurueck in der mitte sass die holdselige prinzess rechts und links zwei scheussliche drachen und der zur rechten packte den helmerich in seine krallen und warf ihn durch das fenster in den tiefen abgrund - 0 \n",
      "\n",
      "21 - [2.7805567e-05] - mess_45 - ein jahr war verflossen seit helmerich ausgezogen die prinzess zu erloesen und noch immer war bei den eltern kein sechsspaenniger wagen angelangt ach sprach der vater waere nur der ungeschickte hans ausgezogen statt unsres besten buben da waere das unglueck doch geringer  vater sagte hans lass mich hinziehn ich wills auch probieren aber der vater wollte nicht denn was dem klugen misslingt wie fuehrte das der ungeschickte zu ende da der vater ihm ross und wehr versagte machte hans sich heimlich auf und wanderte wohl drei tage denselben weg zu fuss den der bruder an einem geritten war aber er fuerchtete sich nicht und schlief des nachts auf dem weichen moos unter den gruenen zweigen so sanft wie unter dem dach seiner eltern die voegel des waldes scheuten sich nicht vor ihm sondern sangen ihn in schlaf mit ihren besten weisen als er nun an die ameisen kam die beschaeftigt 47 waren ihren neuen bau zu vollenden stoerte er sie nicht sondern wollte ihnen helfen und die tierchen die an ihm hinaufkrochen las er ab ohne sie zu toeten wenn sie ihn auch bissen die enten lockte er auch ans ufer aber um sie mit brosamen zu fuettern den bienen warf er die frischen blumen hin die er am wege gepflueckt hatte so kam er froehlich an das koenigsschloss und pochte bescheiden am schalter gleich tat die tuere sich auf und die alte fragte nach seinem begehr wenn ich nicht zu gering bin moechte ich es auch versuchen die schoene prinzess zu erloesen sagte er versuche es mein sohn sagte die alte aber wenn du die drei proben nicht bestehst kostet es dein leben wohlan muetterlein sprach hans sage was ich tun soll jetzt gab die alte ihm die probe mit dem leinsamen hans war nicht faul sich zu buecken doch schon schlug es drei viertel und das faesschen war noch nicht halb voll da wollte er schier verzagen aber auf einmal kamen schwarze ameisen mehr als genug und in wenigen minuten lag kein koernlein mehr auf der wiese als die alte kam sagte sie das ist gut und warf die zwoelf schluessel in den teich die sollte er in einer stunde herausholen aber hans brachte keinen schluessel aus der tiefe so tief er auch tauchte er kam nicht an den grund verzweifelnd setzte er sich ans ufer da kamen die zwoelf entchen herangeschwommen jede mit 48 einem goldenen schluesselchen im schnabel die warfen sie ins feuchte gras so war auch diese probe geloest als die alte wiederkam um ihn nun in den saal zu fuehren wo die dritte und schwerste probe seiner harrte verzagend sah hans auf die drei gleichen schleiergestalten wer sollte ihm hier helfen da kam ein bienenschwarm durchs offene fenster geflogen die kreisten durch den saal und summten um den mund der drei verhuellten aber von rechts und links flogen sie schnell wieder zurueck denn die drachen rochen nach pech und schwefel wovon sie leben die gestalt in der mitte umkreisten sie alle und surrten und schwirrten leise die mittle die mittle denn da duftete ihnen der geruch ihres eigenen honigs entgegen den die koenigstochter so gern ass also da die alte wiederkam nach einer stunde sprach hans ganz getrost ich waehle die mittle und da fuhren die boesen drachen zum fenster hinaus die schoene koenigstochter aber warf ihren schleier ab und freute sich der erloesung und ihres schoenen braeutigams und hans sandte dem vater der prinzess den schnellsten boten und zu seinen eltern einen goldenen wagen mit sechs pferden bespannt und sie alle lebten herrlich und in freuden und wenn sie nicht gestorben sind leben sie heute noch - 0 \n",
      "\n",
      "22 - [0.01592267] - mess_46 - es war einmal in einem kleinen fischerdorf ein armer fischer der dort mit seiner frau lebte sie hatten keine kinder - 0 \n",
      "\n",
      "23 - [0.9303011] - mess_46 - eines tages versuchte er fische zu fangen aber es biss einfach keiner an doch so gegen abend schliesslich als er schon seine siebensachen packen und fortgehen wollte ging ihm ein fisch an die angel er zog ihn hinaus und was sah er da ein ganz und gar goldenes fischlein da hoerte er wie der fisch zu ihm sprach - 0 \n",
      "\n",
      "24 - [0.0381659] - mess_46 -  lass mich noch einen tag wachsen dann kannst du mich fangen und essen - 0 \n",
      "\n",
      "25 - [0.17083836] - mess_46 -  na gut sagte sich der fischer da ich lass ihn wieder frei - 0 \n",
      "\n",
      "26 - [0.4562227] - mess_46 - er nahm ihn also vom haken und warf ihn wieder ins meer - 0 \n",
      "\n",
      "27 - [0.00207606] - mess_46 - als er am abend nach hause kam und seiner frau erzaehlte was er gesehen und gehoert hatte wurde sie boese weil sie nichts zu essen hatten - 0 \n",
      "\n",
      "28 - [0.31952846] - mess_46 - am naechsten morgen ging der fischer wieder zum fischen und fing das goldene fischchen noch einmal da sagte es ihm - 0 \n",
      "\n",
      "29 - [0.00192487] - mess_46 -  jetzt gehoere ich dir du kannst mich essen aber bevor du mich isst werde ich dir einen ratschlag geben den du in deinem eigenen interesse befolgen solltest iss ein stueckchen und gib deiner frau auch eines zu essen dann wird sie zwillinge gebaeren danach nimm meine graeten und vergrab sie vor deinem haus dann werden zwei zypressen daraus spriessen dann nimm ein paar von ihren blaettern und fuettere alle tiere die du hast und sie werden auch zwillinge gebaeren - 0 \n",
      "\n",
      "30 - [0.07583925] - mess_46 - und so geschah es nach einiger zeit bekamen sie zwei jungen zwillinge die beiden aehnelten einander so sehr dass man sie nicht voneinander unterscheiden konnte und auch die huendin und die katze bekamen zwillinge - 0 \n",
      "\n"
     ]
    },
    {
     "name": "stdout",
     "output_type": "stream",
     "text": [
      "31 - [0.00316009] - mess_46 - eines tages sahen sie noch etwas seltsames zusammen mit den wurzeln der zypressen die vor ihrem hause gewachsen waren sprossen auch zwei schwerter als die kinder groesser waren wollte eines von ihnen auswandern da nahm das kind eines der pferde einen der hunde und eines der schwerter bevor es loszog sagt es zu seiner mutter - 0 \n",
      "\n",
      "32 - [0.00284237] - mess_46 -  mutter ich habe ein zeichen in die ablage gemacht solange das zeichen dort ist geht es mir gut wenn es herunterfaellt dann schick meinen bruder um nach mir zu suchen denn dann befinde ich mich in gefahr - 0 \n",
      "\n",
      "33 - [0.00307411] - mess_46 - er brach auf und zog sehr weit fort unterwegs traf er eine alte frau die ihn in ihrer huette aufnahm und bewirtete als sie ihm zu essen gab bat der junge um etwas wasser und da sagte ihm die alte frau - 0 \n",
      "\n",
      "34 - [0.05603379] - mess_46 -  ach mein kind wir haben hier kein wasser in dieser gegend hier lebt eine lamia die das wasser unter verschluss haelt wir bekommen nichts wenn sie nicht jeden tag ein maedchen zu fressen bekommt und morgen wird sie die koenigstochter rodanthi fressen - 0 \n",
      "\n",
      "35 - [0.17104337] - mess_46 - als der junge mann das hoerte fragte er wo denn die lamia waere - 0 \n",
      "\n",
      "36 - [0.31168017] - mess_46 -  dort drueben sagte sie - 0 \n",
      "\n",
      "37 - [0.7356782] - mess_46 - da brach er auf und ging an den ort an dem man die koenigstochter behuetete und wo die lamia sie fressen wuerde - 0 \n",
      "\n",
      "38 - [0.27573273] - mess_46 -  ich werde dich retten sagte er ihr du musst nicht weinen - 0 \n",
      "\n",
      "39 - [0.77947783] - mess_46 - kurz darauf hoerte er ein droehnen und sah die lamia kommen - 0 \n",
      "\n",
      "40 - [0.3675517] - mess_46 -  oha sagte sie da heute werde ich gleich zwei zu fressen haben - 0 \n",
      "\n",
      "41 - [0.40709448] - mess_46 - sobald sie sich ihnen naeherte nahm der junge mann das schwert das er hinter einigen steinen versteckt hatte warf die lamia zu boden und toetete sie daraufhin ging er und oeffnete die quellen seitdem hatten sie in der gegend wieder wasser - 0 \n",
      "\n",
      "42 - [0.02547735] - mess_46 - dann kehrte er in die huette der alten frau zurueck sie kuesste ihn dankte ihm und schlug ihm vor mit ihr weiter zusammen zu wohnen die koenigstochter aber verliebte sich in ihn und wollte ihn zu ihrem mann haben er war einverstanden sie heirateten und lebten gluecklich miteinander - 0 \n",
      "\n",
      "43 - [0.08068889] - mess_46 - dann kam der tag an dem der koenig seinem schwiegersohn das ganze koenigreich zeigen wollte sie reisten fort und kamen eines tages vor eine riesige burg - 0 \n",
      "\n",
      "44 - [0.32184702] - mess_46 -  geh niemals in diese burg hinein denn dort versteckt sich eine lamia die alle gefangen nimmt die hineinkommen sagte der koenig zu seinem schwiegersohn - 0 \n",
      "\n",
      "45 - [0.06572008] - mess_46 - der junge mann aber beachtete den hinweis nicht weiter den ihm der koenig gegeben hatte und zog am naechsten tag los um alle leute zu befreien die die lamia gefangen hielt - 0 \n",
      "\n",
      "46 - [0.504233] - mess_46 - er schlug an die pforte und hoerte eine kraeftige stimme von innen - 0 \n",
      "\n",
      "47 - [0.06685877] - mess_46 -  wenn du waffen hast dann wirf sie nieder und komm rein - 0 \n",
      "\n",
      "48 - [0.03310335] - mess_46 - er legte sein schwert ab trat ein und kaempfte lange zeit erbittert mit der lamia er schaffte es aber nicht sie zu besiegen so wurde auch er einer ihrer gefangenen in dem augenblick in dem der junge mann gefangen genommen wurde fiel zu hause das zeichen von der ablage als das seine mutter sah begann sie zu weinen und alle glaubten dass er verloren gegangen waere - 0 \n",
      "\n",
      "49 - [0.00703338] - mess_46 - da begab sich sein bruder auf den weg um nach ihm zu suchen zufaellig kam auch er an der alten frau vorbei die seinen bruder bewirtet hatte sie dachte dass es sich um seinen bruder handelte der die lamia umgebracht hatte und dankte ihm - 0 \n",
      "\n",
      "50 - [0.00559473] - mess_46 - von dort begab sich der zwillingsbruder zum palast des koenigs als ihn die frau seines bruders sah hielt sie ihn fuer ihren mann am morgen ging er hinaus und tat so als wuerde er auf jagd gehen zufaellig schlug er denselben weg ein der zur burg fuehrte als er nach seinem bruder suchte stand er mit einem mal vor der grossen burg in der die lamia wohnte - 0 \n",
      "\n",
      "51 - [0.23031077] - mess_46 - er klopfte an die pforte und auch er hoerte eine kraeftige stimme - 0 \n",
      "\n",
      "52 - [0.19398683] - mess_46 -  wenn du waffen hast leg sie ab und komm herein - 0 \n",
      "\n",
      "53 - [0.0153183] - mess_46 - der junge mann aber trat ein ohne sein schwert draussen zu lassen er zog sein schwert brachte die lamia um und befreite seinen bruder und alle anderen - 0 \n",
      "\n",
      "54 - [0.0416798] - mess_46 - sie kehrten in den palast zurueck auch ihre eltern kamen dorthin und sie lebten alle zusammen gut und wir leben noch besser - 0 \n",
      "\n",
      "55 - [0.02065194] - mess_47 - es war einmal ein schneider klein von gestalt der auf der welt in der fremde herumwanderte wie er eines tages so dahin ging kam er in einen wald und in diesem zu einer quelle neben welcher er ein rothseidenes band fand auf dem die worte standen sieben auf einen schlag wer macht es mir nach der schneider hob es auf und band es sich um den leib - 0 \n",
      "\n",
      "56 - [0.04103574] - mess_47 - 280 da er schon lange weiter gewandert war kam ihm ploetzlich ein riese entgegen der ihn hart anfuhr und ihm fuerchterlich drohte der schneider aber gedachte seines bandes und der worte die darauf standen und machte sich nicht viel aus den drohungen des riesen so zankend und streitend kamen sie zu einem kirschenbaum der voll reifer kirschen hing da sagte der riese hoehnisch halt ich will dir die aeste des baumes herabbiegen damit du von den kirschen essen kannst lass es dir noch schmecken denn wenn du gegessen hast will ich dich umbringen - 0 \n",
      "\n",
      "57 - [0.07424471] - mess_47 - der riese bog also den baum hernieder und der schneider hielt sich fest an dem gipfel desselben um bequem die ueppigen kirschen verspeisen zu koennen aber zu gleicher zeit liess der riese den baum wieder los und der gute schneider ward hoch in die luft hinaufgeschleudert er hatte es dem bande zu danken dass er unversehrt auf der anderen seite wieder zur erde kam da bekam der schneider muth der riese aber gerieth in erstaunen und liess den kleinen mann von nun an neben sich herziehen - 0 \n",
      "\n",
      "58 - [0.4706141] - mess_47 - wie der schneider nun so hinter dem riesen einherging lief ihm ein spatz unter den fuessen herum er bueckte sich ergriff den vogel und trug ihn ohne dass der riese es sah fortan in der hand - 0 \n",
      "\n",
      "59 - [0.02784726] - mess_47 - auf diese weise waren sie eine bedeutende strecke gegangen da hob der riese einen stein auf und sagte zu seinem gefaehrten nun wollen wir in die wette werfen und sehen wer weiter wirft und er warf 281 und der stein flog so weit dass ihn die augen des schneiders gerade noch ersehen konnten - 0 \n",
      "\n",
      "60 - [0.19980025] - mess_47 - da bueckte sich auch der schneider als wolle er einen stein aufheben liess aber den vogel fliegen dieser flog so weit dass der riese gar nicht bemerken konnte wo der stein zur erde fiel - 0 \n",
      "\n",
      "61 - [0.39871094] - mess_47 - nun bekam der riese schon eine bessere meynung von seinem kleinen reisegefaehrten und bot ihm an ihn in seine hoehle zu nehmen wo ihrer zwoelf beysammen waeren er selber aber sey koenig - 0 \n",
      "\n",
      "62 - [0.04269242] - mess_47 - wieder gingen sie einige zeit des weges da lag ein kaeslaibchen auf der strasse welches der schneider gleichfalls aufhob und in der hand behielt bald darauf hob der riese einen stein auf und drueckte ihn in seiner gewaltigen faust so fest dass wasser heraus trat der schneider bueckte sich nun auch that als naehme er einen stein von der erde auf und drueckte dann das kaeselaibchen das er in der hand trug so fest dass milch herausdrang neckisch frug er den riesen ob er es auch so koenne dieser war nun voll erstaunen ueber die kraft des zwerges wie er meynte - 0 \n",
      "\n",
      "63 - [0.00074574] - mess_47 - so kamen sie in die hoehle und der riese erzaehlte seinen genossen was der erdwurm bisher alles gethan habe sie hiessen ihn daher willkommen und behielten ihn bey sich ohne ihm etwas leides zu thun sie gingen oft auf raub aus manchmal nahmen sie ihn auf ihre streifereyen mit meistens aber musste er zurueckbleiben wo sie ihn dann einsperrten alle abende aber mit dem schlage sechs uhr verfielen sie in schlaf aus 282 welchem sie nicht zu wecken waren bis sie nicht volle zwoelf stunden geschlafen hatten so hatte er zwar zu leben aber auch viele langweile als daher einmal die riesen wieder ausgezogen waren besah er sich die hoehle recht genau ob denn kein entkommen moeglich waere da entdeckte er eine thuere welche in einen langen dunklen gang fuehrte er ging hinein und mehrere stunden in grosser finsterniss fort bis endlich helle ihn umfloss und er sich wieder oben auf freyer erde sah - 0 \n",
      "\n"
     ]
    },
    {
     "name": "stdout",
     "output_type": "stream",
     "text": [
      "64 - [0.03940365] - mess_47 - vor seinen augen lag eine stadt er ging also auf sie zu unterdessen waren die riesen nach hause gekommen sie fanden den kleinen mann zwar nicht bekuemmerten sich aber auch nicht viel um sein verschwinden denn sie dachten der erdwurm werde sich irgendwo verkrochen haben und schon wieder zum vorschein kommen wenn ihn hungere - 0 \n",
      "\n",
      "65 - [0.00084361] - mess_47 - dieser aber war in die stadt getreten wo er alles in bestuerzung und trauer fand alle fenster waren mit schwarzen tuechern verhangen er erkundigte sich daher was die ursache solcher trauer waere und erfuhr dass riesen in der naehe wohnten welche die stadt immer in angst und schrecken hielten und dass sieben drachen in einer nahen hoehle hausten welchen sie jeden tag einen menschen opfern muessten  und endlich sey eine schlange nicht weit auf einem baume welche alle menschen verzehre die ungluecklicher weise in ihr bereich kaemen niemand aber waere zu finden welcher die stadt von diesen ungeheuern befreyen wollte - 0 \n",
      "\n",
      "66 - [0.2582329] - mess_47 - nun sey das loos auf die koenigstochter gefallen283 dass sie des uebermorgigen tages den drachen geopfert werden solle der koenig habe zwar verkuenden lassen dass wer diese ungeheuer erlegen wuerde die koenigstochter zur ehe und spaeter das koenigreich als erbe haben sollte aber niemand finde sich der ein so gefaehrliches unternehmen wagen wollte - 0 \n",
      "\n",
      "67 - [0.00343272] - mess_47 - da meynte der schneider er waere nicht abgeneigt das wagestueck zu unternehmen man moege ihn nur zum koenige fuehren so wurde er denn zum koenige gefuehrt und dieser versprach ihm aufs neue seine tochter und sein reich als lohn wenn ihm die that gelingen wuerde - 0 \n",
      "\n",
      "68 - [0.00085533] - mess_47 - der schneider liess sich nun ein schwert geben welches er leicht handhaben konnte und legte den harnisch zur seite womit man ihn bekleiden wollte denn das zeug war sehr schwer und hinderte ihn am gehen darauf ging er der riesenhoehle zu welche er eben verlassen hatte da er auch die zeit wusste wann die riesen in ihren festen schlaf versenkt waeren so betrat er nach sechs uhr die hoehle und schlug ihnen allen den kopf ab die augen und die zungen schnitt er ihnen heraus und brachte sie als wahrzeichen dem koenige welcher grosse freude darueber hatte - 0 \n",
      "\n",
      "69 - [0.03417623] - mess_47 - des anderen tages liess der schneider ein grosses fass machen aussen voll eiserner spitzen nahm sein schwert und kroch in das fass dieses fass liess er dann unter den baum bringen welcher der schlange als wohnung diente wie die schlange den geruch von menschenfleisch in die nase bekam stuerzte sie vom 284 baume herab und zu dem fasse hin in welchem der schneider ein loch gelassen hatte die schlange bog eben ihren rachen ueber diese oeffnung da nahm der schneider die gelegenheit wahr und stiess ihr das schwert bis in den hals hinein dass sie sich in schmerz und wuth um das fass in vielen ringen herumwand sich aber an jedem eisernen zacken spiesste und bald tod war da stieg der held aus dem fasse schlug der schlange den kopf ab und brachte ihn dem koenige als siegeszeichen welcher heute eine viel groessere freude hatte als gestern - 0 \n",
      "\n",
      "70 - [0.2066457] - mess_47 - nun waren die drachen noch uebrig zu erlegen  wohl die schwerste und gefaehrlichste arbeit der schneider liess sich nun einen eisernen wagen machen der bis auf eine kleine oeffnung ganz verschlossen war in diesen stieg er am dritten tage und liess sich zur hoehle der drachen fahren kaum war er dort angekommen so fuhr einer der drachen heraus zerfleischte die beyden rosse vor dem wagen und stuerzte den wagen um da indessen der kopf des drachen in die naehe der oeffnung gekommen war so stiess ihm der schneider sein schwert bis an das heft hinein und toedtete so das unthier da sah er auf sein rothes band welches er um den leib hatte und siehe die worte waren verschwunden statt deren aber stand geschrieben gehe nur in die hoehle hinein die uebrigen sechs drachen koennen dir nichts mehr anhaben weil du den ersten davon erschlagen hast er stieg daher aus dem wagen und trat in die hoehle und toedtete die sechs drachen welche 285 sich wirklich nicht bewegen konnten die koepfe aber brachte er dem koenige welcher ihm nicht dank genug zu beweisen wusste und ihm noch an selbigem abende die koenigstochter zur ehe gab wobey es gar herrlich und froehlich herging weil jeder einwohner an der freude ueber die rettung aus noth und gefahr den innigsten antheil nahm - 0 \n",
      "\n",
      "71 - [0.04037678] - mess_47 - da nun der schneider beylager mit der koenigstochter hielt und eingeschlafen war traeumte ihm von seinem handwerk von nadel scheere buegeleisen und da er laut traeumte hoerte die prinzessin welche wach war alles und gerieth in grosse besorgniss es moege ihr gatte doch wohl nicht mehr als ein schneider seyn kaum war es morgen so ging sie zu dem koenige und klagte diesem ihren argwohn und erklaerte ihm nie und nimmer die schande ertragen zu koennen als koenigstochter die frau eines schneiders zu seyn - 0 \n",
      "\n",
      "72 - [0.04811519] - mess_47 - der koenig aber troestete sie und sagte er wolle ihn zum feldherrn machen und gegen die feinde schicken und ihn an die aeusserste spitze stellen damit er gleich im anfange zu grunde gehe sein wort aber das er ihm gegeben und wodurch er sein eidam geworden koenne er nicht zuruecknehmen mithin auch die ehe nicht loesen - 0 \n",
      "\n",
      "73 - [0.43460083] - mess_47 - der schneider wurde inne dass ihn die koenigstochter hasse und den grund warum wie er daher wieder zu bette ging stellte er sich als traeume er wieder und diesesmal von lauter schlachten und siegen - 0 \n",
      "\n",
      "74 - [0.01528198] - mess_47 - da wurde die koenigstochter noch trauriger und ging 286 am morgen wieder zum koenige und meldete ihm was ihr gatte heute nacht getraeumt habe worueber aber ihr das herz brechen wollte das erfuellte das herz des koenigs mit freude - 0 \n",
      "\n",
      "75 - [0.00859383] - mess_47 - er ertheilte noch am naemlichen tage dem eidam den befehl das heer gegen den feind zu fuehren liess ihm aber doch seiner tochter zu gefallen die schlechteste ruestung und das schlechteste pferd geben zugleich befahl er ihm stets an der spitze des heeres zu bleiben - 0 \n",
      "\n",
      "76 - [0.09258455] - mess_47 - der schneider aber machte sich nicht viel daraus sondern band sein rothes band um den leib und wie er es betrachtete las er die worte du wirst sieger seyn - 0 \n",
      "\n",
      "77 - [0.11078215] - mess_47 - er zog also getrost aus da sein pferd aber sehr matt ging so blieb er haeufig zurueck und so auch in dem augenblicke wo die feinde lauter heiden an der seite herankamen eben strauchelte das pferd und riss im fallen ein kreuz um welches an dem wege stand das kreuz aber fiel auf den schneider welcher es fasste und weil es nicht schwer war in der hand behielt so ging es gegen den feind dieser aber wurde kaum des kreuzes ansichtig welches der schneider an der spitze des heeres trug als sie in wilder flucht umkehrten und dem schneider den vollstaendigsten sieg ueberliessen sie hatten naemlich vermeynt dass der gott der christen mit diesen streite und gegen einen gott koennten menschen nicht kaempfen - 0 \n",
      "\n",
      "78 - [0.01665783] - mess_47 - so wurden die feinde geschlagen und ihnen ein grosser theil ihres landes abgenommen der schneider 287 aber kehrte wohlbehalten an ehren reich zurueck und wurde auch von dem koenige mit allen ehren von der koenigstochter aber mit liebe empfangen denn diese hatte nun ihren gatten achten gelernt - 0 \n",
      "\n",
      "79 - [0.12524098] - mess_47 - von da an lebten sie noch lange und gluecklich tiefenbach - 0 \n",
      "\n",
      "80 - [0.00017565] - mess_48 - drei desertierte soldaten gingen in eine wildnis hinein in dieser wildnis stand ein schloss die fallbruecke war aber aufgezogen als sie so beim schlosse stehen blieben und es betrachteten gab sich die fallbruecke herunter sie gingen darueber und in das schloss hinein und gelangten in die stube hunger und durst hatten sie auch darum zogen sie den tischkasten auf es lag aber nur ein kartenspiel darinnen und darauf stand geschrieben nikloes da sagten sie zu einander fuer unsern hunger und durst wollen wir einmal karten als sie anfingen zu karten kam so ein altes maennlein hinein und frug was ihr begehren sei sie antworteten ihm sie haetten hunger und durst und weil sonst nichts da sei so wollten sie karten da sagte das maennlein essen koenne er ihnen keines geben aber geld koennten sie haben so viel sie wollten er fuehrte sie darauf in die silbergrube sie steckten ein soviel sie konnten dann fuehrte er sie in die goldgrube da warfen sie das silber weg und steckten dafuer gold ein zuletzt fuehrte er sie zu den edelsteinen nun warfen sie das gold weg und packten edelsteine ein als sie fertig waren sprach das alte maennlein jetzt habt ihr soviel als eine ganze stadt waehrschaft hat kommt aber nicht mehr - 0 \n",
      "\n",
      "81 - [0.00010765] - mess_48 - die soldaten gingen nun wieder gegen ihre heimat zu und hielten alle tage ball es ging aber ihr geld doch zu ende da hielten sie rat und beschlossen wieder zum schlosse zu gehen und fuehrten den entschluss auch richtig aus als sie hinkamen war die fallbruecke wieder hinaufgezogen nachdem sie ein wenig dagestanden waren ging der verschlag die fallbruecke herunter sie gingen hinein zogen den tischkasten auf und taten die karten heraus als sie diese heraus getan hatten kam das alte maennlein wieder und sagte hab ich es euch nicht gesagt dass ihr nimmer kommen sollt jetzt muss einer da bleiben die drei soldaten losten untereinander und der den das los traf blieb da die anderen steckten soviel edelsteine ein als sie konnten und gingen auf die heimat zu zu dem der dableiben musste sagte das maennlein jetzt muesse er jahr und tag am falltor schildwache stehen die zeit vergehe ihm aber schnell sobald es ihn hungere sei sie herum das war richtig so als ihm der hunger kam war die zeit herum und er ging ins schloss zurueck das maennlein wies ihm ein zimmer an und sagte in dem zimmer muesste er drei naechte liegen dabei sah der soldat unter der bodenstiege drei schwaene sitzen das maennlein sagte noch in der ersten nacht die er in dem zimmer zubringe kaemen maenner die fragen wuerden wie viel schlaege er haben wolle und da solle er sagen einen schlag sie wuerden ihm wohl mehr anbieten er aber solle nicht mehr sagen als einen schlag nachts um 11 uhr kamen sie auch und frugen wie viele schlaege er haben wolle da sagte er einen schlag sie sprachen er muesste mehr annehmen er aber blieb dabei nicht mehr als einen schlag nehmen zu wollen um 12 uhr verliessen ihn die maenner als er frueh herunterkam waren die schwaene schwane unter der bodenstiege schon etwas schoener vor der zweiten nacht sagte das maennlein heute antwortest du zwei schlaege um 11 uhr nachts kamen sie wieder und fragten wie viele schlaege er haben wolle er antwortete zwei schlaege sie boten ihm zwar mehr an er aber blieb auf seiner aussage stehen um 12 uhr gingen sie wieder fort frueh als er herabkam waren die drei schwaene wieder schoener jetzt sagte das maennlein zu ihm heut ist die letzte nacht heute sagst du drei schlaege aber nur fest darauf geblieben sie werden dann messer heraus tuen und sie wetzen als wenn sie dich umbringen wollten um 11 uhr kamen sie wieder miteinander und fragten wieviel schlaege er wolle er sprach drei schlaege sie aber sagten er muesse mehr haben sie taten ihre messer heraus und machten sie scharf aber um 12 uhr nachts gingen sie fort frueh als er erwachte war das zimmer an den waenden golden er blieb noch etwas liegen und betrachtete das veraenderte zimmer - 0 \n",
      "\n",
      "82 - [0.00845343] - mess_48 - die drei schwaene unter der stiege aber waren drei verwuenschte koenigstoechter sie kamen jetzt weil sie erloest waren in sein zimmer und sagten zum soldaten er solle nun aufstehen als er aufgestanden war sprachen sie zu ihm er haette jetzt die wahl unter ihnen drei er nahm die vom goldenen berg diese sagte wir sind immer als noch nicht fertig wir muessen in drei naechten zwischen 11 und 12 uhr in jene kirche gehen - 0 \n",
      "\n",
      "83 - [0.25987098] - mess_48 - auf dem wege zu dieser kirche stand ein wirtshaus da hinein ging der soldat und logierte sich ein auf die nacht verlangte er zu trinken da sagte die wirtin das wasser in dem brunnen sei nicht gesund sie wolle ihm zitronenwasser geben sie aber gab ihm einen schlaftrunk er ging zwar hinaus setzte sich an den weg schlief aber ein um 11 uhr kam die koenigstochter gefahren mit vier rappen und die chaise war schwarz behangen - 0 \n",
      "\n",
      "84 - [0.34865135] - mess_48 - am zweiten tag ging der soldat wieder in das wirtshaus die wirtin machte es ihm gerade so wie das erstemal und gab ihm schlaftrunk er setzte sich darauf an die strasse und schlief wieder ein um 11 uhr kam die koenigstochter gefahren die chaise war mit vier fuchsen bespannt und rot behangen der soldat sah und hoerte aber nichts am dritten abend dachte er heute nacht komme ich doch mit er nahm den knecht mit hinaus dass dieser ihn wecke wenn er wieder schlafe die wirtin hatte ihn nocheinmal betrogen als die prinzessin angefahren kam hingen vier schimmeln an der chaise und diese war weiss behangen er aber sass dort und schlief sie stieg aus wollte ihn wach bringen ebenso der knecht doch sie konnten ihn nicht aufwecken als die prinzessin von der kirche zurueckkam stieg sie wieder aus und gab sich nocheinmal die muehe ihn aufzuwecken doch alles war vergeblich sie zog nun seinen saebel aus der scheide und schrieb mit goldenen buchstaben darauf hier hast du meinen goldenen ring zum andenken dann fuhr sie fort frueh morgens rief der soldat den knecht und fragte wo sein goldener ring sei der knecht musste den goldenen 9 ring hergeben worauf der soldat ihm den kopf abhieb dann rief er der wirtin sagte zu ihr sie sei eine hexe und habe gemacht dass er nicht mit der koenigstochter in die kirche gekommen sei der soldat nahm jetzt seinen saebel wieder und hieb der wirtin auch den kopf ab dann rief er die magd zu dieser sagte er sie solle das anwesen haben darauf machte er sich auf und ging fort - 0 \n",
      "\n",
      "85 - [0.00011802] - mess_48 - der soldat hatte noch drei brueder als er zum ersten kam sagte er zu ihm gruess gott bruder lebst du noch der antwortete ja darauf fragte der soldat ob er nicht wuesste wo der goldene berg sei der bruder antwortete wo der goldene berg sei wuesste er nicht er koenne aber die voegel zitieren wenn die es nicht wuessten er wuesste es nicht jetzt zitierte er die voegel miteinander aber keiner wusste etwas von dem goldenen berg da nahm er den staerksten vogel davon setzte den soldaten darauf und befahl dem vogel ihn so weit zu tragen als er koenne und ihn dann abzusetzen dann reiste der soldat weiter und kam zu seinem zweiten bruder er sagte zu ihm gruess gott bruder lebst du noch der antwortete ja er fragte ihn nun ob er nicht wuesste wo der goldene berg sei der antwortete nein aber das wildbret wilpert koenne er miteinander zitieren wenn das es nicht wuesste er wuesste es nicht jetzt zitierte der bruder das wildbret aber keines wusste etwas vom goldenen berg da nahm er das staerkste getier davon und setzte den soldaten darauf das musste diesen wieder so weit tragen als es konnte hierauf reiste der soldat weiter und kam zu seinem dritten bruder den gruesste er auch wie die andern zwei dann fragte dieser ihn wo er herkomme der soldat legte ihm aus wie es ihm seither erging dann fragte er seinen bruder auch ob er nicht wisse wo der goldene berg sei dieser sagte er wuesste nichts vom goldenen berg aber die wolken koenne er zitieren wenn die es nicht wuessten so sei er angefuehrt jetzt zitierte sein bruder die wolken es kam immer eine um die andere und keine wusste etwas vom goldenen berg hintennach kam noch so ein schwarzes poepela woelkchen sein bruder fragte es ob es nichts vom goldenen berg wuesste das antwortete ja es wuesste wo der goldene berg sei und morgen haette die koenigstochter hochzeit da sagte des soldaten bruder es solle den soldaten aufpacken und solle mit ihm fort so schnell es koenne damit es noch vor der hochzeit ankaeme und es kam auch richtig vor der hochzeit mit dem soldaten hin dieser ging gleich vor die residenz und liess drinnen sagen die koenigstochter solle einmal herausgehen als sie kam zeigte er ihr den saebel mit den goldenen buchstaben und den goldenen ring der andere braeutigam musste darauf fort und der soldat bekam die koenigstochter zur frau - 0 \n",
      "\n",
      "86 - [4.6670437e-05] - mess_49 - es war einmal ein vater der hatte drei soehne joerg michel und hans der joerg und michel waren tuechtige fleissige und vigilante 14 flinke ruehrige kerl aber mit dem hans hatte der vater sein kreuz und quaestion zu allen arbeiten stellte er sich ungeschickt und es war gar nichts rechtes mit ihm anzufangen den ganzen tag strabanzte er herum gaukelte alleweil mit hunden und katzen denen er allerlei kunststuecke lernte oder er guckte den himmel an wobei er sich gern auf den buckel legte deswegen wurde er auch nur der himmelsgucker geheissen der vater waere froh gewesen wenn er den hans vom brote gehabt haette aber kein mensch wollte ihn in den dienst nehmen eines tages musste hans in den wald hinaus um holz zu lesen da kam ein mann zu ihm und fragte ihn nach seinem aus und an verhaeltnissen hans erzaehlte treuherzig wie es mit ihm stehe dass man ihn nur den dummen hans und den himmelsgucker heisse einen solchen kerl kann ich brauchen sagte der mann zu sich den ding ich mir der mann ging mit hans heim und sprach mit seinem vater der alte war froh den hans los zu werden und so war er bald mit dem fremden mann ueberein gekommen und handeleins hans musste nun seinen buendel zusammenpacken und dahin ging er mit dem fremden mann es tat ihm gar nicht leid da er daheim nur gezankt worden war und auch oft hiebe kriegt hatte lange waren hans und der fremde mann gegangen und hans war schon ganz kaput da kamen sie an einen wald hier wollte sich hans niedersetzen gehts nicht noch e bissle sagte sein herr zu hans wir kommen bald zu einem wirtshause dort essen und trinken wir und bleiben auch uebernacht hans schleppte sich fort und war herzlich froh als sie an das wirtshaus kamen - 0 \n",
      "\n",
      "87 - [5.3942204e-06] - mess_49 - als sie in die wirtsstube kamen sassen schon verschiedene leute drin und als die wirtin kam waere hans bald omicht ohnmaechtig geworden so toll sah sie aus das ist eine hexe dachte hans bei sich sein herr tat aber sehr gemeinschaeftlich mit der wirtin die kennen einander gut dachte sich hans no bas kann mir dro gelich nun was kann mir dran liegen er ass und trank was heilges zeug heisst denn so gut hatte er in seinem leben noch nie gegessen und getrunken bald darauf musste er sich niederlegen was ihm ganz recht war in einem so schoenen und weichen bett hatte hans auch in seinem leben nie geschlafen er war also recht zufrieden und dachte es ist doch schoener als bei dir daheim frueh beizeit kam sein herr und weckte ihn auf allo hans raus sprach er jetzt gehts weiter hans riebelte sich die augen aus stand auf und tat zog sich an und als sie gefruehstueckt hatten ging es weiter lange liefen sie im wald fort und hans kannte sie gar nicht mehr aus endlich kamen sie an ein haeuslein so jetzt sind wir daheim das ist mein haus sprach der herr zu hans dann schloss er die tuer auf und ging mit hans ins haeuslein hinein bei mir hast du es gut sprach der herr zu hans essen und trinken darfst du was dir schmeckt und die arbeit ist auch nicht schwer du musst die katz fuettern aber lasse sie ja keinen hunger leiden holz musst du im wald suchen und es klein machen und wenn ich fort bin musst du dir halt selber kochen wenn ich daheim bin koche ich dazu musst 15 du mir bloss holz und wasser beitragen die erdaepfel schaelen und feuer anmachen hans tat alles was ihm sein herr hiess und der herr war zufrieden mit hans eines tages sprach der herr zu hans hoere hans ich gehe fort und du musst allein daheim bleiben schliesse abends immer gut zu und lass keinen menschen ins haus kochen kannst du dir was du willst zeug ist da dazu hans versprach alles richtig zu tun dann ging der herr fort ich werde lange ausbleiben sagte er noch zu hans die erste zeit krabbelte hans so im haus herum aber allmaehlich wurde ihm doch die zeit lang als er nun wieder einmal so alles im hause herumstuerte fand er in einem laedle truehlein buecher gott sei dank sagte hans jetzt hab ich doch aebbes zum lesen hans fing an in den buechern zu lesen aber da ging es ihm nicht zum besten vieles verstand er nicht und dann waren so viel haken und schnoerkel drinnen welche er auch nicht kannte dem hans ging ein licht auf sein herr war ein hexenmeister ein zauberer sobald nun hans allemal seine arbeit getan hatte setzte er sich ueber die buecher simulierte und gruebelte drin rum ueber dem gruebeln verging dem hans die zeit und er wurde es so gar nicht weiss dass er allein war nach einem halben jahre konnte hans die ganzen buecher auswendig und konnte auch das hexen perfekt eines tages ging er ein stueck in den wald hinein um holz zu lesen und als er wieder heimkehrte wunderte er sich dass die tuer auf war er wusste doch dass er zugeschlossen hatte als er in die stube kam stand sein herr darin hatte ein buch in der hand und bitzelte vor zorn du schlingel sprach er du hast in meinen buechern gelesen ich habe es daran gesehen wahrscheinlich hast du auch das hexen gelernt hans spannte dass die geschichte dreckig werden koennte und schlitzte aus er dachte das ausreissen hat kein dummer erdacht aber hier nuetzte es nichts denn hans war noch nicht vor die tuer gekommen so war der hexenmeister hinter ihm hans besann sich nicht lange machte sich zu einem adler und flog auf und davon der hexenmeister ging in die stube holte ein gewehr und schoss auf hans aber hans hatte sich kugelsicher gemacht die kugel tat ihm nichts und er flog ruhig weiter der hexenmeister sprach der kanns besse bi wie ich den muss ich mit list dro krieg gewalt hilft da nichts - 0 \n",
      "\n",
      "88 - [0.00050721] - mess_49 - als hans ueber den wald hinaus geflogen war guckte er sich um und als er nichts verdaechtiges mehr sah flog er auf die erde und machte sich wieder zu einem menschen als er so dahinging war ihm doch nicht recht wohl denn er dachte sich dass ihn der hexenmeister auf schritt und tritt verfolgen werde auf einmal sah er ueber sich einen geier fliegen und hans erkannte seinen herrn hans machte sich zu einem gaul und fing an und jackte galoppierte was er konnte waehrend er so dahinjackte sah er einen bauern gehen auf diesen hielt er zu und da der bauer dachte es sei ein durchgegangener gaul so fing er ihn was sich hans ruhig gefallen liess als der bauer so mit hans dahin ging kam ein nobler herr zu ihnen der wollte den gaul kaufen dem 16 hans wurde angst und bang er kannte den nobeln herrn es war der hexenmeister hans sagte leis zum bauern verkaufe mich nicht darueber waere der bauer bald omich worn ein gaul der reden konnte war ihm was neues der bauer verkaufte den gaul nun erst recht nicht denn einen gaul der reden konnte hatte nicht jeder mensch er fuehrte also den hans heim in seinen stall im stalle litt es hans nicht lange er machte sich zu einer fliege und flog durch einen fensterritz davon wie er so dahin flog sah er unter sich den hexenmeister gehen aber auch dieser hatte den hans bald bemerkt er machte sich zu einer schwalbe und flog dem hans nach bald haette er den hans erschnappt aber hans machte sich zu einem fingerle fingerringlein und fiel vor einem maedchen nieder das gerade daher ging das maedchen sah das fingerle hob es auf und steckte es an seinen finger wohin es recht schoen passte alle tage kam nun ein mann der dem maedchen das ringlein abkaufen wollte doch das maedchen gab es nicht her eines tages als der mann wieder lange umsonst gehandelt hatte wollte er dem maedchen das ringlein mit gewalt nehmen da fiel das ringlein auf den boden und wurde zu lauter hirsekoernern der fremde mann es war der hexenmeister machte sich zu einem goehger hahn und frass die hirsekoerner auf dann flog er davon die sache hatte aber doch einen haken gehabt der hexenmeister glaubte er haette den hans vertilgt aber der hans lebte noch ein hirsekoernlein welches der hans selbst war hatte der hexenmeister uebersehen dies hirsekoernlein war in des maedchens pantoffel gefallen und dort hatte es der hexenmeister nicht gesehen hans verwandelte sich wieder in seine richtige gestalt und freite um das maedchen das ihn schon als ring an der hand getragen hatte das maedchen fand gefallen an hans und wurde seine frau - 0 \n",
      "\n",
      "89 - [0.00397259] - mess_49 - sie lebten sehr lange und waren gluecklich miteinander aber nie soll hans seiner frau etwas von seiner hexenkunst erzaehlt haben und ihr auch nie gesagt haben dass sie ihn schon als ring an der hand getragen habe gegen seine frau war hans sehr gut da er sich immer dachte hat sie mich als ring schon so gern gehabt so hat sie mich als mensch noch viel lieber - 0 \n",
      "\n",
      "90 - [0.18340877] - mess_49 - seine hexenkunst hat hans nie mehr ausgeuebt da er bei seinem ersten versuch so viel angst hat ausstehen muessen und wenn einmal die rede aufs hexen kam soll hans immer gesagt haben das ist nichts fuer rechtschaffene leute - 0 \n",
      "\n",
      "91 - [0.00021049] - mess_50 - ein vater hatte zwei soehne davon war der aelteste klug und gescheit und wusste sich in alles wohl zu schicken der juengste aber war dumm konnte nichts begreifen und lernen und wenn ihn die leute sahen sprachen sie mit dem wird der vater noch seine last haben wenn nun etwas zu tun war so musste es der aelteste allzeit ausrichten hiess ihn aber der vater noch spaet oder gar in der nacht etwas holen und der weg ging dabei ueber den kirchhof oder sonst einen schaurigen ort so antwortete er wohl ach nein vater ich gehe nicht dahin es gruselt mir denn er fuerchtete sich oder wenn abends beim feuer geschichten erzaehlt wurden wobei einem die haut schaudert so sprachen die zuhoerer manchmal ach es gruselt mir der juengste sass in einer ecke und hoerte das mit an und konnte nicht begreifen was es heissen sollte immer sagen sie es gruselt mir es gruselt mir mir gruselts nicht das wird wohl eine kunst sein von der ich auch nichts verstehe - 0 \n",
      "\n",
      "92 - [0.00064248] - mess_50 - nun geschah es dass der vater einmal zu ihm sprach hoer du in der ecke dort du wirst gross und stark du musst auch etwas lernen womit du dein brot verdienst siehst du wie dein bruder sich muehe gibt aber an dir ist hopfen und malz verloren ei vater antwortete er ich will gerne was lernen ja wenns anginge so moechte ich lernen dass mirs gruselte davon verstehe ich noch gar nichts der aelteste lachte als er das hoerte und dachte bei sich du lieber gott was ist mein bruder ein dummbart aus dem wird sein lebtag nichts was ein haekchen werden will muss sich beizeiten kruemmen der vater seufzte und antwortete ihm das gruseln das sollst du schon lernen aber dein brot wirst du damit nicht verdienen - 0 \n",
      "\n"
     ]
    },
    {
     "name": "stdout",
     "output_type": "stream",
     "text": [
      "93 - [4.4435263e-05] - mess_50 - bald danach kam der kuester zum besuch ins haus da klagte ihm der vater seine not und erzaehlte wie sein juengster sohn in allen dingen so schlecht beschlagen waere er wuesste nichts und lernte nichts denkt euch als ich ihn fragte womit er sein brot verdienen wollte hat er gar verlangt das gruseln zu lernen wenns weiter nichts ist antwortete der kuester das 51 kann er bei mir lernen tut ihn nur zu mir ich werde ihn schon abhobeln der vater war es zufrieden weil er dachte der junge wird doch ein wenig zugestutzt der kuester nahm ihn also ins haus und er musste die glocke laeuten nach ein paar tagen weckte er ihn um mitternacht hiess ihn aufstehen in den kirchturm steigen und laeuten du sollst schon lernen was gruseln ist dachte er ging heimlich voraus und als der junge oben war und sich umdrehte und das glockenseil fassen wollte so sah er auf der treppe dem schalloch gegenueber eine weisse gestalt stehen wer da rief er aber die gestalt gab keine antwort regte und bewegte sich nicht gib antwort rief der junge oder mache dass du fortkommst du hast hier in der nacht nichts zu schaffen der kuester aber blieb unbeweglich stehen damit der junge glauben sollte es waere ein gespenst der junge rief zum zweitenmal was willst du hier sprich wenn du ein ehrlicher kerl bist oder ich werfe dich die treppe hinab der kuester dachte das wird so schlimm nicht gemeint sein gab keinen laut von sich und stand als wenn er von stein waere da rief ihn der junge zum drittenmal an und als das auch vergeblich war nahm er einen anlauf und stiess das gespenst die treppe hinab dass es zehn stufen hinabfiel und in einer ecke liegen blieb darauf laeutete er die glocke ging heim legte sich ohne ein wort zu sagen ins bett und schlief fort die kuesterfrau wartete lange zeit auf ihren mann aber er wollte nicht wiederkommen da ward ihr endlich angst sie weckte den jungen und fragte weisst du nicht wo mein mann geblieben ist er ist vor dir auf den turm gestiegen nein antwortete der junge aber da hat einer dem schalloch gegenueber auf der treppe gestanden und weil er keine antwort geben und auch nicht weggehen wollte so habe ich ihn fuer einen spitzbuben gehalten und hinuntergestossen geht nur hin so werdet ihr sehen ob ers gewesen ist es sollte mir leid tun die frau sprang fort und fand ihren mann der in einer ecke lag und jammerte und ein bein gebrochen hatte - 0 \n",
      "\n",
      "94 - [0.00043535] - mess_50 - sie trug ihn herab und eilte dann mit lautem geschrei zu dem vater des jungen euer junge rief sie hat ein grosses unglueck angerichtet meinen mann hat er die treppe hinabgeworfen dass er ein bein gebrochen hat schafft den taugenichts 52 aus unserm haus der vater erschrak kam herbeigelaufen und schalt den jungen aus was sind das fuer gottlose streiche die muss dir der boese eingegeben haben vater antwortete er hoert nur an ich bin ganz unschuldig er stand da in der nacht wie einer der boeses im sinne hat ich wusste nicht wers war und hab ihn dreimal ermahnt zu reden oder wegzugehen ach sprach der vater mit dir erleb ich nur unglueck geh mir aus den augen ich will dich nicht mehr ansehen ja vater recht gerne wartet nur bis tag ist da will ich ausgehen und das gruseln lernen so versteh ich doch eine kunst die mich ernaehren kann lerne was du willst sprach der vater mir ist alles einerlei da hast du fuenfzig taler damit geh in die weite welt und sage keinem menschen wo du her bist und wer dein vater ist denn ich muss mich deiner schaemen ja vater wie ihrs haben wollt wenn ihr nicht mehr verlangt das kann ich leicht in acht behalten - 0 \n",
      "\n",
      "95 - [8.639693e-05] - mess_50 - als nun der tag anbrach steckte der junge seine fuenfzig taler in die tasche ging hinaus auf die grosse landstrasse und sprach immer vor sich hin wenn mirs nur gruselte wenn 53 mirs nur gruselte da kam ein mann heran der hoerte das gespraech das der junge mit sich selber fuehrte und als sie ein stueck weiter waren dass man den galgen sehen konnte sagte der mann zu ihm siehst du dort ist der baum wo siebene mit des seilers tochter hochzeit gehalten haben und jetzt das fliegen lernen setz dich darunter und warte bis die nacht kommt so wirst du schon das gruseln lernen wenn weiter nichts dazu gehoert antwortete der junge das ist leicht getan lerne ich aber so geschwind das gruseln so sollst du meine fuenfzig taler haben komm nur morgen frueh wieder zu mir da ging der junge zu dem galgen setzte sich darunter und wartete bis der abend kam und weil ihn fror machte er sich ein feuer an aber um mitternacht ging der wind so kalt dass er trotz des feuers nicht warm werden wollte und als der wind die gehenkten gegeneinander stiess dass sie sich hinund herbewegten so dachte er du frierst unten bei dem feuer was moegen die da oben erst frieren und zappeln und weil er mitleidig war legte er die leiter an stieg hinauf knuepfte einen nach dem andern los und holte sie alle siebene herab darauf schuerte er das feuer blies es an und setzte sie ringsherum dass sie sich waermen sollten aber sie sassen da und regten sich nicht und das feuer ergriff ihre kleider da sprach er nehmt euch in acht sonst haeng ich euch wieder hinauf die toten aber hoerten nicht schwiegen und liessen ihre lumpen fortbrennen da ward er boes und sprach wenn ihr nicht achtgeben wollt so kann ich euch nicht helfen ich will nicht mit euch verbrennen und hing sie nach der reihe wieder hinauf nun setzte er sich zu seinem feuer und schlief ein und am andern morgen da kam der mann zu ihm wollte die fuenfzig taler haben und sprach nun weisst du was gruseln ist nein antwortete er woher sollte ichs wissen die da droben haben das maul nicht aufgetan und waren so dumm dass sie die paar alten lappen die sie am leibe haben brennen liessen da sah der mann dass er die fuenfzig taler heute nicht davontragen wuerde ging fort und sprach so einer ist mir noch nicht vorgekommen - 0 \n",
      "\n",
      "96 - [4.5895576e-06] - mess_50 - der junge ging auch seines wegs und fing wieder an vor sich hin zu reden ach wenn mirs nur gruselte ach wenn mirs nur 54 gruselte das hoerte ein fuhrmann der hinter ihm herschritt und fragte wer bist du ich weiss nicht antwortete der junge der fuhrmann fragte weiter wo bist du her ich weiss nicht wer ist dein vater das darf ich nicht sagen was brummst du bestaendig in den bart hinein ei antwortete der junge ich wollte dass mirs gruselte aber niemand kann michs lehren lass dein dummes geschwaetz sprach der fuhrmann komm geh mit mir ich will sehen dass ich dich unterbringe der junge ging mit dem fuhrmann und abends gelangten sie zu einem wirtshaus wo sie uebernachten wollten da sprach er beim eintritt in die stube wieder ganz laut wenn mirs nur gruselte wenn mirs nur gruselte der wirt der das hoerte lachte und sprach wenn dich danach luestet dazu sollte hier wohl gelegenheit sein ach schweig stille sprach die wirtsfrau so mancher vorwitzige hat schon sein leben eingebuesst es waere jammer und schade um die schoenen augen wenn die das tageslicht nicht wieder sehen sollten der junge aber sagte wenns noch so schwer waere ich wills einmal lernen deshalb bin ich ja ausgezogen er liess dem wirt auch keine ruhe 55 bis dieser erzaehlte nicht weit davon staende ein verwuenschtes schloss wo einer wohl lernen koennte was gruseln waere wenn er nur drei naechte darin wachen wollte der koenig haette dem ders wagen sollte seine tochter zur frau versprochen und die waere die schoenste jungfrau welche die sonne beschien in dem schlosse steckten auch grosse schaetze von boesen geistern bewacht die wuerden dann frei und koennten einen armen reich genug ma chen schon viele waeren wohl hinein aber noch keiner wieder herausgekommen da ging der junge am andern morgen vor den koenig und sprach wenns erlaubt waere so wollte ich wohl drei naechte in dem verwuenschten schlosse wachen der koenig sah ihn an und weil er ihm gefiel sprach er du darfst dir noch dreierlei ausbitten aber es muessen leblose dinge sein und das darfst du mit ins schloss nehmen da antwortete er so bitt ich um ein feuer eine drehbank und eine schnitzbank mit dem messer - 0 \n",
      "\n",
      "97 - [4.1544437e-05] - mess_50 - der koenig liess ihm das alles bei tage in das schloss tragen als es nacht werden wollte ging der junge hinauf machte sich in einer kammer ein helles feuer an stellte die schnitzbank mit dem messer daneben und setzte sich auf die drehbank ach wenn mirs nur gruselte sprach er aber hier werde ichs auch nicht lernen gegen mitternacht wollte er sich sein feuer einmal aufschueren wie er so hineinblies da schries ploetzlich aus einer ecke au miau was uns friert ihr narren rief er was schreit ihr wenn euch friert kommt setzt euch ans feuer und waermt euch und wie er das gesagt hatte kamen zwei grosse schwarze katzen in einem gewaltigen sprunge herbei setzten sich ihm zu beiden seiten und sahen ihn mit ihren feurigen augen ganz wild an ueber ein weilchen als sie sich gewaermt hatten sprachen sie kamerad wollen wir eins in der karte spielen warum nicht antwortete er aber zeigt einmal eure pfoten her da streckten sie die krallen aus ei sagte er was habt ihr lange naegel wartet die muss ich euch erst abschneiden damit packte er sie beim kragen hob sie auf die schnitzbank und schraubte ihnen die pfoten fest euch habe ich auf die finger gesehen sprach er da vergeht mir die lust zum kartenspiel schlug sie tot und warf sie hinaus ins wasser als er aber die zwei zur ruhe gebracht hatte und sich 56 wieder zu seinem feuer setzen wollte da kamen aus allen ecken und enden schwarze katzen und schwarze hunde an gluehenden ketten immer mehr und mehr dass er sich nicht mehr bergen konnte die schrieen greulich traten ihm auf sein feuer zerrten es auseinander und wollten es ausmachen das sah er ein weilchen ruhig mit an als es ihm aber zu arg ward fasste er sein schnitzmesser und rief fort mit dir du gesindel und haute auf sie los ein teil sprang weg die andern schlug er tot und warf sie hinaus in den teich als er wiedergekommen war blies er aus den funken sein feuer frisch an und waermte sich und als er so sass wollten ihm die augen nicht laenger offen bleiben und er bekam lust zu schlafen da blickte er um sich und sah in der ecke ein grosses bett das ist mir eben recht sprach er und legte sich hinein als er aber die augen zutun wollte so fing das bett von selbst an zu fahren und fuhr im ganzen schloss herum recht so sprach er nur besser zu da rollte das bett fort als waeren sechs pferde vorgespannt ueber schwellen und treppen auf und ab auf einmal hopp hopp warf es um das unterste zu oberst dass es wie ein 57 berg auf ihm lag aber er schleuderte decken und kissen in die hoehe stieg heraus und sagte nun mag fahren wer lust hat legte sich an sein feuer und schlief bis es tag war am morgen kam der koenig und als er ihn da auf der erde liegen sah meinte er die gespenster haetten ihn umgebracht und er waere tot da sprach er es ist doch schade um den schoenen menschen das hoerte der junge richtete sich auf und sprach so weit ists noch nicht da verwunderte sich der koenig freute sich aber und fragte wie es ihm gegangen waere recht gut antwortete er eine nacht waere herum die zwei andern werden auch herumgehen als er zum wirt kam da machte der grosse augen ich dachte nicht sprach er dass ich dich wieder lebendig sehen wuerde hast du nun gelernt was gruseln ist nein sagte er es ist alles vergeblich wenn mirs nur einer sagen koennte - 0 \n",
      "\n",
      "98 - [0.00053984] - mess_50 - die zweite nacht ging er abermals hinauf ins alte schloss setzte sich zum feuer und fing sein altes lied wieder an wenn mirs nur gruselte wie mitternacht herankam liess sich ein laerm und gepolter hoeren erst sachte dann immer staerker dann wars ein bisschen still endlich kam mit lautem geschrei ein halber mensch den schornstein herab und fiel vor ihm hin heda rief er noch ein halber gehoert dazu das ist zu wenig da ging der laerm von frischem an es tobte und heulte und fiel die andere haelfte auch herab wart sprach er ich will dir erst das feuer ein wenig anblasen wie er das getan hatte und sich wieder umsah da waren die beiden stuecke zusammengefahren und sass da ein greulicher mann auf seinem platz so haben wir nicht gewettet sprach der junge die bank ist mein der mann wollte ihn wegdraengen aber der junge liess sichs nicht gefallen schob ihn mit gewalt weg und setzte sich wieder auf seinen platz da fielen noch mehr maenner herab einer nach dem andern die holten neun totenbeine und zwei totenkoepfe setzten auf und spielten kegel der junge bekam auch lust und fragte hoert ihr kann ich mit sein ja wenn du geld hast geld genug antwortete er aber eure kugeln sind nicht recht rund da nahm er die totenkoepfe setzte sie in die drehbank und drehte sie rund so jetzt werden sie besser schueppeln sprach er heida nun gehts lustig er spielte mit 58 und verlor etwas von seinem geld als es aber zwoelf schlug war alles vor seinen augen verschwunden er legte sich nieder und schlief ruhig ein am andern morgen kam der koenig und wollte sich erkundigen wie ist dirs diesmal ergangen fragte er ich habe gekegelt antwortete er und ein paar heller verloren hat dir denn nicht gegruselt ei was sprach er lustig hab ich mich gemacht wenn ich nur wuesste was gruseln waere - 0 \n",
      "\n",
      "99 - [0.0431436] - mess_50 - in der dritten nacht setzte er sich wieder auf seine bank und sprach ganz verdriesslich wenn es mir nur gruselte als es spaet ward kamen sechs grosse maenner und brachten eine totenlade hereingetragen da sprach er ha ha das ist gewiss mein vetterchen das erst vor ein paar tagen gestorben ist winkte mit dem finger und rief komm vetterchen komm sie stellten den sarg auf die erde er aber ging hinzu und nahm den deckel ab da lag ein toter mann darin er fuehlte ihm ans gesicht aber es war kalt wie eis wart sprach er ich will dich ein bisschen waermen ging ans feuer waermte seine hand und legte sie ihm aufs gesicht aber der tote blieb 59 kalt nun nahm er ihn heraus setzte sich ans feuer und legte ihn auf seinen schoss und rieb ihm die arme damit das blut wieder in bewegung kommen sollte als auch das nichts helfen wollte fiel ihm ein wenn zwei zusammen im bett liegen so waermen sie sich brachte ihn ins bett deckte ihn zu und legte sich neben ihn ueber ein weilchen ward auch der tote warm und fing an sich zu regen da sprach der junge siehst du vetterchen haett ich dich nicht gewaermt der tote aber hub an und rief jetzt will ich dich er wuergen was sagte er ist das mein dank gleich sollst du wieder in deinen sarg hub ihn auf warf ihn hinein und machte den deckel zu da kamen die sechs maenner und trugen ihn wieder fort es will mir nicht gruseln sagte er hier lerne ichs mein lebtag nicht - 0 \n",
      "\n",
      "100 - [0.00102925] - mess_50 - da trat ein mann herein der war groesser als alle andere und sah fuerchterlich aus er war aber alt und hatte einen langen weissen bart o du wicht rief er nun sollst du bald lernen was gruseln ist denn du sollst sterben nicht so schnell antwortete der junge soll ich sterben so muss ich auch dabei sein dich will ich schon packen sprach der unhold60 sachte sachte mach dich nicht so breit so stark wie du bin ich auch und wohl noch staerker das wollen wir sehn sprach der alte bist du staerker als ich so will ich dich gehn lassen komm wir wollens versuchen da fuehrte er ihn durch dunkle gaenge zu einem schmiedefeuer nahm eine axt und schlug den einen amboss mit einem schlag in die erde das kann ich noch besser sprach der junge und ging zu dem andern amboss der alte stellte sich neben hin und wollte zusehen und sein weisser bart hing herab da fasste der junge die axt spaltete den amboss auf einen hieb und klemmte den bart des alten mit hinein nun hab ich dich sprach der junge jetzt ist das sterben an dir dann fasste er eine eisenstange und schlug auf den alten los bis er wimmerte und bat er moechte aufhoeren er wollte ihm grosse reichtuemer geben der junge zog die axt raus und liess ihn los der alte fuehrte ihn wieder ins schloss zurueck und zeigte ihm in einem keller drei kasten voll gold davon sprach er ist ein teil den armen der andere dem koenig der dritte dein indem schlug es zwoelfe und der geist verschwand also dass der junge im finstern stand ich werde mir doch heraushelfen koennen sprach er tappte herum fand den weg in die kammer und schlief dort bei seinem feuer ein am andern morgen kam der koenig und sagte nun wirst du gelernt haben was gruseln ist nein antwortete er was ists nur mein toter vetter war da und ein baertiger mann ist gekommen der hat mir da unten viel geld gezeigt aber was gruseln ist hat mir keiner gesagt da sprach der koenig du hast das schloss erloest und sollst meine tochter heiraten das ist all recht gut antwortete er aber ich weiss noch immer nicht was gruseln ist - 0 \n",
      "\n",
      "101 - [0.00016305] - mess_50 - da ward das gold heraufgebracht und die hochzeit gefeiert aber der junge koenig so lieb er seine gemahlin hatte und so vergnuegt er war sagte doch immer wenn mir nur gruselte wenn mir nur gruselte das verdross sie endlich ihr kammermaedchen sprach ich will hilfe schaffen das gruseln soll er schon lernen sie ging hinaus zum bach der durch den garten floss und liess sich einen ganzen eimer voll gruendlinge holen nachts als der junge koenig schlief musste seine gemahlin ihm die decke wegziehen und den eimer voll kalt wasser mit den 61 gruendlingen ueber ihn herschuetten dass die kleinen fische um ihn herumzappelten da wachte er auf und rief ach was gruselt mir was gruselt mir liebe frau ja nun weiss ich was gruseln ist - 0 \n",
      "\n",
      "102 - [0.00052842] - mess_51 - es war einmal ein koenig und eine koenigin die lebten in frieden miteinander und hatten zwoelf kinder das waren aber lauter buben nun sprach der koenig zu seiner frau wenn das dreizehnte kind was du zur welt bringst ein maedchen ist so sollen die zwoelf buben sterben damit sein reichtum gross wird und das koenigreich ihm allein zufaellt er liess auch zwoelf saerge machen die waren schon mit hobelspaenen gefuellt und in jedem lag das totenkisschen und liess sie in eine verschlossene stube bringen dann gab er der koenigin den schluessel und gebot ihr niemand etwas davon zu sagen - 0 \n",
      "\n",
      "103 - [3.1799078e-05] - mess_51 - die mutter aber sass nun den ganzen tag und trauerte so dass der kleinste sohn der immer bei ihr war und den sie nach der bibel benjamin nannte zu ihr sprach liebe mutter warum bist du so traurig liebstes kind antwortete sie ich darf dirs nicht sagen er liess ihr aber keine ruhe bis sie ging und die stube aufschloss und ihm die zwoelf mit hobelspaenen schon gefuellten totenladen zeigte darauf sprach sie mein liebster benjamin diese saerge hat dein vater fuer dich und deine elf brueder machen lassen denn wenn ich ein maedchen zur welt bringe so sollt ihr allesamt getoetet und darin begraben werden und als sie weinte waehrend sie das sprach so troestete sie der sohn und sagte weine nicht liebe mutter wir wollen uns schon helfen und wollen fortgehen sie aber sprach geh mit deinen elf bruedern hinaus in den wald und einer setze sich immer auf den hoechsten baum der zu finden ist und halte wacht und schaue nach dem turm hier im schloss gebaer ich ein soehnlein so will ich eine weisse fahne aufstecken und dann duerft ihr wiederkommen gebaer ich ein toechterlein so will ich eine rote fahne aufstecken und dann flieht fort so schnell ihr koennt und der liebe gott behuete euch alle nacht will ich aufstehen und fuer euch beten im winter dass ihr an einem feuer euch waermen koennt im sommer dass ihr nicht in der hitze schmachtet - 0 \n",
      "\n",
      "104 - [0.00114989] - mess_51 - nachdem sie also ihre soehne gesegnet hatte gingen sie hinaus 80 in den wald einer hielt um den andern wache sass auf der hoechsten eiche und schaute nach dem turm als elf tage herum waren und die reihe an benjamin kam da sah er wie eine fahne aufgesteckt wurde es war aber nicht die weisse sondern die rote blutfahne die verkuendete dass sie alle sterben sollten wie die brueder das hoerten wurden sie zornig und sprachen sollten wir um eines maedchens willen den tod leiden wir schwoeren dass wir uns raechen wollen wo wir ein maedchen finden soll sein rotes blut fliessen - 0 \n",
      "\n",
      "105 - [9.2715025e-05] - mess_51 - darauf gingen sie tiefer in den wald hinein und mitten drein wo er am dunkelsten war fanden sie ein kleines verwuenschtes haeuschen das leer stand da sprachen sie hier wollen wir wohnen und du benjamin du bist der juengste und schwaechste du sollst daheim bleiben und haushalten wir andern wollen ausgehen und essen holen nun zogen sie in den wald und schossen hasen wilde rehe voegel und taeuberchen und was zu essen stand das brachten sie dem benjamin der musste es ihnen zurecht machen damit sie ihren hunger stillen konnten in dem haeuschen lebten sie zehn jahre zusammen und die zeit ward ihnen nicht lang - 0 \n",
      "\n",
      "106 - [4.9859285e-05] - mess_51 - das toechterchen das ihre mutter die koenigin geboren hatte war nun herangewachsen war gut von herzen und schoen von angesicht und hatte einen goldenen stern auf der stirne einmal als grosse waesche war sah es darunter zwoelf mannshemden und fragte seine mutter wem gehoeren diese zwoelf hemden fuer den vater sind sie doch viel zu klein da antwortete sie mit schwerem herzen liebes kind die gehoeren deinen zwoelf bruedern sprach das maedchen wo sind meine zwoelf brueder ich habe noch niemals von ihnen gehoert sie antwortete das weiss gott wo sie sind sie irren in der welt herum da nahm sie das maedchen und schloss ihm das zimmer auf und zeigte ihm die zwoelf saerge mit den hobelspaenen und den totenkisschen diese saerge sprach sie waren fuer deine brueder bestimmt aber sie sind heimlich fortgegangen eh du geboren warst und erzaehlte ihm wie sich alles zugetragen hatte da sagte das maedchen liebe mutter weine nicht ich will gehen und meine brueder suchen - 0 \n",
      "\n",
      "107 - [7.1525574e-06] - mess_51 - nun nahm es die zwoelf hemden und ging fort und geradezu 81 in den grossen wald hinein es ging den ganzen tag und am abend kam es zu dem verwuenschten haeuschen da trat es hinein und fand einen jungen knaben der fragte wo kommst du her und wo willst du hin und erstaunte dass sie so schoen war koenigliche kleider trug und einen stern auf der stirne hatte da antwortete sie ich bin eine koenigstochter und suche meine zwoelf brueder und will gehen so weit der himmel blau ist bis ich sie finde sie zeigte ihm auch die zwoelf hemden die ihnen gehoerten da sah benjamin dass es seine schwester war und sprach ich bin benjamin dein juengster bruder und sie fing an zu weinen vor freude und benjamin auch und sie kuessten und herzten einander vor grosser liebe hernach sprach er liebe schwester es ist noch ein vorbehalt da wir hatten verabredet dass ein jedes maedchen das uns begegnete sterben sollte weil wir um ein maedchen unser koenigreich verlassen mussten da sagte sie ich will gerne sterben wenn ich damit meine zwoelf brueder erloesen kann nein antwortete er du sollst nicht sterben setze dich unter diese buette bis die elf brueder kommen dann will ich schon einig mit ihnen werden also tat sie und wie es nacht ward kamen die andern von der jagd und die mahlzeit war bereit und als sie am tische sassen und assen fragten sie was gibts neues sprach benjamin wisst ihr nichts nein antworteten sie sprach er weiter ihr seid im walde gewesen und ich bin daheim geblieben und weiss doch mehr als ihr so erzaehle uns riefen sie antwortete er versprecht ihr mir auch dass das erste maedchen das uns begegnet nicht soll getoetet werden ja riefen alle das soll gnade haben erzaehl uns nur da sprach er unsere schwester ist da und hub die buette auf und die koenigstochter kam hervor in ihren koemglichen kleidern mit dem goldenen stern auf der stirne und war so schoen zart und fein da freueten sie sich alle fielen ihr um den hals und kuessten sie und hatten sie vom herzen lieb - 0 \n",
      "\n",
      "108 - [0.00043234] - mess_51 - nun blieb sie bei benjamin zu haus und half ihm in der arbeit die elfe zogen in den wald fingen gewild rehe voegel und taeuberchen damit sie zu essen hatten und die schwester und benjamin sorgten dass es zubereitet wurde sie suchte das holz zum kochen und die kraeuter zum gemues und stellte 82 die toepfe ans feuer also dass die mahlzeit immer fertig war wenn die elfe kamen sie hielt auch sonst ordnung im haeuschen und deckte die bettlein huebsch weiss und rein und die brueder waren immer zufrieden und lebten in grosser einigkeit mit ihr - 0 \n",
      "\n"
     ]
    },
    {
     "name": "stdout",
     "output_type": "stream",
     "text": [
      "109 - [5.2452087e-06] - mess_51 - auf eine zeit hatten die beiden daheim eine schoene kost zurechtgemacht und wie sie nun alle beisammen waren setzten sie sich assen und tranken und waren voller freude es war aber ein kleines gaertchen an dem verwuenschten haeuschen darin standen zwoelf lilienblumen die man auch studenten heisst nun wollte sie ihren bruedern ein vergnuegen machen brach die zwoelf blumen ab und dachte jedem aufs essen eine zu schenken wie sie aber die blumen abgebrochen hatte in demselben augenblick waren die zwoelf brueder in zwoelf raben verwandelt und flogen ueber den wald hin fort und das haus mit dem garten war auch verschwunden da war nun das arme maedchen allein in dem wilden wald und wie es sich umsah so stand eine alte frau neben ihm die sprach mein kind was hast du angefangen warum hast du die zwoelf weissen blumen nicht stehen lassen das waren deine brueder die sind nun auf immer in raben verwandelt das maedchen sprach weinend ist denn kein mittel sie zu erloesen nein sagte die alte es ist keins auf der ganzen welt als eins das ist aber so schwer dass du sie damit nicht befreien wirst denn du musst sieben jahre stumm sein darfst nicht sprechen und nicht lachen und sprichst du ein einziges wort und es fehlt nur eine stunde an den sieben jahren so ist alles umsonst und deine brueder werden von dem einen wort getoetet - 0 \n",
      "\n",
      "110 - [9.62615e-05] - mess_51 - da sprach das maedchen in seinem herzen ich weiss gewiss dass ich meine brueder erloese und ging und suchte einen hohen baum setzte sich darauf und spann und sprach nicht und lachte nicht nun trugs sich zu dass ein koenig in dem walde jagte der hatte einen grossen windhund der lief zu dem baum wo das maedchen darauf sass sprang herum schrie und bellte hinauf da kam der koenig herbei und sah die schoene koenigstochter mit dem goldenen stern auf der stirne und war so entzueckt ueber ihre schoenheit dass er ihr zurief ob sie seine gemahlin 83 werden wollte sie gab keine antwort nickte aber ein wenig mit dem kopf da stieg er selbst auf den baum trug sie herab setzte sie auf sein pferd und fuehrte sie heim da ward die hochzeit mit grosser pracht und freude gefeiert aber die braut sprach nicht und lachte nicht als sie ein paar jahre miteinander vergnuegt gelebt hatten fing die mutter des koenigs die eine boese frau war an die junge koenigin zu verleumden und sprach zum koenig es ist ein gemeines bettelmaedchen das du dir mitgebracht hast wer weiss was fuer gottlose streiche sie heimlich treibt wenn sie stumm ist und nicht sprechen kann so koennte sie doch einmal lachen aber wer nicht lacht der hat ein boeses gewissen der koenig wollte zuerst nicht daran glauben aber die alte trieb es so lange und beschuldigte sie so viel boeser dinge dass der koenig sich endlich ueberreden liess und sie zum tod verurteilte - 0 \n",
      "\n",
      "111 - [0.000139] - mess_51 - nun ward im hof ein grosses feuer angezuendet darin sollte sie verbrannt werden und der koenig stand oben am fenster und sah mit weinenden augen zu weil er sie noch immer so lieb hatte und als sie schon an den pfahl festgebunden war und das feuer an ihren kleidern mit roten zungen leckte da war eben der letzte augenblick von den sieben jahren verflossen da liess sich in der luft ein geschwirr hoeren und zwoelf raben kamen hergezogen und senkten sich nieder und wie sie die erde beruehrten waren es ihre zwoelf brueder die sie erloest hatte sie rissen das feuer auseinander loeschten die flammen machten ihre liebe schwester frei und kuessten und herzten sie nun aber da sie ihren mund auftun und reden durfte erzaehlte sie dem koenige warum sie stumm gewesen waere und niemals gelacht haette der koenig freute sich als er hoerte dass sie unschuldig war und sie lebten nun alle zusammen in einigkeit bis an ihren tod die boese stiefmutter ward vor gericht gestellt und in ein fass gesteckt das mit siedendem oel und giftigen schlangen angefuellt war und starb eines boesen todes - 0 \n",
      "\n",
      "112 - [0.0026291] - mess_52 - es war einmal ein tischler und ein goldschmied die sprachen wer wol das beste kunststueck von ihnen machen koenne da kommt der meister goldschmied an und bringt einen goldenen fisch der schwimmt immer im wasser umher da kommt der tischler auch und fliegt zum fenster herein und hat sich ein paar fluegel gemacht mit denen er fliegt fliegt noch ein mal zum fenster hinaus und drei mal ums haus herum da macht ein prinz die fluegel an der will nachher wieder niederfliegen fliegt aber immer hoeher und hoeher und kann nicht nieder da fliegt er auf eine kirche die hoch in der luft gewesen ist in der kirche wohnt eine prinzessin die macht das fenster auf da fliegt er hinein heirathet die prinzessin und wohnt mit ihr in der kirche 16 da bekamen sie einen kleinen knaben den liessen sie in einer schachtel auf die erde nieder - 0 \n",
      "\n",
      "113 - [0.01638985] - mess_52 - da fand eine alte boese frau den knaben in der schachtel und nahm ihn zu sich wollte ihn aber als er etwas herangewachsen war vergiften um seiner los zu werden der junge ging in den wald da kam ein zwerg und uebergab ihm drei hunde die hiessen stahl eisen und hille 1 er empfahl ihm auch alles zu thun was die hunde wollten und sie ja nicht zu schlagen - 0 \n",
      "\n",
      "114 - [0.507098] - mess_52 - als der waisenknabe nach haus kam hatten ihm seine pflegeaeltern vergiftetes essen hingestellt um ihn damit zu toedten wie er aber den ersten loeffel voll zum munde fuehrte sprang der hund stahl auf und schlug mit der pfote unter den loeffel sodass die speise die darin war verschuettet wurde dasselbe that der hund eisen als er den zweiten loeffel zum munde fuehrte als er den dritten loeffel fuellen wollte stiess der hund hille den ganzen napf um und der waisenknabe musste sich hungrig zu bett legen - 0 \n",
      "\n",
      "115 - [0.04805118] - mess_52 - am andern tage ging er mit seinen hunden wieder in den wald da trat der zwerg wieder zu ihm und fuehrte ihn in eine hoehle wo tsackos flinten und allerlei jaegerkram darin war von diesen dingen soll er sich etwas waehlen und er nimmt eine buechse und einen tsako woran geschrieben steht ich bin jaeger ueber alle jaeger und wie er den tsacko aufsetzte da war er auch ein jaeger ueber alle jaeger und die drei hunde heulten so freudig nun ging er fort und kam in ein foersterhaus da nahm ihn der foerster in dienst und er schoss mehr wild als alle andern jaeger zusammengenommen - 0 \n",
      "\n",
      "116 - [0.00025755] - mess_52 - es musste aber dieser foerster jeden tag eine stunde lang in ein altes verfallenes schloss gehen und eines abends 17 schickte er den jaeger ueber alle jaeger statt seiner dahin in dem schlosse spielte er mit einem gespenste karten wie sonst immer der foerster thun musste waehrend sie spielen klopft jemand an und es tritt ein zweites gespenst herein das ruft immer fort ich will den foerster haben was du an den foerster zu fordern hast sagt der jaeger ueber alle jaeger kannst du auch von mir fordern und in demselben augenblicke springen auch schon die drei hunde stahl eisen und hille auf das gespenst an der thuer zu und vertilgen es das gespenst mit dem er karten spielte zitterte und bebte unterdessen er aber liess sich nicht stoeren und rief immer fort trumpf rut trumpf rut 2 zuletzt vertilgten die drei hunde auch noch das gespenst mit dem er karten gespielt hatte nun brauchte der foerster nicht mehr zu den geistern in das schloss zu gehen und sein vater und sein grossvater die in dem schlosse in einem feurigen schranke brannten konnten jetzt ruhig sterben - 0 \n",
      "\n",
      "117 - [0.36668253] - mess_52 - der jaeger ueber alle jaeger aber wollte sich weiter in der welt versuchen und verliess das forsthaus er vermiethete sich als schweinehirt bei einem mueller zu dessen heerde taeglich drei riesen kamen und schweine stahlen diesen riesen rief er drei tage hintereinander zu was ihr an den mueller zu fordern habt koennt ihr auch an mich fordern an dem ersten tage wo die drei riesen kamen um schweine zu stehlen sprang jeder der drei treuen hunde auf einen riesen los und der hund stahl toedtete einen davon die andern riesen aber ergriffen die flucht am zweiten tage kamen die beiden riesen welche entflohen waren abermals um schweine zu stehlen da toedtete der hund eisen einen von ihnen und der andere riese ergriff von neuem die flucht am dritten tage kam dieser riese allein 18 um schweine zu stehlen rasch aber toedtete ihn der hund hille - 0 \n",
      "\n",
      "118 - [0.6025312] - mess_52 - damit war die muehle und die heerde von den riesen erloest und der jaeger ueber alle jaeger setzte seine reise fort er kam in eine stadt die ganz mit flor ueberzogen war weil ein drache die koenigstochter vom markte abholen wollte da stellte der jaeger ueber alle jaeger sich mit seinen treuen hunden neben die prinzessin und als der drache kam rief er ihm zu was du an den koenig zu fordern hast kannst du auch an mich fordern in demselben augenblicke sprangen die drei hunde stahl eisen und hille gegen den drachen an und zerrissen ihn - 0 \n",
      "\n",
      "119 - [0.00017339] - mess_52 - da warf sich die prinzessin ihm in die arme und begruesste ihn als ihren zukuenftigen gemahl zugleich bat sie ihn seinen drei hunden stahl eisen und hille die koepfe abzuhauen das that er auch weil die prinzessin versicherte es wuerde zum heile ausschlagen und da war der hund stahl der koenig der vater der prinzessin der hund eisen war der foerster und der hund hille war der mueller alle drei waren jetzt von der zaubergewalt voellig erloest unter der sie gestanden hatten und der foerster und der mueller zogen froehlich nach haus zum hochzeitstage des jaegers ueber alle jaeger mit der prinzessin aber stellte sich der mueller wieder ein in der stadt und brachte das beste stueck schweinebraten und auch der foerster kam und brachte das beste stueck wildbraten das in seinem forst zu haben war der koenig aber holte die beste flasche wein herauf die in seinem keller stand und so wurde die hochzeit gefeiert und am hochzeitstage war die ganze stadt mit roth ueberzogen - 0 \n",
      "\n",
      "120 - [3.7252903e-06] - mess_53 - in einem holze wohnte ein mann der hatte zwei zwillinge von denen war der eine ein gluecksvogel der andere ein pechvogel der mann aber saeete auf ein stuecklein landes eine saat daraus wuchsen auf zwei schwerter zwei pudelhunde und zwei schimmel als seine soehne nun funfzehn jahre alt waren gab er jedem eins von den schwertern einen von den pudelhunden und einen von den schimmeln und damit zogen sie in die weite welt wie sie an den kreuzweg kamen nahmen sie abschied und verabredeten dass sie einander durch die hunde nachricht geben wollten wer zuerst sein glueck in einer stadt machte solle seinen hund an diesen kreuzweg bringen dann werde der schon aufspueren wo der andere bruder sei nun kommt aber der pechvogel in ein wirthshaus wo die wirthin eine hexe ist die erwuergt ihn schneidet seinen leib entzwei und steckt ihn in einen tubben dann erwuergt sie auch seinen hund wiewol der den namen hatte brichstahlundeisen schneidet ihn auch auseinander und steckt ihn auch in den tubben der gluecksvogel kommt in eine stadt die stadt ist ganz mit schwarzem flor ueberzogen an diesem tage holt naemlich ein drache eine prinzessin ab weil er jedes jahr an diesem tage ein maedchen von funfzehn jahren wegholen muss und weil diesmal kein maedchen von funfzehn jahren da ist als die prinzessin er beschliesst die prinzessin zu retten und mit dem drachen zu kaempfen er geht also auf den drachenberg ein diener des koenigs fuehrt die prinzessin dahin wie der drache die prinzessin sieht kommt er ploetzlich aus der luft geschossen der gluecksvogel haut 20 muthig auf den drachen los sein kluger hund der den namen hatte bringspeise und sein treues pferd helfen ihm dabei so kriegt er den drachen mit sieben koepfen nieder und schneidet aus den sieben koepfen die zungen heraus die prinzessin aber gibt ihm einen ring und ein tuch worin ihr name steht sie will ihn sogleich mit aufs schloss nehmen er aber gedenkt seines bruders und reitet mit seinem treuen hunde bringspeise zuerst nach dem kreuzwege zu der diener welcher die prinzessin bis vor den berg in der kutsche begleitet hat haelt noch dort da er nun den abschied der prinzessin von dem ritter gehoert hat droht er ihr unterwegs sie zu toedten wenn sie nicht sagen wolle dass er sie erloest habe aus angst schwoert sie ihm endlich dies zu er nimmt sieben hunde und schneidet ihnen die zungen aus um sie dem koenige als die zungen des drachen vorzulegen das geschieht der koenig aber ist hocherfreut und verspricht dem diener die krone bald danach wird die verlobung der prinzessin gehalten der edle ritter ist aber nun auf den kreuzweg gekommen von dort verfolgt der treue hund die spur in ein wirthshaus und der ritter folgt ihm auf seinem pferde dahin dort winselt sein hund und wie er sein pferd in den stall zieht da meckert es ordentlich vor freude und daraus merkt er dass seines bruders pferd daneben im stalle steht - 0 \n",
      "\n",
      "121 - [7.897615e-06] - mess_53 - nun fragt er die alte frau in dem wirthshause hin und her erhaelt aber keine nachricht von seinem bruder endlich legt er sich nieder in tiefen gedanken weil er in dem wirthshause niemand weiter gesehen hat als diese alte frau wie es gegen elf uhr abends ist wird der hund bringspeise unruhig er springt auf und ergreift den degen tritt an die thuer und hoert die wirthin sprechen ein herr liegt hier auf der stube dem wollen wir an den kragen so kommen zwoelf hexen worunter die wirthin zur thuer 21 herein und er haut elf davon nieder die wirthin aber will entlaufen doch greift er sie in der thuer und sagt sie muesse sterben wenn sie seinen bruder nicht herbeischaffe die alte hexe verspricht ihn herbeizuschaffen holt den tubben und nimmt daraus ein stueck nach dem andern von seinem bruder bestreicht die stuecken mit hexensalbe aus dem glase und hext den pechvogel wieder zusammen darauf nimmt sie aus der tonne zuerst die schnauze dann die andern theile des hundes brichstahlundeisen hext die auch wieder zusammen und der hund brichstahlundeisen springt freudig heulend an dem neuerstandenen pechvogel in die hoehe nun schwingen sich beide brueder auf die pferde da ruft die alte hexe den gluecksvogel geruehrt dass er ihr allein das leben geschenkt hat noch einmal um gibt ihm noch etwas von der salbe und sagt man koenne nicht wissen was dem pechvogel noch einmal geschaehe wenn holland in noth sei bei ihm dann solle er ihn nur mit der hexensalbe bestreichen sie bat sich zur belohnung nur ein paar haare von seinem pudelhunde bringspeise aus - 0 \n",
      "\n",
      "122 - [1.7464161e-05] - mess_53 - so zieht der gluecksvogel mit dem pechvogel einmuethig in die stadt des koenigs da aber ist alles froehlich da fragt der ritter warum alles so froehlich sei und bekommt die antwort die koenigstochter habe hochzeit nun macht der ritter mit dem wirthe eine wette dass er etwas von der koenigstafel erhalten werde durch seinen hund er bindet dem hunde bringspeise das tuch das er von der prinzessin erhalten hat um steckt ein briefchen hinein und befiehlt dem hunde sich von niemandem anders als von der prinzessin das tuch abbinden zu lassen der hund wird einige mal von den soldaten zurueckgetrieben schleicht sich aber endlich durch und gelangt in das hochzeitszimmer er kriecht unter den tisch zu der prinzessin fuessen und zerrt an ihrem gewande die prinzessin liest den brief thut nach dem verlangen 22 ihres wahren erloesers eine von den schuesseln die auf der koenigstafel standen in das tuch und damit kehrt der hund in den gasthof zurueck der koenig welcher sah wie seine tochter dem hunde die speise uebergab hiess seinen treuesten diener ihm nachfolgen der fand den gluecksvogel im wirthshause wie er eben mit seinem bruder sich an den tisch setzte um die speise von koenigs tafel zu verzehren da erfuhr der treue diener des koenigs von dem gluecksvogel alles und sah auch die sieben rechten drachenzungen nun ward der gluecksvogel mit seinem bruder in der kutsche nach dem koenigshofe gebracht die prinzessin bekannte dass er ihr wahrer erloeser sei und er musste ueber den falschen erloeser das urtheil sprechen der ward in eine mit naegeln beschlagene tonne gesteckt und die tonne wurde den berg heruntergerollt - 0 \n",
      "\n",
      "123 - [0.07144755] - mess_53 - der gluecksvogel freite jetzt die prinzessin und der alte erkannte ihn als koenig an - 0 \n",
      "\n",
      "124 - [0.00049752] - mess_53 - nun aber hoert was sich mit dem pechvogel noch begeben hat der gluecksvogel ging seit er koenig war wie andere koenige auch thun tagtaeglich auf die jagd um sein leben zu geniessen der pechvogel aber sass unterdessen zu hause im palaste bei der schoenen koenigin da kamen dem gluecksvogel auf der jagd einmal gedanken was wol der pechvogel daheim immer bei seiner frau zu thun habe ein koenig ist auch nur ein mensch und darum achtete der gluecksvogel des schoenen hirsches nicht der sich eben auf schussweite ihm naeherte sondern ritt heim zu seiner frau und da fand er den pechvogel wie er vor ihr sass und sie anschaute da wurde er eifersuechtig und in der eifersucht fuehlte er sich so recht als koenig zog sein schwert und hieb den pechvogel in stuecken - 0 \n",
      "\n"
     ]
    },
    {
     "name": "stdout",
     "output_type": "stream",
     "text": [
      "125 - [0.03782353] - mess_53 - nun betheuerte aber die koenigin ihrem gemahl ihre und seines bruders unschuld niemals habe dieser ungebuehrliches 23 von ihr verlangt nur einmal wie er sie auch wieder so angeschaut habe er sie um einen kuss gebeten und den habe sie ihm nicht gegeben - 0 \n",
      "\n",
      "126 - [0.00486887] - mess_53 - da gereute es den koenig was er gethan und er erinnerte sich der hexensalbe welche die alte ihm auf den weg gegeben hatte damit bestrich er den pechvogel sodass dieser abermals lebendig wurde und wenn sie noch nicht gestorben sind so jagt der koenig heute noch nach dem hirsche und der pechvogel sitzt heute noch bei der koenigin - 0 \n",
      "\n",
      "127 - [0.00075352] - mess_54 - es war einmal ein bauer der wurde so arm dass er nur ein einziges pferd behielt da nahm er einen fischteich in pacht dass er sich von der fischerei ernaehren moechte in dem teiche hatte er schon mehrmals einen maechtig grossen fisch bemerkt der ging niemals in das netz hinein aber der mann hatte nicht eher ruhe noch rast bis er den fisch doch endlich gefangen hatte da er ihn nun ans land legte that der fisch sein maul auf und sprach du hast mich nun in deiner gewalt fischer und ich merken wohl dass ich nicht wieder fortkomme darum befolge meinen rath und nimm wenn du mich geschlachtet hast mein herz meine leber meine galle und vier von meinen flossfedern das herz gib deiner frau zu essen die leber deinem pferde die galle dem hunde und die flossfedern vergrabe unter dem tropfenfall wenn du das thust so wird es dein glueck sein da that der mann wie der fisch ihm gesagt hatte - 0 \n",
      "\n",
      "128 - [1.3798475e-05] - mess_54 - ueber eine zeit so gebar des fischers frau zwei knaben das pferd warf zwei fuellen der hund zwei junge und als der fischer unter dem tropfenfalle nach den flossfedern sah so waren daraus zwei schwerter und zwei pistolen geworden die beiden kinder da sie groesser wurden hatten eine sonderliche lust mit den blanken waffen zu spielen das sah aber ihr vater 69 gar nicht gern nahm sie ihnen weg und versteckte sie oben im hause unter den hahnenbalken die kinder wussten sie aber doch wieder in ihre haende zu bringen als sie sechzehn jahre alt waren sprach der welcher zuerst geboren war zu seinem bruder es laesst mir hier zu hause keine ruhe mehr ich will jetzt fort in die fremde und sehen dass ich mein glueck mache er nahm ein pferd einen hund ein schwert und eine pistole verabschiedete sich bei vater mutter und bruder und ritt weg in die weite welt hinein vorher stiess er aber noch ein messer in einen baum dass sein bruder daran erkennen koennte ob es ihm gut ginge oder ob ihn ein unglueck widerfahren sei - 0 \n",
      "\n",
      "129 - [3.835559e-05] - mess_54 - er ritt eine lange zeit da kam er endlich an den koeniglichen hof da waren alle gelaender schwarz mit weissen knoepfen darauf in dem wirthshause dem schlosse gegenueber nahm er herberge und fragte sogleich den wirth was denn das zu bedeuten haette die gitter um das koenigliche schloss waeren ja alle ganz schwarz mit weissen knoepfen sprach der wirth das kommt daher weil die junge prinzessin morgen dem drachen geopfert werden muss warum wird der drache denn nicht getoedtet fragte er ach gott sprach der wirth es haben schon viele versucht denn der koenig hat dem seine tochter versprochen der den siebenkoepfigen drachen besiegen wuerde aber sie sind alle ums leben gekommen da fasste er den entschluss das wagestueck zu unternehmen und ritt den andern tag zur bestimmten stunde den drachenstein hinauf da sass die prinzessin und war ganz schwarz angezogen und weinte und erwartete jeden augenblick den greulichen drachen und indem so kam das ungeheuer auch schon heulend und mit gebrause durch die luft dahergeflogen und wollte die prinzessin verschlingen aber der junge ritt ihm muthig entgegen schwang sein schwert und wie er den ersten hieb that so flogen drei koepfe ab mit dem zweiten hiebe wieder drei und als er zum dritten male sein schwert schwang lag der siebente und letzte kopf des drachen auf dem boden da hatte er die prinzessin erloest die dankte ihm und wollte ihn gleich mit zu ihrem vater nehmen er wollte aber nicht so viel sie auch bat sondern sprach erst muss ich noch weiter in die welt hinein bis ueber ein jahr da will ich wiederkommen wenn ich dann noch am leben bin weil er sich nun gar nicht halten liess so schenkte ihm die prinzessin zum andenken ihr seidenes tuch und dem pferde und dem hunde die bei dem kampfe treulich mitgeholfen hatten gab sie von ihrem korallenhalsbande jedem drei schnuere um den hals darauf schnitt der junge den sieben drachenkoepfen die zungen aus wickelte sie in das seidene tuch der prinzessin und nachdem er von ihr abschied genommen hatte ritt er wieder den berg hinab in das wirthshaus zahlte seine zeche und sprach zu dem wirthe wenn ein jahr vergangen waere so kaeme er wieder zurueck damit zog er weiter fort - 0 \n",
      "\n",
      "130 - [0.0004172] - mess_54 - nun war da an dem koeniglichen hofe ein alter general der hatte aus der 70 ferne alles mit angesehen was sich auf dem drachenstein zutrug und da er sah dass der welcher den drachen getoedtet hatte fort und die prinzessin allein war stieg er zu ihr hinauf und bedrohte sie mit heftigen worten dass sie schweigen oder auf der stelle sterben muesste und dann nahm er zum wahrzeichen die sieben drachenkoepfe mit und ging mit der prinzessin zu ihrem vater dem koenige und gab sich fuer den aus der den drachen besiegt und die prinzessin erloest haette die prinzessin stellte aber die bedingung dass erst ueber ein jahr die hochzeit gefeiert werden sollte - 0 \n",
      "\n",
      "131 - [0.00188783] - mess_54 - der rechte drachentoedter war unterdess weiter geritten und kam an ein fliessendes wasser da hinueber fuehrte eine bruecke die war so beschaffen dass sie wegfloss wenn einer hinueber war in demselben augenblicke da der junge auf der andern seite ankam wurde die bruecke auch von dem strome hinweggerissen das ist noch einmal gut gegangen sprach er es war zeit dass ich hinueberkam nicht lange war er geritten so kam er an ein verwuenschtes schloss da war kein baum und kein strauch und war alles still und oede bei dem schlosse war aber ein grosser pferdestall mit vielen pferden darin denen kam der hafer von selber in die krippen da brachte der junge sein pferd in den stall und ging dann in das schloss hinein - 0 \n",
      "\n",
      "132 - [7.894635e-05] - mess_54 - in dem schlosse waren zwei junfern die eine war weiss die andere war schwarz die weisse lag im bett und war nicht lebendig und auch nicht todt und konnte kein wort sprechen die schwarze aber redete den jungen an und sprach du hast hier eine schwere aufgabe zu vollbringen wenn du uns und unser schloss erloesen willst drei naechte hintereinander musst du wachen und darfst kein auge zuthun schlaefst du aber ein so ist hier noch eine alte zigeunerin die macht dich todt darnach brachte sie ihn in ein schoenes zimmer gab ihm gutes essen und trinken und liess ihn allein bis drei uhr in der nacht hielt es der junge aus und blieb wach da wurde er aber auf einmal so muede dass er fest einschlief da kam die alte zigeunerin hereingeschlichen und trug ein grosses beil in der hand damit hackte sie den jungen in vier stuecke trug ihn in ein fass und salzte ihn ein - 0 \n",
      "\n",
      "133 - [0.0025135] - mess_54 - um dieselbe stunde stand der andere bruder daheim bei dem messer und sah dass es auf einmal rostig wurde nun ist mein bruder in grosser noth sprach er aber ich lasse ihn nicht im stich es mag kommen wie es will sogleich setzte er sich auf sein pferd nahm seinen hund sein schwert und seine pistole mit verabschiedete sich bei vater und mutter und zog fort seinen bruder aufzusuchen - 0 \n",
      "\n",
      "134 - [2.4557114e-05] - mess_54 - er kam auch in die stadt und in dasselbe wirthshaus wo sein bruder zuletzt eingekehrt war und als ihn der wirth kommen sah meinte er es waere der andere und sprach ihr kommt ja frueh zurueck ich meinte ihr wolltet erst ueber ein jahr wieder hier sein und jetzt ist doch kaum ein halbes verflossen ach herr wirth sagte der junge ihr haltet mich gewiss fuer71 meinen bruder koennt ihr mir vielleicht sagen wo er hingeritten ist da zeigte ihm der wirth den weg den sein bruder geritten war er zog die strasse weiter fort und kam an das wasser und die bruecke und als er da hinueber ritt und eben auf der andern seite war floss sie hinweg das ist noch einmal gut gegangen rief er es war zeit dass ich hinueberkam als er nun immer weiterzog fand er auch das schloss daraus kam ihm seines bruders hund entgegen gelaufen und in dem stalle wo den pferden der hafer von selber in die krippen fiel stand seines bruders pferd da sah er wohl dass hier oder nirgends sein bruder zu finden sei band sein pferd in den stall und ging in das schloss hinein - 0 \n",
      "\n",
      "135 - [0.00034368] - mess_54 - es waren da auch wieder die beiden junfern eine weisse und eine schwarze die weisse lag noch immer im bette sie lebte nicht und war nicht todt und konnte kein wort sprechen die schwarze war aber schon etwas weiss geworden weil der erste bruder bis drei uhr in der nacht gewacht hatte und als sie der andere fragte ob sein bruder nicht hier waere erzaehlte sie ihm wie es dem ergangen sei dass er eingeschlafen waere und dass ihn die alte zigeunerin ums leben gebracht haette da ruhte der junge nicht eher bis er das alte weib fand das sich versteckt hatte und da musste sie aus ihrem schlupfwinkel heraus und der junge bedrohte sie und sprach verdammte alte hexe gieb meinen bruder heraus oder ich haue dich in eine halbe stiege stuecke da wurde das weib bange lief schnell hin und machte den bruder wieder lebendig als der andere sah dass sein bruder wieder am leben war schwang er sein schwert und hackte der alten hexe den kopf ab - 0 \n",
      "\n",
      "136 - [0.04852822] - mess_54 - o weh sprach da die schwarze junfer nun kann das schloss nicht anders erloest werden als wenn ihr den sieben naegeln die dort hinter der thuer in der wand sitzen mit zwei hieben die koepfe abhaut der zweite bruder zog sein schwert zuerst und mit dem ersten hiebe den er that flogen von fuenf naegeln die koepfe ab und aus jedem nagelkopfe floss ein tropfen blut so bruder nun haue du die andern ab du bist zwar eine gute weile eingesalzen gewesen aber ich denke die beiden letzten koepfe wirst du doch wohl herunterbringen da nahm der erste bruder der solange im salze gelegen alle seine kraft zusammen und hieb mit seinem schwerte den beiden letzten naegeln auch gluecklich die koepfe ab und aus jedem nagelkopfe floss wieder ein tropfen blut - 0 \n",
      "\n",
      "137 - [0.00027454] - mess_54 - in diesem selben augenblicke hoerte aber auch die verwuenschung auf trompeten erschallten baeume und blumen wuchsen aus der erde und wurde auf einmal ein gewuehl von menschen die da alle mit verwuenscht gewesen waren da wurde auch die schwarze prinzessin ganz weiss und die weisse die nicht lebendig und nicht todt war erwachte nun aus ihrem zauberschlafe und wurde wieder frisch und lebendig ihr gehoerte das schloss und da heirathete sie den juengsten bruder und hielt hochzeit mit ihm - 0 \n",
      "\n",
      "138 - [4.3213367e-06] - mess_54 - 72 der aelteste bruder aber als die hochzeit zu ende war zog wieder von da fort nach der stadt wo die prinzessin wohnte die er von dem drachen erloest hatte und kehrte wieder in dem wirthshause ein das dem schlosse gegenueber lag es war aber zu der zeit gerade ein jahr vergangen seit er von hier fort war sprach der wirth das heiss ich puenktlich sein heute vor einem jahre sah es hier traurig aus heute aber ist hochzeit drueben auf des koenigs schlosse denn die prinzessin heirathet den alten general der den drachen getoedtet hat ein jahr hatte sie sich ausbedungen und das ist heute herum glaubt ihr denn wohl herr wirth sprach der junge dass mir mein hund von dem braten holt der vor der koeniglichen prinzessin auf dem tische steht das kann nicht sein meinte der wirth und verwettete eine grosse summe dass das nicht moeglich waere da hing der junge dem hunde die drei reihen perlen um die ihm die prinzessin gegeben steckte ihm hinten in das nackenhaar einen zettel worauf er schrieb ich wuensche braten von der koeniglichen tafel zu haben und schickte ihn hinueber in das schloss obgleich ihn die wache nicht durchlassen wollte und halt gebot so kehrte sich der hund doch nicht daran sondern ging gerades wegs in den saal zu der prinzessin die mit dem ganzen hofstaate bei tafel sass und klopfte ihr mit der pfote auf den schooss da erkannte die prinzessin den hund an den drei reihen perlen ging mit ihm in das nebenzimmer und fand in seinem nackenhaar den zettel worauf geschrieben stand ich wuensche braten von der koeniglichen tafel zu haben nachdem die prinzessin dem hunde einen korb mit braten ins maul gegeben liess sie der schlosswache sagen sie sollte den hund nur frei passiren lassen der kam mit dem braten auch getreulich zu seinem herrn und der wirth musste die wette bezahlen - 0 \n",
      "\n",
      "139 - [3.963709e-05] - mess_54 - die prinzessin welche nun wohl sah dass ihr befreier angekommen war bat ihren vater den koenig dass er den herrn dem der hund gehoerte holen lassen sollte da gab der koenig ihren bitten nach und liess ihn in einer kutsche mit vier schimmeln auf das schloss holen er setzte sich ganz bescheiden zu unterst an die tafel darauf lagen zur schau die sieben koepfe des drachen und es wurde von den gaesten viel von der tapferkeit des alten generals hin und her gesprochen da stand der junge ganz gelassen auf sah den drachenkoepfen in den schlund und fragte wie das waere ob die drachen denn keine zunge haetten nein sprach schnell der alte general drachen haben keine zungen das haben sie doch sprach der junge und wer den drachen getoedtet hat der muss auch wissen wo die zungen geblieben sind damit band er sein seidenes tuch auf nahm die sieben drachenzungen heraus und zeigte sie den gaesten und als er sie den drachenkoepfen in den schlund hielt so passten sie ganz genau als der alte general das sah wollte er fluechten aber der koenig liess ihn von der wache festnehmen und sah nun wohl wer der rechte drachentoedter gewesen war darnach 73 so heirathete der junge die koenigliche prinzessin der treulose alte general wurde aber zur strafe von vier ochsen mitten auseinandergerissen - 0 \n",
      "\n",
      "140 - [1.1533499e-05] - mess_55 - ein schaefer hinterliess seinen beiden kindern einem sohn und einer tochter nichts als drei schafe und ein haeuschen und sprach auf seinem totenbette teilt euch geschwisterlich darein dass nicht hader und zank zwischen euch entstehe als der schaefer nun gestorben war fragte der bruder die schwester welches sie lieber wolle die schafe oder das haeuschen und als sie das haeuschen waehlte sagte er so nehm ich die schafe und gehe in die weite welt es hat schon mancher sein glueck gefunden und ich bin ein sonntagskind er ging darauf mit seinem erbteil fort das glueck wollte ihm jedoch lange nicht begegnen einst sass er recht verdriesslich an einem kreuzweg ungewiss wohin er sich wenden wollte auf einmal sah er einen mann neben 221 sich der hatte drei schwarze hunde von denen der eine immer groesser als der andre war ei junger gesell sagte der mann ihr habt da drei schoene schafe wisst ihr was gebt mir die schafe ich will euch meine hunde dafuer geben trotz seiner traurigkeit musste jener lachen was soll ich mit euren hunden tun fragte er meine schafe ernaehren sich selbst die hunde aber wollen gefuettert sein  meine hunde sind von absonderlicher art antwortete der fremde sie ernaehren euch statt ihr sie und werden euer glueck machen der kleinere da heisst bring speisen der zweite zerreissn und der grosse starke brich stahl und eisen der schaefer liess sich endlich beschwatzen und gabe seine schafe hin um die eigenschaft seiner hunde zu pruefen sprach er bring speisen und alsbald lief der eine hund fort und kam zurueck mit einem grossen korb voll der herrlichsten speisen den schaefer gereuete nun der tausch nicht er liess sichs wohl sein und zog lange im lande umher - 0 \n",
      "\n"
     ]
    },
    {
     "name": "stdout",
     "output_type": "stream",
     "text": [
      "141 - [0.00041702] - mess_55 - einst begegnete ihm ein wagen mit zwei pferden bespannt und ganz mit schwarzen decken bekleidet und auch der kutscher war schwarz angetan in dem wagen sass ein wunderschoenes maedchen in einem schwarzen gewande das weinte bitterlich die pferde trabten traurig und langsam und hingen die koepfe kutscher was bedeutet das fragte der schaefer der kutscher antwortete unwirsch jener aber liess nicht nach zu fragen bis der kutscher erzaehlte es hause ein grosser drache in der gegend dem habe man um sich vor seinen verwuestungen zu sichern eine jungfrau als jaehrlichen tribut versprechen muessen die er mit haut und haar verschlinge das los entscheide allemal unter den vierzehnjaehrigen jungfrauen und diesmal habe es die koenigstochter betroffen darueber sei der koenig und das ganze land in tiefster betruebnis und doch muesse der drache sein opfer erhalten der schaefer fuehlte mitleid mit dem schoenen jungen maedchen und folgte dem wagen dieser hielt endlich an einem hohen berge die jungfrau stieg aus und schritt langsam ihrem schrecklichen schicksal entgegen der kutscher sah nun dass der fremde mann ihr folgen wollte und warnte ihn der schaefer liess sich jedoch nicht abwendig machen als sie die haelfte des berges erstiegen hatten kam vom gipfel herab ein schreckliches untier mit einem schuppenleib fluegeln und ungeheuren 222 krallen an den fuessen aus seinem rachen loderte ein gluehender schwefelstrom und schon wollte es sich auf seine beute stuerzen da rief der schaefer zerreissn und der zweite seiner hunde stuerzte sich auf den drachen biss sich in der weiche desselben fest und setzte ihm so zu dass das ungeheuer endlich niedersank und sein giftiges leben aushauchte der hund aber frass ihn voellig auf dass nichts 223 uebrig blieb als ein paar zaehne die steckte der schaefer zu sich die koenigstochter war ganz ohnmaechtig vor schreck und vor freude der schaefer erweckte sie wieder zum leben und nun sank sie ihrem retter zu fuessen und bat ihn flehentlich mit zu ihrem vater zu kommen der ihn reich belohnen werde der juengling antwortete er wolle sich erst in der welt umsehen nach drei jahren aber wieder kommen und bei diesem entschluss blieb er die jungfrau setzte sich wieder in den wagen und der schaefer ging eines andern weges fort - 0 \n",
      "\n",
      "142 - [0.2052052] - mess_55 - der kutscher aber war auf boese gedanken gekommen als sie ueber eine bruecke fuhren unter der ein grosser strom floss hielt er still wandte sich zur koenigstochter und sprach - 0 \n",
      "\n",
      "143 - [1.5944242e-05] - mess_55 - euer retter ist fort und begehrt eures dankes nicht es waere schoen von euch wenn ihr einen armen menschen gluecklich machtet saget deshalb eurem vater dass ich den drachen umgebracht habe wollt ihr aber das nicht so werf ich euch hier in den strom und niemand wird nach euch fragen denn es heisst der drache habe euch verschlungen die jungfrau wehklagte und flehte aber vergeblich sie musste endlich schwoeren den kutscher fuer ihren retter auszugeben und keiner seele das geheimnis zu verraten so fuhren sie in die stadt zurueck wo alles ausser sich vor entzuecken war die schwarzen fahnen wurden von den tuermen genommen und bunte darauf gesteckt und der koenig umarmte mit freudentraenen seine tochter und ihren vermeintlichen retter du hast nicht nur mein kind sondern das ganze land von einer grossen plage errettet sprach er darum ist es auch billig dass ich dich belohne meine tochter soll deine gemahlin werden da sie aber noch allzu jung ist so soll die hochzeit erst in einem jahre sein der kutscher dankte ward praechtig gekleidet zum edelmanne gemacht und in allen feinen sitten die sein nunmehriger stand erforderte unterwiesen die koenigstochter aber erschrak heftig und weinte bitterlich als sie dies vernahm und wagte doch nicht ihren schwur zu brechen als das jahr um war konnte sie nichts erreichen als die frist noch eines jahres auch dies ging zu ende und sie warf sich dem vater zu fuessen und bat um noch ein jahr denn sie dachte an das versprechen ihres wirklichen erretters der koenig konnte ihrem flehen nicht widerstehen und gewaehrte ihr die bitte mit dem zusatz jedoch dass dies die letzte frist sei die er ihr 224 gestatte wie schnell verrann die zeit der trauungstag war nun festgesetzt auf den tuermen wehten rote fahnen und das ganze volk war im jubel - 0 \n",
      "\n",
      "144 - [0.01691245] - mess_55 - an demselben geschah es dass ein fremder mit drei hunden in die stadt kam der fragte nach der ursache der allgemeinen freude und erfuhr dass die koenigstochter eben mit dem manne vermaehlt werde der den schrecklichen drachen erschlagen der fremde schalt diesen mann einen betrueger der sich mit fremden federn schmuecke aber er wurde von der wache ergriffen und in ein enges gefaengnis mit eisernen tueren geworfen als er nun so auf seinem strohbuendel lag und sein trauriges geschick ueberdachte glaubte er ploetzlich draussen das winseln seiner hunde zu hoeren da daemmerte ein lichter gedanke in ihm auf brich stahl und eisen rief er so laut er konnte und alsbald sah er die tatzen seines groessten hundes an dem gitterfenster durch welches das tageslicht spaerlich in seine zelle fiel das gitter brach und der hund sprang in die zelle und zerbiss die ketten mit denen sein herr gefesselt war darauf sprang er wieder hinaus und sein herr folgte ihm nun war er zwar frei aber der gedanke schmerzte ihn sehr dass ein anderer seinen lohn ernten solle es hungerte ihn auch und er rief seinen hund an bring speisen bald darauf kam der hund mit einer serviette voll koestlicher speisen zurueck in die serviette war eine koenigskrone gestickt - 0 \n",
      "\n",
      "145 - [0.00109623] - mess_55 - der koenig hatte eben mit seinem ganzen hofstaat an der tafel gesessen als der hund erschienen war und der braeutlichen jungfrau bittend die hand geleckt hatte mit freudigem schreck hatte sie den hund erkannt und ihm die eigne serviette umgebunden sie sah dies als einen wink des himmels an bat den vater um einige worte und vertraute ihm das ganze geheimnis der koenig sandte einen boten dem hunde nach der bald darauf den fremden in des koenigs kabinet brachte der koenig fuehrte ihn an der hand in den saal der ehemalige kutscher erblasste bei seinem anblick und bat knieend um gnade die koenigstochter erkannte den fremdling als ihren retter der sich noch ueberdies durch die drachenzaehne die er noch bei sich trug auswies der kutscher ward in einen tiefen kerker geworfen und der schaefer nahm seine stelle an der seite der koenigstochter ein diesmal bat sie nicht um aufschub der trauung - 0 \n",
      "\n",
      "146 - [0.00022145] - mess_55 - 225 das junge ehepaar lebte schon eine geraume zeit in wonniglichem glueck da gedachte der ehemalige schaefer seiner armen schwester und sprach den wunsch aus ihr von seinem glueck mitzuteilen er sandte auch einen wagen fort sie zu holen und es dauerte nicht lange so lag sie an der brust ihres bruders da begann einer der hunde zu sprechen und sagte unsere zeit ist nun um du bedarfst unser nicht mehr wir blieben nur so lange bei dir um zu sehen ob du auch im glueck deine schwester nicht vergessen wuerdest darauf verwandelten sich die hunde in drei voegel und verschwanden in den lueften - 0 \n",
      "\n"
     ]
    }
   ],
   "source": [
    "for i in range(len(x_mess)):\n",
    "    print(i+0,\"-\",\n",
    "          model.predict(x_mess)[i],\"-\",\n",
    "          df.quelle[i+0],\"-\",\n",
    "          df.episode[i+0],\"-\",\n",
    "          df.index_string[i+0],'\\n')"
   ]
  },
  {
   "cell_type": "code",
   "execution_count": 170,
   "metadata": {
    "scrolled": true
   },
   "outputs": [
    {
     "ename": "FileNotFoundError",
     "evalue": "[Errno 2] No such file or directory: 'Messdaten/hier.txt'",
     "output_type": "error",
     "traceback": [
      "\u001b[1;31m---------------------------------------------------------------------------\u001b[0m",
      "\u001b[1;31mFileNotFoundError\u001b[0m                         Traceback (most recent call last)",
      "\u001b[1;32m<ipython-input-170-7e6e50c140b8>\u001b[0m in \u001b[0;36m<module>\u001b[1;34m\u001b[0m\n\u001b[1;32m----> 1\u001b[1;33m \u001b[0mfobj\u001b[0m \u001b[1;33m=\u001b[0m \u001b[0mopen\u001b[0m \u001b[1;33m(\u001b[0m\u001b[1;34m'Messdaten/hier.txt'\u001b[0m\u001b[1;33m,\u001b[0m \u001b[1;34m'r'\u001b[0m\u001b[1;33m,\u001b[0m \u001b[0mencoding\u001b[0m\u001b[1;33m=\u001b[0m\u001b[1;34m'utf-8'\u001b[0m\u001b[1;33m)\u001b[0m\u001b[1;33m\u001b[0m\u001b[1;33m\u001b[0m\u001b[0m\n\u001b[0m\u001b[0;32m      2\u001b[0m \u001b[1;32mfor\u001b[0m \u001b[0mline\u001b[0m \u001b[1;32min\u001b[0m \u001b[0mfobj\u001b[0m\u001b[1;33m:\u001b[0m\u001b[1;33m\u001b[0m\u001b[1;33m\u001b[0m\u001b[0m\n\u001b[0;32m      3\u001b[0m     \u001b[0mprint\u001b[0m \u001b[1;33m(\u001b[0m\u001b[0mline\u001b[0m\u001b[1;33m.\u001b[0m\u001b[0mrstrip\u001b[0m\u001b[1;33m(\u001b[0m\u001b[1;33m)\u001b[0m\u001b[1;33m)\u001b[0m\u001b[1;33m\u001b[0m\u001b[1;33m\u001b[0m\u001b[0m\n",
      "\u001b[1;31mFileNotFoundError\u001b[0m: [Errno 2] No such file or directory: 'Messdaten/hier.txt'"
     ]
    }
   ],
   "source": [
    "fobj = open ('Messdaten/hier.txt', 'r', encoding='utf-8')\n",
    "for line in fobj:\n",
    "    print (line.rstrip())"
   ]
  },
  {
   "cell_type": "code",
   "execution_count": null,
   "metadata": {},
   "outputs": [],
   "source": []
  }
 ],
 "metadata": {
  "kernelspec": {
   "display_name": "Python 3",
   "language": "python",
   "name": "python3"
  },
  "language_info": {
   "codemirror_mode": {
    "name": "ipython",
    "version": 3
   },
   "file_extension": ".py",
   "mimetype": "text/x-python",
   "name": "python",
   "nbconvert_exporter": "python",
   "pygments_lexer": "ipython3",
   "version": "3.7.4"
  }
 },
 "nbformat": 4,
 "nbformat_minor": 2
}
