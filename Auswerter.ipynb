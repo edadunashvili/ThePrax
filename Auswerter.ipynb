{
  "nbformat": 4,
  "nbformat_minor": 0,
  "metadata": {
    "kernelspec": {
      "display_name": "Python 3",
      "language": "python",
      "name": "python3"
    },
    "language_info": {
      "codemirror_mode": {
        "name": "ipython",
        "version": 3
      },
      "file_extension": ".py",
      "mimetype": "text/x-python",
      "name": "python",
      "nbconvert_exporter": "python",
      "pygments_lexer": "ipython3",
      "version": "3.7.4"
    },
    "colab": {
      "name": "Auswerter.ipynb",
      "provenance": []
    }
  },
  "cells": [
    {
      "cell_type": "markdown",
      "metadata": {
        "id": "3Q5fUDxt93rj",
        "colab_type": "text"
      },
      "source": [
        "## Auswerter"
      ]
    },
    {
      "cell_type": "markdown",
      "metadata": {
        "id": "Ud42NmWH93rm",
        "colab_type": "text"
      },
      "source": [
        "Elementenstruktur definieren: vorherige Episode - gesuchte Episode - folgende Episode "
      ]
    },
    {
      "cell_type": "code",
      "metadata": {
        "id": "XIylK86U93rp",
        "colab_type": "code",
        "colab": {}
      },
      "source": [
        "import pandas as pd\n",
        "url = 'https://raw.githubusercontent.com/edadunashvili/ThePrax/master/a300_string_train.csv'\n",
        "df = pd.read_csv(url, encoding = 'UTF-8')\n",
        "#df = pd.read_csv('a300_string_train.csv', encoding ='utf-8')\n",
        "from collections import Counter\n",
        "\n",
        "def ep_format(ep_full):\n",
        "    return (ep_full.split('_'))[0]\n",
        "\n",
        "def quellenvergleich (df, i1, i2):\n",
        "#     print(df.quelle[i1],df.quelle[i2])\n",
        "    return df.quelle[i1]==df.quelle[i2]\n",
        "\n",
        "def ast(gesep, df):\n",
        "    ep_tree = {}\n",
        "    a_liste = []\n",
        "    z_liste = []  \n",
        "    df_len = len(df.index_string)\n",
        "    for i, ep in enumerate(df.index_string):\n",
        "        if gesep == ep:\n",
        "             #print(i, ep_full)\n",
        "            if (i > 0)&(quellenvergleich(df, i, i-1)):\n",
        "                a = df.index_string[i-1]\n",
        "            else:\n",
        "                a = 'eAnfang_a_'\n",
        "            if (i < df_len - 1):\n",
        "                if not (quellenvergleich(df, i, i+1)):\n",
        "                    z = 'eEnde_a_'\n",
        "                else:        \n",
        "                    z = df.index_string[i+1]\n",
        "            else:\n",
        "                z = 'eEnde_a_'\n",
        "            a_liste.append(a)\n",
        "            z_liste.append(z)\n",
        "    return {gesep: [Counter(a_liste), Counter(z_liste)]}"
      ],
      "execution_count": 0,
      "outputs": []
    },
    {
      "cell_type": "markdown",
      "metadata": {
        "id": "x1W-hT3D93r1",
        "colab_type": "text"
      },
      "source": [
        "Alle im Korpus vorhandene Episoden extrahieren "
      ]
    },
    {
      "cell_type": "code",
      "metadata": {
        "id": "D9OMF3I-93r3",
        "colab_type": "code",
        "colab": {}
      },
      "source": [
        "def alle_aeste(gesep, df):\n",
        "    episoden_baeume = {}\n",
        "    \n",
        "    ep_list = []\n",
        "    for ep_full in df.index_string:  \n",
        "        \n",
        "        ep = ep_format(ep_full)      \n",
        "        if gesep == ep:          \n",
        "            \n",
        "            ep_list.append(ep_full)\n",
        "    for ep in set(ep_list):\n",
        "        episoden_baeume.update(ast(ep,df))\n",
        "    return episoden_baeume"
      ],
      "execution_count": 0,
      "outputs": []
    },
    {
      "cell_type": "code",
      "metadata": {
        "id": "tsyOI1AK93r8",
        "colab_type": "code",
        "colab": {}
      },
      "source": [
        "#alle_aeste(\"'e300\", df)"
      ],
      "execution_count": 0,
      "outputs": []
    },
    {
      "cell_type": "markdown",
      "metadata": {
        "id": "BhJcG5QD93sC",
        "colab_type": "text"
      },
      "source": [
        "Episoden die gesuchte Episode umlegen und in die Liste in die richrige Reihenfolge darstellen"
      ]
    },
    {
      "cell_type": "code",
      "metadata": {
        "id": "mLPVzAnn93sE",
        "colab_type": "code",
        "colab": {}
      },
      "source": [
        "def key_val_printer(d):\n",
        "    for k, v in d.items():\n",
        "        print(v, k, sep=':')\n",
        "    print()\n",
        "        \n",
        "def baum_printer(baeume: dict, baum: str):\n",
        "    key_val_printer (baeume[baum][0])\n",
        "    \n",
        "    \n",
        "    print(80*'-')\n",
        "    print(sum(baeume[baum][0].values()), baum)\n",
        "    print(80*'-')\n",
        "    key_val_printer(baeume[baum][1]) \n",
        "    \n",
        "            \n",
        "def wald_printer(wald: dict):\n",
        "    for baum in sorted(wald.keys()):\n",
        "        baum_printer (wald, baum)\n",
        "        print(80*'=','\\n')"
      ],
      "execution_count": 0,
      "outputs": []
    },
    {
      "cell_type": "markdown",
      "metadata": {
        "id": "GzFFVe1S93sK",
        "colab_type": "text"
      },
      "source": [
        "Die gesuchte Episode bestimmen"
      ]
    },
    {
      "cell_type": "code",
      "metadata": {
        "id": "iERcjYhQ93sO",
        "colab_type": "code",
        "colab": {
          "base_uri": "https://localhost:8080/",
          "height": 1000
        },
        "outputId": "81b1e734-9ed7-4662-f26a-838aa4a96478"
      },
      "source": [
        "synop = alle_aeste(\"'e300\", df)\n",
        "wald_printer(synop)"
      ],
      "execution_count": 19,
      "outputs": [
        {
          "output_type": "stream",
          "text": [
            "2:'e301_a_'\n",
            "1:'e302_a_'\n",
            "8:'e554_a_'\n",
            "1:eAnfang_a_\n",
            "1:'e314_a_'\n",
            "4:'e315_a_'\n",
            "7:'e303_c_eingangssituation_bis_zur_trennung'\n",
            "4:'eundf_a_'\n",
            "1:'e300_o_auftritt_des_helden_vor_dem_koenig_bis_zum_ende_der_geschichte'\n",
            "1:'e300_c_anfangssituation_ankunft_und_erkundigung_der_not'\n",
            "1:'e303_i_vom_erkundigung_der_not_bis_zum_aufbruch_des_helden_zur_hexe'\n",
            "1:'e550_a_'\n",
            "2:'e562_a_'\n",
            "1:'e590_a_'\n",
            "1:'e300_e_vorfeld_des_kampfes_bis_zum_sieg'\n",
            "\n",
            "--------------------------------------------------------------------------------\n",
            "36 'e300_c_anfangssituation_ankunft_und_erkundigung_der_not'\n",
            "--------------------------------------------------------------------------------\n",
            "34:'e300_e_vorfeld_des_kampfes_bis_zum_sieg'\n",
            "1:eEnde_a_\n",
            "1:'e300_c_anfangssituation_ankunft_und_erkundigung_der_not'\n",
            "\n",
            "================================================================================ \n",
            "\n",
            "34:'e300_c_anfangssituation_ankunft_und_erkundigung_der_not'\n",
            "2:'e300_k_misshandlung_des_falschen_helden_bis_zur_hochzeitstag'\n",
            "1:'e315_a_'\n",
            "1:'e550_a_'\n",
            "2:'eundf_a_'\n",
            "1:'e562_a_'\n",
            "\n",
            "--------------------------------------------------------------------------------\n",
            "41 'e300_e_vorfeld_des_kampfes_bis_zum_sieg'\n",
            "--------------------------------------------------------------------------------\n",
            "3:'e300_i_rueckkehr_der_koenigstochter_und_die_suche_nach_dem_held retter'\n",
            "29:'e300_g_nach_dem_sieg_bis_zur_trennung_des_befreiers_und_der_befreiten'\n",
            "4:'e300_o_auftritt_des_helden_vor_dem_koenig_bis_zum_ende_der_geschichte'\n",
            "1:'e554_a_'\n",
            "3:'eundf_a_'\n",
            "1:'e300_c_anfangssituation_ankunft_und_erkundigung_der_not'\n",
            "\n",
            "================================================================================ \n",
            "\n",
            "29:'e300_e_vorfeld_des_kampfes_bis_zum_sieg'\n",
            "1:'e554_a_'\n",
            "\n",
            "--------------------------------------------------------------------------------\n",
            "30 'e300_g_nach_dem_sieg_bis_zur_trennung_des_befreiers_und_der_befreiten'\n",
            "--------------------------------------------------------------------------------\n",
            "26:'e300_k_misshandlung_des_falschen_helden_bis_zur_hochzeitstag'\n",
            "1:eEnde_a_\n",
            "1:'e554_a_'\n",
            "1:'e300_o_auftritt_des_helden_vor_dem_koenig_bis_zum_ende_der_geschichte'\n",
            "1:'e300_i_rueckkehr_der_koenigstochter_und_die_suche_nach_dem_held retter'\n",
            "\n",
            "================================================================================ \n",
            "\n",
            "3:'e300_e_vorfeld_des_kampfes_bis_zum_sieg'\n",
            "2:'e300_k_misshandlung_des_falschen_helden_bis_zur_hochzeitstag'\n",
            "1:'e554_a_'\n",
            "1:'e300_g_nach_dem_sieg_bis_zur_trennung_des_befreiers_und_der_befreiten'\n",
            "\n",
            "--------------------------------------------------------------------------------\n",
            "7 'e300_i_rueckkehr_der_koenigstochter_und_die_suche_nach_dem_held retter'\n",
            "--------------------------------------------------------------------------------\n",
            "6:'e300_o_auftritt_des_helden_vor_dem_koenig_bis_zum_ende_der_geschichte'\n",
            "1:'e300_k_misshandlung_des_falschen_helden_bis_zur_hochzeitstag'\n",
            "\n",
            "================================================================================ \n",
            "\n",
            "26:'e300_g_nach_dem_sieg_bis_zur_trennung_des_befreiers_und_der_befreiten'\n",
            "1:'e300_i_rueckkehr_der_koenigstochter_und_die_suche_nach_dem_held retter'\n",
            "1:eAnfang_a_\n",
            "\n",
            "--------------------------------------------------------------------------------\n",
            "28 'e300_k_misshandlung_des_falschen_helden_bis_zur_hochzeitstag'\n",
            "--------------------------------------------------------------------------------\n",
            "2:'e300_i_rueckkehr_der_koenigstochter_und_die_suche_nach_dem_held retter'\n",
            "7:'e554_a_'\n",
            "11:'e300_m_rueckkehr_des_helden_ _von_der_erkundung_ueber_die_hochzeit_bis_zum_wiedergewinn_der_aufmerksamkeit'\n",
            "2:'e300_e_vorfeld_des_kampfes_bis_zum_sieg'\n",
            "1:'e850_a_'\n",
            "1:'e303_c_eingangssituation_bis_zur_trennung'\n",
            "3:'e300_o_auftritt_des_helden_vor_dem_koenig_bis_zum_ende_der_geschichte'\n",
            "1:eEnde_a_\n",
            "\n",
            "================================================================================ \n",
            "\n",
            "7:'e554_a_'\n",
            "11:'e300_k_misshandlung_des_falschen_helden_bis_zur_hochzeitstag'\n",
            "1:'e303_c_eingangssituation_bis_zur_trennung'\n",
            "\n",
            "--------------------------------------------------------------------------------\n",
            "19 'e300_m_rueckkehr_des_helden_ _von_der_erkundung_ueber_die_hochzeit_bis_zum_wiedergewinn_der_aufmerksamkeit'\n",
            "--------------------------------------------------------------------------------\n",
            "19:'e300_o_auftritt_des_helden_vor_dem_koenig_bis_zum_ende_der_geschichte'\n",
            "\n",
            "================================================================================ \n",
            "\n",
            "6:'e300_i_rueckkehr_der_koenigstochter_und_die_suche_nach_dem_held retter'\n",
            "19:'e300_m_rueckkehr_des_helden_ _von_der_erkundung_ueber_die_hochzeit_bis_zum_wiedergewinn_der_aufmerksamkeit'\n",
            "4:'e300_e_vorfeld_des_kampfes_bis_zum_sieg'\n",
            "3:'e300_k_misshandlung_des_falschen_helden_bis_zur_hochzeitstag'\n",
            "1:'e554_a_'\n",
            "1:'e300_g_nach_dem_sieg_bis_zur_trennung_des_befreiers_und_der_befreiten'\n",
            "\n",
            "--------------------------------------------------------------------------------\n",
            "34 'e300_o_auftritt_des_helden_vor_dem_koenig_bis_zum_ende_der_geschichte'\n",
            "--------------------------------------------------------------------------------\n",
            "4:'e554_a_'\n",
            "10:eEnde_a_\n",
            "13:'e303_g_erstes_treffen_mit_der_hexen'\n",
            "1:'e303_i_vom_erkundigung_der_not_bis_zum_aufbruch_des_helden_zur_hexe'\n",
            "1:'e300_c_anfangssituation_ankunft_und_erkundigung_der_not'\n",
            "2:'e315_a_'\n",
            "2:'eundf_a_'\n",
            "1:'e562_a_'\n",
            "\n",
            "================================================================================ \n",
            "\n"
          ],
          "name": "stdout"
        }
      ]
    },
    {
      "cell_type": "code",
      "metadata": {
        "id": "Av_m3fkDBfE7",
        "colab_type": "code",
        "colab": {}
      },
      "source": [
        ""
      ],
      "execution_count": 0,
      "outputs": []
    }
  ]
}