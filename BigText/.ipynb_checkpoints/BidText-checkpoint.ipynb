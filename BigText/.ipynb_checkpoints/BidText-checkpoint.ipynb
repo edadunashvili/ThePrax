{
 "cells": [
  {
   "cell_type": "code",
   "execution_count": 8,
   "metadata": {},
   "outputs": [],
   "source": [
    "from os import listdir\n",
    "from os.path import isfile, join\n",
    "\n",
    "instanz='Bechstein'\n",
    "\n",
    "path = instanz \n",
    "all_files = ([f for f in listdir(path) if isfile(join(path, f))])[0:23]\n",
    "\n",
    "all_text = ''\n",
    "for file in all_files:\n",
    "    file_path = f'{path}/{file}'\n",
    "    current_text = open(file_path, encoding=\"UTF-8\").read()\n",
    "    all_text =''.join([all_text,current_text])\n",
    "    #print(all_text)\n",
    "with open(instanz+'.txt', 'a', encoding='utf-8') as f:\n",
    "        f.write(all_text)"
   ]
  },
  {
   "cell_type": "code",
   "execution_count": 9,
   "metadata": {},
   "outputs": [],
   "source": [
    "from bs4 import BeautifulSoup\n",
    "import bs4 as bs\n",
    "import urllib.request\n",
    "\n",
    "infile = open(instanz+'.txt',\"r\",encoding='utf-8')\n",
    "article = infile.read()\n",
    "\n",
    "parsed_article = bs.BeautifulSoup(article,'lxml')\n",
    "#print(parsed_article.string)\n",
    "paragraphs = parsed_article.string.split('\\n')\n",
    "\n",
    "article_text = \"\"\n",
    "\n",
    "for p in paragraphs:\n",
    "    article_text += instanz+'|'+ p +'|0|0\\n'\n",
    "with open(instanz+'.txt', 'w', encoding='utf-8') as f:\n",
    "    f.write(article_text)"
   ]
  },
  {
   "cell_type": "code",
   "execution_count": null,
   "metadata": {},
   "outputs": [],
   "source": []
  }
 ],
 "metadata": {
  "kernelspec": {
   "display_name": "Python 3",
   "language": "python",
   "name": "python3"
  },
  "language_info": {
   "codemirror_mode": {
    "name": "ipython",
    "version": 3
   },
   "file_extension": ".py",
   "mimetype": "text/x-python",
   "name": "python",
   "nbconvert_exporter": "python",
   "pygments_lexer": "ipython3",
   "version": "3.7.4"
  }
 },
 "nbformat": 4,
 "nbformat_minor": 2
}
