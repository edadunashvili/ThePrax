{
 "cells": [
  {
   "cell_type": "code",
   "execution_count": 39,
   "metadata": {},
   "outputs": [],
   "source": [
    "import glob\n",
    "import ntpath\n",
    "import os\n",
    "\n",
    "output_dir = \"Test\"\n",
    "\n",
    "if not os.path.exists(output_dir):\n",
    "    os.makedirs(output_dir)\n",
    "\n",
    "for f in glob.glob(\"*.txt\"):\n",
    "    with open(f, 'r') as inputfile:\n",
    "        with open('%s/%s' % (output_dir, ntpath.basename(f)), 'w') as outputfile:\n",
    "            for line in inputfile:\n",
    "                outputfile.write(line.replace('eAmoMMMMMMMMMMMMMMMMMMMMMMMMMMMMMMMMMM', 'eAmoM_a_'))\n",
    "        \n",
    "        "
   ]
  },
  {
   "cell_type": "code",
   "execution_count": null,
   "metadata": {},
   "outputs": [],
   "source": []
  }
 ],
 "metadata": {
  "kernelspec": {
   "display_name": "Python 3",
   "language": "python",
   "name": "python3"
  },
  "language_info": {
   "codemirror_mode": {
    "name": "ipython",
    "version": 3
   },
   "file_extension": ".py",
   "mimetype": "text/x-python",
   "name": "python",
   "nbconvert_exporter": "python",
   "pygments_lexer": "ipython3",
   "version": "3.7.4"
  }
 },
 "nbformat": 4,
 "nbformat_minor": 2
}
